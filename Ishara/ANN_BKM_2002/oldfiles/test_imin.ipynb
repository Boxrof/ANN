{
 "cells": [
  {
   "cell_type": "code",
   "execution_count": 1,
   "metadata": {},
   "outputs": [],
   "source": [
    "import pandas as pd\n",
    "import numpy as np\n",
    "import scipy.optimize as optimization\n",
    "from tqdm.notebook import tqdm\n",
    "import utilities as uts\n",
    "#from BHDVCStf import BHDVCS\n",
    "from TVA1_UU import TVA1_UU #modified bhdvcs file\n",
    "import matplotlib.pyplot as plt\n",
    "from iminuit import Minuit"
   ]
  },
  {
   "cell_type": "code",
   "execution_count": 4,
   "metadata": {},
   "outputs": [],
   "source": [
    "filename=\"dvcs_xs_May-2021_342_sets.csv\"\n",
    "numSets = 10\n",
    "numReplicas = 1"
   ]
  },
  {
   "cell_type": "code",
   "execution_count": 32,
   "metadata": {},
   "outputs": [
    {
     "name": "stdout",
     "output_type": "stream",
     "text": [
      "29363.293367840455\n"
     ]
    }
   ],
   "source": [
    "#####\n",
    "class DvcsData(object):\n",
    "    def __init__(self, df):\n",
    "        self.df=df.copy()\n",
    "        self.X = df.loc[:, ['phi_x', 'k', 'QQ', 'x_b', 't', 'F1', 'F2', 'dvcs']]\n",
    "        self.XnoCFF = df.loc[:, ['phi_x', 'k', 'QQ', 'x_b', 't', 'F1', 'F2', 'dvcs']]\n",
    "        self.y = df.loc[:, 'F']\n",
    "        self.Kinematics = df.loc[:, ['k', 'QQ', 'x_b', 't']]\n",
    "        self.erry = df.loc[:, 'sigmaF']\n",
    "\n",
    "    def __len__(self):\n",
    "        return len(self.X)\n",
    "\n",
    "    def getSet(self, setNum, itemsInSet=45):\n",
    "        pd.options.mode.chained_assignment = None\n",
    "        subX = self.X.loc[setNum*itemsInSet:(setNum+1)*itemsInSet-1, :]\n",
    "        subX['F'] = self.y.loc[setNum*itemsInSet:(setNum+1)*itemsInSet-1]\n",
    "        subX['sigmaF'] = self.erry.loc[setNum*itemsInSet:(setNum+1)*itemsInSet-1]\n",
    "        pd.options.mode.chained_assignment = 'warn'\n",
    "        return DvcsData(subX)\n",
    "\n",
    "    def sampleX(self):\n",
    "        #return np.random.normal(self.y, self.erry)\n",
    "        return self.X    \n",
    "    \n",
    "    def sampleY(self):\n",
    "        #return np.random.normal(self.y, self.erry)\n",
    "        return self.y\n",
    "\n",
    "    def sampleErrY(self):\n",
    "        #return np.random.normal(self.y, self.erry)\n",
    "        return self.erry    \n",
    "    \n",
    "    def sampleWeights(self):\n",
    "        return 1/self.erry\n",
    "    \n",
    "    \n",
    "bhdvcs = TVA1_UU()\n",
    "df = pd.read_csv(filename)\n",
    "data = DvcsData(df)\n",
    "XX = np.array(data.sampleX())\n",
    "YY = np.array(data.sampleY())\n",
    "eYY = np.array(data.sampleErrY())\n",
    "\n",
    "def SelectSet(setnum):\n",
    "    tempdf=pd.read_csv(filename)\n",
    "    full_data_size=len(tempdf[\"#Set\"])\n",
    "    temp_k=[]\n",
    "    temp_QQ=[]\n",
    "    temp_xb=[]\n",
    "    temp_t=[]\n",
    "    temp_phi=[]\n",
    "    temp_F=[]\n",
    "    temp_dF=[]\n",
    "    print(full_data_size)\n",
    "    for i in range(0,full_data_size):\n",
    "        if(tempdf[\"#Set\"][i]==setnum):\n",
    "            temp_k.append(tempdf[\"k\"][i])\n",
    "            temp_phi.append(tempdf[\"phi_x\"][i])\n",
    "    return temp_phi\n",
    "\n",
    "def TotalChi2XS(ReH, ReE, ReHtilde):\n",
    "    tempTheory=bhdvcs.TotalUUXS(XX, ReH, ReE, ReHtilde)\n",
    "    tempY=data.sampleY()\n",
    "    tempYErr=data.erry\n",
    "    return np.sum(((YY-tempTheory)/eYY)**2)\n",
    "    #return tempTheory\n",
    "     \n",
    "\n",
    "#print(XX[0])\n",
    "print(TotalChi2XS(1,1,1))"
   ]
  },
  {
   "cell_type": "code",
   "execution_count": 38,
   "metadata": {},
   "outputs": [
    {
     "name": "stdout",
     "output_type": "stream",
     "text": [
      "20\n"
     ]
    }
   ],
   "source": [
    "def num1(x):\n",
    "   def num2():\n",
    "      return 2*x \n",
    "   return num2\n",
    "res = num1(10)\n",
    "\n",
    "print(res())"
   ]
  },
  {
   "cell_type": "code",
   "execution_count": 96,
   "metadata": {},
   "outputs": [
    {
     "name": "stderr",
     "output_type": "stream",
     "text": [
      "<ipython-input-96-68c7987896c6>:11: IMinuitWarning: errordef not set, using 1 (appropriate for least-squares)\n",
      "  m.migrad()\n"
     ]
    },
    {
     "name": "stdout",
     "output_type": "stream",
     "text": [
      "(0, 0.702109542882553, 0.6331402940281065, -2.9586949200069057, 27.04562249153774, 3.497793365959005, 1.281142898247682)\n",
      "342\n"
     ]
    }
   ],
   "source": [
    "def Indv_Set(i):\n",
    "    SetI = data.getSet(i)\n",
    "    X  = np.array(SetI.XnoCFF)\n",
    "    Y  = SetI.sampleY()\n",
    "    eY = SetI.erry\n",
    "    #pars = np.array([1, 1, 1])\n",
    "    def TotalChi2XS(ReH, ReE, ReHtilde):\n",
    "        tempTheory=bhdvcs.TotalUUXS(X, ReH, ReE, ReHtilde)\n",
    "        return np.sum(((Y-tempTheory)/eY)**2)\n",
    "    m = Minuit(TotalChi2XS,0,0,0)\n",
    "    m.migrad()\n",
    "    tempCFFs = m.values\n",
    "    tempErrs = m.errors\n",
    "    return (i,tempCFFs[0],tempErrs[0],tempCFFs[1],tempErrs[1],tempCFFs[2],tempErrs[2])\n",
    "\n",
    "testfitset = Indv_Set(0)\n",
    "print(testfitset)  \n",
    "print(int(len(XX)/45))"
   ]
  },
  {
   "cell_type": "code",
   "execution_count": 90,
   "metadata": {},
   "outputs": [
    {
     "name": "stderr",
     "output_type": "stream",
     "text": [
      "<ipython-input-89-b5b294bf007b>:11: IMinuitWarning: errordef not set, using 1 (appropriate for least-squares)\n",
      "  m.migrad()\n"
     ]
    },
    {
     "name": "stdout",
     "output_type": "stream",
     "text": [
      "Completed fitting to data set # 0\n",
      "Completed fitting to data set # 1\n",
      "Completed fitting to data set # 2\n",
      "Completed fitting to data set # 3\n",
      "Completed fitting to data set # 4\n",
      "[   #Set       ReH  sigmaReH        ReE   sigmaReE  ReHtilde  sigmaReHtilde\n",
      "0     0  0.702110  0.633140  -2.958695  27.045622  3.497793       1.281143\n",
      "1     1  1.368832  1.574534  -1.575320  43.714407  5.507605       9.187427\n",
      "2     2  1.839356  5.451255  -2.552745  49.284926  5.174919      30.530259\n",
      "3     3  1.218489  4.583288   3.287532  49.443313  3.230697      14.965805\n",
      "4     4  1.142197  2.551233  12.107739  36.527655 -3.552481      20.242958]\n"
     ]
    }
   ],
   "source": [
    "# {\"#Set\":[],\"ReH\":[],\"sigmaReH\":[],\"ReE\":[],\"sigmaReE\":[],\"ReHtilde\":[],\"sigmaReHtilde\":[]}\n",
    "# columns=[\"#Set\",\"ReH\",\"sigmaReH\",\"ReE\",\"sigmaReE\",\"ReHtilde\",\"sigmaReHtilde\"]\n",
    "\n",
    "results_df = pd.DataFrame()\n",
    "\n",
    "testresult=[]\n",
    "setn=[]\n",
    "tst_ReH=[]\n",
    "tst_ReH_err=[]\n",
    "tst_ReE=[]\n",
    "tst_ReE_err=[]\n",
    "tst_ReHtilde=[]\n",
    "tst_ReHtilde_err=[]\n",
    "\n",
    "for i in range(5):\n",
    "    testfit = Indv_Set(i)\n",
    "    setn.append(int(np.array(testfit)[0]))\n",
    "    tst_ReH.append(np.array(testfit)[1])\n",
    "    tst_ReH_err.append(np.array(testfit)[2])\n",
    "    tst_ReE.append(np.array(testfit)[3])\n",
    "    tst_ReE_err.append(np.array(testfit)[4])\n",
    "    tst_ReHtilde.append(np.array(testfit)[5])\n",
    "    tst_ReHtilde_err.append(np.array(testfit)[6])\n",
    "    print(\"Completed fitting to data set #\",i)\n",
    "    #results_df.append({\"#Set\":np.array(testfit)[0],\"ReH\":np.array(testfit)[1],\"sigmaReH\":np.array(testfit)[2],\"ReE\":np.array(testfit)[3],\"sigmaReE\":np.array(testfit)[4],\"ReHtilde\":np.array(testfit)[5],\"sigmaReHtilde\":np.array(testfit)[6]}, ignore_index=True)\n",
    "    #print(np.array(testfit)[1])\n",
    "#     results_df[\"#Set\"]=np.array(testfit)[0]\n",
    "#     results_df[\"ReH\"]=np.array(testfit)[1]\n",
    "#     results_df[\"sigmaReH\"]=np.array(testfit)[2]\n",
    "#     results_df[\"ReE\"]=np.array(testfit)[3]\n",
    "#     results_df[\"sigmaReE\"]=np.array(testfit)[4]\n",
    "#     results_df[\"ReHtilde\"]=np.array(testfit)[5]\n",
    "#     results_df[\"sigmaReHtilde\"]=np.array(testfit)[6]\n",
    "#     testresult.append(results_df)\n",
    "    #print(testresult)\n",
    "    #resultsI=pd.concat(testresult)\n",
    "\n",
    "    \n",
    "results_df[\"#Set\"]=setn\n",
    "results_df[\"ReH\"]=tst_ReH\n",
    "results_df[\"sigmaReH\"]=tst_ReH_err\n",
    "results_df[\"ReE\"]=tst_ReE\n",
    "results_df[\"sigmaReE\"]=tst_ReE_err\n",
    "results_df[\"ReHtilde\"]=tst_ReHtilde\n",
    "results_df[\"sigmaReHtilde\"]=tst_ReHtilde_err\n",
    "testresult.append(results_df)\n",
    "    \n",
    "print(testresult)\n",
    "\n",
    "#print(results_df)\n",
    "fitresults = pd.concat(testresult)\n",
    "#print(fitresults)\n",
    "fitresults.to_csv('LocalFitResults_iminuit.csv')"
   ]
  },
  {
   "cell_type": "code",
   "execution_count": 6,
   "metadata": {},
   "outputs": [
    {
     "name": "stdout",
     "output_type": "stream",
     "text": [
      "Here we start\n"
     ]
    },
    {
     "data": {
      "application/vnd.jupyter.widget-view+json": {
       "model_id": "28bd389c292c40e7ada498dbf666311b",
       "version_major": 2,
       "version_minor": 0
      },
      "text/plain": [
       "HBox(children=(HTML(value=''), FloatProgress(value=0.0, max=10.0), HTML(value='')))"
      ]
     },
     "metadata": {},
     "output_type": "display_data"
    },
    {
     "name": "stdout",
     "output_type": "stream",
     "text": [
      "\n"
     ]
    },
    {
     "ename": "RuntimeError",
     "evalue": "1 values given for 5 function parameter(s)",
     "output_type": "error",
     "traceback": [
      "\u001b[1;31m---------------------------------------------------------------------------\u001b[0m",
      "\u001b[1;31mRuntimeError\u001b[0m                              Traceback (most recent call last)",
      "\u001b[1;32m<ipython-input-6-51f515b64165>\u001b[0m in \u001b[0;36m<module>\u001b[1;34m\u001b[0m\n\u001b[0;32m     43\u001b[0m \u001b[1;33m\u001b[0m\u001b[0m\n\u001b[0;32m     44\u001b[0m \u001b[1;33m\u001b[0m\u001b[0m\n\u001b[1;32m---> 45\u001b[1;33m \u001b[0mproduceResults\u001b[0m\u001b[1;33m(\u001b[0m\u001b[0mdata\u001b[0m\u001b[1;33m,\u001b[0m \u001b[0mnumSets\u001b[0m\u001b[1;33m,\u001b[0m \u001b[0mnumReplicas\u001b[0m\u001b[1;33m)\u001b[0m\u001b[1;33m\u001b[0m\u001b[1;33m\u001b[0m\u001b[0m\n\u001b[0m",
      "\u001b[1;32m<ipython-input-6-51f515b64165>\u001b[0m in \u001b[0;36mproduceResults\u001b[1;34m(data, numSets, numReplicas)\u001b[0m\n\u001b[0;32m     17\u001b[0m         \u001b[0mTempdf\u001b[0m\u001b[1;33m=\u001b[0m\u001b[0mseti\u001b[0m\u001b[1;33m.\u001b[0m\u001b[0mdf\u001b[0m\u001b[1;33m.\u001b[0m\u001b[0mcopy\u001b[0m\u001b[1;33m(\u001b[0m\u001b[1;33m)\u001b[0m\u001b[1;33m\u001b[0m\u001b[1;33m\u001b[0m\u001b[0m\n\u001b[0;32m     18\u001b[0m         \u001b[1;31m#print(TotalChi2XS(seti, X, 1, 1, 1))\u001b[0m\u001b[1;33m\u001b[0m\u001b[1;33m\u001b[0m\u001b[1;33m\u001b[0m\u001b[0m\n\u001b[1;32m---> 19\u001b[1;33m         \u001b[0mm\u001b[0m \u001b[1;33m=\u001b[0m \u001b[0mMinuit\u001b[0m\u001b[1;33m(\u001b[0m\u001b[0mTotalChi2XS\u001b[0m\u001b[1;33m,\u001b[0m \u001b[0mseti\u001b[0m\u001b[1;33m)\u001b[0m\u001b[1;33m\u001b[0m\u001b[1;33m\u001b[0m\u001b[0m\n\u001b[0m\u001b[0;32m     20\u001b[0m         \u001b[0mm\u001b[0m\u001b[1;33m.\u001b[0m\u001b[0mmigrad\u001b[0m\u001b[1;33m(\u001b[0m\u001b[1;33m)\u001b[0m\u001b[1;33m\u001b[0m\u001b[1;33m\u001b[0m\u001b[0m\n\u001b[0;32m     21\u001b[0m         \u001b[1;31m#cff, cffcov = optimization.curve_fit(bhdvcs.TotalUUXS, X, y, pars, sigma,method='lm')\u001b[0m\u001b[1;33m\u001b[0m\u001b[1;33m\u001b[0m\u001b[1;33m\u001b[0m\u001b[0m\n",
      "\u001b[1;32m~\\anaconda3\\lib\\site-packages\\iminuit\\minuit.py\u001b[0m in \u001b[0;36m__init__\u001b[1;34m(self, fcn, grad, name, *args, **kwds)\u001b[0m\n\u001b[0;32m    583\u001b[0m         )\n\u001b[0;32m    584\u001b[0m \u001b[1;33m\u001b[0m\u001b[0m\n\u001b[1;32m--> 585\u001b[1;33m         \u001b[0mself\u001b[0m\u001b[1;33m.\u001b[0m\u001b[0m_init_state\u001b[0m \u001b[1;33m=\u001b[0m \u001b[0m_make_init_state\u001b[0m\u001b[1;33m(\u001b[0m\u001b[0mself\u001b[0m\u001b[1;33m.\u001b[0m\u001b[0m_pos2var\u001b[0m\u001b[1;33m,\u001b[0m \u001b[0margs\u001b[0m\u001b[1;33m,\u001b[0m \u001b[0mkwds\u001b[0m\u001b[1;33m)\u001b[0m\u001b[1;33m\u001b[0m\u001b[1;33m\u001b[0m\u001b[0m\n\u001b[0m\u001b[0;32m    586\u001b[0m         \u001b[0mself\u001b[0m\u001b[1;33m.\u001b[0m\u001b[0m_values\u001b[0m \u001b[1;33m=\u001b[0m \u001b[0mmutil\u001b[0m\u001b[1;33m.\u001b[0m\u001b[0mValueView\u001b[0m\u001b[1;33m(\u001b[0m\u001b[0mself\u001b[0m\u001b[1;33m)\u001b[0m\u001b[1;33m\u001b[0m\u001b[1;33m\u001b[0m\u001b[0m\n\u001b[0;32m    587\u001b[0m         \u001b[0mself\u001b[0m\u001b[1;33m.\u001b[0m\u001b[0m_errors\u001b[0m \u001b[1;33m=\u001b[0m \u001b[0mmutil\u001b[0m\u001b[1;33m.\u001b[0m\u001b[0mErrorView\u001b[0m\u001b[1;33m(\u001b[0m\u001b[0mself\u001b[0m\u001b[1;33m)\u001b[0m\u001b[1;33m\u001b[0m\u001b[1;33m\u001b[0m\u001b[0m\n",
      "\u001b[1;32m~\\anaconda3\\lib\\site-packages\\iminuit\\minuit.py\u001b[0m in \u001b[0;36m_make_init_state\u001b[1;34m(pos2var, args, kwds)\u001b[0m\n\u001b[0;32m   1542\u001b[0m \u001b[1;33m\u001b[0m\u001b[0m\n\u001b[0;32m   1543\u001b[0m     \u001b[1;32mif\u001b[0m \u001b[0mlen\u001b[0m\u001b[1;33m(\u001b[0m\u001b[0mpos2var\u001b[0m\u001b[1;33m)\u001b[0m \u001b[1;33m!=\u001b[0m \u001b[0mnargs\u001b[0m\u001b[1;33m:\u001b[0m\u001b[1;33m\u001b[0m\u001b[1;33m\u001b[0m\u001b[0m\n\u001b[1;32m-> 1544\u001b[1;33m         raise RuntimeError(\n\u001b[0m\u001b[0;32m   1545\u001b[0m             \u001b[1;34mf\"{nargs} values given for {len(pos2var)} function parameter(s)\"\u001b[0m\u001b[1;33m\u001b[0m\u001b[1;33m\u001b[0m\u001b[0m\n\u001b[0;32m   1546\u001b[0m         )\n",
      "\u001b[1;31mRuntimeError\u001b[0m: 1 values given for 5 function parameter(s)"
     ]
    }
   ],
   "source": [
    "def produceResults(data, numSets, numReplicas):\n",
    "    {\"#Set\":[],\"k\":[],\"QQ\":[],\"x_b\":[],\"t\":[],\"phi_x\":[],\"F_data\":[],\"sigmaF_data\":[],\"F_cal\":[],\"sigmaF_cal\":[],\"ReH\":[],\"sigmaReH\":[],\"ReE\":[],\"sigmaReE\":[],\"ReHtilde\":[],\"sigmaReHtilde\":[]}\n",
    "    results = []\n",
    "    print(\"Here we start\")\n",
    "    for i in tqdm(range(numSets)):\n",
    "        CFFreplicas = []\n",
    "        Temp_Fcals=[]\n",
    "        Temp_H=[]\n",
    "        Temp_E=[]\n",
    "        Temp_Htilde=[]\n",
    "        Temp_phi=[]\n",
    "        seti = data.getSet(i) # DvcsData object of kinematic set i\n",
    "        X = np.array(seti.XnoCFF) # the kinematics and all variables necessary to compute \n",
    "        y = seti.sampleY()\n",
    "        sigma = seti.erry # error in F\n",
    "        pars = np.array([1, 1, 1])\n",
    "        Tempdf=seti.df.copy()\n",
    "        #print(TotalChi2XS(seti, X, 1, 1, 1))\n",
    "        m = Minuit(TotalChi2XS, seti)\n",
    "        m.migrad()\n",
    "        #cff, cffcov = optimization.curve_fit(bhdvcs.TotalUUXS, X, y, pars, sigma,method='lm')\n",
    "        print(m.values)\n",
    "        print(m.errors)\n",
    "#         for j in range(numReplicas):\n",
    "#             y = seti.sampleY()\n",
    "#             cff, cffcov = optimization.curve_fit(bhdvcs.TotalUUXS, X, y, pars, sigma,method='lm')\n",
    "#             Temp_Fcals.append(bhdvcs.TotalUUXS(np.array(data.getSet(i).X),cff[0],cff[1],cff[2]))\n",
    "#             Temp_H.append(cff[0])\n",
    "#             Temp_E.append(cff[1])\n",
    "#             Temp_Htilde.append(cff[2])\n",
    "#         Tempdf[\"F_cal\"]=np.mean(np.array(Temp_Fcals),axis=0)\n",
    "#         Tempdf[\"sigmaF_cal\"]=np.std(np.array(Temp_Fcals),axis=0)\n",
    "#         Tempdf[\"ReH\"]=np.mean(Temp_H)\n",
    "#         Tempdf[\"sigmaReH\"]=np.std(Temp_H)\n",
    "#         Tempdf[\"ReE\"]=np.mean(Temp_E)\n",
    "#         Tempdf[\"sigmaReE\"]=np.std(Temp_E)\n",
    "#         Tempdf[\"ReHtilde\"]=np.mean(Temp_Htilde)\n",
    "#         Tempdf[\"sigmaReHtilde\"]=np.std(Temp_Htilde)\n",
    "#         Tempdf[\"#Set\"]=i\n",
    "#         results.append(Tempdf)\n",
    "#     return pd.concat(results)\n",
    "\n",
    "\n",
    "\n",
    "produceResults(data, numSets, numReplicas)"
   ]
  },
  {
   "cell_type": "code",
   "execution_count": null,
   "metadata": {},
   "outputs": [],
   "source": []
  }
 ],
 "metadata": {
  "kernelspec": {
   "display_name": "Python 3",
   "language": "python",
   "name": "python3"
  },
  "language_info": {
   "codemirror_mode": {
    "name": "ipython",
    "version": 3
   },
   "file_extension": ".py",
   "mimetype": "text/x-python",
   "name": "python",
   "nbconvert_exporter": "python",
   "pygments_lexer": "ipython3",
   "version": "3.8.5"
  }
 },
 "nbformat": 4,
 "nbformat_minor": 4
}
