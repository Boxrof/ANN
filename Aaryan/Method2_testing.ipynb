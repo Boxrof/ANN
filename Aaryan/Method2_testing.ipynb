{
 "cells": [
  {
   "cell_type": "markdown",
   "metadata": {},
   "source": [
    "# ANN Local Fit"
   ]
  },
  {
   "cell_type": "markdown",
   "metadata": {},
   "source": [
    "Overview:\n",
    "\n",
    "1. Start with a specific set of kinematic variables.  \n",
    "2. Initialize a ANN with 4 Kins as input and 3 CFFs as output\n",
    "3. Pick random starting points for each parameter in ANN\n",
    "4. Input data to ANN (using current params) to produce Fs\n",
    "5. Compare resulting Fs to sampled Fs and compute mean squared error\n",
    "6. Update ANN params in a direction that reduces that mean squared error\n",
    "7. Repeat steps 3-5 until loss changes only very slightly"
   ]
  },
  {
   "cell_type": "markdown",
   "metadata": {},
   "source": [
    "The autoreloader enables you to make edits in imported files and those edits will become immediately available."
   ]
  },
  {
   "cell_type": "code",
   "execution_count": 3,
   "metadata": {},
   "outputs": [
    {
     "name": "stdout",
     "output_type": "stream",
     "text": [
      "The autoreload extension is already loaded. To reload it, use:\n",
      "  %reload_ext autoreload\n"
     ]
    }
   ],
   "source": [
    "%load_ext autoreload\n",
    "%autoreload 2"
   ]
  },
  {
   "cell_type": "code",
   "execution_count": 4,
   "metadata": {},
   "outputs": [],
   "source": [
    "import pandas as pd\n",
    "import numpy as np\n",
    "from tqdm.notebook import tqdm\n",
    "import tensorflow as tf\n",
    "\n",
    "from BHDVCStf import BHDVCS #modified bhdvcs file\n",
    "import utilities as uts #general utilities that are useful for all methods"
   ]
  },
  {
   "cell_type": "markdown",
   "metadata": {},
   "source": [
    "## General global variable definitions"
   ]
  },
  {
   "cell_type": "code",
   "execution_count": 5,
   "metadata": {},
   "outputs": [],
   "source": [
    "bhdvcs = BHDVCS()\n",
    "df = pd.read_csv(\"dvcs_xs_newsets_genCFFs.csv\")\n",
    "data = uts.DvcsData(df)\n",
    "\n",
    "numSets = 15\n",
    "numReplicas = 30"
   ]
  },
  {
   "cell_type": "markdown",
   "metadata": {},
   "source": [
    "## Define and compile model"
   ]
  },
  {
   "cell_type": "markdown",
   "metadata": {},
   "source": [
    "This makes use of the tensorflow [functional api](https://www.tensorflow.org/guide/keras/functional)"
   ]
  },
  {
   "cell_type": "code",
   "execution_count": 6,
   "metadata": {},
   "outputs": [],
   "source": [
    "kinematics = tf.keras.Input(shape=(4))\n",
    "x = tf.keras.layers.Dense(20, activation=\"tanh\")(kinematics)\n",
    "outputs = tf.keras.layers.Dense(3)(x) #three output nodes for ReH, ReE, ReHtilde\n",
    "noncffInputs = tf.keras.Input(shape=(8))\n",
    "totalUUXSInputs = tf.keras.layers.concatenate([noncffInputs, outputs])\n",
    "F = uts.TotalUUXSlayer()(totalUUXSInputs) # incorporate cross-sectional function\n",
    "\n",
    "globalModel = tf.keras.Model(inputs=[kinematics, noncffInputs], outputs=F, name=\"GlobalModel\")"
   ]
  },
  {
   "cell_type": "code",
   "execution_count": 7,
   "metadata": {},
   "outputs": [
    {
     "name": "stdout",
     "output_type": "stream",
     "text": [
      "('You must install pydot (`pip install pydot`) and install graphviz (see instructions at https://graphviz.gitlab.io/download/) ', 'for plot_model/model_to_dot to work.')\n"
     ]
    }
   ],
   "source": [
    "tf.keras.utils.plot_model(globalModel, \"cffs.png\", show_shapes=True)"
   ]
  },
  {
   "cell_type": "code",
   "execution_count": 8,
   "metadata": {},
   "outputs": [],
   "source": [
    "globalModel.compile(\n",
    "    optimizer = tf.keras.optimizers.Adam(.02),\n",
    "    loss = tf.keras.losses.MeanSquaredError(),\n",
    ")"
   ]
  },
  {
   "cell_type": "code",
   "execution_count": 9,
   "metadata": {},
   "outputs": [],
   "source": [
    "Wsave = globalModel.get_weights()"
   ]
  },
  {
   "cell_type": "markdown",
   "metadata": {},
   "source": [
    "## Produce CFFdists"
   ]
  },
  {
   "cell_type": "code",
   "execution_count": 10,
   "metadata": {},
   "outputs": [
    {
     "name": "stdout",
     "output_type": "stream",
     "text": [
      "[[ 0.10500586  0.02962637 -0.11063504 -0.06324375  0.4228207   0.22429013\n",
      "  -0.4156437   0.3358115  -0.3015585   0.35034359  0.24337208  0.3936962\n",
      "  -0.22107863 -0.06140161  0.0136528  -0.03828096 -0.48366344  0.02780104\n",
      "  -0.3345132   0.3682102 ]\n",
      " [-0.03742194 -0.12208796 -0.32137728  0.1278317   0.21782756  0.30130935\n",
      "  -0.44785058 -0.40776563  0.27284813 -0.05791891 -0.09321117 -0.0374738\n",
      "  -0.1916604  -0.18264747 -0.33579898  0.0227567   0.05909586 -0.32400596\n",
      "  -0.48625565  0.40233052]\n",
      " [ 0.289348   -0.25668025  0.03971899 -0.0105803   0.271932   -0.453133\n",
      "  -0.4338956   0.32534552  0.33562946  0.3338884  -0.06645     0.26873624\n",
      "   0.17482626  0.40924156 -0.00939047 -0.06626844  0.47182357  0.05481207\n",
      "   0.0577513  -0.03669798]\n",
      " [-0.20786917  0.31024015  0.3807485  -0.29154885 -0.13256383  0.00974596\n",
      "   0.02027905  0.4000051   0.14239728 -0.47902036  0.38482976  0.21141982\n",
      "   0.148808    0.17182124  0.00089824 -0.39239419 -0.10063493 -0.36735296\n",
      "  -0.38254964  0.11169338]]\n"
     ]
    }
   ],
   "source": [
    "print(Wsave[0])"
   ]
  },
  {
   "cell_type": "code",
   "execution_count": 24,
   "metadata": {},
   "outputs": [],
   "source": [
    "def produceCFFs(numReplicas, data, Wsave):\n",
    "    '''\n",
    "    :param numSamples: number of replicas to produce\n",
    "    :param data: whole DvcsData\n",
    "    :param Wsave: saved weights\n",
    "    \n",
    "    :returns: numpy array of shape (numSets, numReplicas, 3)\n",
    "    '''\n",
    "\n",
    "    by_sample = []\n",
    "\n",
    "    for i in tqdm(range(max(data.df['#Set'])+1)):\n",
    "\n",
    "        globalModel.set_weights(Wsave) # reset weights to original value\n",
    "\n",
    "        setI = data.getSet(i) #DvcsData object containing specific set\n",
    "\n",
    "        by_set = []\n",
    "\n",
    "        for sample in range(numReplicas):\n",
    "            \n",
    "            #this callback enables us to roll the network back to its minimum loss during training\n",
    "            \n",
    "            globalModel.fit([setI.Kinematics, setI.XnoCFF], setI.sampleY(), # the sample Y will generate Fs\n",
    "                        epochs=100, verbose=0)\n",
    "\n",
    "            #globalModel.load_weights(chkpt_path) # load back minimum loss epoch\n",
    "\n",
    "            cffs = uts.cffs_from_globalModel(globalModel, setI.Kinematics) # get cffs from middle model\n",
    "\n",
    "            by_set.append(cffs)\n",
    "\n",
    "        by_sample.append(by_set)\n",
    "        \n",
    "    return np.array(by_sample)"
   ]
  },
  {
   "cell_type": "markdown",
   "metadata": {},
   "source": [
    "This took about 2 hours to run"
   ]
  },
  {
   "cell_type": "code",
   "execution_count": 25,
   "metadata": {
    "scrolled": true
   },
   "outputs": [
    {
     "data": {
      "application/vnd.jupyter.widget-view+json": {
       "model_id": "0ab3b5935608494a86c08265860f3681",
       "version_major": 2,
       "version_minor": 0
      },
      "text/plain": [
       "  0%|          | 0/15 [00:00<?, ?it/s]"
      ]
     },
     "metadata": {},
     "output_type": "display_data"
    }
   ],
   "source": [
    "results = produceCFFs(5, data, Wsave)"
   ]
  },
  {
   "cell_type": "markdown",
   "metadata": {},
   "source": [
    "# ReH"
   ]
  },
  {
   "cell_type": "code",
   "execution_count": 26,
   "metadata": {},
   "outputs": [],
   "source": [
    "y_yhat, err = uts.y_yhat_errCFFs(data, results, 0)"
   ]
  },
  {
   "cell_type": "code",
   "execution_count": 27,
   "metadata": {},
   "outputs": [
    {
     "name": "stdout",
     "output_type": "stream",
     "text": [
      "Mean percent error:  884.0125000207242\n",
      "RMSE:  8.590527570211112\n",
      "RMSE w yhat=mean:  2.5254628436780098\n",
      "R-squared:  -10.57064863098416\n"
     ]
    },
    {
     "data": {
      "image/png": "[encoded data removed]",
      "text/plain": [
       "<Figure size 432x288 with 1 Axes>"
      ]
     },
     "metadata": {
      "needs_background": "light"
     },
     "output_type": "display_data"
    }
   ],
   "source": [
    "uts.evaluate(y_yhat)"
   ]
  },
  {
   "cell_type": "code",
   "execution_count": 28,
   "metadata": {},
   "outputs": [
    {
     "data": {
      "image/png": "[encoded data removed]",
      "text/plain": [
       "<Figure size 432x288 with 1 Axes>"
      ]
     },
     "metadata": {
      "needs_background": "light"
     },
     "output_type": "display_data"
    }
   ],
   "source": [
    "uts.plotError(y_yhat, err, \"ReH\")"
   ]
  },
  {
   "cell_type": "markdown",
   "metadata": {},
   "source": [
    "# ReE"
   ]
  },
  {
   "cell_type": "code",
   "execution_count": 29,
   "metadata": {},
   "outputs": [],
   "source": [
    "y_yhat, err = uts.y_yhat_errCFFs(data, results, 1)"
   ]
  },
  {
   "cell_type": "code",
   "execution_count": 30,
   "metadata": {},
   "outputs": [
    {
     "name": "stdout",
     "output_type": "stream",
     "text": [
      "Mean percent error:  2791.4539608571295\n",
      "RMSE:  47.30546665292283\n",
      "RMSE w yhat=mean:  2.525480507907797\n",
      "R-squared:  -349.8606149477511\n"
     ]
    },
    {
     "data": {
      "image/png": "[encoded data removed]",
      "text/plain": [
       "<Figure size 432x288 with 1 Axes>"
      ]
     },
     "metadata": {
      "needs_background": "light"
     },
     "output_type": "display_data"
    }
   ],
   "source": [
    "uts.evaluate(y_yhat)"
   ]
  },
  {
   "cell_type": "code",
   "execution_count": 31,
   "metadata": {},
   "outputs": [
    {
     "data": {
      "image/png": "[encoded data removed]",
      "text/plain": [
       "<Figure size 432x288 with 1 Axes>"
      ]
     },
     "metadata": {
      "needs_background": "light"
     },
     "output_type": "display_data"
    }
   ],
   "source": [
    "uts.plotError(y_yhat, err, \"ReE\")"
   ]
  },
  {
   "cell_type": "markdown",
   "metadata": {},
   "source": [
    "# ReHtilde"
   ]
  },
  {
   "cell_type": "code",
   "execution_count": 32,
   "metadata": {
    "scrolled": true
   },
   "outputs": [
    {
     "name": "stdout",
     "output_type": "stream",
     "text": [
      "Mean percent error:  237.17820550166536\n",
      "RMSE:  3.0038549892217605\n",
      "RMSE w yhat=mean:  1.4030345621243818\n",
      "R-squared:  -3.5837527934468234\n"
     ]
    },
    {
     "data": {
      "image/png": "[encoded data removed]",
      "text/plain": [
       "<Figure size 432x288 with 1 Axes>"
      ]
     },
     "metadata": {
      "needs_background": "light"
     },
     "output_type": "display_data"
    }
   ],
   "source": [
    "y_yhat, err = uts.y_yhat_errCFFs(data, results, 2)\n",
    "uts.evaluate(y_yhat)"
   ]
  },
  {
   "cell_type": "code",
   "execution_count": 33,
   "metadata": {
    "scrolled": true
   },
   "outputs": [
    {
     "data": {
      "image/png": "[encoded data removed]",
      "text/plain": [
       "<Figure size 432x288 with 1 Axes>"
      ]
     },
     "metadata": {
      "needs_background": "light"
     },
     "output_type": "display_data"
    }
   ],
   "source": [
    "uts.plotError(y_yhat, err, \"ReHtilde\")"
   ]
  },
  {
   "cell_type": "markdown",
   "metadata": {},
   "source": [
    "# Propagated Fs at 180"
   ]
  },
  {
   "cell_type": "code",
   "execution_count": 34,
   "metadata": {
    "scrolled": true
   },
   "outputs": [
    {
     "name": "stdout",
     "output_type": "stream",
     "text": [
      "Mean percent error:  9.82204328707304\n",
      "RMSE:  0.0037239935171112684\n",
      "RMSE w yhat=mean:  0.015855649879790133\n",
      "R-squared:  0.9448367636124629\n"
     ]
    },
    {
     "data": {
      "image/png": "[encoded data removed]",
      "text/plain": [
       "<Figure size 432x288 with 1 Axes>"
      ]
     },
     "metadata": {
      "needs_background": "light"
     },
     "output_type": "display_data"
    }
   ],
   "source": [
    "y_yhat, err = uts.y_yhat_errFs(results, data)\n",
    "uts.evaluate(y_yhat)"
   ]
  },
  {
   "cell_type": "code",
   "execution_count": 35,
   "metadata": {},
   "outputs": [
    {
     "data": {
      "image/png": "[encoded data removed]",
      "text/plain": [
       "<Figure size 432x288 with 1 Axes>"
      ]
     },
     "metadata": {
      "needs_background": "light"
     },
     "output_type": "display_data"
    }
   ],
   "source": [
    "uts.plotError(y_yhat, err, \"F\")"
   ]
  }
 ],
 "metadata": {
  "interpreter": {
   "hash": "33cd277d572d6d49982fc2620159b263be6b049a3d966793c9617dbd95a25049"
  },
  "kernelspec": {
   "display_name": "Python 3.9.2 64-bit",
   "name": "python3"
  },
  "language_info": {
   "codemirror_mode": {
    "name": "ipython",
    "version": 3
   },
   "file_extension": ".py",
   "mimetype": "text/x-python",
   "name": "python",
   "nbconvert_exporter": "python",
   "pygments_lexer": "ipython3",
   "version": "3.9.2"
  }
 },
 "nbformat": 4,
 "nbformat_minor": 4
}
