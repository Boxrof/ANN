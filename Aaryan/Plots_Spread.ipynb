{
 "cells": [
  {
   "cell_type": "code",
   "execution_count": 107,
   "metadata": {},
   "outputs": [],
   "source": [
    "from BHDVCS_tf import DvcsData\n",
    "import pandas as pd\n",
    "import numpy as np\n",
    "import matplotlib.pyplot as plt\n",
    "\n",
    "df = pd.read_csv(\"dvcs_bkm_xs_June2021_4pars.csv\")\n",
    "errValues = [0.0, 0.01, 0.025, 0.05, 0.1, 0.15, 0.25, 0.30]\n",
    "\n",
    "def getReals(setNum, numPhi = 45):\n",
    "    df = pd.read_csv(\"dvcs_bkm_xs_June2021_4pars.csv\")\n",
    "    return df.loc[numPhi * setNum, 'gReH': 'gReHTilde']\n",
    "\n",
    "def getColorMappingValues(errF, amountofSets):\n",
    "    ReHMean = []\n",
    "    ReEMean = []\n",
    "    ReHtildeMean = []\n",
    "    for set in range(amountofSets):\n",
    "        data = pd.read_csv(\"Predictions\\Method2-\"+ str(set) + \"-\" + str(errF) +  \".csv\")\n",
    "        \n",
    "        # NOTE we take max(mean, -1) because if data is more than 100% error it should just cap in terms of heatmapping\n",
    "        #Inverted because currently smaller values are red and larger values are green\n",
    "        #Want to make opposite (smaller %error-values = green and larger %error-values = red) therefore we multiply by -1\n",
    "        ReHMean.append(100 * max(-abs(np.mean(data.ReH)), -1))\n",
    "        ReEMean.append(100 * max(-abs(np.mean(data.ReE)), -1))\n",
    "        ReHtildeMean.append(100 * max(-abs(np.mean(data.ReHtilde)), -1))\n",
    "\n",
    "    return ReHMean, ReEMean, ReHtildeMean  \n",
    "\n",
    "def getSizes(errF, amountofSets):\n",
    "    ReHMean = []\n",
    "    ReEMean = []\n",
    "    ReHtildeMean = []\n",
    "    for set in range(amountofSets):\n",
    "        data = pd.read_csv(\"Predictions\\Method2-\"+ str(set) + \"-\" + str(errF) +  \".csv\")\n",
    "        \n",
    "        ReHMean.append(8 + pow(np.std(data.ReH), 0.75))\n",
    "        ReEMean.append(8 + pow(np.std(data.ReE), 0.75))\n",
    "        ReHtildeMean.append(8 + pow(np.std(data.ReHtilde), 0.75))\n",
    "\n",
    "    return ReHMean, ReEMean, ReHtildeMean\n",
    "\n",
    "#Returns lists that contain the kinematics for each index\n",
    "def getkinematics(numSets):\n",
    "    k = []\n",
    "    QQ = []\n",
    "    xb = []\n",
    "    t = []\n",
    "    for i in range(numSets):\n",
    "        #gets a set's kinematics\n",
    "        kvar, Q, x, ts = df.loc[45 * i, 'k': 't']\n",
    "        \n",
    "        #adds set's kinematics to running list\n",
    "        k.append(kvar)\n",
    "        QQ.append(Q)\n",
    "        xb.append(x)\n",
    "        t.append(ts)\n",
    "    \n",
    "    return k, QQ, xb, t\n",
    "\n",
    "import plotly.graph_objects as go\n",
    "import plotly.express as px\n",
    "\n",
    "def plotInteractive(err, numSets, whichCFF, show = True):\n",
    "    h, e, tilde = getColorMappingValues(err, numSets)\n",
    "    hs, es, tildes = getSizes(err, numSets)\n",
    "    _, QQ, xb, t = getkinematics(numSets)\n",
    "\n",
    "    data = {'QQ' : QQ, 'xb' : xb, 't' : t,\n",
    "            'hcolor' : h, 'ecolor' : e, 'tildecolor' : tilde,\n",
    "            'hsize' : hs, 'esize' : es, 'tildesize' : tildes,\n",
    "    }\n",
    "\n",
    "\n",
    "    chosens = []\n",
    "    chosen = []\n",
    "    if whichCFF == 'ReH':\n",
    "        chosens = hs\n",
    "        chosen = h\n",
    "    elif whichCFF == 'ReE':\n",
    "        chosens = es\n",
    "        chosen = e\n",
    "    else: \n",
    "        chosen = tilde\n",
    "        chosens = tildes\n",
    "        whichCFF = 'ReHtilde'\n",
    "\n",
    "    # Blue means better predictions -- Red --> Worse Predictions\n",
    "    splot = go.Figure(data=[go.Scatter3d(\n",
    "        data,\n",
    "        x='QQ',\n",
    "        y='t',\n",
    "        z='xb',\n",
    "        mode='markers',\n",
    "        marker=dict(\n",
    "            showscale=True,\n",
    "            cmax=0,\n",
    "            cmin=-100,\n",
    "            size=chosens,\n",
    "            color=chosen,                # set color to an array/list of desired values\n",
    "            colorscale='RdYlGn',   # choose a colorscale\n",
    "            opacity=0.7\n",
    "        ),\n",
    "        hovertemplate = \"QQ: %{x:.2f} \\n  t: %{y:.2f} \\n  xb: %{z:.2f}\"\n",
    "    )])\n",
    "\n",
    "    splot.update_traces\n",
    "    splot.update_layout(\n",
    "        title = 'Prediction Accuracy on ' + whichCFF + ' with ' + str(err*100) + '% Error on F',\n",
    "        scene = dict(\n",
    "            xaxis_title='QQ',\n",
    "            yaxis_title='t',\n",
    "            zaxis_title='x_b',\n",
    "            aspectmode='cube',\n",
    "        ),\n",
    "        template='ggplot2',\n",
    "        margin=dict(r=0, b=40, l=0, t=50)\n",
    "    )\n",
    "\n",
    "    splot.write_html('Interactive Plots/Mega/Spread_' + whichCFF + '_' +str(err*100) + 'ErrF.html')\n",
    "\n",
    "    if show:\n",
    "        splot.show()"
   ]
  },
  {
   "cell_type": "code",
   "execution_count": 60,
   "metadata": {},
   "outputs": [
    {
     "data": {
      "text/plain": [
       "-0.20984534088364631"
      ]
     },
     "execution_count": 60,
     "metadata": {},
     "output_type": "execute_result"
    }
   ],
   "source": [
    "getColorMappingValues(0.0, 50)[0][0]"
   ]
  },
  {
   "cell_type": "code",
   "execution_count": 106,
   "metadata": {},
   "outputs": [
    {
     "ename": "ValueError",
     "evalue": "\n    Invalid value of type 'builtins.str' received for the 'x' property of scatter3d\n        Received value: 'QQ'\n\n    The 'x' property is an array that may be specified as a tuple,\n    list, numpy array, or pandas Series",
     "output_type": "error",
     "traceback": [
      "\u001b[1;31m---------------------------------------------------------------------------\u001b[0m",
      "\u001b[1;31mValueError\u001b[0m                                Traceback (most recent call last)",
      "\u001b[1;32mc:\\Users\\pilug\\Documents\\ANN-Research\\ANN\\Aaryan\\Plots_Spread.ipynb Cell 3'\u001b[0m in \u001b[0;36m<cell line: 1>\u001b[1;34m()\u001b[0m\n\u001b[1;32m----> <a href='vscode-notebook-cell:/c%3A/Users/pilug/Documents/ANN-Research/ANN/Aaryan/Plots_Spread.ipynb#ch0000003?line=0'>1</a>\u001b[0m plotInteractive(\u001b[39m0.0\u001b[39;49m, \u001b[39m50\u001b[39;49m, \u001b[39m'\u001b[39;49m\u001b[39mReH\u001b[39;49m\u001b[39m'\u001b[39;49m)\n",
      "\u001b[1;32mc:\\Users\\pilug\\Documents\\ANN-Research\\ANN\\Aaryan\\Plots_Spread.ipynb Cell 1'\u001b[0m in \u001b[0;36mplotInteractive\u001b[1;34m(err, numSets, whichCFF, show)\u001b[0m\n\u001b[0;32m     <a href='vscode-notebook-cell:/c%3A/Users/pilug/Documents/ANN-Research/ANN/Aaryan/Plots_Spread.ipynb#ch0000000?line=84'>85</a>\u001b[0m     whichCFF \u001b[39m=\u001b[39m \u001b[39m'\u001b[39m\u001b[39mReHtilde\u001b[39m\u001b[39m'\u001b[39m\n\u001b[0;32m     <a href='vscode-notebook-cell:/c%3A/Users/pilug/Documents/ANN-Research/ANN/Aaryan/Plots_Spread.ipynb#ch0000000?line=86'>87</a>\u001b[0m \u001b[39m# Blue means better predictions -- Red --> Worse Predictions\u001b[39;00m\n\u001b[1;32m---> <a href='vscode-notebook-cell:/c%3A/Users/pilug/Documents/ANN-Research/ANN/Aaryan/Plots_Spread.ipynb#ch0000000?line=87'>88</a>\u001b[0m splot \u001b[39m=\u001b[39m go\u001b[39m.\u001b[39mFigure(data\u001b[39m=\u001b[39m[go\u001b[39m.\u001b[39;49mScatter3d(\n\u001b[0;32m     <a href='vscode-notebook-cell:/c%3A/Users/pilug/Documents/ANN-Research/ANN/Aaryan/Plots_Spread.ipynb#ch0000000?line=88'>89</a>\u001b[0m     data,\n\u001b[0;32m     <a href='vscode-notebook-cell:/c%3A/Users/pilug/Documents/ANN-Research/ANN/Aaryan/Plots_Spread.ipynb#ch0000000?line=89'>90</a>\u001b[0m     x\u001b[39m=\u001b[39;49m\u001b[39m'\u001b[39;49m\u001b[39mQQ\u001b[39;49m\u001b[39m'\u001b[39;49m,\n\u001b[0;32m     <a href='vscode-notebook-cell:/c%3A/Users/pilug/Documents/ANN-Research/ANN/Aaryan/Plots_Spread.ipynb#ch0000000?line=90'>91</a>\u001b[0m     y\u001b[39m=\u001b[39;49m\u001b[39m'\u001b[39;49m\u001b[39mt\u001b[39;49m\u001b[39m'\u001b[39;49m,\n\u001b[0;32m     <a href='vscode-notebook-cell:/c%3A/Users/pilug/Documents/ANN-Research/ANN/Aaryan/Plots_Spread.ipynb#ch0000000?line=91'>92</a>\u001b[0m     z\u001b[39m=\u001b[39;49m\u001b[39m'\u001b[39;49m\u001b[39mxb\u001b[39;49m\u001b[39m'\u001b[39;49m,\n\u001b[0;32m     <a href='vscode-notebook-cell:/c%3A/Users/pilug/Documents/ANN-Research/ANN/Aaryan/Plots_Spread.ipynb#ch0000000?line=92'>93</a>\u001b[0m     mode\u001b[39m=\u001b[39;49m\u001b[39m'\u001b[39;49m\u001b[39mmarkers\u001b[39;49m\u001b[39m'\u001b[39;49m,\n\u001b[0;32m     <a href='vscode-notebook-cell:/c%3A/Users/pilug/Documents/ANN-Research/ANN/Aaryan/Plots_Spread.ipynb#ch0000000?line=93'>94</a>\u001b[0m     marker\u001b[39m=\u001b[39;49m\u001b[39mdict\u001b[39;49m(\n\u001b[0;32m     <a href='vscode-notebook-cell:/c%3A/Users/pilug/Documents/ANN-Research/ANN/Aaryan/Plots_Spread.ipynb#ch0000000?line=94'>95</a>\u001b[0m         showscale\u001b[39m=\u001b[39;49m\u001b[39mTrue\u001b[39;49;00m,\n\u001b[0;32m     <a href='vscode-notebook-cell:/c%3A/Users/pilug/Documents/ANN-Research/ANN/Aaryan/Plots_Spread.ipynb#ch0000000?line=95'>96</a>\u001b[0m         cmax\u001b[39m=\u001b[39;49m\u001b[39m0\u001b[39;49m,\n\u001b[0;32m     <a href='vscode-notebook-cell:/c%3A/Users/pilug/Documents/ANN-Research/ANN/Aaryan/Plots_Spread.ipynb#ch0000000?line=96'>97</a>\u001b[0m         cmin\u001b[39m=\u001b[39;49m\u001b[39m-\u001b[39;49m\u001b[39m100\u001b[39;49m,\n\u001b[0;32m     <a href='vscode-notebook-cell:/c%3A/Users/pilug/Documents/ANN-Research/ANN/Aaryan/Plots_Spread.ipynb#ch0000000?line=97'>98</a>\u001b[0m         size\u001b[39m=\u001b[39;49mchosens,\n\u001b[0;32m     <a href='vscode-notebook-cell:/c%3A/Users/pilug/Documents/ANN-Research/ANN/Aaryan/Plots_Spread.ipynb#ch0000000?line=98'>99</a>\u001b[0m         color\u001b[39m=\u001b[39;49mchosen,                \u001b[39m# set color to an array/list of desired values\u001b[39;49;00m\n\u001b[0;32m    <a href='vscode-notebook-cell:/c%3A/Users/pilug/Documents/ANN-Research/ANN/Aaryan/Plots_Spread.ipynb#ch0000000?line=99'>100</a>\u001b[0m         colorscale\u001b[39m=\u001b[39;49m\u001b[39m'\u001b[39;49m\u001b[39mRdYlGn\u001b[39;49m\u001b[39m'\u001b[39;49m,   \u001b[39m# choose a colorscale\u001b[39;49;00m\n\u001b[0;32m    <a href='vscode-notebook-cell:/c%3A/Users/pilug/Documents/ANN-Research/ANN/Aaryan/Plots_Spread.ipynb#ch0000000?line=100'>101</a>\u001b[0m         opacity\u001b[39m=\u001b[39;49m\u001b[39m0.7\u001b[39;49m\n\u001b[0;32m    <a href='vscode-notebook-cell:/c%3A/Users/pilug/Documents/ANN-Research/ANN/Aaryan/Plots_Spread.ipynb#ch0000000?line=101'>102</a>\u001b[0m     ),\n\u001b[0;32m    <a href='vscode-notebook-cell:/c%3A/Users/pilug/Documents/ANN-Research/ANN/Aaryan/Plots_Spread.ipynb#ch0000000?line=102'>103</a>\u001b[0m     hovertemplate \u001b[39m=\u001b[39;49m \u001b[39m\"\u001b[39;49m\u001b[39mQQ: \u001b[39;49m\u001b[39m%\u001b[39;49m\u001b[39m{x:.2f}\u001b[39;49;00m\u001b[39m \u001b[39;49m\u001b[39m\\n\u001b[39;49;00m\u001b[39m  t: \u001b[39;49m\u001b[39m%\u001b[39;49m\u001b[39m{y:.2f}\u001b[39;49;00m\u001b[39m \u001b[39;49m\u001b[39m\\n\u001b[39;49;00m\u001b[39m  xb: \u001b[39;49m\u001b[39m%\u001b[39;49m\u001b[39m{z:.2f}\u001b[39;49;00m\u001b[39m\"\u001b[39;49m\n\u001b[0;32m    <a href='vscode-notebook-cell:/c%3A/Users/pilug/Documents/ANN-Research/ANN/Aaryan/Plots_Spread.ipynb#ch0000000?line=103'>104</a>\u001b[0m )])\n\u001b[0;32m    <a href='vscode-notebook-cell:/c%3A/Users/pilug/Documents/ANN-Research/ANN/Aaryan/Plots_Spread.ipynb#ch0000000?line=105'>106</a>\u001b[0m splot\u001b[39m.\u001b[39mupdate_traces\n\u001b[0;32m    <a href='vscode-notebook-cell:/c%3A/Users/pilug/Documents/ANN-Research/ANN/Aaryan/Plots_Spread.ipynb#ch0000000?line=106'>107</a>\u001b[0m splot\u001b[39m.\u001b[39mupdate_layout(\n\u001b[0;32m    <a href='vscode-notebook-cell:/c%3A/Users/pilug/Documents/ANN-Research/ANN/Aaryan/Plots_Spread.ipynb#ch0000000?line=107'>108</a>\u001b[0m     title \u001b[39m=\u001b[39m \u001b[39m'\u001b[39m\u001b[39mPrediction Accuracy on \u001b[39m\u001b[39m'\u001b[39m \u001b[39m+\u001b[39m whichCFF \u001b[39m+\u001b[39m \u001b[39m'\u001b[39m\u001b[39m with \u001b[39m\u001b[39m'\u001b[39m \u001b[39m+\u001b[39m \u001b[39mstr\u001b[39m(err\u001b[39m*\u001b[39m\u001b[39m100\u001b[39m) \u001b[39m+\u001b[39m \u001b[39m'\u001b[39m\u001b[39m% E\u001b[39;00m\u001b[39mrror on F\u001b[39m\u001b[39m'\u001b[39m,\n\u001b[0;32m    <a href='vscode-notebook-cell:/c%3A/Users/pilug/Documents/ANN-Research/ANN/Aaryan/Plots_Spread.ipynb#ch0000000?line=108'>109</a>\u001b[0m     scene \u001b[39m=\u001b[39m \u001b[39mdict\u001b[39m(\n\u001b[1;32m   (...)\u001b[0m\n\u001b[0;32m    <a href='vscode-notebook-cell:/c%3A/Users/pilug/Documents/ANN-Research/ANN/Aaryan/Plots_Spread.ipynb#ch0000000?line=115'>116</a>\u001b[0m     margin\u001b[39m=\u001b[39m\u001b[39mdict\u001b[39m(r\u001b[39m=\u001b[39m\u001b[39m0\u001b[39m, b\u001b[39m=\u001b[39m\u001b[39m40\u001b[39m, l\u001b[39m=\u001b[39m\u001b[39m0\u001b[39m, t\u001b[39m=\u001b[39m\u001b[39m50\u001b[39m)\n\u001b[0;32m    <a href='vscode-notebook-cell:/c%3A/Users/pilug/Documents/ANN-Research/ANN/Aaryan/Plots_Spread.ipynb#ch0000000?line=116'>117</a>\u001b[0m )\n",
      "File \u001b[1;32mc:\\Users\\pilug\\Documents\\ANN-Research\\ANN\\Aaryan\\.venv\\lib\\site-packages\\plotly\\graph_objs\\_scatter3d.py:2682\u001b[0m, in \u001b[0;36mScatter3d.__init__\u001b[1;34m(self, arg, connectgaps, customdata, customdatasrc, error_x, error_y, error_z, hoverinfo, hoverinfosrc, hoverlabel, hovertemplate, hovertemplatesrc, hovertext, hovertextsrc, ids, idssrc, legendgroup, legendgrouptitle, legendrank, line, marker, meta, metasrc, mode, name, opacity, projection, scene, showlegend, stream, surfaceaxis, surfacecolor, text, textfont, textposition, textpositionsrc, textsrc, texttemplate, texttemplatesrc, uid, uirevision, visible, x, xcalendar, xhoverformat, xsrc, y, ycalendar, yhoverformat, ysrc, z, zcalendar, zhoverformat, zsrc, **kwargs)\u001b[0m\n\u001b[0;32m   <a href='file:///c%3A/Users/pilug/Documents/ANN-Research/ANN/Aaryan/.venv/lib/site-packages/plotly/graph_objs/_scatter3d.py?line=2679'>2680</a>\u001b[0m _v \u001b[39m=\u001b[39m x \u001b[39mif\u001b[39;00m x \u001b[39mis\u001b[39;00m \u001b[39mnot\u001b[39;00m \u001b[39mNone\u001b[39;00m \u001b[39melse\u001b[39;00m _v\n\u001b[0;32m   <a href='file:///c%3A/Users/pilug/Documents/ANN-Research/ANN/Aaryan/.venv/lib/site-packages/plotly/graph_objs/_scatter3d.py?line=2680'>2681</a>\u001b[0m \u001b[39mif\u001b[39;00m _v \u001b[39mis\u001b[39;00m \u001b[39mnot\u001b[39;00m \u001b[39mNone\u001b[39;00m:\n\u001b[1;32m-> <a href='file:///c%3A/Users/pilug/Documents/ANN-Research/ANN/Aaryan/.venv/lib/site-packages/plotly/graph_objs/_scatter3d.py?line=2681'>2682</a>\u001b[0m     \u001b[39mself\u001b[39m[\u001b[39m\"\u001b[39m\u001b[39mx\u001b[39m\u001b[39m\"\u001b[39m] \u001b[39m=\u001b[39m _v\n\u001b[0;32m   <a href='file:///c%3A/Users/pilug/Documents/ANN-Research/ANN/Aaryan/.venv/lib/site-packages/plotly/graph_objs/_scatter3d.py?line=2682'>2683</a>\u001b[0m _v \u001b[39m=\u001b[39m arg\u001b[39m.\u001b[39mpop(\u001b[39m\"\u001b[39m\u001b[39mxcalendar\u001b[39m\u001b[39m\"\u001b[39m, \u001b[39mNone\u001b[39;00m)\n\u001b[0;32m   <a href='file:///c%3A/Users/pilug/Documents/ANN-Research/ANN/Aaryan/.venv/lib/site-packages/plotly/graph_objs/_scatter3d.py?line=2683'>2684</a>\u001b[0m _v \u001b[39m=\u001b[39m xcalendar \u001b[39mif\u001b[39;00m xcalendar \u001b[39mis\u001b[39;00m \u001b[39mnot\u001b[39;00m \u001b[39mNone\u001b[39;00m \u001b[39melse\u001b[39;00m _v\n",
      "File \u001b[1;32mc:\\Users\\pilug\\Documents\\ANN-Research\\ANN\\Aaryan\\.venv\\lib\\site-packages\\plotly\\basedatatypes.py:4836\u001b[0m, in \u001b[0;36mBasePlotlyType.__setitem__\u001b[1;34m(self, prop, value)\u001b[0m\n\u001b[0;32m   <a href='file:///c%3A/Users/pilug/Documents/ANN-Research/ANN/Aaryan/.venv/lib/site-packages/plotly/basedatatypes.py?line=4831'>4832</a>\u001b[0m         \u001b[39mself\u001b[39m\u001b[39m.\u001b[39m_set_array_prop(prop, value)\n\u001b[0;32m   <a href='file:///c%3A/Users/pilug/Documents/ANN-Research/ANN/Aaryan/.venv/lib/site-packages/plotly/basedatatypes.py?line=4833'>4834</a>\u001b[0m     \u001b[39m# ### Handle simple property ###\u001b[39;00m\n\u001b[0;32m   <a href='file:///c%3A/Users/pilug/Documents/ANN-Research/ANN/Aaryan/.venv/lib/site-packages/plotly/basedatatypes.py?line=4834'>4835</a>\u001b[0m     \u001b[39melse\u001b[39;00m:\n\u001b[1;32m-> <a href='file:///c%3A/Users/pilug/Documents/ANN-Research/ANN/Aaryan/.venv/lib/site-packages/plotly/basedatatypes.py?line=4835'>4836</a>\u001b[0m         \u001b[39mself\u001b[39;49m\u001b[39m.\u001b[39;49m_set_prop(prop, value)\n\u001b[0;32m   <a href='file:///c%3A/Users/pilug/Documents/ANN-Research/ANN/Aaryan/.venv/lib/site-packages/plotly/basedatatypes.py?line=4836'>4837</a>\u001b[0m \u001b[39melse\u001b[39;00m:\n\u001b[0;32m   <a href='file:///c%3A/Users/pilug/Documents/ANN-Research/ANN/Aaryan/.venv/lib/site-packages/plotly/basedatatypes.py?line=4837'>4838</a>\u001b[0m     \u001b[39m# Make sure properties dict is initialized\u001b[39;00m\n\u001b[0;32m   <a href='file:///c%3A/Users/pilug/Documents/ANN-Research/ANN/Aaryan/.venv/lib/site-packages/plotly/basedatatypes.py?line=4838'>4839</a>\u001b[0m     \u001b[39mself\u001b[39m\u001b[39m.\u001b[39m_init_props()\n",
      "File \u001b[1;32mc:\\Users\\pilug\\Documents\\ANN-Research\\ANN\\Aaryan\\.venv\\lib\\site-packages\\plotly\\basedatatypes.py:5180\u001b[0m, in \u001b[0;36mBasePlotlyType._set_prop\u001b[1;34m(self, prop, val)\u001b[0m\n\u001b[0;32m   <a href='file:///c%3A/Users/pilug/Documents/ANN-Research/ANN/Aaryan/.venv/lib/site-packages/plotly/basedatatypes.py?line=5177'>5178</a>\u001b[0m         \u001b[39mreturn\u001b[39;00m\n\u001b[0;32m   <a href='file:///c%3A/Users/pilug/Documents/ANN-Research/ANN/Aaryan/.venv/lib/site-packages/plotly/basedatatypes.py?line=5178'>5179</a>\u001b[0m     \u001b[39melse\u001b[39;00m:\n\u001b[1;32m-> <a href='file:///c%3A/Users/pilug/Documents/ANN-Research/ANN/Aaryan/.venv/lib/site-packages/plotly/basedatatypes.py?line=5179'>5180</a>\u001b[0m         \u001b[39mraise\u001b[39;00m err\n\u001b[0;32m   <a href='file:///c%3A/Users/pilug/Documents/ANN-Research/ANN/Aaryan/.venv/lib/site-packages/plotly/basedatatypes.py?line=5181'>5182</a>\u001b[0m \u001b[39m# val is None\u001b[39;00m\n\u001b[0;32m   <a href='file:///c%3A/Users/pilug/Documents/ANN-Research/ANN/Aaryan/.venv/lib/site-packages/plotly/basedatatypes.py?line=5182'>5183</a>\u001b[0m \u001b[39m# -----------\u001b[39;00m\n\u001b[0;32m   <a href='file:///c%3A/Users/pilug/Documents/ANN-Research/ANN/Aaryan/.venv/lib/site-packages/plotly/basedatatypes.py?line=5183'>5184</a>\u001b[0m \u001b[39mif\u001b[39;00m val \u001b[39mis\u001b[39;00m \u001b[39mNone\u001b[39;00m:\n\u001b[0;32m   <a href='file:///c%3A/Users/pilug/Documents/ANN-Research/ANN/Aaryan/.venv/lib/site-packages/plotly/basedatatypes.py?line=5184'>5185</a>\u001b[0m     \u001b[39m# Check if we should send null update\u001b[39;00m\n",
      "File \u001b[1;32mc:\\Users\\pilug\\Documents\\ANN-Research\\ANN\\Aaryan\\.venv\\lib\\site-packages\\plotly\\basedatatypes.py:5175\u001b[0m, in \u001b[0;36mBasePlotlyType._set_prop\u001b[1;34m(self, prop, val)\u001b[0m\n\u001b[0;32m   <a href='file:///c%3A/Users/pilug/Documents/ANN-Research/ANN/Aaryan/.venv/lib/site-packages/plotly/basedatatypes.py?line=5171'>5172</a>\u001b[0m validator \u001b[39m=\u001b[39m \u001b[39mself\u001b[39m\u001b[39m.\u001b[39m_get_validator(prop)\n\u001b[0;32m   <a href='file:///c%3A/Users/pilug/Documents/ANN-Research/ANN/Aaryan/.venv/lib/site-packages/plotly/basedatatypes.py?line=5173'>5174</a>\u001b[0m \u001b[39mtry\u001b[39;00m:\n\u001b[1;32m-> <a href='file:///c%3A/Users/pilug/Documents/ANN-Research/ANN/Aaryan/.venv/lib/site-packages/plotly/basedatatypes.py?line=5174'>5175</a>\u001b[0m     val \u001b[39m=\u001b[39m validator\u001b[39m.\u001b[39;49mvalidate_coerce(val)\n\u001b[0;32m   <a href='file:///c%3A/Users/pilug/Documents/ANN-Research/ANN/Aaryan/.venv/lib/site-packages/plotly/basedatatypes.py?line=5175'>5176</a>\u001b[0m \u001b[39mexcept\u001b[39;00m \u001b[39mValueError\u001b[39;00m \u001b[39mas\u001b[39;00m err:\n\u001b[0;32m   <a href='file:///c%3A/Users/pilug/Documents/ANN-Research/ANN/Aaryan/.venv/lib/site-packages/plotly/basedatatypes.py?line=5176'>5177</a>\u001b[0m     \u001b[39mif\u001b[39;00m \u001b[39mself\u001b[39m\u001b[39m.\u001b[39m_skip_invalid:\n",
      "File \u001b[1;32mc:\\Users\\pilug\\Documents\\ANN-Research\\ANN\\Aaryan\\.venv\\lib\\site-packages\\_plotly_utils\\basevalidators.py:405\u001b[0m, in \u001b[0;36mDataArrayValidator.validate_coerce\u001b[1;34m(self, v)\u001b[0m\n\u001b[0;32m    <a href='file:///c%3A/Users/pilug/Documents/ANN-Research/ANN/Aaryan/.venv/lib/site-packages/_plotly_utils/basevalidators.py?line=402'>403</a>\u001b[0m     v \u001b[39m=\u001b[39m to_scalar_or_list(v)\n\u001b[0;32m    <a href='file:///c%3A/Users/pilug/Documents/ANN-Research/ANN/Aaryan/.venv/lib/site-packages/_plotly_utils/basevalidators.py?line=403'>404</a>\u001b[0m \u001b[39melse\u001b[39;00m:\n\u001b[1;32m--> <a href='file:///c%3A/Users/pilug/Documents/ANN-Research/ANN/Aaryan/.venv/lib/site-packages/_plotly_utils/basevalidators.py?line=404'>405</a>\u001b[0m     \u001b[39mself\u001b[39;49m\u001b[39m.\u001b[39;49mraise_invalid_val(v)\n\u001b[0;32m    <a href='file:///c%3A/Users/pilug/Documents/ANN-Research/ANN/Aaryan/.venv/lib/site-packages/_plotly_utils/basevalidators.py?line=405'>406</a>\u001b[0m \u001b[39mreturn\u001b[39;00m v\n",
      "File \u001b[1;32mc:\\Users\\pilug\\Documents\\ANN-Research\\ANN\\Aaryan\\.venv\\lib\\site-packages\\_plotly_utils\\basevalidators.py:289\u001b[0m, in \u001b[0;36mBaseValidator.raise_invalid_val\u001b[1;34m(self, v, inds)\u001b[0m\n\u001b[0;32m    <a href='file:///c%3A/Users/pilug/Documents/ANN-Research/ANN/Aaryan/.venv/lib/site-packages/_plotly_utils/basevalidators.py?line=285'>286</a>\u001b[0m             \u001b[39mfor\u001b[39;00m i \u001b[39min\u001b[39;00m inds:\n\u001b[0;32m    <a href='file:///c%3A/Users/pilug/Documents/ANN-Research/ANN/Aaryan/.venv/lib/site-packages/_plotly_utils/basevalidators.py?line=286'>287</a>\u001b[0m                 name \u001b[39m+\u001b[39m\u001b[39m=\u001b[39m \u001b[39m\"\u001b[39m\u001b[39m[\u001b[39m\u001b[39m\"\u001b[39m \u001b[39m+\u001b[39m \u001b[39mstr\u001b[39m(i) \u001b[39m+\u001b[39m \u001b[39m\"\u001b[39m\u001b[39m]\u001b[39m\u001b[39m\"\u001b[39m\n\u001b[1;32m--> <a href='file:///c%3A/Users/pilug/Documents/ANN-Research/ANN/Aaryan/.venv/lib/site-packages/_plotly_utils/basevalidators.py?line=288'>289</a>\u001b[0m         \u001b[39mraise\u001b[39;00m \u001b[39mValueError\u001b[39;00m(\n\u001b[0;32m    <a href='file:///c%3A/Users/pilug/Documents/ANN-Research/ANN/Aaryan/.venv/lib/site-packages/_plotly_utils/basevalidators.py?line=289'>290</a>\u001b[0m             \u001b[39m\"\"\"\u001b[39;00m\n\u001b[0;32m    <a href='file:///c%3A/Users/pilug/Documents/ANN-Research/ANN/Aaryan/.venv/lib/site-packages/_plotly_utils/basevalidators.py?line=290'>291</a>\u001b[0m \u001b[39m    Invalid value of type {typ} received for the '{name}' property of {pname}\u001b[39;00m\n\u001b[0;32m    <a href='file:///c%3A/Users/pilug/Documents/ANN-Research/ANN/Aaryan/.venv/lib/site-packages/_plotly_utils/basevalidators.py?line=291'>292</a>\u001b[0m \u001b[39m        Received value: {v}\u001b[39;00m\n\u001b[0;32m    <a href='file:///c%3A/Users/pilug/Documents/ANN-Research/ANN/Aaryan/.venv/lib/site-packages/_plotly_utils/basevalidators.py?line=292'>293</a>\u001b[0m \n\u001b[0;32m    <a href='file:///c%3A/Users/pilug/Documents/ANN-Research/ANN/Aaryan/.venv/lib/site-packages/_plotly_utils/basevalidators.py?line=293'>294</a>\u001b[0m \u001b[39m{valid_clr_desc}\"\"\"\u001b[39;00m\u001b[39m.\u001b[39mformat(\n\u001b[0;32m    <a href='file:///c%3A/Users/pilug/Documents/ANN-Research/ANN/Aaryan/.venv/lib/site-packages/_plotly_utils/basevalidators.py?line=294'>295</a>\u001b[0m                 name\u001b[39m=\u001b[39mname,\n\u001b[0;32m    <a href='file:///c%3A/Users/pilug/Documents/ANN-Research/ANN/Aaryan/.venv/lib/site-packages/_plotly_utils/basevalidators.py?line=295'>296</a>\u001b[0m                 pname\u001b[39m=\u001b[39m\u001b[39mself\u001b[39m\u001b[39m.\u001b[39mparent_name,\n\u001b[0;32m    <a href='file:///c%3A/Users/pilug/Documents/ANN-Research/ANN/Aaryan/.venv/lib/site-packages/_plotly_utils/basevalidators.py?line=296'>297</a>\u001b[0m                 typ\u001b[39m=\u001b[39mtype_str(v),\n\u001b[0;32m    <a href='file:///c%3A/Users/pilug/Documents/ANN-Research/ANN/Aaryan/.venv/lib/site-packages/_plotly_utils/basevalidators.py?line=297'>298</a>\u001b[0m                 v\u001b[39m=\u001b[39m\u001b[39mrepr\u001b[39m(v),\n\u001b[0;32m    <a href='file:///c%3A/Users/pilug/Documents/ANN-Research/ANN/Aaryan/.venv/lib/site-packages/_plotly_utils/basevalidators.py?line=298'>299</a>\u001b[0m                 valid_clr_desc\u001b[39m=\u001b[39m\u001b[39mself\u001b[39m\u001b[39m.\u001b[39mdescription(),\n\u001b[0;32m    <a href='file:///c%3A/Users/pilug/Documents/ANN-Research/ANN/Aaryan/.venv/lib/site-packages/_plotly_utils/basevalidators.py?line=299'>300</a>\u001b[0m             )\n\u001b[0;32m    <a href='file:///c%3A/Users/pilug/Documents/ANN-Research/ANN/Aaryan/.venv/lib/site-packages/_plotly_utils/basevalidators.py?line=300'>301</a>\u001b[0m         )\n",
      "\u001b[1;31mValueError\u001b[0m: \n    Invalid value of type 'builtins.str' received for the 'x' property of scatter3d\n        Received value: 'QQ'\n\n    The 'x' property is an array that may be specified as a tuple,\n    list, numpy array, or pandas Series"
     ]
    }
   ],
   "source": [
    "plotInteractive(0.0, 50, 'ReH')"
   ]
  },
  {
   "cell_type": "code",
   "execution_count": 102,
   "metadata": {},
   "outputs": [
    {
     "data": {
      "application/vnd.plotly.v1+json": {
       "config": {
        "plotlyServerURL": "https://plot.ly"
       },
       "data": [
        {
         "hovertemplate": "QQ: %{x:.2f} \n  t: %{y:.2f} \n  xb: %{z:.2f}",
         "marker": {
          "cmax": 0,
          "cmin": -100,
          "color": [
           -32.340390342902545,
           -100,
           -100,
           -100,
           -100,
           -100,
           -100,
           -19.435448302117383,
           -100,
           -72.96428092506764,
           -100,
           -100,
           -100,
           -100,
           -43.514599950054475,
           -38.162806059482634,
           -100,
           -88.56868480666664,
           -6.078538090721108,
           -100,
           -100,
           -100,
           -74.09637250394783,
           -64.11026582815857,
           -100,
           -100,
           -100,
           -100,
           -90.33430692674384,
           -77.38386934934206,
           -62.74403781115058,
           -100,
           -32.66013850516664,
           -100,
           -100,
           -100,
           -100,
           -100,
           -68.99587351596946,
           -100,
           -100,
           -55.71875375835974,
           -37.06201289835369,
           -100,
           -100,
           -85.35400148391061,
           -100,
           -100,
           -100,
           -10.361893289711537
          ],
          "colorscale": [
           [
            0,
            "rgb(165,0,38)"
           ],
           [
            0.1,
            "rgb(215,48,39)"
           ],
           [
            0.2,
            "rgb(244,109,67)"
           ],
           [
            0.3,
            "rgb(253,174,97)"
           ],
           [
            0.4,
            "rgb(254,224,139)"
           ],
           [
            0.5,
            "rgb(255,255,191)"
           ],
           [
            0.6,
            "rgb(217,239,139)"
           ],
           [
            0.7,
            "rgb(166,217,106)"
           ],
           [
            0.8,
            "rgb(102,189,99)"
           ],
           [
            0.9,
            "rgb(26,152,80)"
           ],
           [
            1,
            "rgb(0,104,55)"
           ]
          ],
          "opacity": 0.7,
          "showscale": true,
          "size": [
           10.22357750958525,
           21.507886245802148,
           14.141869373196688,
           12.419955648406882,
           13.799556774044706,
           10.683927453118038,
           36.26112706604131,
           14.544433835540291,
           10.422152825310398,
           17.878249329749018,
           9.920291190035371,
           16.52501084021037,
           12.733619238543454,
           12.392685052043998,
           27.69579033993269,
           12.195795569728972,
           16.720363137719986,
           12.289104603553419,
           9.994719510145009,
           9.772774922038241,
           13.109685584367803,
           15.47831908404682,
           19.938066911781505,
           14.839327096928642,
           10.734933189933423,
           10.739802160128363,
           12.311018375689425,
           9.9854791792927,
           17.545144395593002,
           17.734629443513747,
           11.626141775345824,
           14.295800746193503,
           10.039335158688857,
           26.397224469758836,
           16.607359045078887,
           23.417358026181873,
           10.477943946822396,
           16.12330814665821,
           23.24519867406937,
           9.167615996516291,
           29.26388546820765,
           11.853633644727687,
           16.53737209109096,
           15.106108295606347,
           17.162959937111697,
           11.45992295972088,
           18.32368727139955,
           21.981522531188446,
           19.86606065232402,
           10.124969559218533
          ]
         },
         "mode": "markers",
         "type": "scatter3d",
         "x": [
          1.20485,
          1.84791,
          1.51694,
          1.25164,
          1.30314,
          1.52927,
          2.13732,
          1.28872,
          2.0441,
          1.67202,
          1.11718,
          1.18504,
          1.24448,
          1.20236,
          1.79839,
          1.31044,
          1.45333,
          1.30264,
          1.19833,
          1.05838,
          1.30015,
          1.21388,
          1.44068,
          1.16598,
          1.11134,
          1.18603,
          1.55475,
          1.22036,
          1.40734,
          1.3728,
          1.09277,
          1.62992,
          1.7703,
          1.96251,
          1.66376,
          1.65558,
          2.03883,
          1.37405,
          1.54558,
          1.0288,
          1.71826,
          1.21809,
          1.25794,
          1.88168,
          1.55218,
          1.15447,
          1.62694,
          1.77463,
          1.60702,
          1.07021
         ],
         "y": [
          -0.537906,
          -0.538479,
          -0.573419,
          -0.425715,
          -0.599965,
          -0.593316,
          -0.485421,
          -0.595051,
          -0.591957,
          -0.437331,
          -0.544677,
          -0.363566,
          -0.408987,
          -0.485485,
          -0.480416,
          -0.485034,
          -0.450872,
          -0.535946,
          -0.541912,
          -0.432579,
          -0.488225,
          -0.298924,
          -0.586063,
          -0.504644,
          -0.454483,
          -0.463942,
          -0.599663,
          -0.564592,
          -0.361832,
          -0.441797,
          -0.495106,
          -0.523453,
          -0.56819,
          -0.594875,
          -0.47075,
          -0.495104,
          -0.595812,
          -0.545881,
          -0.592446,
          -0.509322,
          -0.553647,
          -0.41486,
          -0.357362,
          -0.575657,
          -0.380741,
          -0.549915,
          -0.522251,
          -0.567055,
          -0.590458,
          -0.521254
         ],
         "z": [
          0.571359,
          0.552388,
          0.582424,
          0.502455,
          0.349096,
          0.664873,
          0.515192,
          0.66631,
          0.631528,
          0.440743,
          0.437769,
          0.515941,
          0.490763,
          0.584234,
          0.54067,
          0.53568,
          0.529695,
          0.593233,
          0.53658,
          0.471996,
          0.564074,
          0.415684,
          0.657525,
          0.635065,
          0.538403,
          0.509115,
          0.540229,
          0.487716,
          0.459746,
          0.552103,
          0.242222,
          0.484643,
          0.635549,
          0.585278,
          0.377388,
          0.572192,
          0.633521,
          0.648993,
          0.642617,
          0.493241,
          0.61241,
          0.461894,
          0.492654,
          0.629261,
          0.320327,
          0.640517,
          0.372293,
          0.395451,
          0.357394,
          0.621182
         ]
        }
       ],
       "layout": {
        "margin": {
         "b": 40,
         "l": 0,
         "r": 0,
         "t": 50
        },
        "scene": {
         "aspectmode": "cube",
         "xaxis": {
          "title": {
           "text": "QQ"
          }
         },
         "yaxis": {
          "title": {
           "text": "t"
          }
         },
         "zaxis": {
          "title": {
           "text": "x_b"
          }
         }
        },
        "template": {
         "data": {
          "bar": [
           {
            "error_x": {
             "color": "rgb(51,51,51)"
            },
            "error_y": {
             "color": "rgb(51,51,51)"
            },
            "marker": {
             "line": {
              "color": "rgb(237,237,237)",
              "width": 0.5
             },
             "pattern": {
              "fillmode": "overlay",
              "size": 10,
              "solidity": 0.2
             }
            },
            "type": "bar"
           }
          ],
          "barpolar": [
           {
            "marker": {
             "line": {
              "color": "rgb(237,237,237)",
              "width": 0.5
             },
             "pattern": {
              "fillmode": "overlay",
              "size": 10,
              "solidity": 0.2
             }
            },
            "type": "barpolar"
           }
          ],
          "carpet": [
           {
            "aaxis": {
             "endlinecolor": "rgb(51,51,51)",
             "gridcolor": "white",
             "linecolor": "white",
             "minorgridcolor": "white",
             "startlinecolor": "rgb(51,51,51)"
            },
            "baxis": {
             "endlinecolor": "rgb(51,51,51)",
             "gridcolor": "white",
             "linecolor": "white",
             "minorgridcolor": "white",
             "startlinecolor": "rgb(51,51,51)"
            },
            "type": "carpet"
           }
          ],
          "choropleth": [
           {
            "colorbar": {
             "outlinewidth": 0,
             "tickcolor": "rgb(237,237,237)",
             "ticklen": 6,
             "ticks": "inside"
            },
            "type": "choropleth"
           }
          ],
          "contour": [
           {
            "colorbar": {
             "outlinewidth": 0,
             "tickcolor": "rgb(237,237,237)",
             "ticklen": 6,
             "ticks": "inside"
            },
            "colorscale": [
             [
              0,
              "rgb(20,44,66)"
             ],
             [
              1,
              "rgb(90,179,244)"
             ]
            ],
            "type": "contour"
           }
          ],
          "contourcarpet": [
           {
            "colorbar": {
             "outlinewidth": 0,
             "tickcolor": "rgb(237,237,237)",
             "ticklen": 6,
             "ticks": "inside"
            },
            "type": "contourcarpet"
           }
          ],
          "heatmap": [
           {
            "colorbar": {
             "outlinewidth": 0,
             "tickcolor": "rgb(237,237,237)",
             "ticklen": 6,
             "ticks": "inside"
            },
            "colorscale": [
             [
              0,
              "rgb(20,44,66)"
             ],
             [
              1,
              "rgb(90,179,244)"
             ]
            ],
            "type": "heatmap"
           }
          ],
          "heatmapgl": [
           {
            "colorbar": {
             "outlinewidth": 0,
             "tickcolor": "rgb(237,237,237)",
             "ticklen": 6,
             "ticks": "inside"
            },
            "colorscale": [
             [
              0,
              "rgb(20,44,66)"
             ],
             [
              1,
              "rgb(90,179,244)"
             ]
            ],
            "type": "heatmapgl"
           }
          ],
          "histogram": [
           {
            "marker": {
             "pattern": {
              "fillmode": "overlay",
              "size": 10,
              "solidity": 0.2
             }
            },
            "type": "histogram"
           }
          ],
          "histogram2d": [
           {
            "colorbar": {
             "outlinewidth": 0,
             "tickcolor": "rgb(237,237,237)",
             "ticklen": 6,
             "ticks": "inside"
            },
            "colorscale": [
             [
              0,
              "rgb(20,44,66)"
             ],
             [
              1,
              "rgb(90,179,244)"
             ]
            ],
            "type": "histogram2d"
           }
          ],
          "histogram2dcontour": [
           {
            "colorbar": {
             "outlinewidth": 0,
             "tickcolor": "rgb(237,237,237)",
             "ticklen": 6,
             "ticks": "inside"
            },
            "colorscale": [
             [
              0,
              "rgb(20,44,66)"
             ],
             [
              1,
              "rgb(90,179,244)"
             ]
            ],
            "type": "histogram2dcontour"
           }
          ],
          "mesh3d": [
           {
            "colorbar": {
             "outlinewidth": 0,
             "tickcolor": "rgb(237,237,237)",
             "ticklen": 6,
             "ticks": "inside"
            },
            "type": "mesh3d"
           }
          ],
          "parcoords": [
           {
            "line": {
             "colorbar": {
              "outlinewidth": 0,
              "tickcolor": "rgb(237,237,237)",
              "ticklen": 6,
              "ticks": "inside"
             }
            },
            "type": "parcoords"
           }
          ],
          "pie": [
           {
            "automargin": true,
            "type": "pie"
           }
          ],
          "scatter": [
           {
            "fillpattern": {
             "fillmode": "overlay",
             "size": 10,
             "solidity": 0.2
            },
            "type": "scatter"
           }
          ],
          "scatter3d": [
           {
            "line": {
             "colorbar": {
              "outlinewidth": 0,
              "tickcolor": "rgb(237,237,237)",
              "ticklen": 6,
              "ticks": "inside"
             }
            },
            "marker": {
             "colorbar": {
              "outlinewidth": 0,
              "tickcolor": "rgb(237,237,237)",
              "ticklen": 6,
              "ticks": "inside"
             }
            },
            "type": "scatter3d"
           }
          ],
          "scattercarpet": [
           {
            "marker": {
             "colorbar": {
              "outlinewidth": 0,
              "tickcolor": "rgb(237,237,237)",
              "ticklen": 6,
              "ticks": "inside"
             }
            },
            "type": "scattercarpet"
           }
          ],
          "scattergeo": [
           {
            "marker": {
             "colorbar": {
              "outlinewidth": 0,
              "tickcolor": "rgb(237,237,237)",
              "ticklen": 6,
              "ticks": "inside"
             }
            },
            "type": "scattergeo"
           }
          ],
          "scattergl": [
           {
            "marker": {
             "colorbar": {
              "outlinewidth": 0,
              "tickcolor": "rgb(237,237,237)",
              "ticklen": 6,
              "ticks": "inside"
             }
            },
            "type": "scattergl"
           }
          ],
          "scattermapbox": [
           {
            "marker": {
             "colorbar": {
              "outlinewidth": 0,
              "tickcolor": "rgb(237,237,237)",
              "ticklen": 6,
              "ticks": "inside"
             }
            },
            "type": "scattermapbox"
           }
          ],
          "scatterpolar": [
           {
            "marker": {
             "colorbar": {
              "outlinewidth": 0,
              "tickcolor": "rgb(237,237,237)",
              "ticklen": 6,
              "ticks": "inside"
             }
            },
            "type": "scatterpolar"
           }
          ],
          "scatterpolargl": [
           {
            "marker": {
             "colorbar": {
              "outlinewidth": 0,
              "tickcolor": "rgb(237,237,237)",
              "ticklen": 6,
              "ticks": "inside"
             }
            },
            "type": "scatterpolargl"
           }
          ],
          "scatterternary": [
           {
            "marker": {
             "colorbar": {
              "outlinewidth": 0,
              "tickcolor": "rgb(237,237,237)",
              "ticklen": 6,
              "ticks": "inside"
             }
            },
            "type": "scatterternary"
           }
          ],
          "surface": [
           {
            "colorbar": {
             "outlinewidth": 0,
             "tickcolor": "rgb(237,237,237)",
             "ticklen": 6,
             "ticks": "inside"
            },
            "colorscale": [
             [
              0,
              "rgb(20,44,66)"
             ],
             [
              1,
              "rgb(90,179,244)"
             ]
            ],
            "type": "surface"
           }
          ],
          "table": [
           {
            "cells": {
             "fill": {
              "color": "rgb(237,237,237)"
             },
             "line": {
              "color": "white"
             }
            },
            "header": {
             "fill": {
              "color": "rgb(217,217,217)"
             },
             "line": {
              "color": "white"
             }
            },
            "type": "table"
           }
          ]
         },
         "layout": {
          "annotationdefaults": {
           "arrowhead": 0,
           "arrowwidth": 1
          },
          "autotypenumbers": "strict",
          "coloraxis": {
           "colorbar": {
            "outlinewidth": 0,
            "tickcolor": "rgb(237,237,237)",
            "ticklen": 6,
            "ticks": "inside"
           }
          },
          "colorscale": {
           "sequential": [
            [
             0,
             "rgb(20,44,66)"
            ],
            [
             1,
             "rgb(90,179,244)"
            ]
           ],
           "sequentialminus": [
            [
             0,
             "rgb(20,44,66)"
            ],
            [
             1,
             "rgb(90,179,244)"
            ]
           ]
          },
          "colorway": [
           "#F8766D",
           "#A3A500",
           "#00BF7D",
           "#00B0F6",
           "#E76BF3"
          ],
          "font": {
           "color": "rgb(51,51,51)"
          },
          "geo": {
           "bgcolor": "white",
           "lakecolor": "white",
           "landcolor": "rgb(237,237,237)",
           "showlakes": true,
           "showland": true,
           "subunitcolor": "white"
          },
          "hoverlabel": {
           "align": "left"
          },
          "hovermode": "closest",
          "paper_bgcolor": "white",
          "plot_bgcolor": "rgb(237,237,237)",
          "polar": {
           "angularaxis": {
            "gridcolor": "white",
            "linecolor": "white",
            "showgrid": true,
            "tickcolor": "rgb(51,51,51)",
            "ticks": "outside"
           },
           "bgcolor": "rgb(237,237,237)",
           "radialaxis": {
            "gridcolor": "white",
            "linecolor": "white",
            "showgrid": true,
            "tickcolor": "rgb(51,51,51)",
            "ticks": "outside"
           }
          },
          "scene": {
           "xaxis": {
            "backgroundcolor": "rgb(237,237,237)",
            "gridcolor": "white",
            "gridwidth": 2,
            "linecolor": "white",
            "showbackground": true,
            "showgrid": true,
            "tickcolor": "rgb(51,51,51)",
            "ticks": "outside",
            "zerolinecolor": "white"
           },
           "yaxis": {
            "backgroundcolor": "rgb(237,237,237)",
            "gridcolor": "white",
            "gridwidth": 2,
            "linecolor": "white",
            "showbackground": true,
            "showgrid": true,
            "tickcolor": "rgb(51,51,51)",
            "ticks": "outside",
            "zerolinecolor": "white"
           },
           "zaxis": {
            "backgroundcolor": "rgb(237,237,237)",
            "gridcolor": "white",
            "gridwidth": 2,
            "linecolor": "white",
            "showbackground": true,
            "showgrid": true,
            "tickcolor": "rgb(51,51,51)",
            "ticks": "outside",
            "zerolinecolor": "white"
           }
          },
          "shapedefaults": {
           "fillcolor": "black",
           "line": {
            "width": 0
           },
           "opacity": 0.3
          },
          "ternary": {
           "aaxis": {
            "gridcolor": "white",
            "linecolor": "white",
            "showgrid": true,
            "tickcolor": "rgb(51,51,51)",
            "ticks": "outside"
           },
           "baxis": {
            "gridcolor": "white",
            "linecolor": "white",
            "showgrid": true,
            "tickcolor": "rgb(51,51,51)",
            "ticks": "outside"
           },
           "bgcolor": "rgb(237,237,237)",
           "caxis": {
            "gridcolor": "white",
            "linecolor": "white",
            "showgrid": true,
            "tickcolor": "rgb(51,51,51)",
            "ticks": "outside"
           }
          },
          "xaxis": {
           "automargin": true,
           "gridcolor": "white",
           "linecolor": "white",
           "showgrid": true,
           "tickcolor": "rgb(51,51,51)",
           "ticks": "outside",
           "title": {
            "standoff": 15
           },
           "zerolinecolor": "white"
          },
          "yaxis": {
           "automargin": true,
           "gridcolor": "white",
           "linecolor": "white",
           "showgrid": true,
           "tickcolor": "rgb(51,51,51)",
           "ticks": "outside",
           "title": {
            "standoff": 15
           },
           "zerolinecolor": "white"
          }
         }
        },
        "title": {
         "text": "Prediction Accuracy on ReE with 30.0% Error on F"
        }
       }
      }
     },
     "metadata": {},
     "output_type": "display_data"
    }
   ],
   "source": [
    "plotInteractive(0.3, 50, 'ReE')"
   ]
  }
 ],
 "metadata": {
  "interpreter": {
   "hash": "6e1bb2b41418f2207299778c60017006077670a001a3140fda363cd1a2aeb43a"
  },
  "kernelspec": {
   "display_name": "Python 3.10.2 ('.venv': venv)",
   "language": "python",
   "name": "python3"
  },
  "language_info": {
   "codemirror_mode": {
    "name": "ipython",
    "version": 3
   },
   "file_extension": ".py",
   "mimetype": "text/x-python",
   "name": "python",
   "nbconvert_exporter": "python",
   "pygments_lexer": "ipython3",
   "version": "3.10.2"
  },
  "orig_nbformat": 4
 },
 "nbformat": 4,
 "nbformat_minor": 2
}
