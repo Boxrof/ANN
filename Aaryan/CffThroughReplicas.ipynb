{
 "cells": [
  {
   "cell_type": "markdown",
   "metadata": {},
   "source": [
    "# ANN Local Fit"
   ]
  },
  {
   "cell_type": "markdown",
   "metadata": {},
   "source": [
    "Overview:\n",
    "\n",
    "1. Start with a specific set of kinematic variables.  \n",
    "2. Initialize a ANN with 4 Kins as input and 3 CFFs as output\n",
    "3. Pick random starting points for each parameter in ANN\n",
    "4. Input data to ANN (using current params) to produce Fs\n",
    "5. Compare resulting Fs to sampled Fs and compute mean squared error\n",
    "6. Update ANN params in a direction that reduces that mean squared error\n",
    "7. Repeat steps 3-5 until loss changes only very slightly"
   ]
  },
  {
   "cell_type": "markdown",
   "metadata": {},
   "source": [
    "The autoreloader enables you to make edits in imported files and those edits will become immediately available."
   ]
  },
  {
   "cell_type": "code",
   "execution_count": 19,
   "metadata": {},
   "outputs": [
    {
     "name": "stdout",
     "output_type": "stream",
     "text": [
      "The autoreload extension is already loaded. To reload it, use:\n",
      "  %reload_ext autoreload\n"
     ]
    }
   ],
   "source": [
    "%load_ext autoreload\n",
    "%autoreload 2"
   ]
  },
  {
   "cell_type": "code",
   "execution_count": 20,
   "metadata": {},
   "outputs": [],
   "source": [
    "import pandas as pd\n",
    "import numpy as np\n",
    "from tqdm.notebook import tqdm\n",
    "import tensorflow as tf\n",
    "\n",
    "from BHDVCStf import BHDVCS #modified bhdvcs file\n",
    "import utilities as uts #general utilities that are useful for all methods"
   ]
  },
  {
   "cell_type": "markdown",
   "metadata": {},
   "source": [
    "## General global variable definitions"
   ]
  },
  {
   "cell_type": "code",
   "execution_count": 56,
   "metadata": {},
   "outputs": [],
   "source": [
    "bhdvcs = BHDVCS()\n",
    "df = pd.read_csv(\"dvcs_xs_newsets_genCFFs.csv\")\n",
    "data = uts.DvcsData(df)\n",
    "\n",
    "numSets = 10\n",
    "numReplicas = 150"
   ]
  },
  {
   "cell_type": "markdown",
   "metadata": {},
   "source": [
    "## Define and compile model"
   ]
  },
  {
   "cell_type": "markdown",
   "metadata": {},
   "source": [
    "This makes use of the tensorflow [functional api](https://www.tensorflow.org/guide/keras/functional)"
   ]
  },
  {
   "cell_type": "code",
   "execution_count": 57,
   "metadata": {},
   "outputs": [],
   "source": [
    "kinematics = tf.keras.Input(shape=(4))\n",
    "x = tf.keras.layers.Dense(20, activation=\"tanh\")(kinematics)\n",
    "outputs = tf.keras.layers.Dense(3)(x) #three output nodes for ReH\n",
    "\n",
    "noncffInputs = tf.keras.Input(shape=(8))\n",
    "totalUUXSInputs = tf.keras.layers.concatenate([noncffInputs, outputs])\n",
    "F = uts.TotalUUXSlayer()(totalUUXSInputs) # incorporate cross-sectional function\n",
    "\n",
    "globalModel = tf.keras.Model(inputs=[kinematics, noncffInputs], outputs=F, name=\"GlobalModel\")"
   ]
  },
  {
   "cell_type": "code",
   "execution_count": 58,
   "metadata": {},
   "outputs": [],
   "source": [
    "globalModel.compile(\n",
    "    optimizer = tf.keras.optimizers.Adam(.02),\n",
    "    loss = tf.keras.losses.MeanSquaredError(),\n",
    ")"
   ]
  },
  {
   "cell_type": "code",
   "execution_count": 59,
   "metadata": {},
   "outputs": [],
   "source": [
    "Wsave = globalModel.get_weights()"
   ]
  },
  {
   "cell_type": "markdown",
   "metadata": {},
   "source": [
    "## Produce CFFdists"
   ]
  },
  {
   "cell_type": "code",
   "execution_count": 60,
   "metadata": {},
   "outputs": [
    {
     "name": "stdout",
     "output_type": "stream",
     "text": [
      "[[-2.19056606e-01  4.86819506e-01 -3.91543031e-01  2.25011945e-01\n",
      "   3.02250743e-01  4.15110707e-01  4.44607377e-01  3.62591743e-01\n",
      "  -3.85659933e-02 -3.30186367e-01 -7.44441748e-02 -1.33776665e-03\n",
      "  -1.76980138e-01  1.07718945e-01  1.09822392e-01 -1.73226714e-01\n",
      "  -2.34217167e-01 -4.31649089e-01  3.88080001e-01 -3.64370346e-01]\n",
      " [ 4.59690094e-01  1.78185463e-01 -4.91125226e-01 -1.81590438e-01\n",
      "   1.97172165e-04  3.09399366e-02 -1.96607232e-01 -1.22105837e-01\n",
      "  -1.47310257e-01  3.59198570e-01 -3.35699916e-01  2.22429752e-01\n",
      "   3.97728562e-01 -9.42821503e-02  5.19217253e-02 -1.38239026e-01\n",
      "   2.39214182e-01  2.97795892e-01 -2.52941966e-01 -4.70985889e-01]\n",
      " [-1.17144942e-01 -8.80941153e-02 -4.08596754e-01 -4.09363627e-01\n",
      "   3.38034749e-01 -1.02300406e-01 -9.75699425e-02  1.90731049e-01\n",
      "  -3.49319339e-01 -3.14313054e-01  5.10491133e-02 -1.32973313e-01\n",
      "  -3.79475236e-01 -4.53175068e-01 -1.81501150e-01  5.42218685e-02\n",
      "  -3.02804112e-01 -1.08046412e-01 -2.95794010e-02  1.05550766e-01]\n",
      " [ 5.82134724e-02  4.34985995e-01 -4.71130371e-01  3.19496870e-01\n",
      "   4.72124696e-01 -3.16069961e-01  3.09611320e-01 -2.27981567e-01\n",
      "  -1.16613388e-01  3.34462285e-01 -4.37029004e-01  7.39717484e-02\n",
      "   4.99430060e-01 -1.31433129e-01  1.02242351e-01  1.68017149e-02\n",
      "   2.73716450e-01 -8.72215033e-02  3.27029109e-01 -3.31056476e-01]]\n"
     ]
    }
   ],
   "source": [
    "print(Wsave[0])"
   ]
  },
  {
   "cell_type": "code",
   "execution_count": 61,
   "metadata": {},
   "outputs": [],
   "source": [
    "def produceCFFs(numReplicas, data, Wsave):\n",
    "    '''\n",
    "    :param numSamples: number of replicas to produce\n",
    "    :param data: whole DvcsData\n",
    "    :param Wsave: saved weights\n",
    "    \n",
    "    :returns: numpy array of shape (numSets, numReplicas, 3)\n",
    "    '''\n",
    "\n",
    "    by_sample = []\n",
    "\n",
    "    #for i in tqdm(range(max(data.df['#Set'])+1)):\n",
    "        \n",
    "    globalModel.set_weights(Wsave) # reset weights to original value\n",
    "\n",
    "    setI = data.getSet(1) #DvcsData object containing specific set\n",
    "\n",
    "    by_set = []\n",
    "\n",
    "    for sample in tqdm(range(numReplicas)):\n",
    "        \n",
    "        #this callback enables us to roll the network back to its minimum loss during training\n",
    "        chkpt_path = 'networks/best-' + str(sample) + '.hdf5'\n",
    "        model_checkpoint_callback = tf.keras.callbacks.ModelCheckpoint(\n",
    "            filepath=chkpt_path,\n",
    "            save_weights_only=True,\n",
    "            monitor='loss',\n",
    "            mode='min',\n",
    "            save_best_only=True)\n",
    "\n",
    "\n",
    "        globalModel.fit([setI.Kinematics, setI.XnoCFF], setI.sampleY(), # the sample Y will generate Fs\n",
    "                    epochs=1000, verbose=0,\n",
    "                    callbacks=[model_checkpoint_callback])\n",
    "\n",
    "        globalModel.load_weights(chkpt_path) # load back minimum loss epoch\n",
    "\n",
    "        cffs = uts.cffs_from_globalModel(globalModel, setI.Kinematics, len(globalModel.layers) - 5) # get cffs from middle model\n",
    "\n",
    "        by_set.append(cffs)\n",
    "\n",
    "        by_sample.append(by_set)\n",
    "        \n",
    "    return np.array(by_sample)"
   ]
  },
  {
   "cell_type": "markdown",
   "metadata": {},
   "source": [
    "This took about 2 hours to run"
   ]
  },
  {
   "cell_type": "code",
   "execution_count": 62,
   "metadata": {
    "scrolled": true
   },
   "outputs": [
    {
     "data": {
      "application/vnd.jupyter.widget-view+json": {
       "model_id": "02081cd169b241bfab9353a2947854ee",
       "version_major": 2,
       "version_minor": 0
      },
      "text/plain": [
       "  0%|          | 0/150 [00:00<?, ?it/s]"
      ]
     },
     "metadata": {},
     "output_type": "display_data"
    }
   ],
   "source": [
    "results = produceCFFs(numReplicas, data, Wsave)"
   ]
  },
  {
   "cell_type": "code",
   "execution_count": 69,
   "metadata": {},
   "outputs": [
    {
     "data": {
      "image/png": "[encoded data removed]",
      "text/plain": [
       "<Figure size 432x288 with 1 Axes>"
      ]
     },
     "metadata": {
      "needs_background": "light"
     },
     "output_type": "display_data"
    }
   ],
   "source": [
    "# actualValues: [13.0554, -53.0554, 7.25302]\n",
    "uts.plot_cff_distribution(results, 0, numReplicas)"
   ]
  },
  {
   "cell_type": "code",
   "execution_count": 64,
   "metadata": {},
   "outputs": [
    {
     "name": "stdout",
     "output_type": "stream",
     "text": [
      "[[13.0554     8.4049778]]\n",
      "[[13.0554      9.40961075]]\n",
      "2.7792575\n",
      "10.381831\n"
     ]
    }
   ],
   "source": [
    "#Gets average of ALL predictions of replicas\n",
    "y_yhat, err = uts.y_yhat_errCFFs(data, results, 0)\n",
    "print(y_yhat)\n",
    "\n",
    "#Calculates average after half the replicas \n",
    "y_yhat, err = uts.y_yhat_errCFFsNew(data, results, 0, numReplicas)\n",
    "print(y_yhat)\n",
    "\n",
    "#First Item\n",
    "print(results[0][0][0])\n",
    "#Last Item\n",
    "print(results[0][-1][0])"
   ]
  },
  {
   "cell_type": "code",
   "execution_count": 65,
   "metadata": {},
   "outputs": [
    {
     "name": "stdout",
     "output_type": "stream",
     "text": [
      "[[-53.0554     -30.35208702]]\n",
      "[[-53.0554     -35.81052399]]\n",
      "0.08846604\n",
      "-41.589775\n"
     ]
    }
   ],
   "source": [
    "#Gets average of ALL predictions of replicas\n",
    "y_yhat, err = uts.y_yhat_errCFFs(data, results, 1)\n",
    "print(y_yhat)\n",
    "\n",
    "#Calculates average after half the replicas \n",
    "y_yhat, err = uts.y_yhat_errCFFsNew(data, results, 1, numReplicas)\n",
    "print(y_yhat)\n",
    "\n",
    "#First Item\n",
    "print(results[0][0][1])\n",
    "#Last Item\n",
    "print(results[0][-1][1])"
   ]
  },
  {
   "cell_type": "code",
   "execution_count": 66,
   "metadata": {},
   "outputs": [
    {
     "name": "stdout",
     "output_type": "stream",
     "text": [
      "[[7.25302   9.1271801]]\n",
      "[[7.25302    8.83864307]]\n",
      "10.88672\n",
      "10.070565\n"
     ]
    }
   ],
   "source": [
    "#Gets average of ALL predictions of replicas\n",
    "y_yhat, err = uts.y_yhat_errCFFs(data, results, 2)\n",
    "print(y_yhat)\n",
    "\n",
    "#Calculates average after half the replicas \n",
    "y_yhat, err = uts.y_yhat_errCFFsNew(data, results, 2, numReplicas)\n",
    "print(y_yhat)\n",
    "\n",
    "\n",
    "#First Item\n",
    "print(results[0][0][2])\n",
    "#Last Item\n",
    "print(results[0][-1][2])\n",
    "\n"
   ]
  }
 ],
 "metadata": {
  "interpreter": {
   "hash": "33cd277d572d6d49982fc2620159b263be6b049a3d966793c9617dbd95a25049"
  },
  "kernelspec": {
   "display_name": "Python 3.9.2 64-bit",
   "name": "python3"
  },
  "language_info": {
   "codemirror_mode": {
    "name": "ipython",
    "version": 3
   },
   "file_extension": ".py",
   "mimetype": "text/x-python",
   "name": "python",
   "nbconvert_exporter": "python",
   "pygments_lexer": "ipython3",
   "version": "3.9.2"
  }
 },
 "nbformat": 4,
 "nbformat_minor": 2
}
