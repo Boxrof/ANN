{
 "cells": [
  {
   "cell_type": "markdown",
   "metadata": {},
   "source": [
    "# ANN Local Fit"
   ]
  },
  {
   "cell_type": "markdown",
   "metadata": {},
   "source": [
    "Overview:\n",
    "\n",
    "1. Start with a specific set of kinematic variables.  \n",
    "2. Initialize a ANN with 4 Kins as input and 3 CFFs as output\n",
    "3. Pick random starting points for each parameter in ANN\n",
    "4. Input data to ANN (using current params) to produce Fs\n",
    "5. Compare resulting Fs to sampled Fs and compute mean squared error\n",
    "6. Update ANN params in a direction that reduces that mean squared error\n",
    "7. Repeat steps 3-5 until loss changes only very slightly"
   ]
  },
  {
   "cell_type": "markdown",
   "metadata": {},
   "source": [
    "The autoreloader enables you to make edits in imported files and those edits will become immediately available."
   ]
  },
  {
   "cell_type": "code",
   "execution_count": 1,
   "metadata": {},
   "outputs": [],
   "source": [
    "%load_ext autoreload\n",
    "%autoreload 2"
   ]
  },
  {
   "cell_type": "code",
   "execution_count": 2,
   "metadata": {},
   "outputs": [],
   "source": [
    "import pandas as pd\n",
    "import numpy as np\n",
    "from tqdm.notebook import tqdm\n",
    "import tensorflow as tf\n",
    "\n",
    "from BHDVCStf import BHDVCS #modified bhdvcs file\n",
    "import utilities as uts #general utilities that are useful for all methods"
   ]
  },
  {
   "cell_type": "markdown",
   "metadata": {},
   "source": [
    "## General global variable definitions"
   ]
  },
  {
   "cell_type": "code",
   "execution_count": 3,
   "metadata": {},
   "outputs": [],
   "source": [
    "bhdvcs = BHDVCS()\n",
    "df = pd.read_csv(\"dvcs_xs_newsets_genCFFs.csv\")\n",
    "data = uts.DvcsData(df)\n",
    "\n",
    "numSets = 15\n",
    "numReplicas = 30"
   ]
  },
  {
   "cell_type": "markdown",
   "metadata": {},
   "source": [
    "## Define and compile model"
   ]
  },
  {
   "cell_type": "markdown",
   "metadata": {},
   "source": [
    "This makes use of the tensorflow [functional api](https://www.tensorflow.org/guide/keras/functional)"
   ]
  },
  {
   "cell_type": "code",
   "execution_count": 4,
   "metadata": {},
   "outputs": [],
   "source": [
    "kinematics = tf.keras.Input(shape=(4))\n",
    "x = tf.keras.layers.Dense(20, activation=\"tanh\")(kinematics)\n",
    "outputs = tf.keras.layers.Dense(3)(x) #three output nodes for ReH, ReE, ReHtilde\n",
    "noncffInputs = tf.keras.Input(shape=(8))\n",
    "totalUUXSInputs = tf.keras.layers.concatenate([noncffInputs, outputs])\n",
    "I = uts.TotalUUXSlayer()(totalUUXSInputs) # incorporate interference values for loss\n",
    "\n",
    "globalModel = tf.keras.Model(inputs=[kinematics, noncffInputs], outputs=I, name=\"GlobalModel\")"
   ]
  },
  {
   "cell_type": "code",
   "execution_count": 5,
   "metadata": {},
   "outputs": [],
   "source": [
    "globalModel.compile(\n",
    "    optimizer = tf.keras.optimizers.Adam(.02),\n",
    "    loss = tf.keras.losses.MeanAbsolutePercentageError()\n",
    ")"
   ]
  },
  {
   "cell_type": "code",
   "execution_count": 6,
   "metadata": {},
   "outputs": [],
   "source": [
    "Wsave = globalModel.get_weights()"
   ]
  },
  {
   "cell_type": "markdown",
   "metadata": {},
   "source": [
    "## Produce CFFdists"
   ]
  },
  {
   "cell_type": "code",
   "execution_count": 7,
   "metadata": {},
   "outputs": [
    {
     "name": "stdout",
     "output_type": "stream",
     "text": [
      "[[ 0.3990804   0.06265926 -0.12261307 -0.3636397  -0.09114015 -0.0988785\n",
      "   0.4219333  -0.25289845 -0.480636   -0.29644895  0.48488355  0.33276725\n",
      "   0.1094557   0.20544207  0.43814206 -0.32954967  0.37928784 -0.3550477\n",
      "   0.13863957  0.39558566]\n",
      " [-0.00554216  0.34550798 -0.16715086 -0.43529212  0.18731892  0.12721491\n",
      "  -0.49474525 -0.10636973 -0.22660375  0.28819215 -0.17356253  0.01307833\n",
      "   0.14298844  0.0269295   0.24120367  0.4722606  -0.33792436  0.08945942\n",
      "   0.346825   -0.05659211]\n",
      " [ 0.25515234 -0.0931921   0.44227374  0.43809617 -0.45894468  0.4963838\n",
      "  -0.1481936   0.48925555 -0.36835837 -0.13518596 -0.01003408 -0.21085393\n",
      "  -0.40027976 -0.34350848  0.33117855 -0.48715055 -0.02146971  0.30035877\n",
      "  -0.0448916   0.41692328]\n",
      " [-0.44588923  0.2996515   0.47034538 -0.08976793  0.4690312  -0.339975\n",
      "  -0.09570849 -0.3818909  -0.48822415 -0.30564642  0.493111   -0.04406536\n",
      "   0.29526865 -0.43380928  0.10119212 -0.03357828 -0.26416636 -0.24758673\n",
      "   0.35372353 -0.4356153 ]]\n"
     ]
    }
   ],
   "source": [
    "print(Wsave[0])"
   ]
  },
  {
   "cell_type": "code",
   "execution_count": 8,
   "metadata": {},
   "outputs": [],
   "source": [
    "import os\n",
    "\n",
    "def produceCFFs(numReplicas, data, Wsave):\n",
    "    '''\n",
    "    :param numSamples: number of replicas to produce\n",
    "    :param data: whole DvcsData\n",
    "    :param Wsave: saved weights\n",
    "    \n",
    "    :returns: numpy array of shape (numSets, numReplicas, 3)\n",
    "    '''\n",
    "\n",
    "    by_sample = []\n",
    "\n",
    "    for i in tqdm(range(max(data.df['#Set'])+1)):\n",
    "\n",
    "        globalModel.set_weights(Wsave) # reset weights to original value\n",
    "\n",
    "        setI = data.getSet(i) #DvcsData object containing specific set\n",
    "\n",
    "        by_set = []\n",
    "\n",
    "        for sample in range(numReplicas):\n",
    "            \n",
    "            #this callback enables us to roll the network back to its minimum loss during training\n",
    "            chkpt_path = 'networks/best-' + str(sample) + '.hdf5'\n",
    "            \n",
    "            model_checkpoint_callback = tf.keras.callbacks.ModelCheckpoint(\n",
    "                filepath=chkpt_path,\n",
    "                save_weights_only=True,\n",
    "                monitor='loss',\n",
    "                mode='min',\n",
    "                save_best_only=True)\n",
    "\n",
    "            globalModel.fit([setI.Kinematics, setI.XnoCFF], setI.sampleYforInterference(), # Y: true interference term \n",
    "                        epochs=2500, verbose=0,\n",
    "                        callbacks=[model_checkpoint_callback])\n",
    "\n",
    "            globalModel.load_weights(chkpt_path) # load back minimum loss epoch\n",
    "\n",
    "            if os.path.exists(chkpt_path):\n",
    "                os.remove(chkpt_path)\n",
    "\n",
    "            cffs = uts.cffs_from_globalModel(globalModel, setI.Kinematics) # get cffs from middle model\n",
    "\n",
    "            by_set.append(cffs)\n",
    "\n",
    "        by_sample.append(by_set)\n",
    "        \n",
    "    return np.array(by_sample)"
   ]
  },
  {
   "cell_type": "markdown",
   "metadata": {},
   "source": [
    "This took about 2 hours to run"
   ]
  },
  {
   "cell_type": "code",
   "execution_count": 9,
   "metadata": {
    "scrolled": true
   },
   "outputs": [
    {
     "data": {
      "application/vnd.jupyter.widget-view+json": {
       "model_id": "08553b56a10748a4b339f4e18ce11cab",
       "version_major": 2,
       "version_minor": 0
      },
      "text/plain": [
       "  0%|          | 0/15 [00:00<?, ?it/s]"
      ]
     },
     "metadata": {},
     "output_type": "display_data"
    }
   ],
   "source": [
    "results = produceCFFs(numReplicas, data, Wsave)"
   ]
  },
  {
   "cell_type": "markdown",
   "metadata": {},
   "source": [
    "# ReH"
   ]
  },
  {
   "cell_type": "code",
   "execution_count": 10,
   "metadata": {},
   "outputs": [],
   "source": [
    "y_yhat, err = uts.y_yhat_errCFFs(data, results, 0)"
   ]
  },
  {
   "cell_type": "code",
   "execution_count": 11,
   "metadata": {},
   "outputs": [
    {
     "name": "stdout",
     "output_type": "stream",
     "text": [
      "Mean percent error:  163.40993199955128\n",
      "RMSE:  7.206406558497151\n",
      "RMSE w yhat=mean:  2.5254628436780098\n",
      "R-squared:  -7.142458485340633\n"
     ]
    },
    {
     "data": {
      "image/png": "[encoded data removed]",
      "text/plain": [
       "<Figure size 432x288 with 1 Axes>"
      ]
     },
     "metadata": {
      "needs_background": "light"
     },
     "output_type": "display_data"
    }
   ],
   "source": [
    "uts.evaluate(y_yhat)"
   ]
  },
  {
   "cell_type": "code",
   "execution_count": 12,
   "metadata": {},
   "outputs": [
    {
     "data": {
      "image/png": "[encoded data removed]",
      "text/plain": [
       "<Figure size 432x288 with 1 Axes>"
      ]
     },
     "metadata": {
      "needs_background": "light"
     },
     "output_type": "display_data"
    }
   ],
   "source": [
    "uts.plotError(y_yhat, err, \"ReH\")"
   ]
  },
  {
   "cell_type": "markdown",
   "metadata": {},
   "source": [
    "# ReE"
   ]
  },
  {
   "cell_type": "code",
   "execution_count": 13,
   "metadata": {},
   "outputs": [],
   "source": [
    "y_yhat, err = uts.y_yhat_errCFFs(data, results, 1)"
   ]
  },
  {
   "cell_type": "code",
   "execution_count": 14,
   "metadata": {},
   "outputs": [
    {
     "name": "stdout",
     "output_type": "stream",
     "text": [
      "Mean percent error:  145.53565347496897\n",
      "RMSE:  41.41864800034098\n",
      "RMSE w yhat=mean:  2.525480507907797\n",
      "R-squared:  -267.96997031285423\n"
     ]
    },
    {
     "data": {
      "image/png": "[encoded data removed]",
      "text/plain": [
       "<Figure size 432x288 with 1 Axes>"
      ]
     },
     "metadata": {
      "needs_background": "light"
     },
     "output_type": "display_data"
    }
   ],
   "source": [
    "uts.evaluate(y_yhat)"
   ]
  },
  {
   "cell_type": "code",
   "execution_count": 15,
   "metadata": {},
   "outputs": [
    {
     "data": {
      "image/png": "[encoded data removed]",
      "text/plain": [
       "<Figure size 432x288 with 1 Axes>"
      ]
     },
     "metadata": {
      "needs_background": "light"
     },
     "output_type": "display_data"
    }
   ],
   "source": [
    "uts.plotError(y_yhat, err, \"ReE\")"
   ]
  },
  {
   "cell_type": "markdown",
   "metadata": {},
   "source": [
    "# ReHtilde"
   ]
  },
  {
   "cell_type": "code",
   "execution_count": 16,
   "metadata": {
    "scrolled": true
   },
   "outputs": [
    {
     "name": "stdout",
     "output_type": "stream",
     "text": [
      "Mean percent error:  244.9070156715731\n",
      "RMSE:  3.713991297536085\n",
      "RMSE w yhat=mean:  1.4030345621243818\n",
      "R-squared:  -6.007208248636741\n"
     ]
    },
    {
     "data": {
      "image/png": "[encoded data removed]",
      "text/plain": [
       "<Figure size 432x288 with 1 Axes>"
      ]
     },
     "metadata": {
      "needs_background": "light"
     },
     "output_type": "display_data"
    }
   ],
   "source": [
    "y_yhat, err = uts.y_yhat_errCFFs(data, results, 2)\n",
    "uts.evaluate(y_yhat)"
   ]
  },
  {
   "cell_type": "code",
   "execution_count": 17,
   "metadata": {
    "scrolled": true
   },
   "outputs": [
    {
     "data": {
      "image/png": "[encoded data removed]",
      "text/plain": [
       "<Figure size 432x288 with 1 Axes>"
      ]
     },
     "metadata": {
      "needs_background": "light"
     },
     "output_type": "display_data"
    }
   ],
   "source": [
    "uts.plotError(y_yhat, err, \"ReHtilde\")"
   ]
  },
  {
   "cell_type": "markdown",
   "metadata": {},
   "source": [
    "# Propagated Fs at 180"
   ]
  },
  {
   "cell_type": "code",
   "execution_count": 18,
   "metadata": {
    "scrolled": true
   },
   "outputs": [
    {
     "name": "stdout",
     "output_type": "stream",
     "text": [
      "Mean percent error:  5.062707319588625\n",
      "RMSE:  0.0034303815488360727\n",
      "RMSE w yhat=mean:  0.015855649879790133\n",
      "R-squared:  0.9531923582794578\n"
     ]
    },
    {
     "data": {
      "image/png": "[encoded data removed]",
      "text/plain": [
       "<Figure size 432x288 with 1 Axes>"
      ]
     },
     "metadata": {
      "needs_background": "light"
     },
     "output_type": "display_data"
    }
   ],
   "source": [
    "y_yhat, err = uts.y_yhat_errFs(results, data)\n",
    "uts.evaluate(y_yhat)"
   ]
  },
  {
   "cell_type": "code",
   "execution_count": 19,
   "metadata": {},
   "outputs": [
    {
     "data": {
      "image/png": "[encoded data removed]",
      "text/plain": [
       "<Figure size 432x288 with 1 Axes>"
      ]
     },
     "metadata": {
      "needs_background": "light"
     },
     "output_type": "display_data"
    }
   ],
   "source": [
    "uts.plotError(y_yhat, err, \"Interference\")"
   ]
  }
 ],
 "metadata": {
  "interpreter": {
   "hash": "33cd277d572d6d49982fc2620159b263be6b049a3d966793c9617dbd95a25049"
  },
  "kernelspec": {
   "display_name": "Python 3.9.2 64-bit",
   "name": "python3"
  },
  "language_info": {
   "codemirror_mode": {
    "name": "ipython",
    "version": 3
   },
   "file_extension": ".py",
   "mimetype": "text/x-python",
   "name": "python",
   "nbconvert_exporter": "python",
   "pygments_lexer": "ipython3",
   "version": "3.9.2"
  }
 },
 "nbformat": 4,
 "nbformat_minor": 4
}
