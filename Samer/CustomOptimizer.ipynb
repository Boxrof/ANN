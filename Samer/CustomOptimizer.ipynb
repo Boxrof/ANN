{
 "cells": [
  {
   "cell_type": "code",
   "execution_count": 1,
   "source": [
    "# Python ≥3.5 is required\n",
    "import sys\n",
    "assert sys.version_info >= (3, 5)\n",
    "\n",
    "# Scikit-Learn ≥0.20 is required\n",
    "import sklearn\n",
    "assert sklearn.__version__ >= \"0.20\"\n",
    "\n",
    "try:\n",
    "    # %tensorflow_version only exists in Colab.\n",
    "    %tensorflow_version 2.x\n",
    "except Exception:\n",
    "    pass\n",
    "\n",
    "# TensorFlow ≥2.0 is required\n",
    "import tensorflow as tf\n",
    "from tensorflow import keras\n",
    "assert tf.__version__ >= \"2.0\"\n",
    "\n",
    "# Common imports\n",
    "import numpy as np\n",
    "import os\n",
    "\n",
    "# to make this notebook's output stable across runs\n",
    "np.random.seed(42)\n",
    "tf.random.set_seed(42)\n",
    "\n",
    "# To plot pretty figures\n",
    "%matplotlib inline\n",
    "import matplotlib as mpl\n",
    "import matplotlib.pyplot as plt\n",
    "mpl.rc('axes', labelsize=14)\n",
    "mpl.rc('xtick', labelsize=12)\n",
    "mpl.rc('ytick', labelsize=12)"
   ],
   "outputs": [],
   "metadata": {}
  },
  {
   "cell_type": "code",
   "execution_count": 3,
   "source": [
    "from sklearn.datasets import fetch_california_housing\n",
    "from sklearn.model_selection import train_test_split\n",
    "from sklearn.preprocessing import StandardScaler\n",
    "\n",
    "housing = fetch_california_housing()\n",
    "X_train_full, X_test, y_train_full, y_test = train_test_split(\n",
    "    housing.data, housing.target.reshape(-1, 1), random_state=42)\n",
    "X_train, X_valid, y_train, y_valid = train_test_split(\n",
    "    X_train_full, y_train_full, random_state=42)\n",
    "\n",
    "scaler = StandardScaler()\n",
    "X_train_scaled = scaler.fit_transform(X_train)\n",
    "X_valid_scaled = scaler.transform(X_valid)\n",
    "X_test_scaled = scaler.transform(X_test)"
   ],
   "outputs": [],
   "metadata": {}
  },
  {
   "cell_type": "code",
   "execution_count": 4,
   "source": [
    "X_new_scaled = X_test_scaled"
   ],
   "outputs": [],
   "metadata": {}
  },
  {
   "cell_type": "code",
   "execution_count": 5,
   "source": [
    "class MySGDOptimizer(keras.optimizers.Optimizer):\n",
    "    def __init__(self, learning_rate=0.001, momentum=0.9, name=\"MySGDOptimizer\", **kwargs):\n",
    "        \"\"\"Call super().__init__() and use _set_hyper() to store hyperparameters\"\"\"\n",
    "        super().__init__(name, **kwargs)\n",
    "        self._set_hyper(\"learning_rate\", kwargs.get(\"lr\", learning_rate)) # handle lr=learning_rate\n",
    "        self._set_hyper(\"decay\", self._initial_decay) # \n",
    "        self._set_hyper(\"momentum\", momentum)\n",
    "    \n",
    "    def _create_slots(self, var_list):\n",
    "        \"\"\"For each model variable, create the optimizer variable associated with it.\n",
    "        TensorFlow calls these optimizer variables \"slots\".\n",
    "        For momentum optimization, we need one momentum slot per model variable.\n",
    "        \"\"\"\n",
    "        for var in var_list:\n",
    "            self.add_slot(var, \"momentum\")\n",
    "\n",
    "    @tf.function\n",
    "    def _resource_apply_dense(self, grad, var):\n",
    "        \"\"\"Update the slots and perform one optimization step for one model variable\n",
    "        \"\"\"\n",
    "        var_dtype = var.dtype.base_dtype\n",
    "        lr_t = self._decayed_lr(var_dtype) # handle learning rate decay\n",
    "#         momentum_var = self.get_slot(var, \"momentum\")\n",
    "#         momentum_hyper = self._get_hyper(\"momentum\", var_dtype)\n",
    "#         momentum_var.assign(momentum_var * momentum_hyper - (1. - momentum_hyper)* grad)\n",
    "        var.assign_sub(grad * lr_t)\n",
    "\n",
    "    def _resource_apply_sparse(self, grad, var):\n",
    "        raise NotImplementedError\n",
    "\n",
    "    def get_config(self):\n",
    "        base_config = super().get_config()\n",
    "        return {\n",
    "            **base_config,\n",
    "            \"learning_rate\": self._serialize_hyperparameter(\"learning_rate\"),\n",
    "            \"decay\": self._serialize_hyperparameter(\"decay\"),\n",
    "            \"momentum\": self._serialize_hyperparameter(\"momentum\"),\n",
    "        }"
   ],
   "outputs": [],
   "metadata": {}
  },
  {
   "cell_type": "code",
   "execution_count": 6,
   "source": [
    "keras.backend.clear_session()\n",
    "np.random.seed(42)\n",
    "tf.random.set_seed(42)"
   ],
   "outputs": [],
   "metadata": {}
  },
  {
   "cell_type": "code",
   "execution_count": 7,
   "source": [
    "model = keras.models.Sequential([keras.layers.Dense(1, input_shape=[8])])\n",
    "model.compile(loss=\"mse\", optimizer=MySGDOptimizer(learning_rate=0.001))\n",
    "model.fit(X_train_scaled, y_train, epochs=20)"
   ],
   "outputs": [
    {
     "output_type": "stream",
     "name": "stderr",
     "text": [
      "2021-08-23 01:35:00.314081: I tensorflow/core/platform/cpu_feature_guard.cc:142] This TensorFlow binary is optimized with oneAPI Deep Neural Network Library (oneDNN) to use the following CPU instructions in performance-critical operations:  AVX2 FMA\n",
      "To enable them in other operations, rebuild TensorFlow with the appropriate compiler flags.\n",
      "2021-08-23 01:35:02.147425: I tensorflow/compiler/mlir/mlir_graph_optimization_pass.cc:185] None of the MLIR Optimization Passes are enabled (registered 2)\n"
     ]
    },
    {
     "output_type": "stream",
     "name": "stdout",
     "text": [
      "Epoch 1/20\n",
      "363/363 [==============================] - 1s 439us/step - loss: 3.7378\n",
      "Epoch 2/20\n",
      "363/363 [==============================] - 0s 522us/step - loss: 1.4864\n",
      "Epoch 3/20\n",
      "363/363 [==============================] - 0s 550us/step - loss: 0.9196\n",
      "Epoch 4/20\n",
      "363/363 [==============================] - 0s 779us/step - loss: 0.7603\n",
      "Epoch 5/20\n",
      "363/363 [==============================] - 0s 685us/step - loss: 0.7058\n",
      "Epoch 6/20\n",
      "363/363 [==============================] - 0s 628us/step - loss: 0.6775\n",
      "Epoch 7/20\n",
      "363/363 [==============================] - 0s 650us/step - loss: 0.6608\n",
      "Epoch 8/20\n",
      "363/363 [==============================] - 0s 523us/step - loss: 0.6483\n",
      "Epoch 9/20\n",
      "363/363 [==============================] - 0s 519us/step - loss: 0.6354\n",
      "Epoch 10/20\n",
      "363/363 [==============================] - 0s 518us/step - loss: 0.6241\n",
      "Epoch 11/20\n",
      "363/363 [==============================] - 0s 558us/step - loss: 0.6166\n",
      "Epoch 12/20\n",
      "363/363 [==============================] - 0s 700us/step - loss: 0.6061\n",
      "Epoch 13/20\n",
      "363/363 [==============================] - 0s 604us/step - loss: 0.6007\n",
      "Epoch 14/20\n",
      "363/363 [==============================] - 0s 572us/step - loss: 0.5940\n",
      "Epoch 15/20\n",
      "363/363 [==============================] - 0s 593us/step - loss: 0.5877\n",
      "Epoch 16/20\n",
      "363/363 [==============================] - 0s 571us/step - loss: 0.5819\n",
      "Epoch 17/20\n",
      "363/363 [==============================] - 0s 729us/step - loss: 0.5768\n",
      "Epoch 18/20\n",
      "363/363 [==============================] - 0s 752us/step - loss: 0.5728\n",
      "Epoch 19/20\n",
      "363/363 [==============================] - 0s 525us/step - loss: 0.5681\n",
      "Epoch 20/20\n",
      "363/363 [==============================] - 0s 450us/step - loss: 0.5641\n"
     ]
    },
    {
     "output_type": "execute_result",
     "data": {
      "text/plain": [
       "<keras.callbacks.History at 0x7f9eed1bb280>"
      ]
     },
     "metadata": {},
     "execution_count": 7
    }
   ],
   "metadata": {}
  },
  {
   "cell_type": "code",
   "execution_count": 10,
   "source": [
    "class SGOptimizer(keras.optimizers.Optimizer):\n",
    "    def __init__(self, learning_rate=0.01, name=\"SGOptimizer\", **kwargs):\n",
    "        \"\"\"Call super().__init__() and use _set_hyper() to store hyperparameters\"\"\"\n",
    "        super().__init__(name, **kwargs)\n",
    "        self._set_hyper(\"learning_rate\", kwargs.get(\"lr\", learning_rate)) # handle lr=learning_rate\n",
    "        self._is_first = True\n",
    "    \n",
    "    def _create_slots(self, var_list):\n",
    "        \"\"\"For each model variable, create the optimizer variable associated with it.\n",
    "        TensorFlow calls these optimizer variables \"slots\".\n",
    "        For momentum optimization, we need one momentum slot per model variable.\n",
    "        \"\"\"\n",
    "        for var in var_list:\n",
    "            self.add_slot(var, \"pv\") #previous variable i.e. weight or bias\n",
    "        for var in var_list:\n",
    "            self.add_slot(var, \"pg\") #previous gradient\n",
    "\n",
    "\n",
    "    @tf.function\n",
    "    def _resource_apply_dense(self, grad, var):\n",
    "        \"\"\"Update the slots and perform one optimization step for one model variable\n",
    "        \"\"\"\n",
    "        var_dtype = var.dtype.base_dtype\n",
    "        lr_t = self._decayed_lr(var_dtype) # handle learning rate decay\n",
    "        new_var_m = var - grad * lr_t\n",
    "        pv_var = self.get_slot(var, \"pv\")\n",
    "        pg_var = self.get_slot(var, \"pg\")\n",
    "        \n",
    "        if self._is_first:\n",
    "            self._is_first = False\n",
    "            new_var = new_var_m\n",
    "        else:\n",
    "            cond = grad*pg_var >= 0\n",
    "            print(cond)\n",
    "            avg_weights = (pv_var + var)/2.0\n",
    "            new_var = tf.where(cond, new_var_m, avg_weights)\n",
    "        pv_var.assign(var)\n",
    "        pg_var.assign(grad)\n",
    "        var.assign(new_var)\n",
    "\n",
    "    def _resource_apply_sparse(self, grad, var):\n",
    "        raise NotImplementedError\n",
    "\n",
    "    def get_config(self):\n",
    "        base_config = super().get_config()\n",
    "        return {\n",
    "            **base_config,\n",
    "            \"learning_rate\": self._serialize_hyperparameter(\"learning_rate\"),\n",
    "        }"
   ],
   "outputs": [],
   "metadata": {}
  },
  {
   "cell_type": "code",
   "execution_count": 11,
   "source": [
    "keras.backend.clear_session()\n",
    "np.random.seed(42)\n",
    "tf.random.set_seed(42)"
   ],
   "outputs": [],
   "metadata": {}
  },
  {
   "cell_type": "code",
   "execution_count": 12,
   "source": [
    "model = keras.models.Sequential([keras.layers.Dense(1, input_shape=[8])])\n",
    "model.compile(loss=\"mse\", optimizer=SGOptimizer(learning_rate=0.001))\n",
    "model.fit(X_train_scaled, y_train, epochs=50)"
   ],
   "outputs": [
    {
     "output_type": "stream",
     "name": "stdout",
     "text": [
      "Epoch 1/50\n",
      "Tensor(\"GreaterEqual:0\", shape=(1,), dtype=bool, device=/job:localhost/replica:0/task:0/device:CPU:0)\n",
      "363/363 [==============================] - 1s 572us/step - loss: 3.7378\n",
      "Epoch 2/50\n",
      "363/363 [==============================] - 0s 650us/step - loss: 1.4864\n",
      "Epoch 3/50\n",
      "363/363 [==============================] - 0s 588us/step - loss: 0.9201\n",
      "Epoch 4/50\n",
      "363/363 [==============================] - 0s 676us/step - loss: 0.7626\n",
      "Epoch 5/50\n",
      "363/363 [==============================] - 0s 567us/step - loss: 0.7082\n",
      "Epoch 6/50\n",
      "363/363 [==============================] - 0s 630us/step - loss: 0.6792\n",
      "Epoch 7/50\n",
      "363/363 [==============================] - 0s 669us/step - loss: 0.6616\n",
      "Epoch 8/50\n",
      "363/363 [==============================] - 0s 621us/step - loss: 0.6487\n",
      "Epoch 9/50\n",
      "363/363 [==============================] - 0s 691us/step - loss: 0.6355\n",
      "Epoch 10/50\n",
      "363/363 [==============================] - 0s 657us/step - loss: 0.6242\n",
      "Epoch 11/50\n",
      "363/363 [==============================] - 0s 581us/step - loss: 0.6166\n",
      "Epoch 12/50\n",
      "363/363 [==============================] - 0s 582us/step - loss: 0.6061\n",
      "Epoch 13/50\n",
      "363/363 [==============================] - 0s 611us/step - loss: 0.6007\n",
      "Epoch 14/50\n",
      "363/363 [==============================] - 0s 610us/step - loss: 0.5940\n",
      "Epoch 15/50\n",
      "363/363 [==============================] - 0s 622us/step - loss: 0.5877\n",
      "Epoch 16/50\n",
      "363/363 [==============================] - 0s 706us/step - loss: 0.5819\n",
      "Epoch 17/50\n",
      "363/363 [==============================] - 0s 749us/step - loss: 0.5768\n",
      "Epoch 18/50\n",
      "363/363 [==============================] - 0s 582us/step - loss: 0.5729\n",
      "Epoch 19/50\n",
      "363/363 [==============================] - 0s 491us/step - loss: 0.5681\n",
      "Epoch 20/50\n",
      "363/363 [==============================] - 0s 832us/step - loss: 0.5640\n",
      "Epoch 21/50\n",
      "363/363 [==============================] - 0s 787us/step - loss: 0.5613\n",
      "Epoch 22/50\n",
      "363/363 [==============================] - 0s 751us/step - loss: 0.5586\n",
      "Epoch 23/50\n",
      "363/363 [==============================] - 0s 743us/step - loss: 0.5566\n",
      "Epoch 24/50\n",
      "363/363 [==============================] - 0s 799us/step - loss: 0.5533\n",
      "Epoch 25/50\n",
      "363/363 [==============================] - 0s 790us/step - loss: 0.5500\n",
      "Epoch 26/50\n",
      "363/363 [==============================] - 0s 782us/step - loss: 0.5486\n",
      "Epoch 27/50\n",
      "363/363 [==============================] - 0s 783us/step - loss: 0.5477\n",
      "Epoch 28/50\n",
      "363/363 [==============================] - 0s 804us/step - loss: 0.5453\n",
      "Epoch 29/50\n",
      "363/363 [==============================] - 0s 723us/step - loss: 0.5442\n",
      "Epoch 30/50\n",
      "363/363 [==============================] - 0s 517us/step - loss: 0.5416\n",
      "Epoch 31/50\n",
      "363/363 [==============================] - 0s 558us/step - loss: 0.5411\n",
      "Epoch 32/50\n",
      "363/363 [==============================] - 0s 551us/step - loss: 0.5399\n",
      "Epoch 33/50\n",
      "363/363 [==============================] - 0s 513us/step - loss: 0.5405\n",
      "Epoch 34/50\n",
      "363/363 [==============================] - 0s 527us/step - loss: 0.5386\n",
      "Epoch 35/50\n",
      "363/363 [==============================] - 0s 546us/step - loss: 0.5373\n",
      "Epoch 36/50\n",
      "363/363 [==============================] - 0s 537us/step - loss: 0.5370\n",
      "Epoch 37/50\n",
      "363/363 [==============================] - 0s 550us/step - loss: 0.5361\n",
      "Epoch 38/50\n",
      "363/363 [==============================] - 0s 638us/step - loss: 0.5355\n",
      "Epoch 39/50\n",
      "363/363 [==============================] - 0s 546us/step - loss: 0.5350\n",
      "Epoch 40/50\n",
      "363/363 [==============================] - 0s 504us/step - loss: 0.5332\n",
      "Epoch 41/50\n",
      "363/363 [==============================] - 0s 478us/step - loss: 0.5340\n",
      "Epoch 42/50\n",
      "363/363 [==============================] - 0s 529us/step - loss: 0.5331\n",
      "Epoch 43/50\n",
      "363/363 [==============================] - 0s 539us/step - loss: 0.5319\n",
      "Epoch 44/50\n",
      "363/363 [==============================] - 0s 552us/step - loss: 0.5318\n",
      "Epoch 45/50\n",
      "363/363 [==============================] - 0s 542us/step - loss: 0.5333\n",
      "Epoch 46/50\n",
      "363/363 [==============================] - 0s 489us/step - loss: 0.5322\n",
      "Epoch 47/50\n",
      "363/363 [==============================] - 0s 503us/step - loss: 0.5320\n",
      "Epoch 48/50\n",
      "363/363 [==============================] - 0s 513us/step - loss: 0.5301\n",
      "Epoch 49/50\n",
      "363/363 [==============================] - 0s 501us/step - loss: 0.5317\n",
      "Epoch 50/50\n",
      "363/363 [==============================] - 0s 521us/step - loss: 0.5312\n"
     ]
    },
    {
     "output_type": "execute_result",
     "data": {
      "text/plain": [
       "<keras.callbacks.History at 0x7f9eed915520>"
      ]
     },
     "metadata": {},
     "execution_count": 12
    }
   ],
   "metadata": {}
  },
  {
   "cell_type": "code",
   "execution_count": 13,
   "source": [
    "a = tf.Variable([-1,2,2,0])\n",
    "b = tf.Variable([5,6,7,8])\n",
    "cond = a*b >= 0\n",
    "cond"
   ],
   "outputs": [
    {
     "output_type": "execute_result",
     "data": {
      "text/plain": [
       "<tf.Tensor: shape=(4,), dtype=bool, numpy=array([False,  True,  True,  True])>"
      ]
     },
     "metadata": {},
     "execution_count": 13
    }
   ],
   "metadata": {}
  },
  {
   "cell_type": "code",
   "execution_count": 14,
   "source": [
    "\n",
    "tf.where(cond, a, b)"
   ],
   "outputs": [
    {
     "output_type": "execute_result",
     "data": {
      "text/plain": [
       "<tf.Tensor: shape=(4,), dtype=int32, numpy=array([5, 2, 2, 0], dtype=int32)>"
      ]
     },
     "metadata": {},
     "execution_count": 14
    }
   ],
   "metadata": {}
  }
 ],
 "metadata": {
  "orig_nbformat": 4,
  "language_info": {
   "name": "python",
   "version": "3.9.5",
   "mimetype": "text/x-python",
   "codemirror_mode": {
    "name": "ipython",
    "version": 3
   },
   "pygments_lexer": "ipython3",
   "nbconvert_exporter": "python",
   "file_extension": ".py"
  },
  "kernelspec": {
   "name": "python3",
   "display_name": "Python 3.9.5 64-bit"
  },
  "interpreter": {
   "hash": "aee8b7b246df8f9039afb4144a1f6fd8d2ca17a180786b69acc140d282b71a49"
  }
 },
 "nbformat": 4,
 "nbformat_minor": 2
}