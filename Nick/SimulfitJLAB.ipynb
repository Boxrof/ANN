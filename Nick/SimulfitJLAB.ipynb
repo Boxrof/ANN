{
 "cells": [
  {
   "cell_type": "code",
   "execution_count": 1,
   "metadata": {
    "scrolled": true
   },
   "outputs": [],
   "source": [
    "%load_ext autoreload\n",
    "%autoreload 2"
   ]
  },
  {
   "cell_type": "code",
   "execution_count": 2,
   "metadata": {},
   "outputs": [],
   "source": [
    "import pandas as pd\n",
    "import numpy as np\n",
    "import matplotlib.pyplot as plt\n",
    "import seaborn as sns\n",
    "from scipy import optimize"
   ]
  },
  {
   "cell_type": "code",
   "execution_count": 3,
   "metadata": {},
   "outputs": [],
   "source": [
    "from BHDVCStf import BHDVCS"
   ]
  },
  {
   "cell_type": "code",
   "execution_count": 4,
   "metadata": {},
   "outputs": [],
   "source": [
    "bhdvcs = BHDVCS()"
   ]
  },
  {
   "cell_type": "code",
   "execution_count": 5,
   "metadata": {},
   "outputs": [],
   "source": [
    "data = pd.read_csv('dvcs_psuedo.csv')"
   ]
  },
  {
   "cell_type": "code",
   "execution_count": 1,
   "metadata": {},
   "outputs": [],
   "source": [
    "import utilities as uts\n",
    "from tqdm import tqdm"
   ]
  },
  {
   "cell_type": "code",
   "execution_count": 6,
   "metadata": {},
   "outputs": [],
   "source": [
    "data = data.loc[(data['#Set'] == 0) & (data['phi_x'] <= 180) & (data['phi_x'] != 90), :]"
   ]
  },
  {
   "cell_type": "code",
   "execution_count": 8,
   "metadata": {},
   "outputs": [],
   "source": [
    "def produceLHS(data, bhdvcs):\n",
    "    bhdvcs.SetKinematics(data['QQ'], data['x_b'], data['t'], data['k'])\n",
    "    bh = bhdvcs.GetBHUUxs(data['phi_x'], data['F1'], data['F2'])\n",
    "    interference = data['F'] - data['dvcs'] - bh\n",
    "    interference /= bhdvcs.Gamma\n",
    "    interference *= data['QQ']\n",
    "    interference *= np.abs(data['t'])\n",
    "    a, b = bhdvcs.ABcon(data['phi_x'], data['F1'], data['F2'])\n",
    "    interference /= b\n",
    "    return interference"
   ]
  },
  {
   "cell_type": "code",
   "execution_count": 9,
   "metadata": {},
   "outputs": [],
   "source": [
    "def produceLHSerr(data, bhdvcs):\n",
    "    bhdvcs.SetKinematics(data['QQ'], data['x_b'], data['t'], data['k'])\n",
    "    err = data['errF']\n",
    "    err /= bhdvcs.Gamma\n",
    "    err *= data['QQ']\n",
    "    err *= np.abs(data['t'])\n",
    "    a, b = bhdvcs.ABcon(data['phi_x'], data['F1'], data['F2'])\n",
    "    err /= b\n",
    "    return np.abs(err)"
   ]
  },
  {
   "cell_type": "code",
   "execution_count": 10,
   "metadata": {},
   "outputs": [],
   "source": [
    "def aoverb(data, bhdvcs):\n",
    "    bhdvcs.SetKinematics(data['QQ'], data['x_b'], data['t'], data['k'])\n",
    "    a, b = bhdvcs.ABcon(data['phi_x'], data['F1'], data['F2'])\n",
    "    return a/b"
   ]
  },
  {
   "cell_type": "code",
   "execution_count": 37,
   "metadata": {},
   "outputs": [],
   "source": [
    "def linear_curve_fit(data, ReH, ReE):\n",
    "    bhdvcs.SetKinematics(data[:, 0], data[:, 1], data[:, 2], data[:, 3])\n",
    "    a, b = bhdvcs.ABcon(data[:, 4], data[:, 5], data[:, 6])\n",
    "    #tau = -data['t']/(4*bhdvcs.M2)\n",
    "    gm = data[:, 5] + data[:, 6]\n",
    "    return (a/b)*(data[:, 5]*ReH + bhdvcs.tau*data[:, 6]*ReE) + gm*(ReH + ReE)"
   ]
  },
  {
   "cell_type": "code",
   "execution_count": 33,
   "metadata": {},
   "outputs": [],
   "source": [
    "def combined_function_chisq(cffs, data):\n",
    "    ReH, ReE, ReHtilde = cffs\n",
    "    dftu = data.copy()\n",
    "    dftu['F'] = bhdvcs.TotalUUXS(np.array(data[['phi_x', 'k', 'QQ', 'x_b', 't', 'F1', 'F2', 'dvcs']]), ReH, ReE, ReHtilde)\n",
    "    yhat1 = produceLHS(dftu, bhdvcs)\n",
    "    X = np.array(data[['QQ', 'x_b', 't', 'k', 'phi_x', 'F1', 'F2']])\n",
    "    yhat2 = linear_curve_fit(X, ReH, ReE)\n",
    "    chisq1 = np.sum(((yhat1 - data['F'])/data['errF'])**2)\n",
    "    chisq2 = np.sum(((yhat2 - data['F'])/data['errF'])**2)\n",
    "    return (chisq1 + chisq2)/2"
   ]
  },
  {
   "cell_type": "code",
   "execution_count": 28,
   "metadata": {},
   "outputs": [],
   "source": [
    "data = pd.read_csv('dvcs_psuedo.csv')"
   ]
  },
  {
   "cell_type": "code",
   "execution_count": 29,
   "metadata": {},
   "outputs": [],
   "source": [
    "high = data.copy()\n",
    "high['F'] = high['F'] + high['errF']\n",
    "data['errF'] = np.abs(produceLHS(high, bhdvcs) - produceLHS(data, bhdvcs))"
   ]
  },
  {
   "cell_type": "code",
   "execution_count": 30,
   "metadata": {},
   "outputs": [],
   "source": [
    "data['F'] = produceLHS(data, bhdvcs)"
   ]
  },
  {
   "cell_type": "markdown",
   "metadata": {},
   "source": [
    "## Set 1"
   ]
  },
  {
   "cell_type": "code",
   "execution_count": 119,
   "metadata": {},
   "outputs": [],
   "source": [
    "test_data = data.loc[(data['#Set'] == 0) & (data['phi_x'] <= 180) & (data['phi_x'] != 90), :]"
   ]
  },
  {
   "cell_type": "code",
   "execution_count": 120,
   "metadata": {},
   "outputs": [],
   "source": [
    "x0 = np.array([1, 1, 1])\n",
    "res = optimize.minimize(combined_function_chisq, x0, args=test_data)"
   ]
  },
  {
   "cell_type": "code",
   "execution_count": 121,
   "metadata": {},
   "outputs": [
    {
     "data": {
      "text/plain": [
       "array([ 15.8791021 , -68.81298446,   3.76043883])"
      ]
     },
     "execution_count": 121,
     "metadata": {},
     "output_type": "execute_result"
    }
   ],
   "source": [
    "res.x"
   ]
  },
  {
   "cell_type": "code",
   "execution_count": 122,
   "metadata": {},
   "outputs": [
    {
     "data": {
      "text/plain": [
       "array([ 1.12425836, 29.73266721,  0.38083102])"
      ]
     },
     "execution_count": 122,
     "metadata": {},
     "output_type": "execute_result"
    }
   ],
   "source": [
    "np.diag(res.hess_inv)"
   ]
  },
  {
   "cell_type": "markdown",
   "metadata": {},
   "source": [
    "## Set 2"
   ]
  },
  {
   "cell_type": "code",
   "execution_count": 123,
   "metadata": {},
   "outputs": [],
   "source": [
    "test_data = data.loc[(data['#Set'] == 1) & (data['phi_x'] <= 180) & (data['phi_x'] != 90), :]"
   ]
  },
  {
   "cell_type": "code",
   "execution_count": 124,
   "metadata": {},
   "outputs": [],
   "source": [
    "x0 = np.array([1, 1, 1])\n",
    "res = optimize.minimize(combined_function_chisq, x0, args=test_data)"
   ]
  },
  {
   "cell_type": "code",
   "execution_count": 125,
   "metadata": {},
   "outputs": [
    {
     "data": {
      "text/plain": [
       "array([  22.80075777, -106.27311581,    3.14101246])"
      ]
     },
     "execution_count": 125,
     "metadata": {},
     "output_type": "execute_result"
    }
   ],
   "source": [
    "res.x"
   ]
  },
  {
   "cell_type": "code",
   "execution_count": 126,
   "metadata": {},
   "outputs": [
    {
     "data": {
      "text/plain": [
       "array([ 2.65185418, 72.37910705,  1.18399464])"
      ]
     },
     "execution_count": 126,
     "metadata": {},
     "output_type": "execute_result"
    }
   ],
   "source": [
    "np.diag(res.hess_inv)"
   ]
  },
  {
   "cell_type": "code",
   "execution_count": 100,
   "metadata": {},
   "outputs": [],
   "source": [
    "seti = data.loc[(data['#Set'] == i) & (data['phi_x'] <= 180) & (data['phi_x'] != 90), :]\n",
    "rep_data = seti.copy()\n",
    "rep_data['F'] = np.random.normal(rep_data['F'], rep_data['errF'])"
   ]
  },
  {
   "cell_type": "code",
   "execution_count": 101,
   "metadata": {},
   "outputs": [
    {
     "data": {
      "text/html": [
       "<div>\n",
       "<style scoped>\n",
       "    .dataframe tbody tr th:only-of-type {\n",
       "        vertical-align: middle;\n",
       "    }\n",
       "\n",
       "    .dataframe tbody tr th {\n",
       "        vertical-align: top;\n",
       "    }\n",
       "\n",
       "    .dataframe thead th {\n",
       "        text-align: right;\n",
       "    }\n",
       "</style>\n",
       "<table border=\"1\" class=\"dataframe\">\n",
       "  <thead>\n",
       "    <tr style=\"text-align: right;\">\n",
       "      <th></th>\n",
       "      <th>#Set</th>\n",
       "      <th>index</th>\n",
       "      <th>errF</th>\n",
       "      <th>F</th>\n",
       "      <th>phi_x</th>\n",
       "      <th>QQ</th>\n",
       "      <th>x_b</th>\n",
       "      <th>t</th>\n",
       "      <th>k</th>\n",
       "      <th>F1</th>\n",
       "      <th>F2</th>\n",
       "      <th>dvcs</th>\n",
       "      <th>ReH</th>\n",
       "      <th>ReE</th>\n",
       "      <th>ReHtilde</th>\n",
       "    </tr>\n",
       "  </thead>\n",
       "  <tbody>\n",
       "    <tr>\n",
       "      <th>72</th>\n",
       "      <td>2</td>\n",
       "      <td>0</td>\n",
       "      <td>7.386159</td>\n",
       "      <td>-36.449778</td>\n",
       "      <td>0</td>\n",
       "      <td>2.17955</td>\n",
       "      <td>0.385579</td>\n",
       "      <td>-0.283318</td>\n",
       "      <td>4.75</td>\n",
       "      <td>0.579414</td>\n",
       "      <td>0.848208</td>\n",
       "      <td>0.012288</td>\n",
       "      <td>7.22424</td>\n",
       "      <td>-47.2242</td>\n",
       "      <td>4.01347</td>\n",
       "    </tr>\n",
       "    <tr>\n",
       "      <th>73</th>\n",
       "      <td>2</td>\n",
       "      <td>1</td>\n",
       "      <td>7.308711</td>\n",
       "      <td>-48.273208</td>\n",
       "      <td>10</td>\n",
       "      <td>2.17955</td>\n",
       "      <td>0.385579</td>\n",
       "      <td>-0.283318</td>\n",
       "      <td>4.75</td>\n",
       "      <td>0.579414</td>\n",
       "      <td>0.848208</td>\n",
       "      <td>0.012288</td>\n",
       "      <td>7.22424</td>\n",
       "      <td>-47.2242</td>\n",
       "      <td>4.01347</td>\n",
       "    </tr>\n",
       "    <tr>\n",
       "      <th>74</th>\n",
       "      <td>2</td>\n",
       "      <td>2</td>\n",
       "      <td>7.293302</td>\n",
       "      <td>-23.867232</td>\n",
       "      <td>20</td>\n",
       "      <td>2.17955</td>\n",
       "      <td>0.385579</td>\n",
       "      <td>-0.283318</td>\n",
       "      <td>4.75</td>\n",
       "      <td>0.579414</td>\n",
       "      <td>0.848208</td>\n",
       "      <td>0.012288</td>\n",
       "      <td>7.22424</td>\n",
       "      <td>-47.2242</td>\n",
       "      <td>4.01347</td>\n",
       "    </tr>\n",
       "    <tr>\n",
       "      <th>75</th>\n",
       "      <td>2</td>\n",
       "      <td>3</td>\n",
       "      <td>7.917898</td>\n",
       "      <td>-24.454727</td>\n",
       "      <td>30</td>\n",
       "      <td>2.17955</td>\n",
       "      <td>0.385579</td>\n",
       "      <td>-0.283318</td>\n",
       "      <td>4.75</td>\n",
       "      <td>0.579414</td>\n",
       "      <td>0.848208</td>\n",
       "      <td>0.012288</td>\n",
       "      <td>7.22424</td>\n",
       "      <td>-47.2242</td>\n",
       "      <td>4.01347</td>\n",
       "    </tr>\n",
       "    <tr>\n",
       "      <th>76</th>\n",
       "      <td>2</td>\n",
       "      <td>4</td>\n",
       "      <td>8.741887</td>\n",
       "      <td>-36.001161</td>\n",
       "      <td>40</td>\n",
       "      <td>2.17955</td>\n",
       "      <td>0.385579</td>\n",
       "      <td>-0.283318</td>\n",
       "      <td>4.75</td>\n",
       "      <td>0.579414</td>\n",
       "      <td>0.848208</td>\n",
       "      <td>0.012288</td>\n",
       "      <td>7.22424</td>\n",
       "      <td>-47.2242</td>\n",
       "      <td>4.01347</td>\n",
       "    </tr>\n",
       "    <tr>\n",
       "      <th>77</th>\n",
       "      <td>2</td>\n",
       "      <td>5</td>\n",
       "      <td>9.778452</td>\n",
       "      <td>-36.725486</td>\n",
       "      <td>50</td>\n",
       "      <td>2.17955</td>\n",
       "      <td>0.385579</td>\n",
       "      <td>-0.283318</td>\n",
       "      <td>4.75</td>\n",
       "      <td>0.579414</td>\n",
       "      <td>0.848208</td>\n",
       "      <td>0.012288</td>\n",
       "      <td>7.22424</td>\n",
       "      <td>-47.2242</td>\n",
       "      <td>4.01347</td>\n",
       "    </tr>\n",
       "    <tr>\n",
       "      <th>78</th>\n",
       "      <td>2</td>\n",
       "      <td>6</td>\n",
       "      <td>11.226435</td>\n",
       "      <td>-31.586213</td>\n",
       "      <td>60</td>\n",
       "      <td>2.17955</td>\n",
       "      <td>0.385579</td>\n",
       "      <td>-0.283318</td>\n",
       "      <td>4.75</td>\n",
       "      <td>0.579414</td>\n",
       "      <td>0.848208</td>\n",
       "      <td>0.012288</td>\n",
       "      <td>7.22424</td>\n",
       "      <td>-47.2242</td>\n",
       "      <td>4.01347</td>\n",
       "    </tr>\n",
       "    <tr>\n",
       "      <th>79</th>\n",
       "      <td>2</td>\n",
       "      <td>7</td>\n",
       "      <td>16.054382</td>\n",
       "      <td>-30.243423</td>\n",
       "      <td>70</td>\n",
       "      <td>2.17955</td>\n",
       "      <td>0.385579</td>\n",
       "      <td>-0.283318</td>\n",
       "      <td>4.75</td>\n",
       "      <td>0.579414</td>\n",
       "      <td>0.848208</td>\n",
       "      <td>0.012288</td>\n",
       "      <td>7.22424</td>\n",
       "      <td>-47.2242</td>\n",
       "      <td>4.01347</td>\n",
       "    </tr>\n",
       "    <tr>\n",
       "      <th>80</th>\n",
       "      <td>2</td>\n",
       "      <td>8</td>\n",
       "      <td>31.530305</td>\n",
       "      <td>-78.905321</td>\n",
       "      <td>80</td>\n",
       "      <td>2.17955</td>\n",
       "      <td>0.385579</td>\n",
       "      <td>-0.283318</td>\n",
       "      <td>4.75</td>\n",
       "      <td>0.579414</td>\n",
       "      <td>0.848208</td>\n",
       "      <td>0.012288</td>\n",
       "      <td>7.22424</td>\n",
       "      <td>-47.2242</td>\n",
       "      <td>4.01347</td>\n",
       "    </tr>\n",
       "    <tr>\n",
       "      <th>82</th>\n",
       "      <td>2</td>\n",
       "      <td>10</td>\n",
       "      <td>26.400642</td>\n",
       "      <td>-78.402304</td>\n",
       "      <td>100</td>\n",
       "      <td>2.17955</td>\n",
       "      <td>0.385579</td>\n",
       "      <td>-0.283318</td>\n",
       "      <td>4.75</td>\n",
       "      <td>0.579414</td>\n",
       "      <td>0.848208</td>\n",
       "      <td>0.012288</td>\n",
       "      <td>7.22424</td>\n",
       "      <td>-47.2242</td>\n",
       "      <td>4.01347</td>\n",
       "    </tr>\n",
       "    <tr>\n",
       "      <th>83</th>\n",
       "      <td>2</td>\n",
       "      <td>11</td>\n",
       "      <td>13.160113</td>\n",
       "      <td>-49.924246</td>\n",
       "      <td>110</td>\n",
       "      <td>2.17955</td>\n",
       "      <td>0.385579</td>\n",
       "      <td>-0.283318</td>\n",
       "      <td>4.75</td>\n",
       "      <td>0.579414</td>\n",
       "      <td>0.848208</td>\n",
       "      <td>0.012288</td>\n",
       "      <td>7.22424</td>\n",
       "      <td>-47.2242</td>\n",
       "      <td>4.01347</td>\n",
       "    </tr>\n",
       "    <tr>\n",
       "      <th>84</th>\n",
       "      <td>2</td>\n",
       "      <td>12</td>\n",
       "      <td>9.930851</td>\n",
       "      <td>-15.479205</td>\n",
       "      <td>120</td>\n",
       "      <td>2.17955</td>\n",
       "      <td>0.385579</td>\n",
       "      <td>-0.283318</td>\n",
       "      <td>4.75</td>\n",
       "      <td>0.579414</td>\n",
       "      <td>0.848208</td>\n",
       "      <td>0.012288</td>\n",
       "      <td>7.22424</td>\n",
       "      <td>-47.2242</td>\n",
       "      <td>4.01347</td>\n",
       "    </tr>\n",
       "    <tr>\n",
       "      <th>85</th>\n",
       "      <td>2</td>\n",
       "      <td>13</td>\n",
       "      <td>8.921047</td>\n",
       "      <td>2.594373</td>\n",
       "      <td>130</td>\n",
       "      <td>2.17955</td>\n",
       "      <td>0.385579</td>\n",
       "      <td>-0.283318</td>\n",
       "      <td>4.75</td>\n",
       "      <td>0.579414</td>\n",
       "      <td>0.848208</td>\n",
       "      <td>0.012288</td>\n",
       "      <td>7.22424</td>\n",
       "      <td>-47.2242</td>\n",
       "      <td>4.01347</td>\n",
       "    </tr>\n",
       "    <tr>\n",
       "      <th>86</th>\n",
       "      <td>2</td>\n",
       "      <td>14</td>\n",
       "      <td>7.856242</td>\n",
       "      <td>-15.990681</td>\n",
       "      <td>140</td>\n",
       "      <td>2.17955</td>\n",
       "      <td>0.385579</td>\n",
       "      <td>-0.283318</td>\n",
       "      <td>4.75</td>\n",
       "      <td>0.579414</td>\n",
       "      <td>0.848208</td>\n",
       "      <td>0.012288</td>\n",
       "      <td>7.22424</td>\n",
       "      <td>-47.2242</td>\n",
       "      <td>4.01347</td>\n",
       "    </tr>\n",
       "    <tr>\n",
       "      <th>87</th>\n",
       "      <td>2</td>\n",
       "      <td>15</td>\n",
       "      <td>7.545726</td>\n",
       "      <td>1.063319</td>\n",
       "      <td>150</td>\n",
       "      <td>2.17955</td>\n",
       "      <td>0.385579</td>\n",
       "      <td>-0.283318</td>\n",
       "      <td>4.75</td>\n",
       "      <td>0.579414</td>\n",
       "      <td>0.848208</td>\n",
       "      <td>0.012288</td>\n",
       "      <td>7.22424</td>\n",
       "      <td>-47.2242</td>\n",
       "      <td>4.01347</td>\n",
       "    </tr>\n",
       "    <tr>\n",
       "      <th>88</th>\n",
       "      <td>2</td>\n",
       "      <td>16</td>\n",
       "      <td>7.377073</td>\n",
       "      <td>-6.603620</td>\n",
       "      <td>160</td>\n",
       "      <td>2.17955</td>\n",
       "      <td>0.385579</td>\n",
       "      <td>-0.283318</td>\n",
       "      <td>4.75</td>\n",
       "      <td>0.579414</td>\n",
       "      <td>0.848208</td>\n",
       "      <td>0.012288</td>\n",
       "      <td>7.22424</td>\n",
       "      <td>-47.2242</td>\n",
       "      <td>4.01347</td>\n",
       "    </tr>\n",
       "    <tr>\n",
       "      <th>89</th>\n",
       "      <td>2</td>\n",
       "      <td>17</td>\n",
       "      <td>7.849760</td>\n",
       "      <td>3.183050</td>\n",
       "      <td>170</td>\n",
       "      <td>2.17955</td>\n",
       "      <td>0.385579</td>\n",
       "      <td>-0.283318</td>\n",
       "      <td>4.75</td>\n",
       "      <td>0.579414</td>\n",
       "      <td>0.848208</td>\n",
       "      <td>0.012288</td>\n",
       "      <td>7.22424</td>\n",
       "      <td>-47.2242</td>\n",
       "      <td>4.01347</td>\n",
       "    </tr>\n",
       "    <tr>\n",
       "      <th>90</th>\n",
       "      <td>2</td>\n",
       "      <td>18</td>\n",
       "      <td>7.912504</td>\n",
       "      <td>0.594784</td>\n",
       "      <td>180</td>\n",
       "      <td>2.17955</td>\n",
       "      <td>0.385579</td>\n",
       "      <td>-0.283318</td>\n",
       "      <td>4.75</td>\n",
       "      <td>0.579414</td>\n",
       "      <td>0.848208</td>\n",
       "      <td>0.012288</td>\n",
       "      <td>7.22424</td>\n",
       "      <td>-47.2242</td>\n",
       "      <td>4.01347</td>\n",
       "    </tr>\n",
       "  </tbody>\n",
       "</table>\n",
       "</div>"
      ],
      "text/plain": [
       "    #Set  index       errF          F  phi_x       QQ       x_b         t  \\\n",
       "72     2      0   7.386159 -36.449778      0  2.17955  0.385579 -0.283318   \n",
       "73     2      1   7.308711 -48.273208     10  2.17955  0.385579 -0.283318   \n",
       "74     2      2   7.293302 -23.867232     20  2.17955  0.385579 -0.283318   \n",
       "75     2      3   7.917898 -24.454727     30  2.17955  0.385579 -0.283318   \n",
       "76     2      4   8.741887 -36.001161     40  2.17955  0.385579 -0.283318   \n",
       "77     2      5   9.778452 -36.725486     50  2.17955  0.385579 -0.283318   \n",
       "78     2      6  11.226435 -31.586213     60  2.17955  0.385579 -0.283318   \n",
       "79     2      7  16.054382 -30.243423     70  2.17955  0.385579 -0.283318   \n",
       "80     2      8  31.530305 -78.905321     80  2.17955  0.385579 -0.283318   \n",
       "82     2     10  26.400642 -78.402304    100  2.17955  0.385579 -0.283318   \n",
       "83     2     11  13.160113 -49.924246    110  2.17955  0.385579 -0.283318   \n",
       "84     2     12   9.930851 -15.479205    120  2.17955  0.385579 -0.283318   \n",
       "85     2     13   8.921047   2.594373    130  2.17955  0.385579 -0.283318   \n",
       "86     2     14   7.856242 -15.990681    140  2.17955  0.385579 -0.283318   \n",
       "87     2     15   7.545726   1.063319    150  2.17955  0.385579 -0.283318   \n",
       "88     2     16   7.377073  -6.603620    160  2.17955  0.385579 -0.283318   \n",
       "89     2     17   7.849760   3.183050    170  2.17955  0.385579 -0.283318   \n",
       "90     2     18   7.912504   0.594784    180  2.17955  0.385579 -0.283318   \n",
       "\n",
       "       k        F1        F2      dvcs      ReH      ReE  ReHtilde  \n",
       "72  4.75  0.579414  0.848208  0.012288  7.22424 -47.2242   4.01347  \n",
       "73  4.75  0.579414  0.848208  0.012288  7.22424 -47.2242   4.01347  \n",
       "74  4.75  0.579414  0.848208  0.012288  7.22424 -47.2242   4.01347  \n",
       "75  4.75  0.579414  0.848208  0.012288  7.22424 -47.2242   4.01347  \n",
       "76  4.75  0.579414  0.848208  0.012288  7.22424 -47.2242   4.01347  \n",
       "77  4.75  0.579414  0.848208  0.012288  7.22424 -47.2242   4.01347  \n",
       "78  4.75  0.579414  0.848208  0.012288  7.22424 -47.2242   4.01347  \n",
       "79  4.75  0.579414  0.848208  0.012288  7.22424 -47.2242   4.01347  \n",
       "80  4.75  0.579414  0.848208  0.012288  7.22424 -47.2242   4.01347  \n",
       "82  4.75  0.579414  0.848208  0.012288  7.22424 -47.2242   4.01347  \n",
       "83  4.75  0.579414  0.848208  0.012288  7.22424 -47.2242   4.01347  \n",
       "84  4.75  0.579414  0.848208  0.012288  7.22424 -47.2242   4.01347  \n",
       "85  4.75  0.579414  0.848208  0.012288  7.22424 -47.2242   4.01347  \n",
       "86  4.75  0.579414  0.848208  0.012288  7.22424 -47.2242   4.01347  \n",
       "87  4.75  0.579414  0.848208  0.012288  7.22424 -47.2242   4.01347  \n",
       "88  4.75  0.579414  0.848208  0.012288  7.22424 -47.2242   4.01347  \n",
       "89  4.75  0.579414  0.848208  0.012288  7.22424 -47.2242   4.01347  \n",
       "90  4.75  0.579414  0.848208  0.012288  7.22424 -47.2242   4.01347  "
      ]
     },
     "execution_count": 101,
     "metadata": {},
     "output_type": "execute_result"
    }
   ],
   "source": [
    "rep_data"
   ]
  },
  {
   "cell_type": "code",
   "execution_count": 108,
   "metadata": {},
   "outputs": [
    {
     "data": {
      "text/plain": [
       "array([[[  19.89816508,  -88.34121367,    4.16433741],\n",
       "        [  25.51979272, -115.75732595,    4.59676969],\n",
       "        [  23.56839302,  -72.88467036,    2.53200944],\n",
       "        [  26.86312547,  -91.74153215,    3.46497155],\n",
       "        [  20.73871708, -287.54265193,    3.57678543],\n",
       "        [  24.01563157,    1.20282739,    3.06943454],\n",
       "        [  21.69141536, -140.09653075,    4.24545324],\n",
       "        [  22.65614068,  -77.97815981,    3.91353327],\n",
       "        [  22.59310269,  -99.92002087,    2.71104807],\n",
       "        [  18.50843565, -197.46597487,    4.00077812]],\n",
       "\n",
       "       [[  20.62384541, -160.63609382,    1.19334125],\n",
       "        [  26.99151647,   23.83793832,    3.50546693],\n",
       "        [  23.67283548, -115.75091353,    3.94521585],\n",
       "        [  19.53855812, -152.97019707,    2.45278248],\n",
       "        [  23.23834906,   34.35692924,    3.90016106],\n",
       "        [  21.72492143, -142.7226738 ,    3.89953589],\n",
       "        [  24.27088822,   -3.68752385,    0.76589982],\n",
       "        [  24.34931396, -256.00170037,    0.90076853],\n",
       "        [  21.48902829, -177.64275647,    4.05477937],\n",
       "        [  24.07015447,  -30.68237139,    2.37951583]]])"
      ]
     },
     "execution_count": 108,
     "metadata": {},
     "output_type": "execute_result"
    }
   ],
   "source": [
    "np.array([, np.random.normal(res.x, np.diag(res.hess_inv), size=(10, 3))])"
   ]
  },
  {
   "cell_type": "code",
   "execution_count": 136,
   "metadata": {},
   "outputs": [],
   "source": [
    "def produceResults(data, numSets, numReplicas):\n",
    "    '''\n",
    "    :param data: data of class DvcsData (which can be found in utilities.py)\n",
    "    :param numSets: number of different kinematic sets contained in data\n",
    "    :param numReplicas: number of replicas you would like to produce\n",
    "    \n",
    "    :returns: numpy array with shape (numSets, numReplicas, numCFFs)\n",
    "    '''\n",
    "    results = []\n",
    "    for i in tqdm(range(numSets)):\n",
    "        seti = data.loc[(data['#Set'] == i) & (data['phi_x'] <= 180) & (data['phi_x'] != 90), :]\n",
    "        replicas = []\n",
    "        #X = np.array(seti.XnoCFF) # the kinematics and all variables necessary to compute \n",
    "        #sigma = seti.erry \n",
    "        pars = np.array([1, 1, 1])\n",
    "        optobj = optimize.minimize(combined_function_chisq, x0, args=seti)\n",
    "        results.append(np.random.normal(res.x, np.diag(res.hess_inv), size=(numReplicas, 3)))\n",
    "    return np.array(results)"
   ]
  },
  {
   "cell_type": "code",
   "execution_count": 110,
   "metadata": {},
   "outputs": [
    {
     "name": "stderr",
     "output_type": "stream",
     "text": [
      "100%|██████████| 15/15 [02:24<00:00,  9.61s/it]\n"
     ]
    }
   ],
   "source": [
    "results = produceResults(data, 15, 10)"
   ]
  },
  {
   "cell_type": "code",
   "execution_count": 115,
   "metadata": {},
   "outputs": [],
   "source": [
    "localFits = np.fromfile('replicas500.txt')\n",
    "localFits = localFits.reshape(15, 500, 3)"
   ]
  },
  {
   "cell_type": "code",
   "execution_count": null,
   "metadata": {},
   "outputs": [],
   "source": []
  }
 ],
 "metadata": {
  "kernelspec": {
   "display_name": "Py38Root",
   "language": "python",
   "name": "python3"
  },
  "language_info": {
   "codemirror_mode": {
    "name": "ipython",
    "version": 3
   },
   "file_extension": ".py",
   "mimetype": "text/x-python",
   "name": "python",
   "nbconvert_exporter": "python",
   "pygments_lexer": "ipython3",
   "version": "3.8.3"
  }
 },
 "nbformat": 4,
 "nbformat_minor": 2
}
