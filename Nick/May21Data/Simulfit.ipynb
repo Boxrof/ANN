{
 "cells": [
  {
   "cell_type": "code",
   "execution_count": 1,
   "metadata": {
    "scrolled": true
   },
   "outputs": [],
   "source": [
    "%load_ext autoreload\n",
    "%autoreload 2"
   ]
  },
  {
   "cell_type": "code",
   "execution_count": 2,
   "metadata": {},
   "outputs": [],
   "source": [
    "import pandas as pd\n",
    "import numpy as np\n",
    "import matplotlib.pyplot as plt\n",
    "import seaborn as sns\n",
    "from scipy import optimize"
   ]
  },
  {
   "cell_type": "code",
   "execution_count": 3,
   "metadata": {},
   "outputs": [],
   "source": [
    "from TVA1_UU import TVA1_UU"
   ]
  },
  {
   "cell_type": "code",
   "execution_count": 4,
   "metadata": {},
   "outputs": [],
   "source": [
    "bhdvcs = TVA1_UU()"
   ]
  },
  {
   "cell_type": "code",
   "execution_count": 8,
   "metadata": {},
   "outputs": [],
   "source": [
    "data = pd.read_csv('dvcs_psuedo.csv')"
   ]
  },
  {
   "cell_type": "markdown",
   "metadata": {},
   "source": [
    "# For Set 0"
   ]
  },
  {
   "cell_type": "code",
   "execution_count": 6,
   "metadata": {},
   "outputs": [],
   "source": [
    "data = data.loc[(data['#Set'] == 0) & (data['phi_x'] <= 180) & (data['phi_x'] != 90), :]"
   ]
  },
  {
   "cell_type": "code",
   "execution_count": 11,
   "metadata": {},
   "outputs": [],
   "source": [
    "def produceLHS(data, bhdvcs):\n",
    "    bhdvcs.SetKinematics(data['QQ'], data['x_b'], data['t'], data['k'])\n",
    "    bh = bhdvcs.GetBHUUxs(data['phi_x'], data['F1'], data['F2'])\n",
    "    interference = data['F'] - data['dvcs'] - bh\n",
    "    interference /= bhdvcs.Gamma\n",
    "    interference *= data['QQ']\n",
    "    interference *= np.abs(data['t'])\n",
    "    a, b = bhdvcs.ABcon(data['phi_x'], data['F1'], data['F2'])\n",
    "    interference /= b\n",
    "    return interference"
   ]
  },
  {
   "cell_type": "code",
   "execution_count": 12,
   "metadata": {},
   "outputs": [],
   "source": [
    "def produceLHSerr(data, bhdvcs):\n",
    "    bhdvcs.SetKinematics(data['QQ'], data['x_b'], data['t'], data['k'])\n",
    "    err = data['errF']\n",
    "    err /= bhdvcs.Gamma\n",
    "    err *= data['QQ']\n",
    "    err *= np.abs(data['t'])\n",
    "    a, b = bhdvcs.ABcon(data['phi_x'], data['F1'], data['F2'])\n",
    "    err /= b\n",
    "    return np.abs(err)"
   ]
  },
  {
   "cell_type": "code",
   "execution_count": 13,
   "metadata": {},
   "outputs": [],
   "source": [
    "def aoverb(data, bhdvcs):\n",
    "    bhdvcs.SetKinematics(data['QQ'], data['x_b'], data['t'], data['k'])\n",
    "    a, b = bhdvcs.ABcon(data['phi_x'], data['F1'], data['F2'])\n",
    "    return a/b"
   ]
  },
  {
   "cell_type": "code",
   "execution_count": 11,
   "metadata": {
    "scrolled": true
   },
   "outputs": [
    {
     "data": {
      "image/png": "[encoded data removed]",
      "text/plain": [
       "<Figure size 432x288 with 1 Axes>"
      ]
     },
     "metadata": {
      "needs_background": "light"
     },
     "output_type": "display_data"
    }
   ],
   "source": [
    "sns.scatterplot(x=aoverb(data, bhdvcs), y=produceLHS(data, bhdvcs))\n",
    "plt.xlabel('$A_{uu}^I/B_{uu}^I$')\n",
    "plt.ylabel('$\\sigma_{uu}/B_{uu}^I$')\n",
    "plt.show()"
   ]
  },
  {
   "cell_type": "code",
   "execution_count": 12,
   "metadata": {},
   "outputs": [
    {
     "data": {
      "image/png": "[encoded data removed]",
      "text/plain": [
       "<Figure size 432x288 with 1 Axes>"
      ]
     },
     "metadata": {
      "needs_background": "light"
     },
     "output_type": "display_data"
    }
   ],
   "source": [
    "sns.scatterplot(x=data['phi_x'], y=produceLHS(data, bhdvcs))\n",
    "plt.xlabel('phi')\n",
    "plt.ylabel('$\\sigma_{uu}/B_{uu}^I$')\n",
    "plt.show()"
   ]
  },
  {
   "cell_type": "code",
   "execution_count": 13,
   "metadata": {},
   "outputs": [],
   "source": [
    "y = produceLHS(data, bhdvcs)\n",
    "\n",
    "X = np.array(data[['QQ', 'x_b', 't', 'k', 'phi_x', 'F1', 'F2']])\n",
    "err = produceLHSerr(data, bhdvcs)"
   ]
  },
  {
   "cell_type": "code",
   "execution_count": 14,
   "metadata": {},
   "outputs": [],
   "source": [
    "def linear_curve_fit(data, ReH, ReE):\n",
    "    bhdvcs.SetKinematics(data[:, 0], data[:, 1], data[:, 2], data[:, 3])\n",
    "    a, b = bhdvcs.ABcon(data[:, 4], data[:, 5], data[:, 6])\n",
    "    #tau = -data['t']/(4*bhdvcs.M2)\n",
    "    gm = data[:, 5] + data[:, 6]\n",
    "    return (a/b)*(data[:, 5]*ReH + bhdvcs.tau*data[:, 6]*ReE) + gm*(ReH + ReE)"
   ]
  },
  {
   "cell_type": "code",
   "execution_count": 15,
   "metadata": {},
   "outputs": [],
   "source": [
    "cffs, var = optimize.curve_fit(linear_curve_fit, X, y, sigma=err)"
   ]
  },
  {
   "cell_type": "markdown",
   "metadata": {},
   "source": [
    "### Fitted Compton Form Factors"
   ]
  },
  {
   "cell_type": "code",
   "execution_count": 16,
   "metadata": {
    "scrolled": true
   },
   "outputs": [
    {
     "data": {
      "text/plain": [
       "array([ 14.54053928, -62.67604606])"
      ]
     },
     "execution_count": 16,
     "metadata": {},
     "output_type": "execute_result"
    }
   ],
   "source": [
    "cffs"
   ]
  },
  {
   "cell_type": "code",
   "execution_count": 17,
   "metadata": {},
   "outputs": [
    {
     "data": {
      "text/plain": [
       "array([ 2.76964485, 73.90142948])"
      ]
     },
     "execution_count": 17,
     "metadata": {},
     "output_type": "execute_result"
    }
   ],
   "source": [
    "np.diag(var)"
   ]
  },
  {
   "cell_type": "markdown",
   "metadata": {},
   "source": [
    "### True CFFs"
   ]
  },
  {
   "cell_type": "code",
   "execution_count": 23,
   "metadata": {
    "scrolled": true
   },
   "outputs": [
    {
     "data": {
      "text/plain": [
       "ReH    13.0554\n",
       "ReE   -53.0554\n",
       "Name: 0, dtype: float64"
      ]
     },
     "execution_count": 23,
     "metadata": {},
     "output_type": "execute_result"
    }
   ],
   "source": [
    "data.loc[0, ['ReH', 'ReE']]"
   ]
  },
  {
   "cell_type": "code",
   "execution_count": 24,
   "metadata": {},
   "outputs": [],
   "source": [
    "yhat = linear_curve_fit(X, *cffs)\n",
    "yhatupper = linear_curve_fit(X, *(cffs + np.diag(var)))\n",
    "yhatlower = linear_curve_fit(X, *(cffs - np.diag(var)))"
   ]
  },
  {
   "cell_type": "code",
   "execution_count": 25,
   "metadata": {},
   "outputs": [],
   "source": [
    "yhatwtrue = linear_curve_fit(X, 13.0554, -53.0554)"
   ]
  },
  {
   "cell_type": "markdown",
   "metadata": {},
   "source": [
    "### Central Values"
   ]
  },
  {
   "cell_type": "code",
   "execution_count": 26,
   "metadata": {},
   "outputs": [
    {
     "data": {
      "image/png": "[encoded data removed]",
      "text/plain": [
       "<Figure size 432x288 with 1 Axes>"
      ]
     },
     "metadata": {
      "needs_background": "light"
     },
     "output_type": "display_data"
    }
   ],
   "source": [
    "plt.plot(aoverb(data, bhdvcs), produceLHS(data, bhdvcs), 'go', label='y')\n",
    "plt.plot(aoverb(data, bhdvcs), yhat, label='yhat')\n",
    "plt.plot(aoverb(data, bhdvcs), yhatwtrue, label='yhatwtrue')\n",
    "plt.xlabel('$A_{uu}^I/B_{uu}^I$')\n",
    "plt.ylabel('$\\sigma_{uu}/B_{uu}^I$')\n",
    "plt.legend()\n",
    "plt.show()"
   ]
  },
  {
   "cell_type": "markdown",
   "metadata": {},
   "source": [
    "## Error from variance"
   ]
  },
  {
   "cell_type": "code",
   "execution_count": 27,
   "metadata": {
    "scrolled": true
   },
   "outputs": [
    {
     "data": {
      "image/png": "[encoded data removed]",
      "text/plain": [
       "<Figure size 432x288 with 1 Axes>"
      ]
     },
     "metadata": {
      "needs_background": "light"
     },
     "output_type": "display_data"
    }
   ],
   "source": [
    "plt.errorbar(aoverb(data, bhdvcs), produceLHS(data, bhdvcs), yerr=err, fmt='go', label='y')\n",
    "plt.plot(aoverb(data, bhdvcs), yhat, label='yhat')\n",
    "plt.plot(aoverb(data, bhdvcs), yhatlower, label='yhatlowerCI')\n",
    "plt.plot(aoverb(data, bhdvcs), yhatupper, label='yhatupperCI')\n",
    "plt.plot(aoverb(data, bhdvcs), yhatwtrue, label='yhatwtrue')\n",
    "plt.xlabel('$A_{uu}^I/B_{uu}^I$')\n",
    "plt.ylabel('$\\sigma_{uu}/B_{uu}^I$')\n",
    "plt.legend()\n",
    "plt.show()"
   ]
  },
  {
   "cell_type": "markdown",
   "metadata": {},
   "source": [
    "## Limits"
   ]
  },
  {
   "cell_type": "code",
   "execution_count": 140,
   "metadata": {},
   "outputs": [],
   "source": [
    "high = data.copy()\n",
    "high['F'] = data['F'] + data['errF']\n",
    "low = data.copy()\n",
    "low['F'] = data['F'] - data['errF']"
   ]
  },
  {
   "cell_type": "code",
   "execution_count": 141,
   "metadata": {},
   "outputs": [
    {
     "data": {
      "text/html": [
       "<div>\n",
       "<style scoped>\n",
       "    .dataframe tbody tr th:only-of-type {\n",
       "        vertical-align: middle;\n",
       "    }\n",
       "\n",
       "    .dataframe tbody tr th {\n",
       "        vertical-align: top;\n",
       "    }\n",
       "\n",
       "    .dataframe thead th {\n",
       "        text-align: right;\n",
       "    }\n",
       "</style>\n",
       "<table border=\"1\" class=\"dataframe\">\n",
       "  <thead>\n",
       "    <tr style=\"text-align: right;\">\n",
       "      <th></th>\n",
       "      <th>#Set</th>\n",
       "      <th>index</th>\n",
       "      <th>errF</th>\n",
       "      <th>F</th>\n",
       "      <th>phi_x</th>\n",
       "      <th>QQ</th>\n",
       "      <th>x_b</th>\n",
       "      <th>t</th>\n",
       "      <th>k</th>\n",
       "      <th>F1</th>\n",
       "      <th>F2</th>\n",
       "      <th>dvcs</th>\n",
       "      <th>ReH</th>\n",
       "      <th>ReE</th>\n",
       "      <th>ReHtilde</th>\n",
       "    </tr>\n",
       "  </thead>\n",
       "  <tbody>\n",
       "    <tr>\n",
       "      <th>0</th>\n",
       "      <td>0</td>\n",
       "      <td>0</td>\n",
       "      <td>25081.524489</td>\n",
       "      <td>25138.168588</td>\n",
       "      <td>0</td>\n",
       "      <td>1.74013</td>\n",
       "      <td>0.435095</td>\n",
       "      <td>-0.380868</td>\n",
       "      <td>3.75</td>\n",
       "      <td>0.498060</td>\n",
       "      <td>0.68579</td>\n",
       "      <td>0.012288</td>\n",
       "      <td>13.0554</td>\n",
       "      <td>-53.0554</td>\n",
       "      <td>7.25302</td>\n",
       "    </tr>\n",
       "    <tr>\n",
       "      <th>1</th>\n",
       "      <td>0</td>\n",
       "      <td>1</td>\n",
       "      <td>26351.191492</td>\n",
       "      <td>26408.281825</td>\n",
       "      <td>10</td>\n",
       "      <td>1.74013</td>\n",
       "      <td>0.435095</td>\n",
       "      <td>-0.380868</td>\n",
       "      <td>3.75</td>\n",
       "      <td>0.498060</td>\n",
       "      <td>0.68579</td>\n",
       "      <td>0.012288</td>\n",
       "      <td>13.0554</td>\n",
       "      <td>-53.0554</td>\n",
       "      <td>7.25302</td>\n",
       "    </tr>\n",
       "    <tr>\n",
       "      <th>2</th>\n",
       "      <td>0</td>\n",
       "      <td>2</td>\n",
       "      <td>25735.520380</td>\n",
       "      <td>25784.978030</td>\n",
       "      <td>20</td>\n",
       "      <td>1.74013</td>\n",
       "      <td>0.435095</td>\n",
       "      <td>-0.380868</td>\n",
       "      <td>3.75</td>\n",
       "      <td>0.498060</td>\n",
       "      <td>0.68579</td>\n",
       "      <td>0.012288</td>\n",
       "      <td>13.0554</td>\n",
       "      <td>-53.0554</td>\n",
       "      <td>7.25302</td>\n",
       "    </tr>\n",
       "    <tr>\n",
       "      <th>3</th>\n",
       "      <td>0</td>\n",
       "      <td>3</td>\n",
       "      <td>27506.073129</td>\n",
       "      <td>27549.801901</td>\n",
       "      <td>30</td>\n",
       "      <td>1.74013</td>\n",
       "      <td>0.435095</td>\n",
       "      <td>-0.380868</td>\n",
       "      <td>3.75</td>\n",
       "      <td>0.498060</td>\n",
       "      <td>0.68579</td>\n",
       "      <td>0.012288</td>\n",
       "      <td>13.0554</td>\n",
       "      <td>-53.0554</td>\n",
       "      <td>7.25302</td>\n",
       "    </tr>\n",
       "    <tr>\n",
       "      <th>4</th>\n",
       "      <td>0</td>\n",
       "      <td>4</td>\n",
       "      <td>27565.719183</td>\n",
       "      <td>27599.769229</td>\n",
       "      <td>40</td>\n",
       "      <td>1.74013</td>\n",
       "      <td>0.435095</td>\n",
       "      <td>-0.380868</td>\n",
       "      <td>3.75</td>\n",
       "      <td>0.498060</td>\n",
       "      <td>0.68579</td>\n",
       "      <td>0.012288</td>\n",
       "      <td>13.0554</td>\n",
       "      <td>-53.0554</td>\n",
       "      <td>7.25302</td>\n",
       "    </tr>\n",
       "    <tr>\n",
       "      <th>...</th>\n",
       "      <td>...</td>\n",
       "      <td>...</td>\n",
       "      <td>...</td>\n",
       "      <td>...</td>\n",
       "      <td>...</td>\n",
       "      <td>...</td>\n",
       "      <td>...</td>\n",
       "      <td>...</td>\n",
       "      <td>...</td>\n",
       "      <td>...</td>\n",
       "      <td>...</td>\n",
       "      <td>...</td>\n",
       "      <td>...</td>\n",
       "      <td>...</td>\n",
       "      <td>...</td>\n",
       "    </tr>\n",
       "    <tr>\n",
       "      <th>535</th>\n",
       "      <td>14</td>\n",
       "      <td>31</td>\n",
       "      <td>205922.720357</td>\n",
       "      <td>205958.766365</td>\n",
       "      <td>310</td>\n",
       "      <td>2.63258</td>\n",
       "      <td>0.345012</td>\n",
       "      <td>-0.361188</td>\n",
       "      <td>7.75</td>\n",
       "      <td>0.512913</td>\n",
       "      <td>0.71481</td>\n",
       "      <td>0.012288</td>\n",
       "      <td>11.7411</td>\n",
       "      <td>-51.7411</td>\n",
       "      <td>6.52283</td>\n",
       "    </tr>\n",
       "    <tr>\n",
       "      <th>536</th>\n",
       "      <td>14</td>\n",
       "      <td>32</td>\n",
       "      <td>163100.166302</td>\n",
       "      <td>163138.850578</td>\n",
       "      <td>320</td>\n",
       "      <td>2.63258</td>\n",
       "      <td>0.345012</td>\n",
       "      <td>-0.361188</td>\n",
       "      <td>7.75</td>\n",
       "      <td>0.512913</td>\n",
       "      <td>0.71481</td>\n",
       "      <td>0.012288</td>\n",
       "      <td>11.7411</td>\n",
       "      <td>-51.7411</td>\n",
       "      <td>6.52283</td>\n",
       "    </tr>\n",
       "    <tr>\n",
       "      <th>537</th>\n",
       "      <td>14</td>\n",
       "      <td>33</td>\n",
       "      <td>166251.770829</td>\n",
       "      <td>166301.670076</td>\n",
       "      <td>330</td>\n",
       "      <td>2.63258</td>\n",
       "      <td>0.345012</td>\n",
       "      <td>-0.361188</td>\n",
       "      <td>7.75</td>\n",
       "      <td>0.512913</td>\n",
       "      <td>0.71481</td>\n",
       "      <td>0.012288</td>\n",
       "      <td>11.7411</td>\n",
       "      <td>-51.7411</td>\n",
       "      <td>6.52283</td>\n",
       "    </tr>\n",
       "    <tr>\n",
       "      <th>538</th>\n",
       "      <td>14</td>\n",
       "      <td>34</td>\n",
       "      <td>181674.765242</td>\n",
       "      <td>181739.540946</td>\n",
       "      <td>340</td>\n",
       "      <td>2.63258</td>\n",
       "      <td>0.345012</td>\n",
       "      <td>-0.361188</td>\n",
       "      <td>7.75</td>\n",
       "      <td>0.512913</td>\n",
       "      <td>0.71481</td>\n",
       "      <td>0.012288</td>\n",
       "      <td>11.7411</td>\n",
       "      <td>-51.7411</td>\n",
       "      <td>6.52283</td>\n",
       "    </tr>\n",
       "    <tr>\n",
       "      <th>539</th>\n",
       "      <td>14</td>\n",
       "      <td>35</td>\n",
       "      <td>165637.484194</td>\n",
       "      <td>165703.191995</td>\n",
       "      <td>350</td>\n",
       "      <td>2.63258</td>\n",
       "      <td>0.345012</td>\n",
       "      <td>-0.361188</td>\n",
       "      <td>7.75</td>\n",
       "      <td>0.512913</td>\n",
       "      <td>0.71481</td>\n",
       "      <td>0.012288</td>\n",
       "      <td>11.7411</td>\n",
       "      <td>-51.7411</td>\n",
       "      <td>6.52283</td>\n",
       "    </tr>\n",
       "  </tbody>\n",
       "</table>\n",
       "<p>540 rows × 15 columns</p>\n",
       "</div>"
      ],
      "text/plain": [
       "     #Set  index           errF              F  phi_x       QQ       x_b  \\\n",
       "0       0      0   25081.524489   25138.168588      0  1.74013  0.435095   \n",
       "1       0      1   26351.191492   26408.281825     10  1.74013  0.435095   \n",
       "2       0      2   25735.520380   25784.978030     20  1.74013  0.435095   \n",
       "3       0      3   27506.073129   27549.801901     30  1.74013  0.435095   \n",
       "4       0      4   27565.719183   27599.769229     40  1.74013  0.435095   \n",
       "..    ...    ...            ...            ...    ...      ...       ...   \n",
       "535    14     31  205922.720357  205958.766365    310  2.63258  0.345012   \n",
       "536    14     32  163100.166302  163138.850578    320  2.63258  0.345012   \n",
       "537    14     33  166251.770829  166301.670076    330  2.63258  0.345012   \n",
       "538    14     34  181674.765242  181739.540946    340  2.63258  0.345012   \n",
       "539    14     35  165637.484194  165703.191995    350  2.63258  0.345012   \n",
       "\n",
       "            t     k        F1       F2      dvcs      ReH      ReE  ReHtilde  \n",
       "0   -0.380868  3.75  0.498060  0.68579  0.012288  13.0554 -53.0554   7.25302  \n",
       "1   -0.380868  3.75  0.498060  0.68579  0.012288  13.0554 -53.0554   7.25302  \n",
       "2   -0.380868  3.75  0.498060  0.68579  0.012288  13.0554 -53.0554   7.25302  \n",
       "3   -0.380868  3.75  0.498060  0.68579  0.012288  13.0554 -53.0554   7.25302  \n",
       "4   -0.380868  3.75  0.498060  0.68579  0.012288  13.0554 -53.0554   7.25302  \n",
       "..        ...   ...       ...      ...       ...      ...      ...       ...  \n",
       "535 -0.361188  7.75  0.512913  0.71481  0.012288  11.7411 -51.7411   6.52283  \n",
       "536 -0.361188  7.75  0.512913  0.71481  0.012288  11.7411 -51.7411   6.52283  \n",
       "537 -0.361188  7.75  0.512913  0.71481  0.012288  11.7411 -51.7411   6.52283  \n",
       "538 -0.361188  7.75  0.512913  0.71481  0.012288  11.7411 -51.7411   6.52283  \n",
       "539 -0.361188  7.75  0.512913  0.71481  0.012288  11.7411 -51.7411   6.52283  \n",
       "\n",
       "[540 rows x 15 columns]"
      ]
     },
     "execution_count": 141,
     "metadata": {},
     "output_type": "execute_result"
    }
   ],
   "source": [
    "high"
   ]
  },
  {
   "cell_type": "code",
   "execution_count": 25,
   "metadata": {
    "scrolled": false
   },
   "outputs": [
    {
     "data": {
      "image/png": "[encoded data removed]",
      "text/plain": [
       "<Figure size 432x288 with 1 Axes>"
      ]
     },
     "metadata": {
      "needs_background": "light"
     },
     "output_type": "display_data"
    }
   ],
   "source": [
    "plt.scatter(x=aoverb(high, bhdvcs), y=produceLHS(high, bhdvcs), label='high')\n",
    "plt.scatter(x=aoverb(data, bhdvcs), y=produceLHS(data, bhdvcs), label='center')\n",
    "plt.scatter(x=aoverb(low, bhdvcs), y=produceLHS(low, bhdvcs), label='low')\n",
    "plt.xlabel('$A_{uu}^I/B_{uu}^I$')\n",
    "plt.ylabel('$\\sigma_{uu}/B_{uu}^I$')\n",
    "plt.legend()\n",
    "plt.show()"
   ]
  },
  {
   "cell_type": "markdown",
   "metadata": {},
   "source": [
    "## Error from limits"
   ]
  },
  {
   "cell_type": "code",
   "execution_count": 43,
   "metadata": {},
   "outputs": [
    {
     "data": {
      "text/plain": [
       "1.0"
      ]
     },
     "execution_count": 43,
     "metadata": {},
     "output_type": "execute_result"
    }
   ],
   "source": [
    "np.log10(1 + np.log10(1000000000))"
   ]
  },
  {
   "cell_type": "markdown",
   "metadata": {},
   "source": [
    "$$\\left[\\frac{100000}{\\sqrt{N_{\\text{teammates}}}}\\right]\\left[\\text{Rank}^{-0.75}\\right]\\left[\\log_{10}( 1 + \\log_{10}(N_{\\text{teams}}))\\right]\\left[e^{-t/500}\\right]$$"
   ]
  },
  {
   "cell_type": "code",
   "execution_count": 37,
   "metadata": {},
   "outputs": [
    {
     "data": {
      "image/png": "[encoded data removed]",
      "text/plain": [
       "<Figure size 432x288 with 1 Axes>"
      ]
     },
     "metadata": {
      "needs_background": "light"
     },
     "output_type": "display_data"
    }
   ],
   "source": [
    "#plt.errorbar(aoverb(data, bhdvcs), produceLHS(data, bhdvcs), yerr=err, fmt='go', label='y')\n",
    "plt.plot(aoverb(data, bhdvcs), yhat, label='yhat')\n",
    "plt.plot(aoverb(low, bhdvcs), produceLHS(low, bhdvcs), 'o', label='yhatlowerCI')\n",
    "plt.plot(aoverb(high, bhdvcs), produceLHS(high, bhdvcs), 'o', label='yhatupperCI')\n",
    "plt.plot(aoverb(data, bhdvcs), yhatwtrue, label='yhatwtrue')\n",
    "plt.xlabel('$A_{uu}^I/B_{uu}^I$')\n",
    "plt.ylabel('$\\sigma_{uu}/B_{uu}^I$')\n",
    "plt.legend()\n",
    "plt.show()"
   ]
  },
  {
   "cell_type": "markdown",
   "metadata": {},
   "source": [
    "## A/B vs phi"
   ]
  },
  {
   "cell_type": "code",
   "execution_count": 23,
   "metadata": {
    "scrolled": true
   },
   "outputs": [
    {
     "data": {
      "image/png": "[encoded data removed]",
      "text/plain": [
       "<Figure size 432x288 with 1 Axes>"
      ]
     },
     "metadata": {
      "needs_background": "light"
     },
     "output_type": "display_data"
    }
   ],
   "source": [
    "plt.scatter(aoverb(data, bhdvcs), data['phi_x'])\n",
    "plt.xlabel('$A_{uu}^I/B_{uu}^I$')\n",
    "plt.ylabel('Phi')\n",
    "plt.show()"
   ]
  },
  {
   "cell_type": "markdown",
   "metadata": {},
   "source": [
    "# New Error"
   ]
  },
  {
   "cell_type": "code",
   "execution_count": 149,
   "metadata": {},
   "outputs": [],
   "source": [
    "y = produceLHS(data, bhdvcs)\n",
    "\n",
    "X = np.array(data[['QQ', 'x_b', 't', 'k', 'phi_x', 'F1', 'F2']])\n",
    "high = data.copy()\n",
    "high['F'] = data['F'] + data['errF']\n",
    "err = np.abs(produceLHS(high, bhdvcs) - y)"
   ]
  },
  {
   "cell_type": "code",
   "execution_count": 152,
   "metadata": {},
   "outputs": [],
   "source": [
    "err = produceLHSerr(data, bhdvcs)"
   ]
  },
  {
   "cell_type": "code",
   "execution_count": 60,
   "metadata": {},
   "outputs": [],
   "source": [
    "cffs, var = optimize.curve_fit(linear_curve_fit, X, y, sigma=err)"
   ]
  },
  {
   "cell_type": "code",
   "execution_count": 61,
   "metadata": {},
   "outputs": [
    {
     "data": {
      "text/plain": [
       "array([-4.14998417, 30.11224422])"
      ]
     },
     "execution_count": 61,
     "metadata": {},
     "output_type": "execute_result"
    }
   ],
   "source": [
    "cffs"
   ]
  },
  {
   "cell_type": "code",
   "execution_count": null,
   "metadata": {},
   "outputs": [],
   "source": [
    "plt.plot(aoverb(data, bhdvcs), produceLHS(data, bhdvcs), 'go', label='y')\n",
    "plt.plot(aoverb(data, bhdvcs), yhat, label='yhat')\n",
    "plt.plot(aoverb(data, bhdvcs), yhatwtrue, label='yhatwtrue')\n",
    "plt.xlabel('$A_{uu}^I/B_{uu}^I$')\n",
    "plt.ylabel('$\\sigma_{uu}/B_{uu}^I$')\n",
    "plt.legend()\n",
    "plt.show()"
   ]
  },
  {
   "cell_type": "markdown",
   "metadata": {},
   "source": [
    "# Simultaneous"
   ]
  },
  {
   "cell_type": "code",
   "execution_count": 38,
   "metadata": {},
   "outputs": [],
   "source": [
    "import BHDVCStf"
   ]
  },
  {
   "cell_type": "code",
   "execution_count": 39,
   "metadata": {},
   "outputs": [],
   "source": [
    "import utilities"
   ]
  },
  {
   "cell_type": "code",
   "execution_count": 103,
   "metadata": {},
   "outputs": [],
   "source": [
    "def combined_function(data, ReH, ReE, ReHtilde):\n",
    "    dftu = data.copy()\n",
    "    dftu['F'] = bhdvcs.TotalUUXS(np.array(data[['phi_x', 'k', 'QQ', 'x_b', 't', 'F1', 'F2', 'dvcs']]), ReH, ReE, ReHtilde)\n",
    "    y1 = produceLHS(dftu, bhdvcs)\n",
    "    X = np.array(data[['QQ', 'x_b', 't', 'k', 'phi_x', 'F1', 'F2']])\n",
    "    y2 = linear_curve_fit(X, ReH, ReE)\n",
    "    return np.array((y1 + y2)/2)"
   ]
  },
  {
   "cell_type": "code",
   "execution_count": 163,
   "metadata": {},
   "outputs": [],
   "source": [
    "data = pd.read_csv('dvcs_psuedo.csv')"
   ]
  },
  {
   "cell_type": "code",
   "execution_count": 164,
   "metadata": {},
   "outputs": [],
   "source": [
    "data['F'] = produceLHS(data, bhdvcs)"
   ]
  },
  {
   "cell_type": "code",
   "execution_count": 165,
   "metadata": {},
   "outputs": [],
   "source": [
    "high = data.copy()\n",
    "high['F'] = high['F'] + high['errF']\n",
    "data['errF'] = np.abs(produceLHS(high, bhdvcs) - data['F'])"
   ]
  },
  {
   "cell_type": "code",
   "execution_count": 167,
   "metadata": {},
   "outputs": [
    {
     "data": {
      "text/plain": [
       "count    5.400000e+02\n",
       "mean     1.771357e+23\n",
       "std      1.110558e+24\n",
       "min      2.478243e+01\n",
       "25%      5.754376e+04\n",
       "50%      1.466405e+05\n",
       "75%      5.665330e+05\n",
       "max      1.004347e+25\n",
       "Name: errF, dtype: float64"
      ]
     },
     "execution_count": 167,
     "metadata": {},
     "output_type": "execute_result"
    }
   ],
   "source": [
    "data['errF'].describe()"
   ]
  },
  {
   "cell_type": "code",
   "execution_count": 108,
   "metadata": {},
   "outputs": [
    {
     "data": {
      "text/plain": [
       "array([ 14.27053015,  14.18726434,  13.97456414,  13.7323913 ,\n",
       "        13.59776836,  13.72086449,  14.25384534,  15.35368962,\n",
       "        17.19516441,  24.01063197,  29.61165748,  37.24188467,\n",
       "        47.40651283,  60.49420681,  76.30235026,  93.13221648,\n",
       "       106.95007874, 112.4407308 ])"
      ]
     },
     "execution_count": 108,
     "metadata": {},
     "output_type": "execute_result"
    }
   ],
   "source": [
    "combined_function(data, 1., 1., 20.)"
   ]
  },
  {
   "cell_type": "code",
   "execution_count": 126,
   "metadata": {},
   "outputs": [],
   "source": [
    "def produceResults(data, numSets, numReplicas):\n",
    "    '''\n",
    "    :param data: data of class DvcsData (which can be found in utilities.py)\n",
    "    :param numSets: number of different kinematic sets contained in data\n",
    "    :param numReplicas: number of replicas you would like to produce\n",
    "    \n",
    "    :returns: numpy array with shape (numSets, numReplicas, numCFFs)\n",
    "    '''\n",
    "    results = []\n",
    "    for i in tqdm(range(numSets)):\n",
    "        seti = data.loc[(data['#Set'] == i) & (data['phi_x'] <= 180) & (data['phi_x'] != 90), :]\n",
    "        replicas = []\n",
    "        #X = np.array(seti.XnoCFF) # the kinematics and all variables necessary to compute \n",
    "        #sigma = seti.erry \n",
    "        pars = np.array([1, 1, 1])\n",
    "        for i in range(numReplicas):\n",
    "            #y = seti.sampleY()\n",
    "            cff, cffcov = optimize.curve_fit(combined_function, seti, seti['F'], pars, method='lm')\n",
    "            replicas.append(cff)\n",
    "        results.append(replicas)\n",
    "    return np.array(results)"
   ]
  },
  {
   "cell_type": "code",
   "execution_count": 127,
   "metadata": {
    "scrolled": true
   },
   "outputs": [
    {
     "name": "stderr",
     "output_type": "stream",
     "text": [
      "100%|██████████| 15/15 [00:16<00:00,  1.10s/it]\n"
     ]
    }
   ],
   "source": [
    "results = produceResults(data, 15, 1)"
   ]
  },
  {
   "cell_type": "code",
   "execution_count": 130,
   "metadata": {},
   "outputs": [],
   "source": [
    "import utilities as uts"
   ]
  },
  {
   "cell_type": "code",
   "execution_count": 133,
   "metadata": {},
   "outputs": [],
   "source": [
    "y_yhat, err = uts.y_yhat_errCFFs(uts.DvcsData(data), results, 0)"
   ]
  },
  {
   "cell_type": "code",
   "execution_count": 135,
   "metadata": {},
   "outputs": [
    {
     "name": "stdout",
     "output_type": "stream",
     "text": [
      "Mean percent error:  28.10510889888377\n",
      "RMSE:  3.467259854776928\n",
      "RMSE w yhat=mean:  2.5254628436780107\n",
      "R-squared:  -0.884910856650496\n"
     ]
    },
    {
     "data": {
      "image/png": "[encoded data removed]",
      "text/plain": [
       "<Figure size 432x288 with 1 Axes>"
      ]
     },
     "metadata": {
      "needs_background": "light"
     },
     "output_type": "display_data"
    }
   ],
   "source": [
    "uts.evaluate(y_yhat)"
   ]
  },
  {
   "cell_type": "code",
   "execution_count": 136,
   "metadata": {},
   "outputs": [],
   "source": [
    "y_yhat, err = uts.y_yhat_errCFFs(uts.DvcsData(data), results, 1)"
   ]
  },
  {
   "cell_type": "code",
   "execution_count": 137,
   "metadata": {},
   "outputs": [
    {
     "name": "stdout",
     "output_type": "stream",
     "text": [
      "Mean percent error:  30.48759203241225\n",
      "RMSE:  19.741552613266293\n",
      "RMSE w yhat=mean:  2.525480507907797\n",
      "R-squared:  -60.104693417140794\n"
     ]
    },
    {
     "data": {
      "image/png": "[encoded data removed]",
      "text/plain": [
       "<Figure size 432x288 with 1 Axes>"
      ]
     },
     "metadata": {
      "needs_background": "light"
     },
     "output_type": "display_data"
    }
   ],
   "source": [
    "uts.evaluate(y_yhat)"
   ]
  },
  {
   "cell_type": "code",
   "execution_count": 138,
   "metadata": {},
   "outputs": [],
   "source": [
    "y_yhat, err = uts.y_yhat_errCFFs(uts.DvcsData(data), results, 2)"
   ]
  },
  {
   "cell_type": "code",
   "execution_count": 139,
   "metadata": {},
   "outputs": [
    {
     "name": "stdout",
     "output_type": "stream",
     "text": [
      "Mean percent error:  49.65253896508765\n",
      "RMSE:  7.249909738406301\n",
      "RMSE w yhat=mean:  1.4030345621243816\n",
      "R-squared:  -25.701057391692828\n"
     ]
    },
    {
     "data": {
      "image/png": "[encoded data removed]",
      "text/plain": [
       "<Figure size 432x288 with 1 Axes>"
      ]
     },
     "metadata": {
      "needs_background": "light"
     },
     "output_type": "display_data"
    }
   ],
   "source": [
    "uts.evaluate(y_yhat)"
   ]
  },
  {
   "cell_type": "markdown",
   "metadata": {},
   "source": [
    "# Optimize by average Chi-square"
   ]
  },
  {
   "cell_type": "code",
   "execution_count": 32,
   "metadata": {},
   "outputs": [],
   "source": [
    "def combined_function_chisq(cffs, data):\n",
    "    ReH, ReE, ReHtilde = cffs\n",
    "    dftu = data.copy()\n",
    "    dftu['F'] = bhdvcs.TotalUUXS(np.array(data[['phi_x', 'k', 'QQ', 'x_b', 't', 'F1', 'F2', 'dvcs']]), ReH, ReE, ReHtilde)\n",
    "    yhat1 = produceLHS(dftu, bhdvcs)\n",
    "    X = np.array(data[['QQ', 'x_b', 't', 'k', 'phi_x', 'F1', 'F2']])\n",
    "    yhat2 = linear_curve_fit(X, ReH, ReE)\n",
    "    chisq1 = np.sum(((yhat1 - data['F'])/data['errF'])**2)\n",
    "    chisq2 = np.sum(((yhat2 - data['F'])/data['errF'])**2)\n",
    "    return (chisq1 + chisq2)/2"
   ]
  },
  {
   "cell_type": "code",
   "execution_count": 38,
   "metadata": {},
   "outputs": [],
   "source": [
    "data = pd.read_csv('dvcs_May21.csv')\n",
    "data = data.loc[(data['#Set'] == 1) & (data['phi_x'] <= 180) & (data['phi_x'] != 90), :]"
   ]
  },
  {
   "cell_type": "code",
   "execution_count": 39,
   "metadata": {},
   "outputs": [
    {
     "data": {
      "text/plain": [
       "      fun: 972.3773378842739\n",
       " hess_inv: array([[ 1.14446414e-09, -6.13724596e-09,  4.97406431e-09],\n",
       "       [-6.13724596e-09,  5.32002090e-08, -4.69106791e-08],\n",
       "       [ 4.97406431e-09, -4.69106791e-08,  4.18039318e-08]])\n",
       "      jac: array([ 0.02075195, -0.00143433,  0.012146  ])\n",
       "  message: 'Desired error not necessarily achieved due to precision loss.'\n",
       "     nfev: 347\n",
       "      nit: 9\n",
       "     njev: 67\n",
       "   status: 2\n",
       "  success: False\n",
       "        x: array([-0.0113396 ,  0.07567396, -0.00141167])"
      ]
     },
     "execution_count": 39,
     "metadata": {},
     "output_type": "execute_result"
    }
   ],
   "source": [
    "x0 = np.array([1, 1, 1])\n",
    "optimize.minimize(combined_function_chisq, x0, args=data)"
   ]
  },
  {
   "cell_type": "markdown",
   "metadata": {},
   "source": [
    "# Redo"
   ]
  },
  {
   "cell_type": "code",
   "execution_count": 86,
   "metadata": {},
   "outputs": [],
   "source": [
    "import utilities as uts\n",
    "from tqdm import tqdm"
   ]
  },
  {
   "cell_type": "code",
   "execution_count": 87,
   "metadata": {},
   "outputs": [],
   "source": [
    "def produceLHS(data, bhdvcs):\n",
    "    bhdvcs.SetKinematics(data['QQ'], data['x_b'], data['t'], data['k'])\n",
    "    bh = bhdvcs.GetBHUUxs(data['phi_x'], data['F1'], data['F2'])\n",
    "    interference = data['F'] - data['dvcs'] - bh\n",
    "    interference /= bhdvcs.Gamma\n",
    "    interference *= data['QQ']\n",
    "    interference *= np.abs(data['t'])\n",
    "    a, b = bhdvcs.ABcon(data['phi_x'], data['F1'], data['F2'])\n",
    "    interference /= b\n",
    "    return -interference"
   ]
  },
  {
   "cell_type": "code",
   "execution_count": 88,
   "metadata": {},
   "outputs": [],
   "source": [
    "def produceLHSerr(data, bhdvcs):\n",
    "    bhdvcs.SetKinematics(data['QQ'], data['x_b'], data['t'], data['k'])\n",
    "    err = data['errF']\n",
    "    err /= bhdvcs.Gamma\n",
    "    err *= data['QQ']\n",
    "    err *= np.abs(data['t'])\n",
    "    a, b = bhdvcs.ABcon(data['phi_x'], data['F1'], data['F2'])\n",
    "    err /= b\n",
    "    return np.abs(err)"
   ]
  },
  {
   "cell_type": "code",
   "execution_count": 89,
   "metadata": {},
   "outputs": [],
   "source": [
    "def aoverb(data, bhdvcs):\n",
    "    bhdvcs.SetKinematics(data['QQ'], data['x_b'], data['t'], data['k'])\n",
    "    a, b = bhdvcs.ABcon(data['phi_x'], data['F1'], data['F2'])\n",
    "    return a/b"
   ]
  },
  {
   "cell_type": "code",
   "execution_count": 90,
   "metadata": {},
   "outputs": [],
   "source": [
    "def linear_curve_fit(data, ReH, ReE):\n",
    "    bhdvcs.SetKinematics(data[:, 0], data[:, 1], data[:, 2], data[:, 3])\n",
    "    a, b = bhdvcs.ABcon(data[:, 4], data[:, 5], data[:, 6])\n",
    "    #tau = -data['t']/(4*bhdvcs.M2)\n",
    "    gm = data[:, 5] + data[:, 6]\n",
    "    return (a/b)*(data[:, 5]*ReH + bhdvcs.tau*data[:, 6]*ReE) + gm*(ReH + ReE)"
   ]
  },
  {
   "cell_type": "code",
   "execution_count": 91,
   "metadata": {},
   "outputs": [],
   "source": [
    "def combined_function_chisq(cffs, data):\n",
    "    ReH, ReE, ReHtilde = cffs\n",
    "    dftu = data.copy()\n",
    "    dftu['F'] = bhdvcs.TotalUUXS(np.array(data[['phi_x', 'k', 'QQ', 'x_b', 't', 'F1', 'F2', 'dvcs']]), ReH, ReE, ReHtilde)\n",
    "    yhat1 = produceLHS(dftu, bhdvcs)\n",
    "    X = np.array(data[['QQ', 'x_b', 't', 'k', 'phi_x', 'F1', 'F2']])\n",
    "    yhat2 = linear_curve_fit(X, ReH, ReE)\n",
    "    chisq1 = np.sum(((yhat1 - data['F'])/data['errF'])**2)\n",
    "    chisq2 = np.sum(((yhat2 - data['F'])/data['errF'])**2)\n",
    "    return (chisq1 + chisq2)/2"
   ]
  },
  {
   "cell_type": "code",
   "execution_count": 120,
   "metadata": {},
   "outputs": [],
   "source": [
    "data = pd.read_csv('dvcs_May21.csv')\n",
    "data['dvcs'] = .0214549"
   ]
  },
  {
   "cell_type": "code",
   "execution_count": 100,
   "metadata": {},
   "outputs": [],
   "source": [
    "high = data.copy()\n",
    "high['F'] = high['F'] + high['sigmaF']\n",
    "data['sigmaF'] = np.abs(produceLHS(high, bhdvcs) - produceLHS(data, bhdvcs))"
   ]
  },
  {
   "cell_type": "code",
   "execution_count": 101,
   "metadata": {},
   "outputs": [],
   "source": [
    "data['F'] = produceLHS(data, bhdvcs)"
   ]
  },
  {
   "cell_type": "markdown",
   "metadata": {},
   "source": [
    "# Test line_func"
   ]
  },
  {
   "cell_type": "code",
   "execution_count": 130,
   "metadata": {},
   "outputs": [],
   "source": [
    "def testFunc(data, bhdvcs):\n",
    "    bhdvcs.SetKinematics(data['QQ'], data['x_b'], data['t'], data['k'])\n",
    "    bh = bhdvcs.GetBHUUxs(data['phi_x'], data['F1'], data['F2'])\n",
    "    return bh\n",
    "    #interference = data['F'] - data['dvcs'] - bh\n",
    "    #interference /= bhdvcs.Gamma\n",
    "    #interference *= data['QQ']\n",
    "    #interference *= np.abs(data['t'])\n",
    "    #a, b = bhdvcs.ABcon(data['phi_x'], data['F1'], data['F2'])\n",
    "    #interference /= b\n",
    "    return interference"
   ]
  },
  {
   "cell_type": "code",
   "execution_count": 125,
   "metadata": {},
   "outputs": [
    {
     "data": {
      "text/plain": [
       "4.193969999999999"
      ]
     },
     "execution_count": 125,
     "metadata": {},
     "output_type": "execute_result"
    }
   ],
   "source": [
    "data['F'][0]"
   ]
  },
  {
   "cell_type": "code",
   "execution_count": 132,
   "metadata": {},
   "outputs": [
    {
     "data": {
      "text/plain": [
       "<tf.Tensor: shape=(), dtype=float64, numpy=0.22370848360156267>"
      ]
     },
     "execution_count": 132,
     "metadata": {},
     "output_type": "execute_result"
    }
   ],
   "source": [
    "testFunc(data, bhdvcs)[9]"
   ]
  },
  {
   "cell_type": "code",
   "execution_count": 117,
   "metadata": {},
   "outputs": [
    {
     "data": {
      "text/html": [
       "<div>\n",
       "<style scoped>\n",
       "    .dataframe tbody tr th:only-of-type {\n",
       "        vertical-align: middle;\n",
       "    }\n",
       "\n",
       "    .dataframe tbody tr th {\n",
       "        vertical-align: top;\n",
       "    }\n",
       "\n",
       "    .dataframe thead th {\n",
       "        text-align: right;\n",
       "    }\n",
       "</style>\n",
       "<table border=\"1\" class=\"dataframe\">\n",
       "  <thead>\n",
       "    <tr style=\"text-align: right;\">\n",
       "      <th></th>\n",
       "      <th>#Set</th>\n",
       "      <th>index</th>\n",
       "      <th>k</th>\n",
       "      <th>QQ</th>\n",
       "      <th>x_b</th>\n",
       "      <th>t</th>\n",
       "      <th>phi_x</th>\n",
       "      <th>F</th>\n",
       "      <th>sigmaF</th>\n",
       "      <th>varF</th>\n",
       "      <th>F1</th>\n",
       "      <th>F2</th>\n",
       "      <th>dvcs</th>\n",
       "    </tr>\n",
       "  </thead>\n",
       "  <tbody>\n",
       "    <tr>\n",
       "      <th>0</th>\n",
       "      <td>1</td>\n",
       "      <td>0</td>\n",
       "      <td>2.75</td>\n",
       "      <td>1.51576</td>\n",
       "      <td>0.369204</td>\n",
       "      <td>-0.306885</td>\n",
       "      <td>8</td>\n",
       "      <td>4.193970</td>\n",
       "      <td>0.209699</td>\n",
       "      <td>0.05</td>\n",
       "      <td>0.542867</td>\n",
       "      <td>0.798677</td>\n",
       "      <td>0.021455</td>\n",
       "    </tr>\n",
       "    <tr>\n",
       "      <th>1</th>\n",
       "      <td>1</td>\n",
       "      <td>1</td>\n",
       "      <td>2.75</td>\n",
       "      <td>1.51576</td>\n",
       "      <td>0.369204</td>\n",
       "      <td>-0.306885</td>\n",
       "      <td>16</td>\n",
       "      <td>2.950900</td>\n",
       "      <td>0.147545</td>\n",
       "      <td>0.05</td>\n",
       "      <td>0.542867</td>\n",
       "      <td>0.798677</td>\n",
       "      <td>0.021455</td>\n",
       "    </tr>\n",
       "    <tr>\n",
       "      <th>2</th>\n",
       "      <td>1</td>\n",
       "      <td>2</td>\n",
       "      <td>2.75</td>\n",
       "      <td>1.51576</td>\n",
       "      <td>0.369204</td>\n",
       "      <td>-0.306885</td>\n",
       "      <td>24</td>\n",
       "      <td>1.865680</td>\n",
       "      <td>0.093284</td>\n",
       "      <td>0.05</td>\n",
       "      <td>0.542867</td>\n",
       "      <td>0.798677</td>\n",
       "      <td>0.021455</td>\n",
       "    </tr>\n",
       "    <tr>\n",
       "      <th>3</th>\n",
       "      <td>1</td>\n",
       "      <td>3</td>\n",
       "      <td>2.75</td>\n",
       "      <td>1.51576</td>\n",
       "      <td>0.369204</td>\n",
       "      <td>-0.306885</td>\n",
       "      <td>32</td>\n",
       "      <td>1.139000</td>\n",
       "      <td>0.056950</td>\n",
       "      <td>0.05</td>\n",
       "      <td>0.542867</td>\n",
       "      <td>0.798677</td>\n",
       "      <td>0.021455</td>\n",
       "    </tr>\n",
       "    <tr>\n",
       "      <th>4</th>\n",
       "      <td>1</td>\n",
       "      <td>4</td>\n",
       "      <td>2.75</td>\n",
       "      <td>1.51576</td>\n",
       "      <td>0.369204</td>\n",
       "      <td>-0.306885</td>\n",
       "      <td>40</td>\n",
       "      <td>0.871079</td>\n",
       "      <td>0.043554</td>\n",
       "      <td>0.05</td>\n",
       "      <td>0.542867</td>\n",
       "      <td>0.798677</td>\n",
       "      <td>0.021455</td>\n",
       "    </tr>\n",
       "    <tr>\n",
       "      <th>5</th>\n",
       "      <td>1</td>\n",
       "      <td>5</td>\n",
       "      <td>2.75</td>\n",
       "      <td>1.51576</td>\n",
       "      <td>0.369204</td>\n",
       "      <td>-0.306885</td>\n",
       "      <td>48</td>\n",
       "      <td>0.640750</td>\n",
       "      <td>0.032037</td>\n",
       "      <td>0.05</td>\n",
       "      <td>0.542867</td>\n",
       "      <td>0.798677</td>\n",
       "      <td>0.021455</td>\n",
       "    </tr>\n",
       "    <tr>\n",
       "      <th>6</th>\n",
       "      <td>1</td>\n",
       "      <td>6</td>\n",
       "      <td>2.75</td>\n",
       "      <td>1.51576</td>\n",
       "      <td>0.369204</td>\n",
       "      <td>-0.306885</td>\n",
       "      <td>56</td>\n",
       "      <td>0.474527</td>\n",
       "      <td>0.023726</td>\n",
       "      <td>0.05</td>\n",
       "      <td>0.542867</td>\n",
       "      <td>0.798677</td>\n",
       "      <td>0.021455</td>\n",
       "    </tr>\n",
       "    <tr>\n",
       "      <th>7</th>\n",
       "      <td>1</td>\n",
       "      <td>7</td>\n",
       "      <td>2.75</td>\n",
       "      <td>1.51576</td>\n",
       "      <td>0.369204</td>\n",
       "      <td>-0.306885</td>\n",
       "      <td>64</td>\n",
       "      <td>0.391808</td>\n",
       "      <td>0.019590</td>\n",
       "      <td>0.05</td>\n",
       "      <td>0.542867</td>\n",
       "      <td>0.798677</td>\n",
       "      <td>0.021455</td>\n",
       "    </tr>\n",
       "    <tr>\n",
       "      <th>8</th>\n",
       "      <td>1</td>\n",
       "      <td>8</td>\n",
       "      <td>2.75</td>\n",
       "      <td>1.51576</td>\n",
       "      <td>0.369204</td>\n",
       "      <td>-0.306885</td>\n",
       "      <td>72</td>\n",
       "      <td>0.293337</td>\n",
       "      <td>0.014667</td>\n",
       "      <td>0.05</td>\n",
       "      <td>0.542867</td>\n",
       "      <td>0.798677</td>\n",
       "      <td>0.021455</td>\n",
       "    </tr>\n",
       "    <tr>\n",
       "      <th>9</th>\n",
       "      <td>1</td>\n",
       "      <td>9</td>\n",
       "      <td>2.75</td>\n",
       "      <td>1.51576</td>\n",
       "      <td>0.369204</td>\n",
       "      <td>-0.306885</td>\n",
       "      <td>80</td>\n",
       "      <td>0.256715</td>\n",
       "      <td>0.012836</td>\n",
       "      <td>0.05</td>\n",
       "      <td>0.542867</td>\n",
       "      <td>0.798677</td>\n",
       "      <td>0.021455</td>\n",
       "    </tr>\n",
       "    <tr>\n",
       "      <th>10</th>\n",
       "      <td>1</td>\n",
       "      <td>10</td>\n",
       "      <td>2.75</td>\n",
       "      <td>1.51576</td>\n",
       "      <td>0.369204</td>\n",
       "      <td>-0.306885</td>\n",
       "      <td>88</td>\n",
       "      <td>0.204206</td>\n",
       "      <td>0.010210</td>\n",
       "      <td>0.05</td>\n",
       "      <td>0.542867</td>\n",
       "      <td>0.798677</td>\n",
       "      <td>0.021455</td>\n",
       "    </tr>\n",
       "    <tr>\n",
       "      <th>11</th>\n",
       "      <td>1</td>\n",
       "      <td>11</td>\n",
       "      <td>2.75</td>\n",
       "      <td>1.51576</td>\n",
       "      <td>0.369204</td>\n",
       "      <td>-0.306885</td>\n",
       "      <td>96</td>\n",
       "      <td>0.182541</td>\n",
       "      <td>0.009127</td>\n",
       "      <td>0.05</td>\n",
       "      <td>0.542867</td>\n",
       "      <td>0.798677</td>\n",
       "      <td>0.021455</td>\n",
       "    </tr>\n",
       "    <tr>\n",
       "      <th>12</th>\n",
       "      <td>1</td>\n",
       "      <td>12</td>\n",
       "      <td>2.75</td>\n",
       "      <td>1.51576</td>\n",
       "      <td>0.369204</td>\n",
       "      <td>-0.306885</td>\n",
       "      <td>104</td>\n",
       "      <td>0.160291</td>\n",
       "      <td>0.008015</td>\n",
       "      <td>0.05</td>\n",
       "      <td>0.542867</td>\n",
       "      <td>0.798677</td>\n",
       "      <td>0.021455</td>\n",
       "    </tr>\n",
       "    <tr>\n",
       "      <th>13</th>\n",
       "      <td>1</td>\n",
       "      <td>13</td>\n",
       "      <td>2.75</td>\n",
       "      <td>1.51576</td>\n",
       "      <td>0.369204</td>\n",
       "      <td>-0.306885</td>\n",
       "      <td>112</td>\n",
       "      <td>0.130988</td>\n",
       "      <td>0.006549</td>\n",
       "      <td>0.05</td>\n",
       "      <td>0.542867</td>\n",
       "      <td>0.798677</td>\n",
       "      <td>0.021455</td>\n",
       "    </tr>\n",
       "    <tr>\n",
       "      <th>14</th>\n",
       "      <td>1</td>\n",
       "      <td>14</td>\n",
       "      <td>2.75</td>\n",
       "      <td>1.51576</td>\n",
       "      <td>0.369204</td>\n",
       "      <td>-0.306885</td>\n",
       "      <td>120</td>\n",
       "      <td>0.134580</td>\n",
       "      <td>0.006729</td>\n",
       "      <td>0.05</td>\n",
       "      <td>0.542867</td>\n",
       "      <td>0.798677</td>\n",
       "      <td>0.021455</td>\n",
       "    </tr>\n",
       "    <tr>\n",
       "      <th>15</th>\n",
       "      <td>1</td>\n",
       "      <td>15</td>\n",
       "      <td>2.75</td>\n",
       "      <td>1.51576</td>\n",
       "      <td>0.369204</td>\n",
       "      <td>-0.306885</td>\n",
       "      <td>128</td>\n",
       "      <td>0.114819</td>\n",
       "      <td>0.005741</td>\n",
       "      <td>0.05</td>\n",
       "      <td>0.542867</td>\n",
       "      <td>0.798677</td>\n",
       "      <td>0.021455</td>\n",
       "    </tr>\n",
       "    <tr>\n",
       "      <th>16</th>\n",
       "      <td>1</td>\n",
       "      <td>16</td>\n",
       "      <td>2.75</td>\n",
       "      <td>1.51576</td>\n",
       "      <td>0.369204</td>\n",
       "      <td>-0.306885</td>\n",
       "      <td>136</td>\n",
       "      <td>0.107080</td>\n",
       "      <td>0.005354</td>\n",
       "      <td>0.05</td>\n",
       "      <td>0.542867</td>\n",
       "      <td>0.798677</td>\n",
       "      <td>0.021455</td>\n",
       "    </tr>\n",
       "    <tr>\n",
       "      <th>17</th>\n",
       "      <td>1</td>\n",
       "      <td>17</td>\n",
       "      <td>2.75</td>\n",
       "      <td>1.51576</td>\n",
       "      <td>0.369204</td>\n",
       "      <td>-0.306885</td>\n",
       "      <td>144</td>\n",
       "      <td>0.101558</td>\n",
       "      <td>0.005078</td>\n",
       "      <td>0.05</td>\n",
       "      <td>0.542867</td>\n",
       "      <td>0.798677</td>\n",
       "      <td>0.021455</td>\n",
       "    </tr>\n",
       "    <tr>\n",
       "      <th>18</th>\n",
       "      <td>1</td>\n",
       "      <td>18</td>\n",
       "      <td>2.75</td>\n",
       "      <td>1.51576</td>\n",
       "      <td>0.369204</td>\n",
       "      <td>-0.306885</td>\n",
       "      <td>152</td>\n",
       "      <td>0.093940</td>\n",
       "      <td>0.004697</td>\n",
       "      <td>0.05</td>\n",
       "      <td>0.542867</td>\n",
       "      <td>0.798677</td>\n",
       "      <td>0.021455</td>\n",
       "    </tr>\n",
       "    <tr>\n",
       "      <th>19</th>\n",
       "      <td>1</td>\n",
       "      <td>19</td>\n",
       "      <td>2.75</td>\n",
       "      <td>1.51576</td>\n",
       "      <td>0.369204</td>\n",
       "      <td>-0.306885</td>\n",
       "      <td>160</td>\n",
       "      <td>0.091902</td>\n",
       "      <td>0.004595</td>\n",
       "      <td>0.05</td>\n",
       "      <td>0.542867</td>\n",
       "      <td>0.798677</td>\n",
       "      <td>0.021455</td>\n",
       "    </tr>\n",
       "    <tr>\n",
       "      <th>20</th>\n",
       "      <td>1</td>\n",
       "      <td>20</td>\n",
       "      <td>2.75</td>\n",
       "      <td>1.51576</td>\n",
       "      <td>0.369204</td>\n",
       "      <td>-0.306885</td>\n",
       "      <td>168</td>\n",
       "      <td>0.094242</td>\n",
       "      <td>0.004712</td>\n",
       "      <td>0.05</td>\n",
       "      <td>0.542867</td>\n",
       "      <td>0.798677</td>\n",
       "      <td>0.021455</td>\n",
       "    </tr>\n",
       "    <tr>\n",
       "      <th>21</th>\n",
       "      <td>1</td>\n",
       "      <td>21</td>\n",
       "      <td>2.75</td>\n",
       "      <td>1.51576</td>\n",
       "      <td>0.369204</td>\n",
       "      <td>-0.306885</td>\n",
       "      <td>176</td>\n",
       "      <td>0.093330</td>\n",
       "      <td>0.004667</td>\n",
       "      <td>0.05</td>\n",
       "      <td>0.542867</td>\n",
       "      <td>0.798677</td>\n",
       "      <td>0.021455</td>\n",
       "    </tr>\n",
       "    <tr>\n",
       "      <th>22</th>\n",
       "      <td>1</td>\n",
       "      <td>22</td>\n",
       "      <td>2.75</td>\n",
       "      <td>1.51576</td>\n",
       "      <td>0.369204</td>\n",
       "      <td>-0.306885</td>\n",
       "      <td>184</td>\n",
       "      <td>0.090850</td>\n",
       "      <td>0.004542</td>\n",
       "      <td>0.05</td>\n",
       "      <td>0.542867</td>\n",
       "      <td>0.798677</td>\n",
       "      <td>0.021455</td>\n",
       "    </tr>\n",
       "    <tr>\n",
       "      <th>23</th>\n",
       "      <td>1</td>\n",
       "      <td>23</td>\n",
       "      <td>2.75</td>\n",
       "      <td>1.51576</td>\n",
       "      <td>0.369204</td>\n",
       "      <td>-0.306885</td>\n",
       "      <td>192</td>\n",
       "      <td>0.086071</td>\n",
       "      <td>0.004304</td>\n",
       "      <td>0.05</td>\n",
       "      <td>0.542867</td>\n",
       "      <td>0.798677</td>\n",
       "      <td>0.021455</td>\n",
       "    </tr>\n",
       "    <tr>\n",
       "      <th>24</th>\n",
       "      <td>1</td>\n",
       "      <td>24</td>\n",
       "      <td>2.75</td>\n",
       "      <td>1.51576</td>\n",
       "      <td>0.369204</td>\n",
       "      <td>-0.306885</td>\n",
       "      <td>200</td>\n",
       "      <td>0.102205</td>\n",
       "      <td>0.005110</td>\n",
       "      <td>0.05</td>\n",
       "      <td>0.542867</td>\n",
       "      <td>0.798677</td>\n",
       "      <td>0.021455</td>\n",
       "    </tr>\n",
       "    <tr>\n",
       "      <th>25</th>\n",
       "      <td>1</td>\n",
       "      <td>25</td>\n",
       "      <td>2.75</td>\n",
       "      <td>1.51576</td>\n",
       "      <td>0.369204</td>\n",
       "      <td>-0.306885</td>\n",
       "      <td>208</td>\n",
       "      <td>0.105005</td>\n",
       "      <td>0.005250</td>\n",
       "      <td>0.05</td>\n",
       "      <td>0.542867</td>\n",
       "      <td>0.798677</td>\n",
       "      <td>0.021455</td>\n",
       "    </tr>\n",
       "    <tr>\n",
       "      <th>26</th>\n",
       "      <td>1</td>\n",
       "      <td>26</td>\n",
       "      <td>2.75</td>\n",
       "      <td>1.51576</td>\n",
       "      <td>0.369204</td>\n",
       "      <td>-0.306885</td>\n",
       "      <td>216</td>\n",
       "      <td>0.096090</td>\n",
       "      <td>0.004804</td>\n",
       "      <td>0.05</td>\n",
       "      <td>0.542867</td>\n",
       "      <td>0.798677</td>\n",
       "      <td>0.021455</td>\n",
       "    </tr>\n",
       "    <tr>\n",
       "      <th>27</th>\n",
       "      <td>1</td>\n",
       "      <td>27</td>\n",
       "      <td>2.75</td>\n",
       "      <td>1.51576</td>\n",
       "      <td>0.369204</td>\n",
       "      <td>-0.306885</td>\n",
       "      <td>224</td>\n",
       "      <td>0.105889</td>\n",
       "      <td>0.005294</td>\n",
       "      <td>0.05</td>\n",
       "      <td>0.542867</td>\n",
       "      <td>0.798677</td>\n",
       "      <td>0.021455</td>\n",
       "    </tr>\n",
       "    <tr>\n",
       "      <th>28</th>\n",
       "      <td>1</td>\n",
       "      <td>28</td>\n",
       "      <td>2.75</td>\n",
       "      <td>1.51576</td>\n",
       "      <td>0.369204</td>\n",
       "      <td>-0.306885</td>\n",
       "      <td>232</td>\n",
       "      <td>0.118959</td>\n",
       "      <td>0.005948</td>\n",
       "      <td>0.05</td>\n",
       "      <td>0.542867</td>\n",
       "      <td>0.798677</td>\n",
       "      <td>0.021455</td>\n",
       "    </tr>\n",
       "    <tr>\n",
       "      <th>29</th>\n",
       "      <td>1</td>\n",
       "      <td>29</td>\n",
       "      <td>2.75</td>\n",
       "      <td>1.51576</td>\n",
       "      <td>0.369204</td>\n",
       "      <td>-0.306885</td>\n",
       "      <td>240</td>\n",
       "      <td>0.119264</td>\n",
       "      <td>0.005963</td>\n",
       "      <td>0.05</td>\n",
       "      <td>0.542867</td>\n",
       "      <td>0.798677</td>\n",
       "      <td>0.021455</td>\n",
       "    </tr>\n",
       "    <tr>\n",
       "      <th>30</th>\n",
       "      <td>1</td>\n",
       "      <td>30</td>\n",
       "      <td>2.75</td>\n",
       "      <td>1.51576</td>\n",
       "      <td>0.369204</td>\n",
       "      <td>-0.306885</td>\n",
       "      <td>248</td>\n",
       "      <td>0.131332</td>\n",
       "      <td>0.006567</td>\n",
       "      <td>0.05</td>\n",
       "      <td>0.542867</td>\n",
       "      <td>0.798677</td>\n",
       "      <td>0.021455</td>\n",
       "    </tr>\n",
       "    <tr>\n",
       "      <th>31</th>\n",
       "      <td>1</td>\n",
       "      <td>31</td>\n",
       "      <td>2.75</td>\n",
       "      <td>1.51576</td>\n",
       "      <td>0.369204</td>\n",
       "      <td>-0.306885</td>\n",
       "      <td>256</td>\n",
       "      <td>0.154156</td>\n",
       "      <td>0.007708</td>\n",
       "      <td>0.05</td>\n",
       "      <td>0.542867</td>\n",
       "      <td>0.798677</td>\n",
       "      <td>0.021455</td>\n",
       "    </tr>\n",
       "    <tr>\n",
       "      <th>32</th>\n",
       "      <td>1</td>\n",
       "      <td>32</td>\n",
       "      <td>2.75</td>\n",
       "      <td>1.51576</td>\n",
       "      <td>0.369204</td>\n",
       "      <td>-0.306885</td>\n",
       "      <td>264</td>\n",
       "      <td>0.176926</td>\n",
       "      <td>0.008846</td>\n",
       "      <td>0.05</td>\n",
       "      <td>0.542867</td>\n",
       "      <td>0.798677</td>\n",
       "      <td>0.021455</td>\n",
       "    </tr>\n",
       "    <tr>\n",
       "      <th>33</th>\n",
       "      <td>1</td>\n",
       "      <td>33</td>\n",
       "      <td>2.75</td>\n",
       "      <td>1.51576</td>\n",
       "      <td>0.369204</td>\n",
       "      <td>-0.306885</td>\n",
       "      <td>272</td>\n",
       "      <td>0.201732</td>\n",
       "      <td>0.010087</td>\n",
       "      <td>0.05</td>\n",
       "      <td>0.542867</td>\n",
       "      <td>0.798677</td>\n",
       "      <td>0.021455</td>\n",
       "    </tr>\n",
       "    <tr>\n",
       "      <th>34</th>\n",
       "      <td>1</td>\n",
       "      <td>34</td>\n",
       "      <td>2.75</td>\n",
       "      <td>1.51576</td>\n",
       "      <td>0.369204</td>\n",
       "      <td>-0.306885</td>\n",
       "      <td>280</td>\n",
       "      <td>0.244551</td>\n",
       "      <td>0.012228</td>\n",
       "      <td>0.05</td>\n",
       "      <td>0.542867</td>\n",
       "      <td>0.798677</td>\n",
       "      <td>0.021455</td>\n",
       "    </tr>\n",
       "    <tr>\n",
       "      <th>35</th>\n",
       "      <td>1</td>\n",
       "      <td>35</td>\n",
       "      <td>2.75</td>\n",
       "      <td>1.51576</td>\n",
       "      <td>0.369204</td>\n",
       "      <td>-0.306885</td>\n",
       "      <td>288</td>\n",
       "      <td>0.313552</td>\n",
       "      <td>0.015678</td>\n",
       "      <td>0.05</td>\n",
       "      <td>0.542867</td>\n",
       "      <td>0.798677</td>\n",
       "      <td>0.021455</td>\n",
       "    </tr>\n",
       "    <tr>\n",
       "      <th>36</th>\n",
       "      <td>1</td>\n",
       "      <td>36</td>\n",
       "      <td>2.75</td>\n",
       "      <td>1.51576</td>\n",
       "      <td>0.369204</td>\n",
       "      <td>-0.306885</td>\n",
       "      <td>296</td>\n",
       "      <td>0.385957</td>\n",
       "      <td>0.019298</td>\n",
       "      <td>0.05</td>\n",
       "      <td>0.542867</td>\n",
       "      <td>0.798677</td>\n",
       "      <td>0.021455</td>\n",
       "    </tr>\n",
       "    <tr>\n",
       "      <th>37</th>\n",
       "      <td>1</td>\n",
       "      <td>37</td>\n",
       "      <td>2.75</td>\n",
       "      <td>1.51576</td>\n",
       "      <td>0.369204</td>\n",
       "      <td>-0.306885</td>\n",
       "      <td>304</td>\n",
       "      <td>0.443805</td>\n",
       "      <td>0.022190</td>\n",
       "      <td>0.05</td>\n",
       "      <td>0.542867</td>\n",
       "      <td>0.798677</td>\n",
       "      <td>0.021455</td>\n",
       "    </tr>\n",
       "    <tr>\n",
       "      <th>38</th>\n",
       "      <td>1</td>\n",
       "      <td>38</td>\n",
       "      <td>2.75</td>\n",
       "      <td>1.51576</td>\n",
       "      <td>0.369204</td>\n",
       "      <td>-0.306885</td>\n",
       "      <td>312</td>\n",
       "      <td>0.653683</td>\n",
       "      <td>0.032684</td>\n",
       "      <td>0.05</td>\n",
       "      <td>0.542867</td>\n",
       "      <td>0.798677</td>\n",
       "      <td>0.021455</td>\n",
       "    </tr>\n",
       "    <tr>\n",
       "      <th>39</th>\n",
       "      <td>1</td>\n",
       "      <td>39</td>\n",
       "      <td>2.75</td>\n",
       "      <td>1.51576</td>\n",
       "      <td>0.369204</td>\n",
       "      <td>-0.306885</td>\n",
       "      <td>320</td>\n",
       "      <td>0.861213</td>\n",
       "      <td>0.043061</td>\n",
       "      <td>0.05</td>\n",
       "      <td>0.542867</td>\n",
       "      <td>0.798677</td>\n",
       "      <td>0.021455</td>\n",
       "    </tr>\n",
       "    <tr>\n",
       "      <th>40</th>\n",
       "      <td>1</td>\n",
       "      <td>40</td>\n",
       "      <td>2.75</td>\n",
       "      <td>1.51576</td>\n",
       "      <td>0.369204</td>\n",
       "      <td>-0.306885</td>\n",
       "      <td>328</td>\n",
       "      <td>1.234500</td>\n",
       "      <td>0.061725</td>\n",
       "      <td>0.05</td>\n",
       "      <td>0.542867</td>\n",
       "      <td>0.798677</td>\n",
       "      <td>0.021455</td>\n",
       "    </tr>\n",
       "    <tr>\n",
       "      <th>41</th>\n",
       "      <td>1</td>\n",
       "      <td>41</td>\n",
       "      <td>2.75</td>\n",
       "      <td>1.51576</td>\n",
       "      <td>0.369204</td>\n",
       "      <td>-0.306885</td>\n",
       "      <td>336</td>\n",
       "      <td>1.748280</td>\n",
       "      <td>0.087414</td>\n",
       "      <td>0.05</td>\n",
       "      <td>0.542867</td>\n",
       "      <td>0.798677</td>\n",
       "      <td>0.021455</td>\n",
       "    </tr>\n",
       "    <tr>\n",
       "      <th>42</th>\n",
       "      <td>1</td>\n",
       "      <td>42</td>\n",
       "      <td>2.75</td>\n",
       "      <td>1.51576</td>\n",
       "      <td>0.369204</td>\n",
       "      <td>-0.306885</td>\n",
       "      <td>344</td>\n",
       "      <td>2.903570</td>\n",
       "      <td>0.145179</td>\n",
       "      <td>0.05</td>\n",
       "      <td>0.542867</td>\n",
       "      <td>0.798677</td>\n",
       "      <td>0.021455</td>\n",
       "    </tr>\n",
       "    <tr>\n",
       "      <th>43</th>\n",
       "      <td>1</td>\n",
       "      <td>43</td>\n",
       "      <td>2.75</td>\n",
       "      <td>1.51576</td>\n",
       "      <td>0.369204</td>\n",
       "      <td>-0.306885</td>\n",
       "      <td>352</td>\n",
       "      <td>3.997470</td>\n",
       "      <td>0.199873</td>\n",
       "      <td>0.05</td>\n",
       "      <td>0.542867</td>\n",
       "      <td>0.798677</td>\n",
       "      <td>0.021455</td>\n",
       "    </tr>\n",
       "    <tr>\n",
       "      <th>44</th>\n",
       "      <td>1</td>\n",
       "      <td>44</td>\n",
       "      <td>2.75</td>\n",
       "      <td>1.51576</td>\n",
       "      <td>0.369204</td>\n",
       "      <td>-0.306885</td>\n",
       "      <td>360</td>\n",
       "      <td>4.696610</td>\n",
       "      <td>0.234831</td>\n",
       "      <td>0.05</td>\n",
       "      <td>0.542867</td>\n",
       "      <td>0.798677</td>\n",
       "      <td>0.021455</td>\n",
       "    </tr>\n",
       "  </tbody>\n",
       "</table>\n",
       "</div>"
      ],
      "text/plain": [
       "    #Set  index     k       QQ       x_b         t  phi_x         F    sigmaF  \\\n",
       "0      1      0  2.75  1.51576  0.369204 -0.306885      8  4.193970  0.209699   \n",
       "1      1      1  2.75  1.51576  0.369204 -0.306885     16  2.950900  0.147545   \n",
       "2      1      2  2.75  1.51576  0.369204 -0.306885     24  1.865680  0.093284   \n",
       "3      1      3  2.75  1.51576  0.369204 -0.306885     32  1.139000  0.056950   \n",
       "4      1      4  2.75  1.51576  0.369204 -0.306885     40  0.871079  0.043554   \n",
       "5      1      5  2.75  1.51576  0.369204 -0.306885     48  0.640750  0.032037   \n",
       "6      1      6  2.75  1.51576  0.369204 -0.306885     56  0.474527  0.023726   \n",
       "7      1      7  2.75  1.51576  0.369204 -0.306885     64  0.391808  0.019590   \n",
       "8      1      8  2.75  1.51576  0.369204 -0.306885     72  0.293337  0.014667   \n",
       "9      1      9  2.75  1.51576  0.369204 -0.306885     80  0.256715  0.012836   \n",
       "10     1     10  2.75  1.51576  0.369204 -0.306885     88  0.204206  0.010210   \n",
       "11     1     11  2.75  1.51576  0.369204 -0.306885     96  0.182541  0.009127   \n",
       "12     1     12  2.75  1.51576  0.369204 -0.306885    104  0.160291  0.008015   \n",
       "13     1     13  2.75  1.51576  0.369204 -0.306885    112  0.130988  0.006549   \n",
       "14     1     14  2.75  1.51576  0.369204 -0.306885    120  0.134580  0.006729   \n",
       "15     1     15  2.75  1.51576  0.369204 -0.306885    128  0.114819  0.005741   \n",
       "16     1     16  2.75  1.51576  0.369204 -0.306885    136  0.107080  0.005354   \n",
       "17     1     17  2.75  1.51576  0.369204 -0.306885    144  0.101558  0.005078   \n",
       "18     1     18  2.75  1.51576  0.369204 -0.306885    152  0.093940  0.004697   \n",
       "19     1     19  2.75  1.51576  0.369204 -0.306885    160  0.091902  0.004595   \n",
       "20     1     20  2.75  1.51576  0.369204 -0.306885    168  0.094242  0.004712   \n",
       "21     1     21  2.75  1.51576  0.369204 -0.306885    176  0.093330  0.004667   \n",
       "22     1     22  2.75  1.51576  0.369204 -0.306885    184  0.090850  0.004542   \n",
       "23     1     23  2.75  1.51576  0.369204 -0.306885    192  0.086071  0.004304   \n",
       "24     1     24  2.75  1.51576  0.369204 -0.306885    200  0.102205  0.005110   \n",
       "25     1     25  2.75  1.51576  0.369204 -0.306885    208  0.105005  0.005250   \n",
       "26     1     26  2.75  1.51576  0.369204 -0.306885    216  0.096090  0.004804   \n",
       "27     1     27  2.75  1.51576  0.369204 -0.306885    224  0.105889  0.005294   \n",
       "28     1     28  2.75  1.51576  0.369204 -0.306885    232  0.118959  0.005948   \n",
       "29     1     29  2.75  1.51576  0.369204 -0.306885    240  0.119264  0.005963   \n",
       "30     1     30  2.75  1.51576  0.369204 -0.306885    248  0.131332  0.006567   \n",
       "31     1     31  2.75  1.51576  0.369204 -0.306885    256  0.154156  0.007708   \n",
       "32     1     32  2.75  1.51576  0.369204 -0.306885    264  0.176926  0.008846   \n",
       "33     1     33  2.75  1.51576  0.369204 -0.306885    272  0.201732  0.010087   \n",
       "34     1     34  2.75  1.51576  0.369204 -0.306885    280  0.244551  0.012228   \n",
       "35     1     35  2.75  1.51576  0.369204 -0.306885    288  0.313552  0.015678   \n",
       "36     1     36  2.75  1.51576  0.369204 -0.306885    296  0.385957  0.019298   \n",
       "37     1     37  2.75  1.51576  0.369204 -0.306885    304  0.443805  0.022190   \n",
       "38     1     38  2.75  1.51576  0.369204 -0.306885    312  0.653683  0.032684   \n",
       "39     1     39  2.75  1.51576  0.369204 -0.306885    320  0.861213  0.043061   \n",
       "40     1     40  2.75  1.51576  0.369204 -0.306885    328  1.234500  0.061725   \n",
       "41     1     41  2.75  1.51576  0.369204 -0.306885    336  1.748280  0.087414   \n",
       "42     1     42  2.75  1.51576  0.369204 -0.306885    344  2.903570  0.145179   \n",
       "43     1     43  2.75  1.51576  0.369204 -0.306885    352  3.997470  0.199873   \n",
       "44     1     44  2.75  1.51576  0.369204 -0.306885    360  4.696610  0.234831   \n",
       "\n",
       "    varF        F1        F2      dvcs  \n",
       "0   0.05  0.542867  0.798677  0.021455  \n",
       "1   0.05  0.542867  0.798677  0.021455  \n",
       "2   0.05  0.542867  0.798677  0.021455  \n",
       "3   0.05  0.542867  0.798677  0.021455  \n",
       "4   0.05  0.542867  0.798677  0.021455  \n",
       "5   0.05  0.542867  0.798677  0.021455  \n",
       "6   0.05  0.542867  0.798677  0.021455  \n",
       "7   0.05  0.542867  0.798677  0.021455  \n",
       "8   0.05  0.542867  0.798677  0.021455  \n",
       "9   0.05  0.542867  0.798677  0.021455  \n",
       "10  0.05  0.542867  0.798677  0.021455  \n",
       "11  0.05  0.542867  0.798677  0.021455  \n",
       "12  0.05  0.542867  0.798677  0.021455  \n",
       "13  0.05  0.542867  0.798677  0.021455  \n",
       "14  0.05  0.542867  0.798677  0.021455  \n",
       "15  0.05  0.542867  0.798677  0.021455  \n",
       "16  0.05  0.542867  0.798677  0.021455  \n",
       "17  0.05  0.542867  0.798677  0.021455  \n",
       "18  0.05  0.542867  0.798677  0.021455  \n",
       "19  0.05  0.542867  0.798677  0.021455  \n",
       "20  0.05  0.542867  0.798677  0.021455  \n",
       "21  0.05  0.542867  0.798677  0.021455  \n",
       "22  0.05  0.542867  0.798677  0.021455  \n",
       "23  0.05  0.542867  0.798677  0.021455  \n",
       "24  0.05  0.542867  0.798677  0.021455  \n",
       "25  0.05  0.542867  0.798677  0.021455  \n",
       "26  0.05  0.542867  0.798677  0.021455  \n",
       "27  0.05  0.542867  0.798677  0.021455  \n",
       "28  0.05  0.542867  0.798677  0.021455  \n",
       "29  0.05  0.542867  0.798677  0.021455  \n",
       "30  0.05  0.542867  0.798677  0.021455  \n",
       "31  0.05  0.542867  0.798677  0.021455  \n",
       "32  0.05  0.542867  0.798677  0.021455  \n",
       "33  0.05  0.542867  0.798677  0.021455  \n",
       "34  0.05  0.542867  0.798677  0.021455  \n",
       "35  0.05  0.542867  0.798677  0.021455  \n",
       "36  0.05  0.542867  0.798677  0.021455  \n",
       "37  0.05  0.542867  0.798677  0.021455  \n",
       "38  0.05  0.542867  0.798677  0.021455  \n",
       "39  0.05  0.542867  0.798677  0.021455  \n",
       "40  0.05  0.542867  0.798677  0.021455  \n",
       "41  0.05  0.542867  0.798677  0.021455  \n",
       "42  0.05  0.542867  0.798677  0.021455  \n",
       "43  0.05  0.542867  0.798677  0.021455  \n",
       "44  0.05  0.542867  0.798677  0.021455  "
      ]
     },
     "execution_count": 117,
     "metadata": {},
     "output_type": "execute_result"
    }
   ],
   "source": [
    "data.loc[data['#Set'] == 1, :]"
   ]
  },
  {
   "cell_type": "code",
   "execution_count": 27,
   "metadata": {},
   "outputs": [
    {
     "data": {
      "text/html": [
       "<div>\n",
       "<style scoped>\n",
       "    .dataframe tbody tr th:only-of-type {\n",
       "        vertical-align: middle;\n",
       "    }\n",
       "\n",
       "    .dataframe tbody tr th {\n",
       "        vertical-align: top;\n",
       "    }\n",
       "\n",
       "    .dataframe thead th {\n",
       "        text-align: right;\n",
       "    }\n",
       "</style>\n",
       "<table border=\"1\" class=\"dataframe\">\n",
       "  <thead>\n",
       "    <tr style=\"text-align: right;\">\n",
       "      <th></th>\n",
       "      <th>#Set</th>\n",
       "      <th>index</th>\n",
       "      <th>k</th>\n",
       "      <th>QQ</th>\n",
       "      <th>x_b</th>\n",
       "      <th>t</th>\n",
       "      <th>phi_x</th>\n",
       "      <th>F</th>\n",
       "      <th>sigmaF</th>\n",
       "      <th>varF</th>\n",
       "      <th>F1</th>\n",
       "      <th>F2</th>\n",
       "      <th>dvcs</th>\n",
       "    </tr>\n",
       "  </thead>\n",
       "  <tbody>\n",
       "    <tr>\n",
       "      <th>0</th>\n",
       "      <td>1</td>\n",
       "      <td>0</td>\n",
       "      <td>2.75</td>\n",
       "      <td>1.51576</td>\n",
       "      <td>0.369204</td>\n",
       "      <td>-0.306885</td>\n",
       "      <td>8</td>\n",
       "      <td>36.339168</td>\n",
       "      <td>23.613865</td>\n",
       "      <td>0.05</td>\n",
       "      <td>0.542867</td>\n",
       "      <td>0.798677</td>\n",
       "      <td>0.02066</td>\n",
       "    </tr>\n",
       "    <tr>\n",
       "      <th>1</th>\n",
       "      <td>1</td>\n",
       "      <td>1</td>\n",
       "      <td>2.75</td>\n",
       "      <td>1.51576</td>\n",
       "      <td>0.369204</td>\n",
       "      <td>-0.306885</td>\n",
       "      <td>16</td>\n",
       "      <td>45.923806</td>\n",
       "      <td>25.609226</td>\n",
       "      <td>0.05</td>\n",
       "      <td>0.542867</td>\n",
       "      <td>0.798677</td>\n",
       "      <td>0.02066</td>\n",
       "    </tr>\n",
       "    <tr>\n",
       "      <th>2</th>\n",
       "      <td>1</td>\n",
       "      <td>2</td>\n",
       "      <td>2.75</td>\n",
       "      <td>1.51576</td>\n",
       "      <td>0.369204</td>\n",
       "      <td>-0.306885</td>\n",
       "      <td>24</td>\n",
       "      <td>26.702937</td>\n",
       "      <td>27.444269</td>\n",
       "      <td>0.05</td>\n",
       "      <td>0.542867</td>\n",
       "      <td>0.798677</td>\n",
       "      <td>0.02066</td>\n",
       "    </tr>\n",
       "    <tr>\n",
       "      <th>3</th>\n",
       "      <td>1</td>\n",
       "      <td>3</td>\n",
       "      <td>2.75</td>\n",
       "      <td>1.51576</td>\n",
       "      <td>0.369204</td>\n",
       "      <td>-0.306885</td>\n",
       "      <td>32</td>\n",
       "      <td>-31.252933</td>\n",
       "      <td>29.124589</td>\n",
       "      <td>0.05</td>\n",
       "      <td>0.542867</td>\n",
       "      <td>0.798677</td>\n",
       "      <td>0.02066</td>\n",
       "    </tr>\n",
       "    <tr>\n",
       "      <th>4</th>\n",
       "      <td>1</td>\n",
       "      <td>4</td>\n",
       "      <td>2.75</td>\n",
       "      <td>1.51576</td>\n",
       "      <td>0.369204</td>\n",
       "      <td>-0.306885</td>\n",
       "      <td>40</td>\n",
       "      <td>23.302559</td>\n",
       "      <td>39.183723</td>\n",
       "      <td>0.05</td>\n",
       "      <td>0.542867</td>\n",
       "      <td>0.798677</td>\n",
       "      <td>0.02066</td>\n",
       "    </tr>\n",
       "    <tr>\n",
       "      <th>5</th>\n",
       "      <td>1</td>\n",
       "      <td>5</td>\n",
       "      <td>2.75</td>\n",
       "      <td>1.51576</td>\n",
       "      <td>0.369204</td>\n",
       "      <td>-0.306885</td>\n",
       "      <td>48</td>\n",
       "      <td>34.108732</td>\n",
       "      <td>51.778680</td>\n",
       "      <td>0.05</td>\n",
       "      <td>0.542867</td>\n",
       "      <td>0.798677</td>\n",
       "      <td>0.02066</td>\n",
       "    </tr>\n",
       "    <tr>\n",
       "      <th>6</th>\n",
       "      <td>1</td>\n",
       "      <td>6</td>\n",
       "      <td>2.75</td>\n",
       "      <td>1.51576</td>\n",
       "      <td>0.369204</td>\n",
       "      <td>-0.306885</td>\n",
       "      <td>56</td>\n",
       "      <td>11.514802</td>\n",
       "      <td>71.885612</td>\n",
       "      <td>0.05</td>\n",
       "      <td>0.542867</td>\n",
       "      <td>0.798677</td>\n",
       "      <td>0.02066</td>\n",
       "    </tr>\n",
       "    <tr>\n",
       "      <th>7</th>\n",
       "      <td>1</td>\n",
       "      <td>7</td>\n",
       "      <td>2.75</td>\n",
       "      <td>1.51576</td>\n",
       "      <td>0.369204</td>\n",
       "      <td>-0.306885</td>\n",
       "      <td>64</td>\n",
       "      <td>142.308617</td>\n",
       "      <td>120.881846</td>\n",
       "      <td>0.05</td>\n",
       "      <td>0.542867</td>\n",
       "      <td>0.798677</td>\n",
       "      <td>0.02066</td>\n",
       "    </tr>\n",
       "    <tr>\n",
       "      <th>8</th>\n",
       "      <td>1</td>\n",
       "      <td>8</td>\n",
       "      <td>2.75</td>\n",
       "      <td>1.51576</td>\n",
       "      <td>0.369204</td>\n",
       "      <td>-0.306885</td>\n",
       "      <td>72</td>\n",
       "      <td>-49.572514</td>\n",
       "      <td>218.175000</td>\n",
       "      <td>0.05</td>\n",
       "      <td>0.542867</td>\n",
       "      <td>0.798677</td>\n",
       "      <td>0.02066</td>\n",
       "    </tr>\n",
       "    <tr>\n",
       "      <th>9</th>\n",
       "      <td>1</td>\n",
       "      <td>9</td>\n",
       "      <td>2.75</td>\n",
       "      <td>1.51576</td>\n",
       "      <td>0.369204</td>\n",
       "      <td>-0.306885</td>\n",
       "      <td>80</td>\n",
       "      <td>668.405985</td>\n",
       "      <td>694.872138</td>\n",
       "      <td>0.05</td>\n",
       "      <td>0.542867</td>\n",
       "      <td>0.798677</td>\n",
       "      <td>0.02066</td>\n",
       "    </tr>\n",
       "    <tr>\n",
       "      <th>10</th>\n",
       "      <td>1</td>\n",
       "      <td>10</td>\n",
       "      <td>2.75</td>\n",
       "      <td>1.51576</td>\n",
       "      <td>0.369204</td>\n",
       "      <td>-0.306885</td>\n",
       "      <td>88</td>\n",
       "      <td>-2043.991718</td>\n",
       "      <td>15144.173547</td>\n",
       "      <td>0.05</td>\n",
       "      <td>0.542867</td>\n",
       "      <td>0.798677</td>\n",
       "      <td>0.02066</td>\n",
       "    </tr>\n",
       "    <tr>\n",
       "      <th>11</th>\n",
       "      <td>1</td>\n",
       "      <td>11</td>\n",
       "      <td>2.75</td>\n",
       "      <td>1.51576</td>\n",
       "      <td>0.369204</td>\n",
       "      <td>-0.306885</td>\n",
       "      <td>96</td>\n",
       "      <td>1102.818110</td>\n",
       "      <td>1616.791569</td>\n",
       "      <td>0.05</td>\n",
       "      <td>0.542867</td>\n",
       "      <td>0.798677</td>\n",
       "      <td>0.02066</td>\n",
       "    </tr>\n",
       "    <tr>\n",
       "      <th>12</th>\n",
       "      <td>1</td>\n",
       "      <td>12</td>\n",
       "      <td>2.75</td>\n",
       "      <td>1.51576</td>\n",
       "      <td>0.369204</td>\n",
       "      <td>-0.306885</td>\n",
       "      <td>104</td>\n",
       "      <td>219.808059</td>\n",
       "      <td>276.610821</td>\n",
       "      <td>0.05</td>\n",
       "      <td>0.542867</td>\n",
       "      <td>0.798677</td>\n",
       "      <td>0.02066</td>\n",
       "    </tr>\n",
       "    <tr>\n",
       "      <th>13</th>\n",
       "      <td>1</td>\n",
       "      <td>13</td>\n",
       "      <td>2.75</td>\n",
       "      <td>1.51576</td>\n",
       "      <td>0.369204</td>\n",
       "      <td>-0.306885</td>\n",
       "      <td>112</td>\n",
       "      <td>-82.868009</td>\n",
       "      <td>96.438715</td>\n",
       "      <td>0.05</td>\n",
       "      <td>0.542867</td>\n",
       "      <td>0.798677</td>\n",
       "      <td>0.02066</td>\n",
       "    </tr>\n",
       "    <tr>\n",
       "      <th>14</th>\n",
       "      <td>1</td>\n",
       "      <td>14</td>\n",
       "      <td>2.75</td>\n",
       "      <td>1.51576</td>\n",
       "      <td>0.369204</td>\n",
       "      <td>-0.306885</td>\n",
       "      <td>120</td>\n",
       "      <td>95.217473</td>\n",
       "      <td>56.088109</td>\n",
       "      <td>0.05</td>\n",
       "      <td>0.542867</td>\n",
       "      <td>0.798677</td>\n",
       "      <td>0.02066</td>\n",
       "    </tr>\n",
       "    <tr>\n",
       "      <th>15</th>\n",
       "      <td>1</td>\n",
       "      <td>15</td>\n",
       "      <td>2.75</td>\n",
       "      <td>1.51576</td>\n",
       "      <td>0.369204</td>\n",
       "      <td>-0.306885</td>\n",
       "      <td>128</td>\n",
       "      <td>11.801759</td>\n",
       "      <td>31.530583</td>\n",
       "      <td>0.05</td>\n",
       "      <td>0.542867</td>\n",
       "      <td>0.798677</td>\n",
       "      <td>0.02066</td>\n",
       "    </tr>\n",
       "    <tr>\n",
       "      <th>16</th>\n",
       "      <td>1</td>\n",
       "      <td>16</td>\n",
       "      <td>2.75</td>\n",
       "      <td>1.51576</td>\n",
       "      <td>0.369204</td>\n",
       "      <td>-0.306885</td>\n",
       "      <td>136</td>\n",
       "      <td>10.186088</td>\n",
       "      <td>21.399953</td>\n",
       "      <td>0.05</td>\n",
       "      <td>0.542867</td>\n",
       "      <td>0.798677</td>\n",
       "      <td>0.02066</td>\n",
       "    </tr>\n",
       "    <tr>\n",
       "      <th>17</th>\n",
       "      <td>1</td>\n",
       "      <td>17</td>\n",
       "      <td>2.75</td>\n",
       "      <td>1.51576</td>\n",
       "      <td>0.369204</td>\n",
       "      <td>-0.306885</td>\n",
       "      <td>144</td>\n",
       "      <td>10.231182</td>\n",
       "      <td>15.900983</td>\n",
       "      <td>0.05</td>\n",
       "      <td>0.542867</td>\n",
       "      <td>0.798677</td>\n",
       "      <td>0.02066</td>\n",
       "    </tr>\n",
       "    <tr>\n",
       "      <th>18</th>\n",
       "      <td>1</td>\n",
       "      <td>18</td>\n",
       "      <td>2.75</td>\n",
       "      <td>1.51576</td>\n",
       "      <td>0.369204</td>\n",
       "      <td>-0.306885</td>\n",
       "      <td>152</td>\n",
       "      <td>0.821612</td>\n",
       "      <td>12.231990</td>\n",
       "      <td>0.05</td>\n",
       "      <td>0.542867</td>\n",
       "      <td>0.798677</td>\n",
       "      <td>0.02066</td>\n",
       "    </tr>\n",
       "    <tr>\n",
       "      <th>19</th>\n",
       "      <td>1</td>\n",
       "      <td>19</td>\n",
       "      <td>2.75</td>\n",
       "      <td>1.51576</td>\n",
       "      <td>0.369204</td>\n",
       "      <td>-0.306885</td>\n",
       "      <td>160</td>\n",
       "      <td>3.648590</td>\n",
       "      <td>10.477950</td>\n",
       "      <td>0.05</td>\n",
       "      <td>0.542867</td>\n",
       "      <td>0.798677</td>\n",
       "      <td>0.02066</td>\n",
       "    </tr>\n",
       "    <tr>\n",
       "      <th>20</th>\n",
       "      <td>1</td>\n",
       "      <td>20</td>\n",
       "      <td>2.75</td>\n",
       "      <td>1.51576</td>\n",
       "      <td>0.369204</td>\n",
       "      <td>-0.306885</td>\n",
       "      <td>168</td>\n",
       "      <td>12.704438</td>\n",
       "      <td>9.856582</td>\n",
       "      <td>0.05</td>\n",
       "      <td>0.542867</td>\n",
       "      <td>0.798677</td>\n",
       "      <td>0.02066</td>\n",
       "    </tr>\n",
       "    <tr>\n",
       "      <th>21</th>\n",
       "      <td>1</td>\n",
       "      <td>21</td>\n",
       "      <td>2.75</td>\n",
       "      <td>1.51576</td>\n",
       "      <td>0.369204</td>\n",
       "      <td>-0.306885</td>\n",
       "      <td>176</td>\n",
       "      <td>12.440487</td>\n",
       "      <td>9.355171</td>\n",
       "      <td>0.05</td>\n",
       "      <td>0.542867</td>\n",
       "      <td>0.798677</td>\n",
       "      <td>0.02066</td>\n",
       "    </tr>\n",
       "  </tbody>\n",
       "</table>\n",
       "</div>"
      ],
      "text/plain": [
       "    #Set  index     k       QQ       x_b         t  phi_x            F  \\\n",
       "0      1      0  2.75  1.51576  0.369204 -0.306885      8    36.339168   \n",
       "1      1      1  2.75  1.51576  0.369204 -0.306885     16    45.923806   \n",
       "2      1      2  2.75  1.51576  0.369204 -0.306885     24    26.702937   \n",
       "3      1      3  2.75  1.51576  0.369204 -0.306885     32   -31.252933   \n",
       "4      1      4  2.75  1.51576  0.369204 -0.306885     40    23.302559   \n",
       "5      1      5  2.75  1.51576  0.369204 -0.306885     48    34.108732   \n",
       "6      1      6  2.75  1.51576  0.369204 -0.306885     56    11.514802   \n",
       "7      1      7  2.75  1.51576  0.369204 -0.306885     64   142.308617   \n",
       "8      1      8  2.75  1.51576  0.369204 -0.306885     72   -49.572514   \n",
       "9      1      9  2.75  1.51576  0.369204 -0.306885     80   668.405985   \n",
       "10     1     10  2.75  1.51576  0.369204 -0.306885     88 -2043.991718   \n",
       "11     1     11  2.75  1.51576  0.369204 -0.306885     96  1102.818110   \n",
       "12     1     12  2.75  1.51576  0.369204 -0.306885    104   219.808059   \n",
       "13     1     13  2.75  1.51576  0.369204 -0.306885    112   -82.868009   \n",
       "14     1     14  2.75  1.51576  0.369204 -0.306885    120    95.217473   \n",
       "15     1     15  2.75  1.51576  0.369204 -0.306885    128    11.801759   \n",
       "16     1     16  2.75  1.51576  0.369204 -0.306885    136    10.186088   \n",
       "17     1     17  2.75  1.51576  0.369204 -0.306885    144    10.231182   \n",
       "18     1     18  2.75  1.51576  0.369204 -0.306885    152     0.821612   \n",
       "19     1     19  2.75  1.51576  0.369204 -0.306885    160     3.648590   \n",
       "20     1     20  2.75  1.51576  0.369204 -0.306885    168    12.704438   \n",
       "21     1     21  2.75  1.51576  0.369204 -0.306885    176    12.440487   \n",
       "\n",
       "          sigmaF  varF        F1        F2     dvcs  \n",
       "0      23.613865  0.05  0.542867  0.798677  0.02066  \n",
       "1      25.609226  0.05  0.542867  0.798677  0.02066  \n",
       "2      27.444269  0.05  0.542867  0.798677  0.02066  \n",
       "3      29.124589  0.05  0.542867  0.798677  0.02066  \n",
       "4      39.183723  0.05  0.542867  0.798677  0.02066  \n",
       "5      51.778680  0.05  0.542867  0.798677  0.02066  \n",
       "6      71.885612  0.05  0.542867  0.798677  0.02066  \n",
       "7     120.881846  0.05  0.542867  0.798677  0.02066  \n",
       "8     218.175000  0.05  0.542867  0.798677  0.02066  \n",
       "9     694.872138  0.05  0.542867  0.798677  0.02066  \n",
       "10  15144.173547  0.05  0.542867  0.798677  0.02066  \n",
       "11   1616.791569  0.05  0.542867  0.798677  0.02066  \n",
       "12    276.610821  0.05  0.542867  0.798677  0.02066  \n",
       "13     96.438715  0.05  0.542867  0.798677  0.02066  \n",
       "14     56.088109  0.05  0.542867  0.798677  0.02066  \n",
       "15     31.530583  0.05  0.542867  0.798677  0.02066  \n",
       "16     21.399953  0.05  0.542867  0.798677  0.02066  \n",
       "17     15.900983  0.05  0.542867  0.798677  0.02066  \n",
       "18     12.231990  0.05  0.542867  0.798677  0.02066  \n",
       "19     10.477950  0.05  0.542867  0.798677  0.02066  \n",
       "20      9.856582  0.05  0.542867  0.798677  0.02066  \n",
       "21      9.355171  0.05  0.542867  0.798677  0.02066  "
      ]
     },
     "execution_count": 27,
     "metadata": {},
     "output_type": "execute_result"
    }
   ],
   "source": [
    "test_data"
   ]
  },
  {
   "cell_type": "code",
   "execution_count": 30,
   "metadata": {},
   "outputs": [
    {
     "data": {
      "text/plain": [
       "<tf.Tensor: shape=(22,), dtype=float64, numpy=\n",
       "array([-9.15525897, -9.1594554 , -9.15785446, -9.13838875, -9.086011  ,\n",
       "       -8.98484205, -8.82098916, -8.58556474, -8.27710506, -7.90255377,\n",
       "       -7.47638268, -7.01811658, -6.54911275, -6.08958874, -5.65658714,\n",
       "       -5.26307641, -4.91799609, -4.62688489, -4.39274576, -4.21690571,\n",
       "       -4.09973958, -4.04120857])>"
      ]
     },
     "execution_count": 30,
     "metadata": {},
     "output_type": "execute_result"
    }
   ],
   "source": [
    "linear_curve_fit(X, 1, 1)"
   ]
  },
  {
   "cell_type": "markdown",
   "metadata": {},
   "source": [
    "## Set 1"
   ]
  },
  {
   "cell_type": "code",
   "execution_count": 66,
   "metadata": {},
   "outputs": [
    {
     "data": {
      "text/html": [
       "<div>\n",
       "<style scoped>\n",
       "    .dataframe tbody tr th:only-of-type {\n",
       "        vertical-align: middle;\n",
       "    }\n",
       "\n",
       "    .dataframe tbody tr th {\n",
       "        vertical-align: top;\n",
       "    }\n",
       "\n",
       "    .dataframe thead th {\n",
       "        text-align: right;\n",
       "    }\n",
       "</style>\n",
       "<table border=\"1\" class=\"dataframe\">\n",
       "  <thead>\n",
       "    <tr style=\"text-align: right;\">\n",
       "      <th></th>\n",
       "      <th>#Set</th>\n",
       "      <th>index</th>\n",
       "      <th>k</th>\n",
       "      <th>QQ</th>\n",
       "      <th>x_b</th>\n",
       "      <th>t</th>\n",
       "      <th>phi_x</th>\n",
       "      <th>F</th>\n",
       "      <th>sigmaF</th>\n",
       "      <th>varF</th>\n",
       "      <th>F1</th>\n",
       "      <th>F2</th>\n",
       "      <th>dvcs</th>\n",
       "    </tr>\n",
       "  </thead>\n",
       "  <tbody>\n",
       "    <tr>\n",
       "      <th>0</th>\n",
       "      <td>1</td>\n",
       "      <td>0</td>\n",
       "      <td>2.75</td>\n",
       "      <td>1.51576</td>\n",
       "      <td>0.369204</td>\n",
       "      <td>-0.306885</td>\n",
       "      <td>8</td>\n",
       "      <td>-36.339168</td>\n",
       "      <td>23.613865</td>\n",
       "      <td>0.05</td>\n",
       "      <td>0.542867</td>\n",
       "      <td>0.798677</td>\n",
       "      <td>0.021455</td>\n",
       "    </tr>\n",
       "    <tr>\n",
       "      <th>1</th>\n",
       "      <td>1</td>\n",
       "      <td>1</td>\n",
       "      <td>2.75</td>\n",
       "      <td>1.51576</td>\n",
       "      <td>0.369204</td>\n",
       "      <td>-0.306885</td>\n",
       "      <td>16</td>\n",
       "      <td>-45.923806</td>\n",
       "      <td>25.609226</td>\n",
       "      <td>0.05</td>\n",
       "      <td>0.542867</td>\n",
       "      <td>0.798677</td>\n",
       "      <td>0.021455</td>\n",
       "    </tr>\n",
       "    <tr>\n",
       "      <th>2</th>\n",
       "      <td>1</td>\n",
       "      <td>2</td>\n",
       "      <td>2.75</td>\n",
       "      <td>1.51576</td>\n",
       "      <td>0.369204</td>\n",
       "      <td>-0.306885</td>\n",
       "      <td>24</td>\n",
       "      <td>-26.702937</td>\n",
       "      <td>27.444269</td>\n",
       "      <td>0.05</td>\n",
       "      <td>0.542867</td>\n",
       "      <td>0.798677</td>\n",
       "      <td>0.021455</td>\n",
       "    </tr>\n",
       "    <tr>\n",
       "      <th>3</th>\n",
       "      <td>1</td>\n",
       "      <td>3</td>\n",
       "      <td>2.75</td>\n",
       "      <td>1.51576</td>\n",
       "      <td>0.369204</td>\n",
       "      <td>-0.306885</td>\n",
       "      <td>32</td>\n",
       "      <td>31.252933</td>\n",
       "      <td>29.124589</td>\n",
       "      <td>0.05</td>\n",
       "      <td>0.542867</td>\n",
       "      <td>0.798677</td>\n",
       "      <td>0.021455</td>\n",
       "    </tr>\n",
       "    <tr>\n",
       "      <th>4</th>\n",
       "      <td>1</td>\n",
       "      <td>4</td>\n",
       "      <td>2.75</td>\n",
       "      <td>1.51576</td>\n",
       "      <td>0.369204</td>\n",
       "      <td>-0.306885</td>\n",
       "      <td>40</td>\n",
       "      <td>-23.302559</td>\n",
       "      <td>39.183723</td>\n",
       "      <td>0.05</td>\n",
       "      <td>0.542867</td>\n",
       "      <td>0.798677</td>\n",
       "      <td>0.021455</td>\n",
       "    </tr>\n",
       "    <tr>\n",
       "      <th>5</th>\n",
       "      <td>1</td>\n",
       "      <td>5</td>\n",
       "      <td>2.75</td>\n",
       "      <td>1.51576</td>\n",
       "      <td>0.369204</td>\n",
       "      <td>-0.306885</td>\n",
       "      <td>48</td>\n",
       "      <td>-34.108732</td>\n",
       "      <td>51.778680</td>\n",
       "      <td>0.05</td>\n",
       "      <td>0.542867</td>\n",
       "      <td>0.798677</td>\n",
       "      <td>0.021455</td>\n",
       "    </tr>\n",
       "    <tr>\n",
       "      <th>6</th>\n",
       "      <td>1</td>\n",
       "      <td>6</td>\n",
       "      <td>2.75</td>\n",
       "      <td>1.51576</td>\n",
       "      <td>0.369204</td>\n",
       "      <td>-0.306885</td>\n",
       "      <td>56</td>\n",
       "      <td>-11.514802</td>\n",
       "      <td>71.885612</td>\n",
       "      <td>0.05</td>\n",
       "      <td>0.542867</td>\n",
       "      <td>0.798677</td>\n",
       "      <td>0.021455</td>\n",
       "    </tr>\n",
       "    <tr>\n",
       "      <th>7</th>\n",
       "      <td>1</td>\n",
       "      <td>7</td>\n",
       "      <td>2.75</td>\n",
       "      <td>1.51576</td>\n",
       "      <td>0.369204</td>\n",
       "      <td>-0.306885</td>\n",
       "      <td>64</td>\n",
       "      <td>-142.308617</td>\n",
       "      <td>120.881846</td>\n",
       "      <td>0.05</td>\n",
       "      <td>0.542867</td>\n",
       "      <td>0.798677</td>\n",
       "      <td>0.021455</td>\n",
       "    </tr>\n",
       "    <tr>\n",
       "      <th>8</th>\n",
       "      <td>1</td>\n",
       "      <td>8</td>\n",
       "      <td>2.75</td>\n",
       "      <td>1.51576</td>\n",
       "      <td>0.369204</td>\n",
       "      <td>-0.306885</td>\n",
       "      <td>72</td>\n",
       "      <td>49.572514</td>\n",
       "      <td>218.175000</td>\n",
       "      <td>0.05</td>\n",
       "      <td>0.542867</td>\n",
       "      <td>0.798677</td>\n",
       "      <td>0.021455</td>\n",
       "    </tr>\n",
       "    <tr>\n",
       "      <th>9</th>\n",
       "      <td>1</td>\n",
       "      <td>9</td>\n",
       "      <td>2.75</td>\n",
       "      <td>1.51576</td>\n",
       "      <td>0.369204</td>\n",
       "      <td>-0.306885</td>\n",
       "      <td>80</td>\n",
       "      <td>-668.405985</td>\n",
       "      <td>694.872138</td>\n",
       "      <td>0.05</td>\n",
       "      <td>0.542867</td>\n",
       "      <td>0.798677</td>\n",
       "      <td>0.021455</td>\n",
       "    </tr>\n",
       "    <tr>\n",
       "      <th>10</th>\n",
       "      <td>1</td>\n",
       "      <td>10</td>\n",
       "      <td>2.75</td>\n",
       "      <td>1.51576</td>\n",
       "      <td>0.369204</td>\n",
       "      <td>-0.306885</td>\n",
       "      <td>88</td>\n",
       "      <td>2043.991718</td>\n",
       "      <td>15144.173547</td>\n",
       "      <td>0.05</td>\n",
       "      <td>0.542867</td>\n",
       "      <td>0.798677</td>\n",
       "      <td>0.021455</td>\n",
       "    </tr>\n",
       "    <tr>\n",
       "      <th>11</th>\n",
       "      <td>1</td>\n",
       "      <td>11</td>\n",
       "      <td>2.75</td>\n",
       "      <td>1.51576</td>\n",
       "      <td>0.369204</td>\n",
       "      <td>-0.306885</td>\n",
       "      <td>96</td>\n",
       "      <td>-1102.818110</td>\n",
       "      <td>1616.791569</td>\n",
       "      <td>0.05</td>\n",
       "      <td>0.542867</td>\n",
       "      <td>0.798677</td>\n",
       "      <td>0.021455</td>\n",
       "    </tr>\n",
       "    <tr>\n",
       "      <th>12</th>\n",
       "      <td>1</td>\n",
       "      <td>12</td>\n",
       "      <td>2.75</td>\n",
       "      <td>1.51576</td>\n",
       "      <td>0.369204</td>\n",
       "      <td>-0.306885</td>\n",
       "      <td>104</td>\n",
       "      <td>-219.808059</td>\n",
       "      <td>276.610821</td>\n",
       "      <td>0.05</td>\n",
       "      <td>0.542867</td>\n",
       "      <td>0.798677</td>\n",
       "      <td>0.021455</td>\n",
       "    </tr>\n",
       "    <tr>\n",
       "      <th>13</th>\n",
       "      <td>1</td>\n",
       "      <td>13</td>\n",
       "      <td>2.75</td>\n",
       "      <td>1.51576</td>\n",
       "      <td>0.369204</td>\n",
       "      <td>-0.306885</td>\n",
       "      <td>112</td>\n",
       "      <td>82.868009</td>\n",
       "      <td>96.438715</td>\n",
       "      <td>0.05</td>\n",
       "      <td>0.542867</td>\n",
       "      <td>0.798677</td>\n",
       "      <td>0.021455</td>\n",
       "    </tr>\n",
       "    <tr>\n",
       "      <th>14</th>\n",
       "      <td>1</td>\n",
       "      <td>14</td>\n",
       "      <td>2.75</td>\n",
       "      <td>1.51576</td>\n",
       "      <td>0.369204</td>\n",
       "      <td>-0.306885</td>\n",
       "      <td>120</td>\n",
       "      <td>-95.217473</td>\n",
       "      <td>56.088109</td>\n",
       "      <td>0.05</td>\n",
       "      <td>0.542867</td>\n",
       "      <td>0.798677</td>\n",
       "      <td>0.021455</td>\n",
       "    </tr>\n",
       "    <tr>\n",
       "      <th>15</th>\n",
       "      <td>1</td>\n",
       "      <td>15</td>\n",
       "      <td>2.75</td>\n",
       "      <td>1.51576</td>\n",
       "      <td>0.369204</td>\n",
       "      <td>-0.306885</td>\n",
       "      <td>128</td>\n",
       "      <td>-11.801759</td>\n",
       "      <td>31.530583</td>\n",
       "      <td>0.05</td>\n",
       "      <td>0.542867</td>\n",
       "      <td>0.798677</td>\n",
       "      <td>0.021455</td>\n",
       "    </tr>\n",
       "    <tr>\n",
       "      <th>16</th>\n",
       "      <td>1</td>\n",
       "      <td>16</td>\n",
       "      <td>2.75</td>\n",
       "      <td>1.51576</td>\n",
       "      <td>0.369204</td>\n",
       "      <td>-0.306885</td>\n",
       "      <td>136</td>\n",
       "      <td>-10.186088</td>\n",
       "      <td>21.399953</td>\n",
       "      <td>0.05</td>\n",
       "      <td>0.542867</td>\n",
       "      <td>0.798677</td>\n",
       "      <td>0.021455</td>\n",
       "    </tr>\n",
       "    <tr>\n",
       "      <th>17</th>\n",
       "      <td>1</td>\n",
       "      <td>17</td>\n",
       "      <td>2.75</td>\n",
       "      <td>1.51576</td>\n",
       "      <td>0.369204</td>\n",
       "      <td>-0.306885</td>\n",
       "      <td>144</td>\n",
       "      <td>-10.231182</td>\n",
       "      <td>15.900983</td>\n",
       "      <td>0.05</td>\n",
       "      <td>0.542867</td>\n",
       "      <td>0.798677</td>\n",
       "      <td>0.021455</td>\n",
       "    </tr>\n",
       "    <tr>\n",
       "      <th>18</th>\n",
       "      <td>1</td>\n",
       "      <td>18</td>\n",
       "      <td>2.75</td>\n",
       "      <td>1.51576</td>\n",
       "      <td>0.369204</td>\n",
       "      <td>-0.306885</td>\n",
       "      <td>152</td>\n",
       "      <td>-0.821612</td>\n",
       "      <td>12.231990</td>\n",
       "      <td>0.05</td>\n",
       "      <td>0.542867</td>\n",
       "      <td>0.798677</td>\n",
       "      <td>0.021455</td>\n",
       "    </tr>\n",
       "    <tr>\n",
       "      <th>19</th>\n",
       "      <td>1</td>\n",
       "      <td>19</td>\n",
       "      <td>2.75</td>\n",
       "      <td>1.51576</td>\n",
       "      <td>0.369204</td>\n",
       "      <td>-0.306885</td>\n",
       "      <td>160</td>\n",
       "      <td>-3.648590</td>\n",
       "      <td>10.477950</td>\n",
       "      <td>0.05</td>\n",
       "      <td>0.542867</td>\n",
       "      <td>0.798677</td>\n",
       "      <td>0.021455</td>\n",
       "    </tr>\n",
       "    <tr>\n",
       "      <th>20</th>\n",
       "      <td>1</td>\n",
       "      <td>20</td>\n",
       "      <td>2.75</td>\n",
       "      <td>1.51576</td>\n",
       "      <td>0.369204</td>\n",
       "      <td>-0.306885</td>\n",
       "      <td>168</td>\n",
       "      <td>-12.704438</td>\n",
       "      <td>9.856582</td>\n",
       "      <td>0.05</td>\n",
       "      <td>0.542867</td>\n",
       "      <td>0.798677</td>\n",
       "      <td>0.021455</td>\n",
       "    </tr>\n",
       "    <tr>\n",
       "      <th>21</th>\n",
       "      <td>1</td>\n",
       "      <td>21</td>\n",
       "      <td>2.75</td>\n",
       "      <td>1.51576</td>\n",
       "      <td>0.369204</td>\n",
       "      <td>-0.306885</td>\n",
       "      <td>176</td>\n",
       "      <td>-12.440487</td>\n",
       "      <td>9.355171</td>\n",
       "      <td>0.05</td>\n",
       "      <td>0.542867</td>\n",
       "      <td>0.798677</td>\n",
       "      <td>0.021455</td>\n",
       "    </tr>\n",
       "  </tbody>\n",
       "</table>\n",
       "</div>"
      ],
      "text/plain": [
       "    #Set  index     k       QQ       x_b         t  phi_x            F  \\\n",
       "0      1      0  2.75  1.51576  0.369204 -0.306885      8   -36.339168   \n",
       "1      1      1  2.75  1.51576  0.369204 -0.306885     16   -45.923806   \n",
       "2      1      2  2.75  1.51576  0.369204 -0.306885     24   -26.702937   \n",
       "3      1      3  2.75  1.51576  0.369204 -0.306885     32    31.252933   \n",
       "4      1      4  2.75  1.51576  0.369204 -0.306885     40   -23.302559   \n",
       "5      1      5  2.75  1.51576  0.369204 -0.306885     48   -34.108732   \n",
       "6      1      6  2.75  1.51576  0.369204 -0.306885     56   -11.514802   \n",
       "7      1      7  2.75  1.51576  0.369204 -0.306885     64  -142.308617   \n",
       "8      1      8  2.75  1.51576  0.369204 -0.306885     72    49.572514   \n",
       "9      1      9  2.75  1.51576  0.369204 -0.306885     80  -668.405985   \n",
       "10     1     10  2.75  1.51576  0.369204 -0.306885     88  2043.991718   \n",
       "11     1     11  2.75  1.51576  0.369204 -0.306885     96 -1102.818110   \n",
       "12     1     12  2.75  1.51576  0.369204 -0.306885    104  -219.808059   \n",
       "13     1     13  2.75  1.51576  0.369204 -0.306885    112    82.868009   \n",
       "14     1     14  2.75  1.51576  0.369204 -0.306885    120   -95.217473   \n",
       "15     1     15  2.75  1.51576  0.369204 -0.306885    128   -11.801759   \n",
       "16     1     16  2.75  1.51576  0.369204 -0.306885    136   -10.186088   \n",
       "17     1     17  2.75  1.51576  0.369204 -0.306885    144   -10.231182   \n",
       "18     1     18  2.75  1.51576  0.369204 -0.306885    152    -0.821612   \n",
       "19     1     19  2.75  1.51576  0.369204 -0.306885    160    -3.648590   \n",
       "20     1     20  2.75  1.51576  0.369204 -0.306885    168   -12.704438   \n",
       "21     1     21  2.75  1.51576  0.369204 -0.306885    176   -12.440487   \n",
       "\n",
       "          sigmaF  varF        F1        F2      dvcs  \n",
       "0      23.613865  0.05  0.542867  0.798677  0.021455  \n",
       "1      25.609226  0.05  0.542867  0.798677  0.021455  \n",
       "2      27.444269  0.05  0.542867  0.798677  0.021455  \n",
       "3      29.124589  0.05  0.542867  0.798677  0.021455  \n",
       "4      39.183723  0.05  0.542867  0.798677  0.021455  \n",
       "5      51.778680  0.05  0.542867  0.798677  0.021455  \n",
       "6      71.885612  0.05  0.542867  0.798677  0.021455  \n",
       "7     120.881846  0.05  0.542867  0.798677  0.021455  \n",
       "8     218.175000  0.05  0.542867  0.798677  0.021455  \n",
       "9     694.872138  0.05  0.542867  0.798677  0.021455  \n",
       "10  15144.173547  0.05  0.542867  0.798677  0.021455  \n",
       "11   1616.791569  0.05  0.542867  0.798677  0.021455  \n",
       "12    276.610821  0.05  0.542867  0.798677  0.021455  \n",
       "13     96.438715  0.05  0.542867  0.798677  0.021455  \n",
       "14     56.088109  0.05  0.542867  0.798677  0.021455  \n",
       "15     31.530583  0.05  0.542867  0.798677  0.021455  \n",
       "16     21.399953  0.05  0.542867  0.798677  0.021455  \n",
       "17     15.900983  0.05  0.542867  0.798677  0.021455  \n",
       "18     12.231990  0.05  0.542867  0.798677  0.021455  \n",
       "19     10.477950  0.05  0.542867  0.798677  0.021455  \n",
       "20      9.856582  0.05  0.542867  0.798677  0.021455  \n",
       "21      9.355171  0.05  0.542867  0.798677  0.021455  "
      ]
     },
     "execution_count": 66,
     "metadata": {},
     "output_type": "execute_result"
    }
   ],
   "source": [
    "test_data"
   ]
  },
  {
   "cell_type": "code",
   "execution_count": 62,
   "metadata": {},
   "outputs": [
    {
     "data": {
      "text/plain": [
       "<tf.Tensor: shape=(22,), dtype=float64, numpy=\n",
       "array([-20.80195524, -21.30862769, -22.13153793, -23.2291729 ,\n",
       "       -24.52719389, -25.90902055, -27.21621668, -28.26769937,\n",
       "       -28.89965814, -29.01287531, -28.6026257 , -27.75346406,\n",
       "       -26.60399241, -25.30362857, -23.98112311, -22.73116336,\n",
       "       -21.61482861, -20.66675079, -19.90364523, -19.33159246,\n",
       "       -18.95133238, -18.76171678])>"
      ]
     },
     "execution_count": 62,
     "metadata": {},
     "output_type": "execute_result"
    }
   ],
   "source": [
    "aoverb(test_data, bhdvcs)"
   ]
  },
  {
   "cell_type": "code",
   "execution_count": 72,
   "metadata": {},
   "outputs": [
    {
     "data": {
      "text/plain": [
       "<matplotlib.collections.PathCollection at 0x1471968b0>"
      ]
     },
     "execution_count": 72,
     "metadata": {},
     "output_type": "execute_result"
    },
    {
     "data": {
      "image/png": "[encoded data removed]",
      "text/plain": [
       "<Figure size 432x288 with 1 Axes>"
      ]
     },
     "metadata": {
      "needs_background": "light"
     },
     "output_type": "display_data"
    }
   ],
   "source": [
    "plt.scatter(aoverb(test_data, bhdvcs), test_data['F'])"
   ]
  },
  {
   "cell_type": "code",
   "execution_count": 70,
   "metadata": {},
   "outputs": [],
   "source": [
    "test_data = data.loc[(data['#Set'] == 1) & (data['phi_x'] <= 180) & (data['phi_x'] != 90), :]"
   ]
  },
  {
   "cell_type": "code",
   "execution_count": 71,
   "metadata": {},
   "outputs": [],
   "source": [
    "X = np.array(test_data[['QQ', 'x_b', 't', 'k', 'phi_x', 'F1', 'F2']])"
   ]
  },
  {
   "cell_type": "code",
   "execution_count": 17,
   "metadata": {},
   "outputs": [],
   "source": [
    "res = optimize.curve_fit(linear_curve_fit, X, test_data['F'])"
   ]
  },
  {
   "cell_type": "code",
   "execution_count": 18,
   "metadata": {},
   "outputs": [
    {
     "data": {
      "text/plain": [
       "array([ -4.12792886, 112.58239293])"
      ]
     },
     "execution_count": 18,
     "metadata": {},
     "output_type": "execute_result"
    }
   ],
   "source": [
    "res[0]"
   ]
  },
  {
   "cell_type": "markdown",
   "metadata": {},
   "source": [
    "## Set 2"
   ]
  },
  {
   "cell_type": "code",
   "execution_count": 123,
   "metadata": {},
   "outputs": [],
   "source": [
    "test_data = data.loc[(data['#Set'] == 1) & (data['phi_x'] <= 180) & (data['phi_x'] != 90), :]"
   ]
  },
  {
   "cell_type": "code",
   "execution_count": 124,
   "metadata": {},
   "outputs": [],
   "source": [
    "x0 = np.array([1, 1, 1])\n",
    "res = optimize.minimize(combined_function_chisq, x0, args=test_data)"
   ]
  },
  {
   "cell_type": "code",
   "execution_count": 125,
   "metadata": {},
   "outputs": [
    {
     "data": {
      "text/plain": [
       "array([  22.80075777, -106.27311581,    3.14101246])"
      ]
     },
     "execution_count": 125,
     "metadata": {},
     "output_type": "execute_result"
    }
   ],
   "source": [
    "res.x"
   ]
  },
  {
   "cell_type": "code",
   "execution_count": 126,
   "metadata": {},
   "outputs": [
    {
     "data": {
      "text/plain": [
       "array([ 2.65185418, 72.37910705,  1.18399464])"
      ]
     },
     "execution_count": 126,
     "metadata": {},
     "output_type": "execute_result"
    }
   ],
   "source": [
    "np.diag(res.hess_inv)"
   ]
  },
  {
   "cell_type": "code",
   "execution_count": 100,
   "metadata": {},
   "outputs": [],
   "source": [
    "seti = data.loc[(data['#Set'] == i) & (data['phi_x'] <= 180) & (data['phi_x'] != 90), :]\n",
    "rep_data = seti.copy()\n",
    "rep_data['F'] = np.random.normal(rep_data['F'], rep_data['errF'])"
   ]
  },
  {
   "cell_type": "code",
   "execution_count": 101,
   "metadata": {},
   "outputs": [
    {
     "data": {
      "text/html": [
       "<div>\n",
       "<style scoped>\n",
       "    .dataframe tbody tr th:only-of-type {\n",
       "        vertical-align: middle;\n",
       "    }\n",
       "\n",
       "    .dataframe tbody tr th {\n",
       "        vertical-align: top;\n",
       "    }\n",
       "\n",
       "    .dataframe thead th {\n",
       "        text-align: right;\n",
       "    }\n",
       "</style>\n",
       "<table border=\"1\" class=\"dataframe\">\n",
       "  <thead>\n",
       "    <tr style=\"text-align: right;\">\n",
       "      <th></th>\n",
       "      <th>#Set</th>\n",
       "      <th>index</th>\n",
       "      <th>errF</th>\n",
       "      <th>F</th>\n",
       "      <th>phi_x</th>\n",
       "      <th>QQ</th>\n",
       "      <th>x_b</th>\n",
       "      <th>t</th>\n",
       "      <th>k</th>\n",
       "      <th>F1</th>\n",
       "      <th>F2</th>\n",
       "      <th>dvcs</th>\n",
       "      <th>ReH</th>\n",
       "      <th>ReE</th>\n",
       "      <th>ReHtilde</th>\n",
       "    </tr>\n",
       "  </thead>\n",
       "  <tbody>\n",
       "    <tr>\n",
       "      <th>72</th>\n",
       "      <td>2</td>\n",
       "      <td>0</td>\n",
       "      <td>7.386159</td>\n",
       "      <td>-36.449778</td>\n",
       "      <td>0</td>\n",
       "      <td>2.17955</td>\n",
       "      <td>0.385579</td>\n",
       "      <td>-0.283318</td>\n",
       "      <td>4.75</td>\n",
       "      <td>0.579414</td>\n",
       "      <td>0.848208</td>\n",
       "      <td>0.012288</td>\n",
       "      <td>7.22424</td>\n",
       "      <td>-47.2242</td>\n",
       "      <td>4.01347</td>\n",
       "    </tr>\n",
       "    <tr>\n",
       "      <th>73</th>\n",
       "      <td>2</td>\n",
       "      <td>1</td>\n",
       "      <td>7.308711</td>\n",
       "      <td>-48.273208</td>\n",
       "      <td>10</td>\n",
       "      <td>2.17955</td>\n",
       "      <td>0.385579</td>\n",
       "      <td>-0.283318</td>\n",
       "      <td>4.75</td>\n",
       "      <td>0.579414</td>\n",
       "      <td>0.848208</td>\n",
       "      <td>0.012288</td>\n",
       "      <td>7.22424</td>\n",
       "      <td>-47.2242</td>\n",
       "      <td>4.01347</td>\n",
       "    </tr>\n",
       "    <tr>\n",
       "      <th>74</th>\n",
       "      <td>2</td>\n",
       "      <td>2</td>\n",
       "      <td>7.293302</td>\n",
       "      <td>-23.867232</td>\n",
       "      <td>20</td>\n",
       "      <td>2.17955</td>\n",
       "      <td>0.385579</td>\n",
       "      <td>-0.283318</td>\n",
       "      <td>4.75</td>\n",
       "      <td>0.579414</td>\n",
       "      <td>0.848208</td>\n",
       "      <td>0.012288</td>\n",
       "      <td>7.22424</td>\n",
       "      <td>-47.2242</td>\n",
       "      <td>4.01347</td>\n",
       "    </tr>\n",
       "    <tr>\n",
       "      <th>75</th>\n",
       "      <td>2</td>\n",
       "      <td>3</td>\n",
       "      <td>7.917898</td>\n",
       "      <td>-24.454727</td>\n",
       "      <td>30</td>\n",
       "      <td>2.17955</td>\n",
       "      <td>0.385579</td>\n",
       "      <td>-0.283318</td>\n",
       "      <td>4.75</td>\n",
       "      <td>0.579414</td>\n",
       "      <td>0.848208</td>\n",
       "      <td>0.012288</td>\n",
       "      <td>7.22424</td>\n",
       "      <td>-47.2242</td>\n",
       "      <td>4.01347</td>\n",
       "    </tr>\n",
       "    <tr>\n",
       "      <th>76</th>\n",
       "      <td>2</td>\n",
       "      <td>4</td>\n",
       "      <td>8.741887</td>\n",
       "      <td>-36.001161</td>\n",
       "      <td>40</td>\n",
       "      <td>2.17955</td>\n",
       "      <td>0.385579</td>\n",
       "      <td>-0.283318</td>\n",
       "      <td>4.75</td>\n",
       "      <td>0.579414</td>\n",
       "      <td>0.848208</td>\n",
       "      <td>0.012288</td>\n",
       "      <td>7.22424</td>\n",
       "      <td>-47.2242</td>\n",
       "      <td>4.01347</td>\n",
       "    </tr>\n",
       "    <tr>\n",
       "      <th>77</th>\n",
       "      <td>2</td>\n",
       "      <td>5</td>\n",
       "      <td>9.778452</td>\n",
       "      <td>-36.725486</td>\n",
       "      <td>50</td>\n",
       "      <td>2.17955</td>\n",
       "      <td>0.385579</td>\n",
       "      <td>-0.283318</td>\n",
       "      <td>4.75</td>\n",
       "      <td>0.579414</td>\n",
       "      <td>0.848208</td>\n",
       "      <td>0.012288</td>\n",
       "      <td>7.22424</td>\n",
       "      <td>-47.2242</td>\n",
       "      <td>4.01347</td>\n",
       "    </tr>\n",
       "    <tr>\n",
       "      <th>78</th>\n",
       "      <td>2</td>\n",
       "      <td>6</td>\n",
       "      <td>11.226435</td>\n",
       "      <td>-31.586213</td>\n",
       "      <td>60</td>\n",
       "      <td>2.17955</td>\n",
       "      <td>0.385579</td>\n",
       "      <td>-0.283318</td>\n",
       "      <td>4.75</td>\n",
       "      <td>0.579414</td>\n",
       "      <td>0.848208</td>\n",
       "      <td>0.012288</td>\n",
       "      <td>7.22424</td>\n",
       "      <td>-47.2242</td>\n",
       "      <td>4.01347</td>\n",
       "    </tr>\n",
       "    <tr>\n",
       "      <th>79</th>\n",
       "      <td>2</td>\n",
       "      <td>7</td>\n",
       "      <td>16.054382</td>\n",
       "      <td>-30.243423</td>\n",
       "      <td>70</td>\n",
       "      <td>2.17955</td>\n",
       "      <td>0.385579</td>\n",
       "      <td>-0.283318</td>\n",
       "      <td>4.75</td>\n",
       "      <td>0.579414</td>\n",
       "      <td>0.848208</td>\n",
       "      <td>0.012288</td>\n",
       "      <td>7.22424</td>\n",
       "      <td>-47.2242</td>\n",
       "      <td>4.01347</td>\n",
       "    </tr>\n",
       "    <tr>\n",
       "      <th>80</th>\n",
       "      <td>2</td>\n",
       "      <td>8</td>\n",
       "      <td>31.530305</td>\n",
       "      <td>-78.905321</td>\n",
       "      <td>80</td>\n",
       "      <td>2.17955</td>\n",
       "      <td>0.385579</td>\n",
       "      <td>-0.283318</td>\n",
       "      <td>4.75</td>\n",
       "      <td>0.579414</td>\n",
       "      <td>0.848208</td>\n",
       "      <td>0.012288</td>\n",
       "      <td>7.22424</td>\n",
       "      <td>-47.2242</td>\n",
       "      <td>4.01347</td>\n",
       "    </tr>\n",
       "    <tr>\n",
       "      <th>82</th>\n",
       "      <td>2</td>\n",
       "      <td>10</td>\n",
       "      <td>26.400642</td>\n",
       "      <td>-78.402304</td>\n",
       "      <td>100</td>\n",
       "      <td>2.17955</td>\n",
       "      <td>0.385579</td>\n",
       "      <td>-0.283318</td>\n",
       "      <td>4.75</td>\n",
       "      <td>0.579414</td>\n",
       "      <td>0.848208</td>\n",
       "      <td>0.012288</td>\n",
       "      <td>7.22424</td>\n",
       "      <td>-47.2242</td>\n",
       "      <td>4.01347</td>\n",
       "    </tr>\n",
       "    <tr>\n",
       "      <th>83</th>\n",
       "      <td>2</td>\n",
       "      <td>11</td>\n",
       "      <td>13.160113</td>\n",
       "      <td>-49.924246</td>\n",
       "      <td>110</td>\n",
       "      <td>2.17955</td>\n",
       "      <td>0.385579</td>\n",
       "      <td>-0.283318</td>\n",
       "      <td>4.75</td>\n",
       "      <td>0.579414</td>\n",
       "      <td>0.848208</td>\n",
       "      <td>0.012288</td>\n",
       "      <td>7.22424</td>\n",
       "      <td>-47.2242</td>\n",
       "      <td>4.01347</td>\n",
       "    </tr>\n",
       "    <tr>\n",
       "      <th>84</th>\n",
       "      <td>2</td>\n",
       "      <td>12</td>\n",
       "      <td>9.930851</td>\n",
       "      <td>-15.479205</td>\n",
       "      <td>120</td>\n",
       "      <td>2.17955</td>\n",
       "      <td>0.385579</td>\n",
       "      <td>-0.283318</td>\n",
       "      <td>4.75</td>\n",
       "      <td>0.579414</td>\n",
       "      <td>0.848208</td>\n",
       "      <td>0.012288</td>\n",
       "      <td>7.22424</td>\n",
       "      <td>-47.2242</td>\n",
       "      <td>4.01347</td>\n",
       "    </tr>\n",
       "    <tr>\n",
       "      <th>85</th>\n",
       "      <td>2</td>\n",
       "      <td>13</td>\n",
       "      <td>8.921047</td>\n",
       "      <td>2.594373</td>\n",
       "      <td>130</td>\n",
       "      <td>2.17955</td>\n",
       "      <td>0.385579</td>\n",
       "      <td>-0.283318</td>\n",
       "      <td>4.75</td>\n",
       "      <td>0.579414</td>\n",
       "      <td>0.848208</td>\n",
       "      <td>0.012288</td>\n",
       "      <td>7.22424</td>\n",
       "      <td>-47.2242</td>\n",
       "      <td>4.01347</td>\n",
       "    </tr>\n",
       "    <tr>\n",
       "      <th>86</th>\n",
       "      <td>2</td>\n",
       "      <td>14</td>\n",
       "      <td>7.856242</td>\n",
       "      <td>-15.990681</td>\n",
       "      <td>140</td>\n",
       "      <td>2.17955</td>\n",
       "      <td>0.385579</td>\n",
       "      <td>-0.283318</td>\n",
       "      <td>4.75</td>\n",
       "      <td>0.579414</td>\n",
       "      <td>0.848208</td>\n",
       "      <td>0.012288</td>\n",
       "      <td>7.22424</td>\n",
       "      <td>-47.2242</td>\n",
       "      <td>4.01347</td>\n",
       "    </tr>\n",
       "    <tr>\n",
       "      <th>87</th>\n",
       "      <td>2</td>\n",
       "      <td>15</td>\n",
       "      <td>7.545726</td>\n",
       "      <td>1.063319</td>\n",
       "      <td>150</td>\n",
       "      <td>2.17955</td>\n",
       "      <td>0.385579</td>\n",
       "      <td>-0.283318</td>\n",
       "      <td>4.75</td>\n",
       "      <td>0.579414</td>\n",
       "      <td>0.848208</td>\n",
       "      <td>0.012288</td>\n",
       "      <td>7.22424</td>\n",
       "      <td>-47.2242</td>\n",
       "      <td>4.01347</td>\n",
       "    </tr>\n",
       "    <tr>\n",
       "      <th>88</th>\n",
       "      <td>2</td>\n",
       "      <td>16</td>\n",
       "      <td>7.377073</td>\n",
       "      <td>-6.603620</td>\n",
       "      <td>160</td>\n",
       "      <td>2.17955</td>\n",
       "      <td>0.385579</td>\n",
       "      <td>-0.283318</td>\n",
       "      <td>4.75</td>\n",
       "      <td>0.579414</td>\n",
       "      <td>0.848208</td>\n",
       "      <td>0.012288</td>\n",
       "      <td>7.22424</td>\n",
       "      <td>-47.2242</td>\n",
       "      <td>4.01347</td>\n",
       "    </tr>\n",
       "    <tr>\n",
       "      <th>89</th>\n",
       "      <td>2</td>\n",
       "      <td>17</td>\n",
       "      <td>7.849760</td>\n",
       "      <td>3.183050</td>\n",
       "      <td>170</td>\n",
       "      <td>2.17955</td>\n",
       "      <td>0.385579</td>\n",
       "      <td>-0.283318</td>\n",
       "      <td>4.75</td>\n",
       "      <td>0.579414</td>\n",
       "      <td>0.848208</td>\n",
       "      <td>0.012288</td>\n",
       "      <td>7.22424</td>\n",
       "      <td>-47.2242</td>\n",
       "      <td>4.01347</td>\n",
       "    </tr>\n",
       "    <tr>\n",
       "      <th>90</th>\n",
       "      <td>2</td>\n",
       "      <td>18</td>\n",
       "      <td>7.912504</td>\n",
       "      <td>0.594784</td>\n",
       "      <td>180</td>\n",
       "      <td>2.17955</td>\n",
       "      <td>0.385579</td>\n",
       "      <td>-0.283318</td>\n",
       "      <td>4.75</td>\n",
       "      <td>0.579414</td>\n",
       "      <td>0.848208</td>\n",
       "      <td>0.012288</td>\n",
       "      <td>7.22424</td>\n",
       "      <td>-47.2242</td>\n",
       "      <td>4.01347</td>\n",
       "    </tr>\n",
       "  </tbody>\n",
       "</table>\n",
       "</div>"
      ],
      "text/plain": [
       "    #Set  index       errF          F  phi_x       QQ       x_b         t  \\\n",
       "72     2      0   7.386159 -36.449778      0  2.17955  0.385579 -0.283318   \n",
       "73     2      1   7.308711 -48.273208     10  2.17955  0.385579 -0.283318   \n",
       "74     2      2   7.293302 -23.867232     20  2.17955  0.385579 -0.283318   \n",
       "75     2      3   7.917898 -24.454727     30  2.17955  0.385579 -0.283318   \n",
       "76     2      4   8.741887 -36.001161     40  2.17955  0.385579 -0.283318   \n",
       "77     2      5   9.778452 -36.725486     50  2.17955  0.385579 -0.283318   \n",
       "78     2      6  11.226435 -31.586213     60  2.17955  0.385579 -0.283318   \n",
       "79     2      7  16.054382 -30.243423     70  2.17955  0.385579 -0.283318   \n",
       "80     2      8  31.530305 -78.905321     80  2.17955  0.385579 -0.283318   \n",
       "82     2     10  26.400642 -78.402304    100  2.17955  0.385579 -0.283318   \n",
       "83     2     11  13.160113 -49.924246    110  2.17955  0.385579 -0.283318   \n",
       "84     2     12   9.930851 -15.479205    120  2.17955  0.385579 -0.283318   \n",
       "85     2     13   8.921047   2.594373    130  2.17955  0.385579 -0.283318   \n",
       "86     2     14   7.856242 -15.990681    140  2.17955  0.385579 -0.283318   \n",
       "87     2     15   7.545726   1.063319    150  2.17955  0.385579 -0.283318   \n",
       "88     2     16   7.377073  -6.603620    160  2.17955  0.385579 -0.283318   \n",
       "89     2     17   7.849760   3.183050    170  2.17955  0.385579 -0.283318   \n",
       "90     2     18   7.912504   0.594784    180  2.17955  0.385579 -0.283318   \n",
       "\n",
       "       k        F1        F2      dvcs      ReH      ReE  ReHtilde  \n",
       "72  4.75  0.579414  0.848208  0.012288  7.22424 -47.2242   4.01347  \n",
       "73  4.75  0.579414  0.848208  0.012288  7.22424 -47.2242   4.01347  \n",
       "74  4.75  0.579414  0.848208  0.012288  7.22424 -47.2242   4.01347  \n",
       "75  4.75  0.579414  0.848208  0.012288  7.22424 -47.2242   4.01347  \n",
       "76  4.75  0.579414  0.848208  0.012288  7.22424 -47.2242   4.01347  \n",
       "77  4.75  0.579414  0.848208  0.012288  7.22424 -47.2242   4.01347  \n",
       "78  4.75  0.579414  0.848208  0.012288  7.22424 -47.2242   4.01347  \n",
       "79  4.75  0.579414  0.848208  0.012288  7.22424 -47.2242   4.01347  \n",
       "80  4.75  0.579414  0.848208  0.012288  7.22424 -47.2242   4.01347  \n",
       "82  4.75  0.579414  0.848208  0.012288  7.22424 -47.2242   4.01347  \n",
       "83  4.75  0.579414  0.848208  0.012288  7.22424 -47.2242   4.01347  \n",
       "84  4.75  0.579414  0.848208  0.012288  7.22424 -47.2242   4.01347  \n",
       "85  4.75  0.579414  0.848208  0.012288  7.22424 -47.2242   4.01347  \n",
       "86  4.75  0.579414  0.848208  0.012288  7.22424 -47.2242   4.01347  \n",
       "87  4.75  0.579414  0.848208  0.012288  7.22424 -47.2242   4.01347  \n",
       "88  4.75  0.579414  0.848208  0.012288  7.22424 -47.2242   4.01347  \n",
       "89  4.75  0.579414  0.848208  0.012288  7.22424 -47.2242   4.01347  \n",
       "90  4.75  0.579414  0.848208  0.012288  7.22424 -47.2242   4.01347  "
      ]
     },
     "execution_count": 101,
     "metadata": {},
     "output_type": "execute_result"
    }
   ],
   "source": [
    "rep_data"
   ]
  },
  {
   "cell_type": "code",
   "execution_count": 108,
   "metadata": {},
   "outputs": [
    {
     "data": {
      "text/plain": [
       "array([[[  19.89816508,  -88.34121367,    4.16433741],\n",
       "        [  25.51979272, -115.75732595,    4.59676969],\n",
       "        [  23.56839302,  -72.88467036,    2.53200944],\n",
       "        [  26.86312547,  -91.74153215,    3.46497155],\n",
       "        [  20.73871708, -287.54265193,    3.57678543],\n",
       "        [  24.01563157,    1.20282739,    3.06943454],\n",
       "        [  21.69141536, -140.09653075,    4.24545324],\n",
       "        [  22.65614068,  -77.97815981,    3.91353327],\n",
       "        [  22.59310269,  -99.92002087,    2.71104807],\n",
       "        [  18.50843565, -197.46597487,    4.00077812]],\n",
       "\n",
       "       [[  20.62384541, -160.63609382,    1.19334125],\n",
       "        [  26.99151647,   23.83793832,    3.50546693],\n",
       "        [  23.67283548, -115.75091353,    3.94521585],\n",
       "        [  19.53855812, -152.97019707,    2.45278248],\n",
       "        [  23.23834906,   34.35692924,    3.90016106],\n",
       "        [  21.72492143, -142.7226738 ,    3.89953589],\n",
       "        [  24.27088822,   -3.68752385,    0.76589982],\n",
       "        [  24.34931396, -256.00170037,    0.90076853],\n",
       "        [  21.48902829, -177.64275647,    4.05477937],\n",
       "        [  24.07015447,  -30.68237139,    2.37951583]]])"
      ]
     },
     "execution_count": 108,
     "metadata": {},
     "output_type": "execute_result"
    }
   ],
   "source": [
    "np.array([, np.random.normal(res.x, np.diag(res.hess_inv), size=(10, 3))])"
   ]
  },
  {
   "cell_type": "code",
   "execution_count": 136,
   "metadata": {},
   "outputs": [],
   "source": [
    "def produceResults(data, numSets, numReplicas):\n",
    "    '''\n",
    "    :param data: data of class DvcsData (which can be found in utilities.py)\n",
    "    :param numSets: number of different kinematic sets contained in data\n",
    "    :param numReplicas: number of replicas you would like to produce\n",
    "    \n",
    "    :returns: numpy array with shape (numSets, numReplicas, numCFFs)\n",
    "    '''\n",
    "    results = []\n",
    "    for i in tqdm(range(numSets)):\n",
    "        seti = data.loc[(data['#Set'] == i) & (data['phi_x'] <= 180) & (data['phi_x'] != 90), :]\n",
    "        replicas = []\n",
    "        #X = np.array(seti.XnoCFF) # the kinematics and all variables necessary to compute \n",
    "        #sigma = seti.erry \n",
    "        pars = np.array([1, 1, 1])\n",
    "        optobj = optimize.minimize(combined_function_chisq, x0, args=seti)\n",
    "        results.append(np.random.normal(res.x, np.diag(res.hess_inv), size=(numReplicas, 3)))\n",
    "    return np.array(results)"
   ]
  },
  {
   "cell_type": "code",
   "execution_count": 110,
   "metadata": {},
   "outputs": [
    {
     "name": "stderr",
     "output_type": "stream",
     "text": [
      "100%|██████████| 15/15 [02:24<00:00,  9.61s/it]\n"
     ]
    }
   ],
   "source": [
    "results = produceResults(data, 15, 10)"
   ]
  },
  {
   "cell_type": "code",
   "execution_count": 115,
   "metadata": {},
   "outputs": [],
   "source": [
    "localFits = np.fromfile('replicas500.txt')\n",
    "localFits = localFits.reshape(15, 500, 3)"
   ]
  },
  {
   "cell_type": "markdown",
   "metadata": {},
   "source": [
    "## ReH"
   ]
  },
  {
   "cell_type": "code",
   "execution_count": 116,
   "metadata": {},
   "outputs": [
    {
     "name": "stdout",
     "output_type": "stream",
     "text": [
      "Mean percent error:  57.56907125751066\n",
      "RMSE:  13.261677918395833\n",
      "RMSE w yhat=mean:  2.5254628436780107\n",
      "R-squared:  -26.574966009710646\n"
     ]
    },
    {
     "data": {
      "image/png": "[encoded data removed]",
      "text/plain": [
       "<Figure size 432x288 with 1 Axes>"
      ]
     },
     "metadata": {
      "needs_background": "light"
     },
     "output_type": "display_data"
    }
   ],
   "source": [
    "y_yhat, err = uts.y_yhat_errCFFs(uts.DvcsData(data), results, 0)\n",
    "uts.evaluate(y_yhat)"
   ]
  },
  {
   "cell_type": "code",
   "execution_count": 127,
   "metadata": {},
   "outputs": [],
   "source": [
    "y_yhatlocal, errlocal = uts.y_yhat_errCFFs(uts.DvcsData(data), localFits, 0)"
   ]
  },
  {
   "cell_type": "code",
   "execution_count": 128,
   "metadata": {},
   "outputs": [],
   "source": [
    "def plotError(y_yhat, orig_y, errs, orig_err, var_string, title=None):\n",
    "    '''\n",
    "    :param y_yhat: numpy array of what it sounds like\n",
    "    :param errs: list or array of stds of variable\n",
    "    :param var_string: string of which variable is being plotted\n",
    "    '''\n",
    "    assert len(y_yhat) == len(errs)\n",
    "    \n",
    "    fig, ax = plt.subplots()\n",
    "    ax.errorbar(x=list(range(len(errs))),\n",
    "                 y=list(map(lambda x: x[1], y_yhat)),\n",
    "                yerr=errs,\n",
    "                fmt='o',\n",
    "                label=\"Estimated \" + var_string)\n",
    "    ax.plot(list(range(len(errs))),\n",
    "             list(map(lambda x: x[0], y_yhat)),\n",
    "             'ro', label=\"Actual \" + var_string)\n",
    "    \n",
    "    ax.errorbar(x=list(range(len(orig_err))),\n",
    "             y=list(map(lambda x: x[1], orig_y)),\n",
    "            yerr=errs,\n",
    "            fmt='o',\n",
    "            label=\"Baseline \" + var_string)\n",
    "    \n",
    "    ax.set_xlabel(\"Set#\")\n",
    "    ax.set_ylabel(var_string)\n",
    "    if title != None:\n",
    "        ax.set_title(title)\n",
    "        \n",
    "    ax.legend()\n",
    "    \n",
    "    plt.show()"
   ]
  },
  {
   "cell_type": "code",
   "execution_count": 129,
   "metadata": {},
   "outputs": [
    {
     "data": {
      "image/png": "[encoded data removed]",
      "text/plain": [
       "<Figure size 432x288 with 1 Axes>"
      ]
     },
     "metadata": {
      "needs_background": "light"
     },
     "output_type": "display_data"
    }
   ],
   "source": [
    "plotError(y_yhat, y_yhatlocal, err, errlocal, 'ReH')"
   ]
  },
  {
   "cell_type": "markdown",
   "metadata": {},
   "source": [
    "## ReE"
   ]
  },
  {
   "cell_type": "code",
   "execution_count": 130,
   "metadata": {},
   "outputs": [
    {
     "name": "stdout",
     "output_type": "stream",
     "text": [
      "Mean percent error:  51.38145231181199\n",
      "RMSE:  59.22706436860226\n",
      "RMSE w yhat=mean:  2.525480507907797\n",
      "R-squared:  -548.9869342579308\n"
     ]
    },
    {
     "data": {
      "image/png": "[encoded data removed]",
      "text/plain": [
       "<Figure size 432x288 with 1 Axes>"
      ]
     },
     "metadata": {
      "needs_background": "light"
     },
     "output_type": "display_data"
    }
   ],
   "source": [
    "y_yhat, err = uts.y_yhat_errCFFs(uts.DvcsData(data), results, 1)\n",
    "uts.evaluate(y_yhat)"
   ]
  },
  {
   "cell_type": "code",
   "execution_count": 135,
   "metadata": {},
   "outputs": [
    {
     "data": {
      "image/png": "[encoded data removed]",
      "text/plain": [
       "<Figure size 432x288 with 1 Axes>"
      ]
     },
     "metadata": {
      "needs_background": "light"
     },
     "output_type": "display_data"
    }
   ],
   "source": [
    "plotError(y_yhat, y_yhatlocal, err, errlocal, 'ReE')"
   ]
  },
  {
   "cell_type": "markdown",
   "metadata": {},
   "source": [
    "## ReHtilde"
   ]
  },
  {
   "cell_type": "code",
   "execution_count": 132,
   "metadata": {},
   "outputs": [
    {
     "name": "stdout",
     "output_type": "stream",
     "text": [
      "Mean percent error:  77.53068591303303\n",
      "RMSE:  2.7441047078320144\n",
      "RMSE w yhat=mean:  1.4030345621243816\n",
      "R-squared:  -2.8252922340236393\n"
     ]
    },
    {
     "data": {
      "image/png": "[encoded data removed]",
      "text/plain": [
       "<Figure size 432x288 with 1 Axes>"
      ]
     },
     "metadata": {
      "needs_background": "light"
     },
     "output_type": "display_data"
    }
   ],
   "source": [
    "y_yhat, err = uts.y_yhat_errCFFs(uts.DvcsData(data), results, 2)\n",
    "uts.evaluate(y_yhat)"
   ]
  },
  {
   "cell_type": "code",
   "execution_count": 134,
   "metadata": {},
   "outputs": [
    {
     "data": {
      "image/png": "[encoded data removed]",
      "text/plain": [
       "<Figure size 432x288 with 1 Axes>"
      ]
     },
     "metadata": {
      "needs_background": "light"
     },
     "output_type": "display_data"
    }
   ],
   "source": [
    "plotError(y_yhat, y_yhatlocal, err, errlocal, 'ReHtilde')"
   ]
  },
  {
   "cell_type": "code",
   "execution_count": null,
   "metadata": {},
   "outputs": [],
   "source": []
  }
 ],
 "metadata": {
  "kernelspec": {
   "display_name": "Py38Root",
   "language": "python",
   "name": "python3"
  },
  "language_info": {
   "codemirror_mode": {
    "name": "ipython",
    "version": 3
   },
   "file_extension": ".py",
   "mimetype": "text/x-python",
   "name": "python",
   "nbconvert_exporter": "python",
   "pygments_lexer": "ipython3",
   "version": "3.8.3"
  }
 },
 "nbformat": 4,
 "nbformat_minor": 2
}
