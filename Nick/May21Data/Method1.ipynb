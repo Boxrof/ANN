{
 "cells": [
  {
   "cell_type": "markdown",
   "metadata": {},
   "source": [
    "# Default scipy optimization"
   ]
  },
  {
   "cell_type": "markdown",
   "metadata": {},
   "source": [
    "Overview:\n",
    "\n",
    "1. Start with a specific set of kinematic variables.  \n",
    "2. Pick random starting points for CFFs\n",
    "3. Compute TotalUUXS function for each phi in the kinematic set (using current CFFs) to produce Fs\n",
    "4. Compare resulting Fs to sampled Fs and compute mean-squared error\n",
    "5. Update CFFs in a direction that reduces that mean-squared error\n",
    "6. Repeat steps 3-5 until CFFs stop changing"
   ]
  },
  {
   "cell_type": "code",
   "execution_count": 3,
   "metadata": {},
   "outputs": [],
   "source": [
    "%load_ext autoreload\n",
    "%autoreload 2"
   ]
  },
  {
   "cell_type": "code",
   "execution_count": 1,
   "metadata": {},
   "outputs": [],
   "source": [
    "import pandas as pd\n",
    "import numpy as np\n",
    "from tqdm.notebook import tqdm\n",
    "import scipy.optimize as optimization\n",
    "import matplotlib.pyplot as plt\n",
    "\n",
    "from TVA1_UU import TVA1_UU #modified bhdvcs file\n",
    "import utilities as uts"
   ]
  },
  {
   "cell_type": "markdown",
   "metadata": {},
   "source": [
    "## Setup"
   ]
  },
  {
   "cell_type": "code",
   "execution_count": 13,
   "metadata": {},
   "outputs": [],
   "source": [
    "bhdvcs = TVA1_UU()\n",
    "\n",
    "df = pd.read_csv(\"dvcs_May21.csv\")\n",
    "#data = uts.DvcsData(df)\n",
    "\n",
    "numSets = 15\n",
    "numReplicas = 500"
   ]
  },
  {
   "cell_type": "markdown",
   "metadata": {},
   "source": [
    "## Produce Results"
   ]
  },
  {
   "cell_type": "code",
   "execution_count": 14,
   "metadata": {},
   "outputs": [],
   "source": [
    "bhdvcs.SetKinematics(df['QQ'], df['x_b'], df['t'], df['k'])\n",
    "bh = bhdvcs.GetBHUUxs(df['phi_x'], df['F1'], df['F2'])"
   ]
  },
  {
   "cell_type": "code",
   "execution_count": 15,
   "metadata": {},
   "outputs": [],
   "source": [
    "df['F'] = df['F'] - bh - df['dvcs']"
   ]
  },
  {
   "cell_type": "code",
   "execution_count": 20,
   "metadata": {},
   "outputs": [
    {
     "data": {
      "text/html": [
       "<div>\n",
       "<style scoped>\n",
       "    .dataframe tbody tr th:only-of-type {\n",
       "        vertical-align: middle;\n",
       "    }\n",
       "\n",
       "    .dataframe tbody tr th {\n",
       "        vertical-align: top;\n",
       "    }\n",
       "\n",
       "    .dataframe thead th {\n",
       "        text-align: right;\n",
       "    }\n",
       "</style>\n",
       "<table border=\"1\" class=\"dataframe\">\n",
       "  <thead>\n",
       "    <tr style=\"text-align: right;\">\n",
       "      <th></th>\n",
       "      <th>#Set</th>\n",
       "      <th>index</th>\n",
       "      <th>k</th>\n",
       "      <th>QQ</th>\n",
       "      <th>x_b</th>\n",
       "      <th>t</th>\n",
       "      <th>phi_x</th>\n",
       "      <th>F</th>\n",
       "      <th>sigmaF</th>\n",
       "      <th>varF</th>\n",
       "      <th>F1</th>\n",
       "      <th>F2</th>\n",
       "      <th>dvcs</th>\n",
       "    </tr>\n",
       "  </thead>\n",
       "  <tbody>\n",
       "    <tr>\n",
       "      <th>405</th>\n",
       "      <td>10</td>\n",
       "      <td>0</td>\n",
       "      <td>2.75</td>\n",
       "      <td>1.66447</td>\n",
       "      <td>0.452008</td>\n",
       "      <td>-0.422538</td>\n",
       "      <td>8</td>\n",
       "      <td>0.053020</td>\n",
       "      <td>0.030439</td>\n",
       "      <td>0.05</td>\n",
       "      <td>0.458171</td>\n",
       "      <td>0.631821</td>\n",
       "      <td>0.028935</td>\n",
       "    </tr>\n",
       "    <tr>\n",
       "      <th>406</th>\n",
       "      <td>10</td>\n",
       "      <td>1</td>\n",
       "      <td>2.75</td>\n",
       "      <td>1.66447</td>\n",
       "      <td>0.452008</td>\n",
       "      <td>-0.422538</td>\n",
       "      <td>16</td>\n",
       "      <td>0.047592</td>\n",
       "      <td>0.025847</td>\n",
       "      <td>0.05</td>\n",
       "      <td>0.458171</td>\n",
       "      <td>0.631821</td>\n",
       "      <td>0.028935</td>\n",
       "    </tr>\n",
       "    <tr>\n",
       "      <th>407</th>\n",
       "      <td>10</td>\n",
       "      <td>2</td>\n",
       "      <td>2.75</td>\n",
       "      <td>1.66447</td>\n",
       "      <td>0.452008</td>\n",
       "      <td>-0.422538</td>\n",
       "      <td>24</td>\n",
       "      <td>0.064049</td>\n",
       "      <td>0.021881</td>\n",
       "      <td>0.05</td>\n",
       "      <td>0.458171</td>\n",
       "      <td>0.631821</td>\n",
       "      <td>0.028935</td>\n",
       "    </tr>\n",
       "    <tr>\n",
       "      <th>408</th>\n",
       "      <td>10</td>\n",
       "      <td>3</td>\n",
       "      <td>2.75</td>\n",
       "      <td>1.66447</td>\n",
       "      <td>0.452008</td>\n",
       "      <td>-0.422538</td>\n",
       "      <td>32</td>\n",
       "      <td>0.027558</td>\n",
       "      <td>0.015961</td>\n",
       "      <td>0.05</td>\n",
       "      <td>0.458171</td>\n",
       "      <td>0.631821</td>\n",
       "      <td>0.028935</td>\n",
       "    </tr>\n",
       "    <tr>\n",
       "      <th>409</th>\n",
       "      <td>10</td>\n",
       "      <td>4</td>\n",
       "      <td>2.75</td>\n",
       "      <td>1.66447</td>\n",
       "      <td>0.452008</td>\n",
       "      <td>-0.422538</td>\n",
       "      <td>40</td>\n",
       "      <td>0.011205</td>\n",
       "      <td>0.012003</td>\n",
       "      <td>0.05</td>\n",
       "      <td>0.458171</td>\n",
       "      <td>0.631821</td>\n",
       "      <td>0.028935</td>\n",
       "    </tr>\n",
       "    <tr>\n",
       "      <th>410</th>\n",
       "      <td>10</td>\n",
       "      <td>5</td>\n",
       "      <td>2.75</td>\n",
       "      <td>1.66447</td>\n",
       "      <td>0.452008</td>\n",
       "      <td>-0.422538</td>\n",
       "      <td>48</td>\n",
       "      <td>0.010404</td>\n",
       "      <td>0.009649</td>\n",
       "      <td>0.05</td>\n",
       "      <td>0.458171</td>\n",
       "      <td>0.631821</td>\n",
       "      <td>0.028935</td>\n",
       "    </tr>\n",
       "    <tr>\n",
       "      <th>411</th>\n",
       "      <td>10</td>\n",
       "      <td>6</td>\n",
       "      <td>2.75</td>\n",
       "      <td>1.66447</td>\n",
       "      <td>0.452008</td>\n",
       "      <td>-0.422538</td>\n",
       "      <td>56</td>\n",
       "      <td>-0.004744</td>\n",
       "      <td>0.007202</td>\n",
       "      <td>0.05</td>\n",
       "      <td>0.458171</td>\n",
       "      <td>0.631821</td>\n",
       "      <td>0.028935</td>\n",
       "    </tr>\n",
       "    <tr>\n",
       "      <th>412</th>\n",
       "      <td>10</td>\n",
       "      <td>7</td>\n",
       "      <td>2.75</td>\n",
       "      <td>1.66447</td>\n",
       "      <td>0.452008</td>\n",
       "      <td>-0.422538</td>\n",
       "      <td>64</td>\n",
       "      <td>0.007566</td>\n",
       "      <td>0.006578</td>\n",
       "      <td>0.05</td>\n",
       "      <td>0.458171</td>\n",
       "      <td>0.631821</td>\n",
       "      <td>0.028935</td>\n",
       "    </tr>\n",
       "    <tr>\n",
       "      <th>413</th>\n",
       "      <td>10</td>\n",
       "      <td>8</td>\n",
       "      <td>2.75</td>\n",
       "      <td>1.66447</td>\n",
       "      <td>0.452008</td>\n",
       "      <td>-0.422538</td>\n",
       "      <td>72</td>\n",
       "      <td>0.006285</td>\n",
       "      <td>0.005594</td>\n",
       "      <td>0.05</td>\n",
       "      <td>0.458171</td>\n",
       "      <td>0.631821</td>\n",
       "      <td>0.028935</td>\n",
       "    </tr>\n",
       "    <tr>\n",
       "      <th>414</th>\n",
       "      <td>10</td>\n",
       "      <td>9</td>\n",
       "      <td>2.75</td>\n",
       "      <td>1.66447</td>\n",
       "      <td>0.452008</td>\n",
       "      <td>-0.422538</td>\n",
       "      <td>80</td>\n",
       "      <td>0.000920</td>\n",
       "      <td>0.004636</td>\n",
       "      <td>0.05</td>\n",
       "      <td>0.458171</td>\n",
       "      <td>0.631821</td>\n",
       "      <td>0.028935</td>\n",
       "    </tr>\n",
       "    <tr>\n",
       "      <th>415</th>\n",
       "      <td>10</td>\n",
       "      <td>10</td>\n",
       "      <td>2.75</td>\n",
       "      <td>1.66447</td>\n",
       "      <td>0.452008</td>\n",
       "      <td>-0.422538</td>\n",
       "      <td>88</td>\n",
       "      <td>-0.000490</td>\n",
       "      <td>0.004042</td>\n",
       "      <td>0.05</td>\n",
       "      <td>0.458171</td>\n",
       "      <td>0.631821</td>\n",
       "      <td>0.028935</td>\n",
       "    </tr>\n",
       "    <tr>\n",
       "      <th>416</th>\n",
       "      <td>10</td>\n",
       "      <td>11</td>\n",
       "      <td>2.75</td>\n",
       "      <td>1.66447</td>\n",
       "      <td>0.452008</td>\n",
       "      <td>-0.422538</td>\n",
       "      <td>96</td>\n",
       "      <td>0.002488</td>\n",
       "      <td>0.003789</td>\n",
       "      <td>0.05</td>\n",
       "      <td>0.458171</td>\n",
       "      <td>0.631821</td>\n",
       "      <td>0.028935</td>\n",
       "    </tr>\n",
       "    <tr>\n",
       "      <th>417</th>\n",
       "      <td>10</td>\n",
       "      <td>12</td>\n",
       "      <td>2.75</td>\n",
       "      <td>1.66447</td>\n",
       "      <td>0.452008</td>\n",
       "      <td>-0.422538</td>\n",
       "      <td>104</td>\n",
       "      <td>-0.001897</td>\n",
       "      <td>0.003258</td>\n",
       "      <td>0.05</td>\n",
       "      <td>0.458171</td>\n",
       "      <td>0.631821</td>\n",
       "      <td>0.028935</td>\n",
       "    </tr>\n",
       "    <tr>\n",
       "      <th>418</th>\n",
       "      <td>10</td>\n",
       "      <td>13</td>\n",
       "      <td>2.75</td>\n",
       "      <td>1.66447</td>\n",
       "      <td>0.452008</td>\n",
       "      <td>-0.422538</td>\n",
       "      <td>112</td>\n",
       "      <td>0.000909</td>\n",
       "      <td>0.003156</td>\n",
       "      <td>0.05</td>\n",
       "      <td>0.458171</td>\n",
       "      <td>0.631821</td>\n",
       "      <td>0.028935</td>\n",
       "    </tr>\n",
       "    <tr>\n",
       "      <th>419</th>\n",
       "      <td>10</td>\n",
       "      <td>14</td>\n",
       "      <td>2.75</td>\n",
       "      <td>1.66447</td>\n",
       "      <td>0.452008</td>\n",
       "      <td>-0.422538</td>\n",
       "      <td>120</td>\n",
       "      <td>0.005703</td>\n",
       "      <td>0.003207</td>\n",
       "      <td>0.05</td>\n",
       "      <td>0.458171</td>\n",
       "      <td>0.631821</td>\n",
       "      <td>0.028935</td>\n",
       "    </tr>\n",
       "    <tr>\n",
       "      <th>420</th>\n",
       "      <td>10</td>\n",
       "      <td>15</td>\n",
       "      <td>2.75</td>\n",
       "      <td>1.66447</td>\n",
       "      <td>0.452008</td>\n",
       "      <td>-0.422538</td>\n",
       "      <td>128</td>\n",
       "      <td>0.001645</td>\n",
       "      <td>0.002856</td>\n",
       "      <td>0.05</td>\n",
       "      <td>0.458171</td>\n",
       "      <td>0.631821</td>\n",
       "      <td>0.028935</td>\n",
       "    </tr>\n",
       "    <tr>\n",
       "      <th>421</th>\n",
       "      <td>10</td>\n",
       "      <td>16</td>\n",
       "      <td>2.75</td>\n",
       "      <td>1.66447</td>\n",
       "      <td>0.452008</td>\n",
       "      <td>-0.422538</td>\n",
       "      <td>136</td>\n",
       "      <td>0.004779</td>\n",
       "      <td>0.002898</td>\n",
       "      <td>0.05</td>\n",
       "      <td>0.458171</td>\n",
       "      <td>0.631821</td>\n",
       "      <td>0.028935</td>\n",
       "    </tr>\n",
       "    <tr>\n",
       "      <th>422</th>\n",
       "      <td>10</td>\n",
       "      <td>17</td>\n",
       "      <td>2.75</td>\n",
       "      <td>1.66447</td>\n",
       "      <td>0.452008</td>\n",
       "      <td>-0.422538</td>\n",
       "      <td>144</td>\n",
       "      <td>0.003569</td>\n",
       "      <td>0.002749</td>\n",
       "      <td>0.05</td>\n",
       "      <td>0.458171</td>\n",
       "      <td>0.631821</td>\n",
       "      <td>0.028935</td>\n",
       "    </tr>\n",
       "    <tr>\n",
       "      <th>423</th>\n",
       "      <td>10</td>\n",
       "      <td>18</td>\n",
       "      <td>2.75</td>\n",
       "      <td>1.66447</td>\n",
       "      <td>0.452008</td>\n",
       "      <td>-0.422538</td>\n",
       "      <td>152</td>\n",
       "      <td>0.001327</td>\n",
       "      <td>0.002571</td>\n",
       "      <td>0.05</td>\n",
       "      <td>0.458171</td>\n",
       "      <td>0.631821</td>\n",
       "      <td>0.028935</td>\n",
       "    </tr>\n",
       "    <tr>\n",
       "      <th>424</th>\n",
       "      <td>10</td>\n",
       "      <td>19</td>\n",
       "      <td>2.75</td>\n",
       "      <td>1.66447</td>\n",
       "      <td>0.452008</td>\n",
       "      <td>-0.422538</td>\n",
       "      <td>160</td>\n",
       "      <td>0.000626</td>\n",
       "      <td>0.002488</td>\n",
       "      <td>0.05</td>\n",
       "      <td>0.458171</td>\n",
       "      <td>0.631821</td>\n",
       "      <td>0.028935</td>\n",
       "    </tr>\n",
       "    <tr>\n",
       "      <th>425</th>\n",
       "      <td>10</td>\n",
       "      <td>20</td>\n",
       "      <td>2.75</td>\n",
       "      <td>1.66447</td>\n",
       "      <td>0.452008</td>\n",
       "      <td>-0.422538</td>\n",
       "      <td>168</td>\n",
       "      <td>0.000301</td>\n",
       "      <td>0.002442</td>\n",
       "      <td>0.05</td>\n",
       "      <td>0.458171</td>\n",
       "      <td>0.631821</td>\n",
       "      <td>0.028935</td>\n",
       "    </tr>\n",
       "    <tr>\n",
       "      <th>426</th>\n",
       "      <td>10</td>\n",
       "      <td>21</td>\n",
       "      <td>2.75</td>\n",
       "      <td>1.66447</td>\n",
       "      <td>0.452008</td>\n",
       "      <td>-0.422538</td>\n",
       "      <td>176</td>\n",
       "      <td>0.001145</td>\n",
       "      <td>0.002469</td>\n",
       "      <td>0.05</td>\n",
       "      <td>0.458171</td>\n",
       "      <td>0.631821</td>\n",
       "      <td>0.028935</td>\n",
       "    </tr>\n",
       "    <tr>\n",
       "      <th>427</th>\n",
       "      <td>10</td>\n",
       "      <td>22</td>\n",
       "      <td>2.75</td>\n",
       "      <td>1.66447</td>\n",
       "      <td>0.452008</td>\n",
       "      <td>-0.422538</td>\n",
       "      <td>184</td>\n",
       "      <td>0.002269</td>\n",
       "      <td>0.002526</td>\n",
       "      <td>0.05</td>\n",
       "      <td>0.458171</td>\n",
       "      <td>0.631821</td>\n",
       "      <td>0.028935</td>\n",
       "    </tr>\n",
       "    <tr>\n",
       "      <th>428</th>\n",
       "      <td>10</td>\n",
       "      <td>23</td>\n",
       "      <td>2.75</td>\n",
       "      <td>1.66447</td>\n",
       "      <td>0.452008</td>\n",
       "      <td>-0.422538</td>\n",
       "      <td>192</td>\n",
       "      <td>-0.002507</td>\n",
       "      <td>0.002302</td>\n",
       "      <td>0.05</td>\n",
       "      <td>0.458171</td>\n",
       "      <td>0.631821</td>\n",
       "      <td>0.028935</td>\n",
       "    </tr>\n",
       "    <tr>\n",
       "      <th>429</th>\n",
       "      <td>10</td>\n",
       "      <td>24</td>\n",
       "      <td>2.75</td>\n",
       "      <td>1.66447</td>\n",
       "      <td>0.452008</td>\n",
       "      <td>-0.422538</td>\n",
       "      <td>200</td>\n",
       "      <td>0.001856</td>\n",
       "      <td>0.002550</td>\n",
       "      <td>0.05</td>\n",
       "      <td>0.458171</td>\n",
       "      <td>0.631821</td>\n",
       "      <td>0.028935</td>\n",
       "    </tr>\n",
       "    <tr>\n",
       "      <th>430</th>\n",
       "      <td>10</td>\n",
       "      <td>25</td>\n",
       "      <td>2.75</td>\n",
       "      <td>1.66447</td>\n",
       "      <td>0.452008</td>\n",
       "      <td>-0.422538</td>\n",
       "      <td>208</td>\n",
       "      <td>-0.001360</td>\n",
       "      <td>0.002436</td>\n",
       "      <td>0.05</td>\n",
       "      <td>0.458171</td>\n",
       "      <td>0.631821</td>\n",
       "      <td>0.028935</td>\n",
       "    </tr>\n",
       "    <tr>\n",
       "      <th>431</th>\n",
       "      <td>10</td>\n",
       "      <td>26</td>\n",
       "      <td>2.75</td>\n",
       "      <td>1.66447</td>\n",
       "      <td>0.452008</td>\n",
       "      <td>-0.422538</td>\n",
       "      <td>216</td>\n",
       "      <td>-0.003114</td>\n",
       "      <td>0.002415</td>\n",
       "      <td>0.05</td>\n",
       "      <td>0.458171</td>\n",
       "      <td>0.631821</td>\n",
       "      <td>0.028935</td>\n",
       "    </tr>\n",
       "    <tr>\n",
       "      <th>432</th>\n",
       "      <td>10</td>\n",
       "      <td>27</td>\n",
       "      <td>2.75</td>\n",
       "      <td>1.66447</td>\n",
       "      <td>0.452008</td>\n",
       "      <td>-0.422538</td>\n",
       "      <td>224</td>\n",
       "      <td>-0.003615</td>\n",
       "      <td>0.002478</td>\n",
       "      <td>0.05</td>\n",
       "      <td>0.458171</td>\n",
       "      <td>0.631821</td>\n",
       "      <td>0.028935</td>\n",
       "    </tr>\n",
       "    <tr>\n",
       "      <th>433</th>\n",
       "      <td>10</td>\n",
       "      <td>28</td>\n",
       "      <td>2.75</td>\n",
       "      <td>1.66447</td>\n",
       "      <td>0.452008</td>\n",
       "      <td>-0.422538</td>\n",
       "      <td>232</td>\n",
       "      <td>-0.000839</td>\n",
       "      <td>0.002732</td>\n",
       "      <td>0.05</td>\n",
       "      <td>0.458171</td>\n",
       "      <td>0.631821</td>\n",
       "      <td>0.028935</td>\n",
       "    </tr>\n",
       "    <tr>\n",
       "      <th>434</th>\n",
       "      <td>10</td>\n",
       "      <td>29</td>\n",
       "      <td>2.75</td>\n",
       "      <td>1.66447</td>\n",
       "      <td>0.452008</td>\n",
       "      <td>-0.422538</td>\n",
       "      <td>240</td>\n",
       "      <td>-0.002695</td>\n",
       "      <td>0.002787</td>\n",
       "      <td>0.05</td>\n",
       "      <td>0.458171</td>\n",
       "      <td>0.631821</td>\n",
       "      <td>0.028935</td>\n",
       "    </tr>\n",
       "    <tr>\n",
       "      <th>435</th>\n",
       "      <td>10</td>\n",
       "      <td>30</td>\n",
       "      <td>2.75</td>\n",
       "      <td>1.66447</td>\n",
       "      <td>0.452008</td>\n",
       "      <td>-0.422538</td>\n",
       "      <td>248</td>\n",
       "      <td>-0.004570</td>\n",
       "      <td>0.002883</td>\n",
       "      <td>0.05</td>\n",
       "      <td>0.458171</td>\n",
       "      <td>0.631821</td>\n",
       "      <td>0.028935</td>\n",
       "    </tr>\n",
       "    <tr>\n",
       "      <th>436</th>\n",
       "      <td>10</td>\n",
       "      <td>31</td>\n",
       "      <td>2.75</td>\n",
       "      <td>1.66447</td>\n",
       "      <td>0.452008</td>\n",
       "      <td>-0.422538</td>\n",
       "      <td>256</td>\n",
       "      <td>-0.000674</td>\n",
       "      <td>0.003319</td>\n",
       "      <td>0.05</td>\n",
       "      <td>0.458171</td>\n",
       "      <td>0.631821</td>\n",
       "      <td>0.028935</td>\n",
       "    </tr>\n",
       "    <tr>\n",
       "      <th>437</th>\n",
       "      <td>10</td>\n",
       "      <td>32</td>\n",
       "      <td>2.75</td>\n",
       "      <td>1.66447</td>\n",
       "      <td>0.452008</td>\n",
       "      <td>-0.422538</td>\n",
       "      <td>264</td>\n",
       "      <td>-0.007755</td>\n",
       "      <td>0.003276</td>\n",
       "      <td>0.05</td>\n",
       "      <td>0.458171</td>\n",
       "      <td>0.631821</td>\n",
       "      <td>0.028935</td>\n",
       "    </tr>\n",
       "    <tr>\n",
       "      <th>438</th>\n",
       "      <td>10</td>\n",
       "      <td>33</td>\n",
       "      <td>2.75</td>\n",
       "      <td>1.66447</td>\n",
       "      <td>0.452008</td>\n",
       "      <td>-0.422538</td>\n",
       "      <td>272</td>\n",
       "      <td>-0.000160</td>\n",
       "      <td>0.004058</td>\n",
       "      <td>0.05</td>\n",
       "      <td>0.458171</td>\n",
       "      <td>0.631821</td>\n",
       "      <td>0.028935</td>\n",
       "    </tr>\n",
       "    <tr>\n",
       "      <th>439</th>\n",
       "      <td>10</td>\n",
       "      <td>34</td>\n",
       "      <td>2.75</td>\n",
       "      <td>1.66447</td>\n",
       "      <td>0.452008</td>\n",
       "      <td>-0.422538</td>\n",
       "      <td>280</td>\n",
       "      <td>-0.006099</td>\n",
       "      <td>0.004285</td>\n",
       "      <td>0.05</td>\n",
       "      <td>0.458171</td>\n",
       "      <td>0.631821</td>\n",
       "      <td>0.028935</td>\n",
       "    </tr>\n",
       "    <tr>\n",
       "      <th>440</th>\n",
       "      <td>10</td>\n",
       "      <td>35</td>\n",
       "      <td>2.75</td>\n",
       "      <td>1.66447</td>\n",
       "      <td>0.452008</td>\n",
       "      <td>-0.422538</td>\n",
       "      <td>288</td>\n",
       "      <td>-0.001359</td>\n",
       "      <td>0.005212</td>\n",
       "      <td>0.05</td>\n",
       "      <td>0.458171</td>\n",
       "      <td>0.631821</td>\n",
       "      <td>0.028935</td>\n",
       "    </tr>\n",
       "    <tr>\n",
       "      <th>441</th>\n",
       "      <td>10</td>\n",
       "      <td>36</td>\n",
       "      <td>2.75</td>\n",
       "      <td>1.66447</td>\n",
       "      <td>0.452008</td>\n",
       "      <td>-0.422538</td>\n",
       "      <td>296</td>\n",
       "      <td>0.007611</td>\n",
       "      <td>0.006580</td>\n",
       "      <td>0.05</td>\n",
       "      <td>0.458171</td>\n",
       "      <td>0.631821</td>\n",
       "      <td>0.028935</td>\n",
       "    </tr>\n",
       "    <tr>\n",
       "      <th>442</th>\n",
       "      <td>10</td>\n",
       "      <td>37</td>\n",
       "      <td>2.75</td>\n",
       "      <td>1.66447</td>\n",
       "      <td>0.452008</td>\n",
       "      <td>-0.422538</td>\n",
       "      <td>304</td>\n",
       "      <td>0.007275</td>\n",
       "      <td>0.007803</td>\n",
       "      <td>0.05</td>\n",
       "      <td>0.458171</td>\n",
       "      <td>0.631821</td>\n",
       "      <td>0.028935</td>\n",
       "    </tr>\n",
       "    <tr>\n",
       "      <th>443</th>\n",
       "      <td>10</td>\n",
       "      <td>38</td>\n",
       "      <td>2.75</td>\n",
       "      <td>1.66447</td>\n",
       "      <td>0.452008</td>\n",
       "      <td>-0.422538</td>\n",
       "      <td>312</td>\n",
       "      <td>0.013820</td>\n",
       "      <td>0.009820</td>\n",
       "      <td>0.05</td>\n",
       "      <td>0.458171</td>\n",
       "      <td>0.631821</td>\n",
       "      <td>0.028935</td>\n",
       "    </tr>\n",
       "    <tr>\n",
       "      <th>444</th>\n",
       "      <td>10</td>\n",
       "      <td>39</td>\n",
       "      <td>2.75</td>\n",
       "      <td>1.66447</td>\n",
       "      <td>0.452008</td>\n",
       "      <td>-0.422538</td>\n",
       "      <td>320</td>\n",
       "      <td>0.019663</td>\n",
       "      <td>0.012426</td>\n",
       "      <td>0.05</td>\n",
       "      <td>0.458171</td>\n",
       "      <td>0.631821</td>\n",
       "      <td>0.028935</td>\n",
       "    </tr>\n",
       "    <tr>\n",
       "      <th>445</th>\n",
       "      <td>10</td>\n",
       "      <td>40</td>\n",
       "      <td>2.75</td>\n",
       "      <td>1.66447</td>\n",
       "      <td>0.452008</td>\n",
       "      <td>-0.422538</td>\n",
       "      <td>328</td>\n",
       "      <td>0.052596</td>\n",
       "      <td>0.017213</td>\n",
       "      <td>0.05</td>\n",
       "      <td>0.458171</td>\n",
       "      <td>0.631821</td>\n",
       "      <td>0.028935</td>\n",
       "    </tr>\n",
       "    <tr>\n",
       "      <th>446</th>\n",
       "      <td>10</td>\n",
       "      <td>41</td>\n",
       "      <td>2.75</td>\n",
       "      <td>1.66447</td>\n",
       "      <td>0.452008</td>\n",
       "      <td>-0.422538</td>\n",
       "      <td>336</td>\n",
       "      <td>0.026625</td>\n",
       "      <td>0.020009</td>\n",
       "      <td>0.05</td>\n",
       "      <td>0.458171</td>\n",
       "      <td>0.631821</td>\n",
       "      <td>0.028935</td>\n",
       "    </tr>\n",
       "    <tr>\n",
       "      <th>447</th>\n",
       "      <td>10</td>\n",
       "      <td>42</td>\n",
       "      <td>2.75</td>\n",
       "      <td>1.66447</td>\n",
       "      <td>0.452008</td>\n",
       "      <td>-0.422538</td>\n",
       "      <td>344</td>\n",
       "      <td>0.088012</td>\n",
       "      <td>0.027868</td>\n",
       "      <td>0.05</td>\n",
       "      <td>0.458171</td>\n",
       "      <td>0.631821</td>\n",
       "      <td>0.028935</td>\n",
       "    </tr>\n",
       "    <tr>\n",
       "      <th>448</th>\n",
       "      <td>10</td>\n",
       "      <td>43</td>\n",
       "      <td>2.75</td>\n",
       "      <td>1.66447</td>\n",
       "      <td>0.452008</td>\n",
       "      <td>-0.422538</td>\n",
       "      <td>352</td>\n",
       "      <td>0.042730</td>\n",
       "      <td>0.029924</td>\n",
       "      <td>0.05</td>\n",
       "      <td>0.458171</td>\n",
       "      <td>0.631821</td>\n",
       "      <td>0.028935</td>\n",
       "    </tr>\n",
       "    <tr>\n",
       "      <th>449</th>\n",
       "      <td>10</td>\n",
       "      <td>44</td>\n",
       "      <td>2.75</td>\n",
       "      <td>1.66447</td>\n",
       "      <td>0.452008</td>\n",
       "      <td>-0.422538</td>\n",
       "      <td>360</td>\n",
       "      <td>0.029339</td>\n",
       "      <td>0.031081</td>\n",
       "      <td>0.05</td>\n",
       "      <td>0.458171</td>\n",
       "      <td>0.631821</td>\n",
       "      <td>0.028935</td>\n",
       "    </tr>\n",
       "  </tbody>\n",
       "</table>\n",
       "</div>"
      ],
      "text/plain": [
       "     #Set  index     k       QQ       x_b         t  phi_x         F  \\\n",
       "405    10      0  2.75  1.66447  0.452008 -0.422538      8  0.053020   \n",
       "406    10      1  2.75  1.66447  0.452008 -0.422538     16  0.047592   \n",
       "407    10      2  2.75  1.66447  0.452008 -0.422538     24  0.064049   \n",
       "408    10      3  2.75  1.66447  0.452008 -0.422538     32  0.027558   \n",
       "409    10      4  2.75  1.66447  0.452008 -0.422538     40  0.011205   \n",
       "410    10      5  2.75  1.66447  0.452008 -0.422538     48  0.010404   \n",
       "411    10      6  2.75  1.66447  0.452008 -0.422538     56 -0.004744   \n",
       "412    10      7  2.75  1.66447  0.452008 -0.422538     64  0.007566   \n",
       "413    10      8  2.75  1.66447  0.452008 -0.422538     72  0.006285   \n",
       "414    10      9  2.75  1.66447  0.452008 -0.422538     80  0.000920   \n",
       "415    10     10  2.75  1.66447  0.452008 -0.422538     88 -0.000490   \n",
       "416    10     11  2.75  1.66447  0.452008 -0.422538     96  0.002488   \n",
       "417    10     12  2.75  1.66447  0.452008 -0.422538    104 -0.001897   \n",
       "418    10     13  2.75  1.66447  0.452008 -0.422538    112  0.000909   \n",
       "419    10     14  2.75  1.66447  0.452008 -0.422538    120  0.005703   \n",
       "420    10     15  2.75  1.66447  0.452008 -0.422538    128  0.001645   \n",
       "421    10     16  2.75  1.66447  0.452008 -0.422538    136  0.004779   \n",
       "422    10     17  2.75  1.66447  0.452008 -0.422538    144  0.003569   \n",
       "423    10     18  2.75  1.66447  0.452008 -0.422538    152  0.001327   \n",
       "424    10     19  2.75  1.66447  0.452008 -0.422538    160  0.000626   \n",
       "425    10     20  2.75  1.66447  0.452008 -0.422538    168  0.000301   \n",
       "426    10     21  2.75  1.66447  0.452008 -0.422538    176  0.001145   \n",
       "427    10     22  2.75  1.66447  0.452008 -0.422538    184  0.002269   \n",
       "428    10     23  2.75  1.66447  0.452008 -0.422538    192 -0.002507   \n",
       "429    10     24  2.75  1.66447  0.452008 -0.422538    200  0.001856   \n",
       "430    10     25  2.75  1.66447  0.452008 -0.422538    208 -0.001360   \n",
       "431    10     26  2.75  1.66447  0.452008 -0.422538    216 -0.003114   \n",
       "432    10     27  2.75  1.66447  0.452008 -0.422538    224 -0.003615   \n",
       "433    10     28  2.75  1.66447  0.452008 -0.422538    232 -0.000839   \n",
       "434    10     29  2.75  1.66447  0.452008 -0.422538    240 -0.002695   \n",
       "435    10     30  2.75  1.66447  0.452008 -0.422538    248 -0.004570   \n",
       "436    10     31  2.75  1.66447  0.452008 -0.422538    256 -0.000674   \n",
       "437    10     32  2.75  1.66447  0.452008 -0.422538    264 -0.007755   \n",
       "438    10     33  2.75  1.66447  0.452008 -0.422538    272 -0.000160   \n",
       "439    10     34  2.75  1.66447  0.452008 -0.422538    280 -0.006099   \n",
       "440    10     35  2.75  1.66447  0.452008 -0.422538    288 -0.001359   \n",
       "441    10     36  2.75  1.66447  0.452008 -0.422538    296  0.007611   \n",
       "442    10     37  2.75  1.66447  0.452008 -0.422538    304  0.007275   \n",
       "443    10     38  2.75  1.66447  0.452008 -0.422538    312  0.013820   \n",
       "444    10     39  2.75  1.66447  0.452008 -0.422538    320  0.019663   \n",
       "445    10     40  2.75  1.66447  0.452008 -0.422538    328  0.052596   \n",
       "446    10     41  2.75  1.66447  0.452008 -0.422538    336  0.026625   \n",
       "447    10     42  2.75  1.66447  0.452008 -0.422538    344  0.088012   \n",
       "448    10     43  2.75  1.66447  0.452008 -0.422538    352  0.042730   \n",
       "449    10     44  2.75  1.66447  0.452008 -0.422538    360  0.029339   \n",
       "\n",
       "       sigmaF  varF        F1        F2      dvcs  \n",
       "405  0.030439  0.05  0.458171  0.631821  0.028935  \n",
       "406  0.025847  0.05  0.458171  0.631821  0.028935  \n",
       "407  0.021881  0.05  0.458171  0.631821  0.028935  \n",
       "408  0.015961  0.05  0.458171  0.631821  0.028935  \n",
       "409  0.012003  0.05  0.458171  0.631821  0.028935  \n",
       "410  0.009649  0.05  0.458171  0.631821  0.028935  \n",
       "411  0.007202  0.05  0.458171  0.631821  0.028935  \n",
       "412  0.006578  0.05  0.458171  0.631821  0.028935  \n",
       "413  0.005594  0.05  0.458171  0.631821  0.028935  \n",
       "414  0.004636  0.05  0.458171  0.631821  0.028935  \n",
       "415  0.004042  0.05  0.458171  0.631821  0.028935  \n",
       "416  0.003789  0.05  0.458171  0.631821  0.028935  \n",
       "417  0.003258  0.05  0.458171  0.631821  0.028935  \n",
       "418  0.003156  0.05  0.458171  0.631821  0.028935  \n",
       "419  0.003207  0.05  0.458171  0.631821  0.028935  \n",
       "420  0.002856  0.05  0.458171  0.631821  0.028935  \n",
       "421  0.002898  0.05  0.458171  0.631821  0.028935  \n",
       "422  0.002749  0.05  0.458171  0.631821  0.028935  \n",
       "423  0.002571  0.05  0.458171  0.631821  0.028935  \n",
       "424  0.002488  0.05  0.458171  0.631821  0.028935  \n",
       "425  0.002442  0.05  0.458171  0.631821  0.028935  \n",
       "426  0.002469  0.05  0.458171  0.631821  0.028935  \n",
       "427  0.002526  0.05  0.458171  0.631821  0.028935  \n",
       "428  0.002302  0.05  0.458171  0.631821  0.028935  \n",
       "429  0.002550  0.05  0.458171  0.631821  0.028935  \n",
       "430  0.002436  0.05  0.458171  0.631821  0.028935  \n",
       "431  0.002415  0.05  0.458171  0.631821  0.028935  \n",
       "432  0.002478  0.05  0.458171  0.631821  0.028935  \n",
       "433  0.002732  0.05  0.458171  0.631821  0.028935  \n",
       "434  0.002787  0.05  0.458171  0.631821  0.028935  \n",
       "435  0.002883  0.05  0.458171  0.631821  0.028935  \n",
       "436  0.003319  0.05  0.458171  0.631821  0.028935  \n",
       "437  0.003276  0.05  0.458171  0.631821  0.028935  \n",
       "438  0.004058  0.05  0.458171  0.631821  0.028935  \n",
       "439  0.004285  0.05  0.458171  0.631821  0.028935  \n",
       "440  0.005212  0.05  0.458171  0.631821  0.028935  \n",
       "441  0.006580  0.05  0.458171  0.631821  0.028935  \n",
       "442  0.007803  0.05  0.458171  0.631821  0.028935  \n",
       "443  0.009820  0.05  0.458171  0.631821  0.028935  \n",
       "444  0.012426  0.05  0.458171  0.631821  0.028935  \n",
       "445  0.017213  0.05  0.458171  0.631821  0.028935  \n",
       "446  0.020009  0.05  0.458171  0.631821  0.028935  \n",
       "447  0.027868  0.05  0.458171  0.631821  0.028935  \n",
       "448  0.029924  0.05  0.458171  0.631821  0.028935  \n",
       "449  0.031081  0.05  0.458171  0.631821  0.028935  "
      ]
     },
     "execution_count": 20,
     "metadata": {},
     "output_type": "execute_result"
    }
   ],
   "source": [
    "df.loc[df['#Set']==10, :]"
   ]
  },
  {
   "cell_type": "code",
   "execution_count": 3,
   "metadata": {},
   "outputs": [],
   "source": [
    "def produceResults(data, numSets, numReplicas):\n",
    "    '''\n",
    "    :param data: data of class DvcsData (which can be found in utilities.py)\n",
    "    :param numSets: number of different kinematic sets contained in data\n",
    "    :param numReplicas: number of replicas you would like to produce\n",
    "    \n",
    "    :returns: numpy array with shape (numSets, numReplicas, numCFFs)\n",
    "    '''\n",
    "    results = []\n",
    "    for i in tqdm(range(numSets)):\n",
    "        replicas = []\n",
    "        seti = data.getSet(i) # DvcsData object of kinematic set i\n",
    "        X = np.array(seti.X) # the kinematics and all variables necessary to compute \n",
    "        sigma = seti.erry # error in F\n",
    "        pars = np.array([1, 1, 1])\n",
    "        for i in range(numReplicas):\n",
    "            y = seti.sampleY()\n",
    "            cff, cffcov = optimization.curve_fit(bhdvcs.TotalUUXS, X, y, pars, sigma, method='lm')\n",
    "            replicas.append(cff)\n",
    "        results.append(replicas)\n",
    "    return np.array(results)"
   ]
  },
  {
   "cell_type": "code",
   "execution_count": 24,
   "metadata": {
    "scrolled": false
   },
   "outputs": [
    {
     "data": {
      "application/vnd.jupyter.widget-view+json": {
       "model_id": "633ac8d3707d47648dfebed48b702ffe",
       "version_major": 2,
       "version_minor": 0
      },
      "text/plain": [
       "HBox(children=(FloatProgress(value=0.0, max=342.0), HTML(value='')))"
      ]
     },
     "metadata": {},
     "output_type": "display_data"
    },
    {
     "name": "stdout",
     "output_type": "stream",
     "text": [
      "\n"
     ]
    }
   ],
   "source": [
    "results = produceResults(data, 342, 100)"
   ]
  },
  {
   "cell_type": "markdown",
   "metadata": {},
   "source": [
    "# Plots"
   ]
  },
  {
   "cell_type": "code",
   "execution_count": 82,
   "metadata": {},
   "outputs": [
    {
     "data": {
      "text/plain": [
       "array([  8.,  16.,  24.,  32.,  40.,  48.,  56.,  64.,  72.,  80.,  88.,\n",
       "        96., 104., 112., 120., 128., 136., 144., 152., 160., 168., 176.,\n",
       "       184., 192., 200., 208., 216., 224., 232., 240., 248., 256., 264.,\n",
       "       272., 280., 288., 296., 304., 312., 320., 328., 336., 344., 352.,\n",
       "       360.])"
      ]
     },
     "execution_count": 82,
     "metadata": {},
     "output_type": "execute_result"
    }
   ],
   "source": [
    "seti = data.getSet(2)\n",
    "X = np.array(seti.X)\n",
    "X[:, 0]"
   ]
  },
  {
   "cell_type": "code",
   "execution_count": 61,
   "metadata": {},
   "outputs": [],
   "source": [
    "def plot_curve(setnum, data, results):\n",
    "    cffs = results[setnum, :, :].mean(axis=0)\n",
    "    seti = data.getSet(setnum)\n",
    "    X = np.array(seti.X)\n",
    "    y = seti.y\n",
    "    err = np.array(seti.df['sigmaF'])\n",
    "    yhat = bhdvcs.TotalUUXS(X, *cffs).numpy()\n",
    "    plt.plot(X[:, 0], y, 'o')\n",
    "    plt.plot(X[:, 0], yhat)\n",
    "    plt.xlabel('phi')\n",
    "    plt.ylabel('F')\n",
    "    plt.show()\n",
    "    print('CFFs:', cffs)"
   ]
  },
  {
   "cell_type": "markdown",
   "metadata": {},
   "source": [
    "## Set 1"
   ]
  },
  {
   "cell_type": "code",
   "execution_count": 62,
   "metadata": {},
   "outputs": [
    {
     "data": {
      "image/png": "[encoded data removed]",
      "text/plain": [
       "<Figure size 432x288 with 1 Axes>"
      ]
     },
     "metadata": {
      "needs_background": "light"
     },
     "output_type": "display_data"
    },
    {
     "name": "stdout",
     "output_type": "stream",
     "text": [
      "CFFs: [ 0.72767914 -5.62357543  3.55266341]\n"
     ]
    }
   ],
   "source": [
    "plot_curve(0, data, results)"
   ]
  },
  {
   "cell_type": "markdown",
   "metadata": {},
   "source": [
    "## Set 2"
   ]
  },
  {
   "cell_type": "code",
   "execution_count": 63,
   "metadata": {},
   "outputs": [
    {
     "data": {
      "image/png": "[encoded data removed]",
      "text/plain": [
       "<Figure size 432x288 with 1 Axes>"
      ]
     },
     "metadata": {
      "needs_background": "light"
     },
     "output_type": "display_data"
    },
    {
     "name": "stdout",
     "output_type": "stream",
     "text": [
      "CFFs: [ 1.459959   -4.20087806  6.05438172]\n"
     ]
    }
   ],
   "source": [
    "plot_curve(1, data, results)"
   ]
  },
  {
   "cell_type": "markdown",
   "metadata": {},
   "source": [
    "## Set 3"
   ]
  },
  {
   "cell_type": "code",
   "execution_count": 64,
   "metadata": {},
   "outputs": [
    {
     "data": {
      "image/png": "[encoded data removed]",
      "text/plain": [
       "<Figure size 432x288 with 1 Axes>"
      ]
     },
     "metadata": {
      "needs_background": "light"
     },
     "output_type": "display_data"
    },
    {
     "name": "stdout",
     "output_type": "stream",
     "text": [
      "CFFs: [ 1.88443426 -2.97530387  5.65428785]\n"
     ]
    }
   ],
   "source": [
    "plot_curve(2, data, results)"
   ]
  },
  {
   "cell_type": "markdown",
   "metadata": {},
   "source": [
    "## Set 4"
   ]
  },
  {
   "cell_type": "code",
   "execution_count": 65,
   "metadata": {},
   "outputs": [
    {
     "data": {
      "image/png": "[encoded data removed]",
      "text/plain": [
       "<Figure size 432x288 with 1 Axes>"
      ]
     },
     "metadata": {
      "needs_background": "light"
     },
     "output_type": "display_data"
    },
    {
     "name": "stdout",
     "output_type": "stream",
     "text": [
      "CFFs: [0.59455426 9.91325047 0.95335303]\n"
     ]
    }
   ],
   "source": [
    "plot_curve(3, data, results)"
   ]
  },
  {
   "cell_type": "markdown",
   "metadata": {},
   "source": [
    "## Set 5"
   ]
  },
  {
   "cell_type": "code",
   "execution_count": 66,
   "metadata": {},
   "outputs": [
    {
     "data": {
      "image/png": "[encoded data removed]",
      "text/plain": [
       "<Figure size 432x288 with 1 Axes>"
      ]
     },
     "metadata": {
      "needs_background": "light"
     },
     "output_type": "display_data"
    },
    {
     "name": "stdout",
     "output_type": "stream",
     "text": [
      "CFFs: [   84.64503419 -1184.43238742   653.07922152]\n"
     ]
    }
   ],
   "source": [
    "plot_curve(4, data, results)"
   ]
  },
  {
   "cell_type": "markdown",
   "metadata": {},
   "source": [
    "# Overall RMSE"
   ]
  },
  {
   "cell_type": "code",
   "execution_count": 77,
   "metadata": {},
   "outputs": [],
   "source": [
    "sse = 0\n",
    "for i in range(results.shape[0]):\n",
    "    cffs = results[i, :, :].mean(axis=0)\n",
    "    seti = data.getSet(i)\n",
    "    X = np.array(seti.X)\n",
    "    y = seti.y\n",
    "    yhat = bhdvcs.TotalUUXS(X, *cffs).numpy()\n",
    "    sse += np.sqrt(((yhat - y)**2).mean())"
   ]
  },
  {
   "cell_type": "code",
   "execution_count": 78,
   "metadata": {},
   "outputs": [
    {
     "data": {
      "text/plain": [
       "0.0022778371231849674"
      ]
     },
     "execution_count": 78,
     "metadata": {},
     "output_type": "execute_result"
    }
   ],
   "source": [
    "sse/len(np.unique(data.df['#Set']))"
   ]
  },
  {
   "cell_type": "markdown",
   "metadata": {},
   "source": [
    "## R-Squared"
   ]
  },
  {
   "cell_type": "code",
   "execution_count": 79,
   "metadata": {},
   "outputs": [],
   "source": [
    "sumr2s = 0\n",
    "for i in range(results.shape[0]):\n",
    "    cffs = results[i, :, :].mean(axis=0)\n",
    "    seti = data.getSet(i)\n",
    "    X = np.array(seti.X)\n",
    "    y = seti.y\n",
    "    yhat = bhdvcs.TotalUUXS(X, *cffs).numpy()\n",
    "    tss = ((yhat - y.mean())**2).sum()\n",
    "    rss = ((y - yhat)**2).sum()\n",
    "    sumr2s += 1 - rss/tss"
   ]
  },
  {
   "cell_type": "code",
   "execution_count": 80,
   "metadata": {},
   "outputs": [
    {
     "data": {
      "text/plain": [
       "0.9643192565711194"
      ]
     },
     "execution_count": 80,
     "metadata": {},
     "output_type": "execute_result"
    }
   ],
   "source": [
    "sumr2s/len(np.unique(data.df['#Set']))"
   ]
  },
  {
   "cell_type": "markdown",
   "metadata": {},
   "source": [
    "# Save Results to file for later use"
   ]
  },
  {
   "cell_type": "code",
   "execution_count": 26,
   "metadata": {},
   "outputs": [],
   "source": [
    "results.tofile('replicas100.txt')"
   ]
  },
  {
   "cell_type": "code",
   "execution_count": 21,
   "metadata": {},
   "outputs": [],
   "source": [
    "reps = np.fromfile('replicas100.txt')"
   ]
  },
  {
   "cell_type": "code",
   "execution_count": 27,
   "metadata": {},
   "outputs": [],
   "source": [
    "reps = reps.reshape((342, 100, 3))"
   ]
  },
  {
   "cell_type": "code",
   "execution_count": 33,
   "metadata": {},
   "outputs": [],
   "source": [
    "repsdf = pd.DataFrame({'Set#': np.zeros(342*100), 'RepNum': np.zeros(342*100), 'ReH': np.zeros(342*100),\n",
    "                       'ReE': np.zeros(342*100), 'ReHtilde': np.zeros(342*100)})"
   ]
  },
  {
   "cell_type": "code",
   "execution_count": 51,
   "metadata": {},
   "outputs": [],
   "source": [
    "repsdf['ReH'] = reps[:, :, 0].flatten('F')\n",
    "repsdf['ReE'] = reps[:, :, 1].flatten('F')\n",
    "repsdf['ReHtilde'] = reps[:, :, 2].flatten('F')"
   ]
  },
  {
   "cell_type": "code",
   "execution_count": 56,
   "metadata": {},
   "outputs": [],
   "source": [
    "repsdf['Set#'] = np.repeat(np.arange(1, 343), 100)"
   ]
  },
  {
   "cell_type": "code",
   "execution_count": 58,
   "metadata": {},
   "outputs": [],
   "source": [
    "repsdf['RepNum'] = np.tile(np.arange(0, 100), 342)"
   ]
  },
  {
   "cell_type": "code",
   "execution_count": 60,
   "metadata": {},
   "outputs": [],
   "source": [
    "repsdf.to_csv('ExampleDataFile.csv')"
   ]
  }
 ],
 "metadata": {
  "kernelspec": {
   "display_name": "Py38Root",
   "language": "python",
   "name": "python3"
  },
  "language_info": {
   "codemirror_mode": {
    "name": "ipython",
    "version": 3
   },
   "file_extension": ".py",
   "mimetype": "text/x-python",
   "name": "python",
   "nbconvert_exporter": "python",
   "pygments_lexer": "ipython3",
   "version": "3.8.3"
  }
 },
 "nbformat": 4,
 "nbformat_minor": 2
}
