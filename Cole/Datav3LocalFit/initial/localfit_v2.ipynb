{
  "nbformat": 4,
  "nbformat_minor": 0,
  "metadata": {
    "colab": {
      "name": "localfit_v2",
      "provenance": [],
      "collapsed_sections": []
    },
    "kernelspec": {
      "name": "python3",
      "display_name": "Python 3"
    },
    "language_info": {
      "name": "python"
    }
  },
  "cells": [
    {
      "cell_type": "code",
      "source": [
        "import numpy as np\n",
        "import pandas as pd \n",
        "from BHDVCS_tf import BHDVCStf\n",
        "from BHDVCS_tf import TotalFLayer\n",
        "import utilities as uts\n",
        "import tensorflow as tf\n",
        "\n",
        "import matplotlib\n",
        "import matplotlib.pyplot as plt\n",
        "\n",
        "import sys\n",
        "from scipy.stats import chisquare\n",
        "\n",
        "tb = BHDVCStf()\n",
        "f = tb.curve_fit\n",
        "\n",
        "df = pd.read_csv(\"BKM_pseudodata.csv\")\n",
        "df = df.rename(columns={\"sigmaF\": \"errF\"})\n",
        "\n",
        "data = uts.DvcsData(df)\n",
        "\n",
        "def F2VsPhi(dataframe,SetNum,xdat,cffs):\n",
        "    TempFvalSilces=dataframe[dataframe[\"#Set\"]==SetNum]\n",
        "    TempFvals=TempFvalSilces[\"F\"]\n",
        "    TempFvals_sigma=TempFvalSilces[\"errF\"]\n",
        "    temp_phi=TempFvalSilces[\"phi_x\"]\n",
        "    plt.errorbar(temp_phi,TempFvals,TempFvals_sigma,fmt='.',color='blue',label=\"Data\")\n",
        "    plt.xlim(0,368)\n",
        "    temp_unit=(np.max(TempFvals)-np.min(TempFvals))/len(TempFvals)\n",
        "    plt.ylim(np.min(TempFvals)-temp_unit,np.max(TempFvals)+temp_unit)\n",
        "    plt.xticks(fontsize=15)\n",
        "    plt.yticks(fontsize=15)\n",
        "    plt.legend(loc=4,fontsize=10,handlelength=3)\n",
        "    plt.title(\"Local fit with data set #\"+str(SetNum),fontsize=20)\n",
        "    print(xdat)\n",
        "    print(cffs)\n",
        "    plt.plot(temp_phi, f(xdat,cffs), 'g--', label='fit')\n",
        "    file_name = \"plot_set_number_{}.png\".format(SetNum)\n",
        "    plt.savefig(file_name)"
      ],
      "metadata": {
        "id": "6FA-eZxiob8z"
      },
      "execution_count": 1,
      "outputs": []
    },
    {
      "cell_type": "code",
      "source": [
        "setI = data.getSet(i, itemsInSet=45)\n",
        "noCFF = tf.transpose(setI.XnoCFF)\n",
        "\n",
        "f(noCFF, [15,10,3,-1])"
      ],
      "metadata": {
        "colab": {
          "base_uri": "https://localhost:8080/"
        },
        "id": "gL-f2o_vIeRH",
        "outputId": "ebb5f03e-1198-445d-de63-aa2a25361a2a"
      },
      "execution_count": 15,
      "outputs": [
        {
          "output_type": "execute_result",
          "data": {
            "text/plain": [
              "<tf.Tensor: shape=(45,), dtype=float64, numpy=\n",
              "array([nan, nan, nan, nan, nan, nan, nan, nan, nan, nan, nan, nan, nan,\n",
              "       nan, nan, nan, nan, nan, nan, nan, nan, nan, nan, nan, nan, nan,\n",
              "       nan, nan, nan, nan, nan, nan, nan, nan, nan, nan, nan, nan, nan,\n",
              "       nan, nan, nan, nan, nan, nan])>"
            ]
          },
          "metadata": {},
          "execution_count": 15
        }
      ]
    },
    {
      "cell_type": "code",
      "source": [
        "kinematics = tf.keras.Input(shape=(4))\n",
        "x1 = tf.keras.layers.Dense(100, activation=\"tanh\")(kinematics)\n",
        "x2 = tf.keras.layers.Dense(100, activation=\"tanh\")(x1)\n",
        "outputs = tf.keras.layers.Dense(4, activation=\"linear\")(x2)\n",
        "noncffInputs = tf.keras.Input(shape=(7))\n",
        "#### phi, kin1, kin2, kin3, kin4, F1, F2 ####\n",
        "total_FInputs = tf.keras.layers.concatenate([noncffInputs,outputs])\n",
        "TotalF = TotalFLayer()(total_FInputs)\n",
        "\n",
        "tfModel = tf.keras.Model(inputs=[kinematics, noncffInputs], outputs = TotalF, name=\"tfmodel\")\n",
        "early_stopping_callback = tf.keras.callbacks.EarlyStopping(monitor='loss', min_delta=0.001, patience=300)\n",
        "\n",
        "tfModel.compile(\n",
        "    optimizer = tf.keras.optimizers.Adam(.0085),\n",
        "    loss = tf.keras.losses.MeanSquaredError()\n",
        ")\n",
        "\n",
        "Wsave = tfModel.get_weights()  "
      ],
      "metadata": {
        "id": "hx2wmkFLvOhY",
        "colab": {
          "base_uri": "https://localhost:8080/"
        },
        "outputId": "91a4e57e-4dac-47a7-dcff-6e4a0da25671"
      },
      "execution_count": 2,
      "outputs": [
        {
          "output_type": "stream",
          "name": "stdout",
          "text": [
            "Tensor(\"total_f_layer/strided_slice:0\", shape=(None, 7), dtype=float64)\n",
            "Tensor(\"total_f_layer/strided_slice_1:0\", shape=(None, 4), dtype=float64)\n"
          ]
        }
      ]
    },
    {
      "cell_type": "code",
      "source": [
        "#Number of kinematic sets\n",
        "by_set = []\n",
        "for i in range(1):\n",
        "  setI = data.getSet(i, itemsInSet=45)\n",
        "\n",
        "  tfModel.set_weights(Wsave)\n",
        "\n",
        "  tfModel.fit([setI.Kinematics, setI.XnoCFF], setI.sampleY(), # one replica of samples from F vals\n",
        "                        epochs=5, verbose=1, batch_size=1, callbacks=[early_stopping_callback])\n",
        "  \n",
        "  cffs = uts.cffs_from_globalModel(tfModel, setI.Kinematics, numHL=2)\n",
        "  \n",
        "\n",
        "  by_set.append(cffs)\n",
        "  xdat = tf.transpose(setI.XnoCFF)\n",
        "\n",
        "  F2VsPhi(df,i+1,setI.XnoCFF,cffs)\n",
        "  plt.clf()"
      ],
      "metadata": {
        "colab": {
          "base_uri": "https://localhost:8080/",
          "height": 1000
        },
        "id": "KSQaRmwPBrYA",
        "outputId": "602a2336-0234-4fc7-cf4a-5d138cf922c5"
      },
      "execution_count": 3,
      "outputs": [
        {
          "output_type": "stream",
          "name": "stdout",
          "text": [
            "Epoch 1/5\n",
            "Tensor(\"tfmodel/total_f_layer/strided_slice:0\", shape=(1, 7), dtype=float64)\n",
            "Tensor(\"tfmodel/total_f_layer/strided_slice_1:0\", shape=(1, 4), dtype=float64)\n",
            "Tensor(\"tfmodel/total_f_layer/strided_slice:0\", shape=(1, 7), dtype=float64)\n",
            "Tensor(\"tfmodel/total_f_layer/strided_slice_1:0\", shape=(1, 4), dtype=float64)\n",
            "45/45 [==============================] - 4s 3ms/step - loss: nan\n",
            "Epoch 2/5\n",
            "45/45 [==============================] - 0s 3ms/step - loss: nan\n",
            "Epoch 3/5\n",
            "45/45 [==============================] - 0s 3ms/step - loss: nan\n",
            "Epoch 4/5\n",
            "45/45 [==============================] - 0s 3ms/step - loss: nan\n",
            "Epoch 5/5\n",
            "45/45 [==============================] - 0s 3ms/step - loss: nan\n",
            "    phi_x     k       QQ       x_b         t        F1        F2\n",
            "0       8  2.75  1.05443  0.536279 -0.452256  0.439958  0.597371\n",
            "1      16  2.75  1.05443  0.536279 -0.452256  0.439958  0.597371\n",
            "2      24  2.75  1.05443  0.536279 -0.452256  0.439958  0.597371\n",
            "3      32  2.75  1.05443  0.536279 -0.452256  0.439958  0.597371\n",
            "4      40  2.75  1.05443  0.536279 -0.452256  0.439958  0.597371\n",
            "5      48  2.75  1.05443  0.536279 -0.452256  0.439958  0.597371\n",
            "6      56  2.75  1.05443  0.536279 -0.452256  0.439958  0.597371\n",
            "7      64  2.75  1.05443  0.536279 -0.452256  0.439958  0.597371\n",
            "8      72  2.75  1.05443  0.536279 -0.452256  0.439958  0.597371\n",
            "9      80  2.75  1.05443  0.536279 -0.452256  0.439958  0.597371\n",
            "10     88  2.75  1.05443  0.536279 -0.452256  0.439958  0.597371\n",
            "11     96  2.75  1.05443  0.536279 -0.452256  0.439958  0.597371\n",
            "12    104  2.75  1.05443  0.536279 -0.452256  0.439958  0.597371\n",
            "13    112  2.75  1.05443  0.536279 -0.452256  0.439958  0.597371\n",
            "14    120  2.75  1.05443  0.536279 -0.452256  0.439958  0.597371\n",
            "15    128  2.75  1.05443  0.536279 -0.452256  0.439958  0.597371\n",
            "16    136  2.75  1.05443  0.536279 -0.452256  0.439958  0.597371\n",
            "17    144  2.75  1.05443  0.536279 -0.452256  0.439958  0.597371\n",
            "18    152  2.75  1.05443  0.536279 -0.452256  0.439958  0.597371\n",
            "19    160  2.75  1.05443  0.536279 -0.452256  0.439958  0.597371\n",
            "20    168  2.75  1.05443  0.536279 -0.452256  0.439958  0.597371\n",
            "21    176  2.75  1.05443  0.536279 -0.452256  0.439958  0.597371\n",
            "22    184  2.75  1.05443  0.536279 -0.452256  0.439958  0.597371\n",
            "23    192  2.75  1.05443  0.536279 -0.452256  0.439958  0.597371\n",
            "24    200  2.75  1.05443  0.536279 -0.452256  0.439958  0.597371\n",
            "25    208  2.75  1.05443  0.536279 -0.452256  0.439958  0.597371\n",
            "26    216  2.75  1.05443  0.536279 -0.452256  0.439958  0.597371\n",
            "27    224  2.75  1.05443  0.536279 -0.452256  0.439958  0.597371\n",
            "28    232  2.75  1.05443  0.536279 -0.452256  0.439958  0.597371\n",
            "29    240  2.75  1.05443  0.536279 -0.452256  0.439958  0.597371\n",
            "30    248  2.75  1.05443  0.536279 -0.452256  0.439958  0.597371\n",
            "31    256  2.75  1.05443  0.536279 -0.452256  0.439958  0.597371\n",
            "32    264  2.75  1.05443  0.536279 -0.452256  0.439958  0.597371\n",
            "33    272  2.75  1.05443  0.536279 -0.452256  0.439958  0.597371\n",
            "34    280  2.75  1.05443  0.536279 -0.452256  0.439958  0.597371\n",
            "35    288  2.75  1.05443  0.536279 -0.452256  0.439958  0.597371\n",
            "36    296  2.75  1.05443  0.536279 -0.452256  0.439958  0.597371\n",
            "37    304  2.75  1.05443  0.536279 -0.452256  0.439958  0.597371\n",
            "38    312  2.75  1.05443  0.536279 -0.452256  0.439958  0.597371\n",
            "39    320  2.75  1.05443  0.536279 -0.452256  0.439958  0.597371\n",
            "40    328  2.75  1.05443  0.536279 -0.452256  0.439958  0.597371\n",
            "41    336  2.75  1.05443  0.536279 -0.452256  0.439958  0.597371\n",
            "42    344  2.75  1.05443  0.536279 -0.452256  0.439958  0.597371\n",
            "43    352  2.75  1.05443  0.536279 -0.452256  0.439958  0.597371\n",
            "44    360  2.75  1.05443  0.536279 -0.452256  0.439958  0.597371\n",
            "[nan nan nan nan]\n"
          ]
        },
        {
          "output_type": "error",
          "ename": "TypeError",
          "evalue": "ignored",
          "traceback": [
            "\u001b[0;31m---------------------------------------------------------------------------\u001b[0m",
            "\u001b[0;31mTypeError\u001b[0m                                 Traceback (most recent call last)",
            "\u001b[0;32m<ipython-input-3-11d7f783b4fa>\u001b[0m in \u001b[0;36m<module>\u001b[0;34m()\u001b[0m\n\u001b[1;32m     15\u001b[0m   \u001b[0mxdat\u001b[0m \u001b[0;34m=\u001b[0m \u001b[0mtf\u001b[0m\u001b[0;34m.\u001b[0m\u001b[0mtranspose\u001b[0m\u001b[0;34m(\u001b[0m\u001b[0msetI\u001b[0m\u001b[0;34m.\u001b[0m\u001b[0mXnoCFF\u001b[0m\u001b[0;34m)\u001b[0m\u001b[0;34m\u001b[0m\u001b[0;34m\u001b[0m\u001b[0m\n\u001b[1;32m     16\u001b[0m \u001b[0;34m\u001b[0m\u001b[0m\n\u001b[0;32m---> 17\u001b[0;31m   \u001b[0mF2VsPhi\u001b[0m\u001b[0;34m(\u001b[0m\u001b[0mdf\u001b[0m\u001b[0;34m,\u001b[0m\u001b[0mi\u001b[0m\u001b[0;34m+\u001b[0m\u001b[0;36m1\u001b[0m\u001b[0;34m,\u001b[0m\u001b[0msetI\u001b[0m\u001b[0;34m.\u001b[0m\u001b[0mXnoCFF\u001b[0m\u001b[0;34m,\u001b[0m\u001b[0mcffs\u001b[0m\u001b[0;34m)\u001b[0m\u001b[0;34m\u001b[0m\u001b[0;34m\u001b[0m\u001b[0m\n\u001b[0m\u001b[1;32m     18\u001b[0m   \u001b[0mplt\u001b[0m\u001b[0;34m.\u001b[0m\u001b[0mclf\u001b[0m\u001b[0;34m(\u001b[0m\u001b[0;34m)\u001b[0m\u001b[0;34m\u001b[0m\u001b[0;34m\u001b[0m\u001b[0m\n",
            "\u001b[0;32m<ipython-input-1-68ec98399751>\u001b[0m in \u001b[0;36mF2VsPhi\u001b[0;34m(dataframe, SetNum, xdat, cffs)\u001b[0m\n\u001b[1;32m     35\u001b[0m     \u001b[0mprint\u001b[0m\u001b[0;34m(\u001b[0m\u001b[0mxdat\u001b[0m\u001b[0;34m)\u001b[0m\u001b[0;34m\u001b[0m\u001b[0;34m\u001b[0m\u001b[0m\n\u001b[1;32m     36\u001b[0m     \u001b[0mprint\u001b[0m\u001b[0;34m(\u001b[0m\u001b[0mcffs\u001b[0m\u001b[0;34m)\u001b[0m\u001b[0;34m\u001b[0m\u001b[0;34m\u001b[0m\u001b[0m\n\u001b[0;32m---> 37\u001b[0;31m     \u001b[0mplt\u001b[0m\u001b[0;34m.\u001b[0m\u001b[0mplot\u001b[0m\u001b[0;34m(\u001b[0m\u001b[0mtemp_phi\u001b[0m\u001b[0;34m,\u001b[0m \u001b[0mf\u001b[0m\u001b[0;34m(\u001b[0m\u001b[0mxdat\u001b[0m\u001b[0;34m,\u001b[0m\u001b[0mcffs\u001b[0m\u001b[0;34m)\u001b[0m\u001b[0;34m,\u001b[0m \u001b[0;34m'g--'\u001b[0m\u001b[0;34m,\u001b[0m \u001b[0mlabel\u001b[0m\u001b[0;34m=\u001b[0m\u001b[0;34m'fit'\u001b[0m\u001b[0;34m)\u001b[0m\u001b[0;34m\u001b[0m\u001b[0;34m\u001b[0m\u001b[0m\n\u001b[0m\u001b[1;32m     38\u001b[0m     \u001b[0mfile_name\u001b[0m \u001b[0;34m=\u001b[0m \u001b[0;34m\"plot_set_number_{}.png\"\u001b[0m\u001b[0;34m.\u001b[0m\u001b[0mformat\u001b[0m\u001b[0;34m(\u001b[0m\u001b[0mSetNum\u001b[0m\u001b[0;34m)\u001b[0m\u001b[0;34m\u001b[0m\u001b[0;34m\u001b[0m\u001b[0m\n\u001b[1;32m     39\u001b[0m     \u001b[0mplt\u001b[0m\u001b[0;34m.\u001b[0m\u001b[0msavefig\u001b[0m\u001b[0;34m(\u001b[0m\u001b[0mfile_name\u001b[0m\u001b[0;34m)\u001b[0m\u001b[0;34m\u001b[0m\u001b[0;34m\u001b[0m\u001b[0m\n",
            "\u001b[0;32m/content/BHDVCS_tf.py\u001b[0m in \u001b[0;36mcurve_fit\u001b[0;34m(self, kins, cffs)\u001b[0m\n\u001b[1;32m    121\u001b[0m       \u001b[0mReH\u001b[0m\u001b[0;34m,\u001b[0m \u001b[0mReE\u001b[0m\u001b[0;34m,\u001b[0m \u001b[0mReHtilde\u001b[0m\u001b[0;34m,\u001b[0m \u001b[0mc1fit\u001b[0m \u001b[0;34m=\u001b[0m \u001b[0mcffs\u001b[0m\u001b[0;34m\u001b[0m\u001b[0;34m\u001b[0m\u001b[0m\n\u001b[1;32m    122\u001b[0m \u001b[0;34m\u001b[0m\u001b[0m\n\u001b[0;32m--> 123\u001b[0;31m       \u001b[0mself\u001b[0m\u001b[0;34m.\u001b[0m\u001b[0mSetKinematics\u001b[0m\u001b[0;34m(\u001b[0m\u001b[0mkin1\u001b[0m\u001b[0;34m,\u001b[0m \u001b[0mkin2\u001b[0m\u001b[0;34m,\u001b[0m \u001b[0mkin3\u001b[0m\u001b[0;34m,\u001b[0m \u001b[0mkin4\u001b[0m\u001b[0;34m)\u001b[0m\u001b[0;34m\u001b[0m\u001b[0;34m\u001b[0m\u001b[0m\n\u001b[0m\u001b[1;32m    124\u001b[0m       \u001b[0mxsbhuu\u001b[0m   \u001b[0;34m=\u001b[0m \u001b[0mself\u001b[0m\u001b[0;34m.\u001b[0m\u001b[0mBHUU\u001b[0m\u001b[0;34m(\u001b[0m\u001b[0mphi\u001b[0m\u001b[0;34m,\u001b[0m \u001b[0mkin1\u001b[0m\u001b[0;34m,\u001b[0m \u001b[0mkin2\u001b[0m\u001b[0;34m,\u001b[0m \u001b[0mkin3\u001b[0m\u001b[0;34m,\u001b[0m \u001b[0mkin4\u001b[0m\u001b[0;34m,\u001b[0m \u001b[0mF1\u001b[0m\u001b[0;34m,\u001b[0m \u001b[0mF2\u001b[0m\u001b[0;34m)\u001b[0m\u001b[0;34m\u001b[0m\u001b[0;34m\u001b[0m\u001b[0m\n\u001b[1;32m    125\u001b[0m       \u001b[0mxsiuu\u001b[0m    \u001b[0;34m=\u001b[0m \u001b[0mself\u001b[0m\u001b[0;34m.\u001b[0m\u001b[0mIUU\u001b[0m\u001b[0;34m(\u001b[0m\u001b[0mphi\u001b[0m\u001b[0;34m,\u001b[0m \u001b[0mkin1\u001b[0m\u001b[0;34m,\u001b[0m \u001b[0mkin2\u001b[0m\u001b[0;34m,\u001b[0m \u001b[0mkin3\u001b[0m\u001b[0;34m,\u001b[0m \u001b[0mkin4\u001b[0m\u001b[0;34m,\u001b[0m \u001b[0mF1\u001b[0m\u001b[0;34m,\u001b[0m \u001b[0mF2\u001b[0m\u001b[0;34m,\u001b[0m \u001b[0mReH\u001b[0m\u001b[0;34m,\u001b[0m \u001b[0mReE\u001b[0m\u001b[0;34m,\u001b[0m \u001b[0mReHtilde\u001b[0m\u001b[0;34m)\u001b[0m\u001b[0;34m\u001b[0m\u001b[0;34m\u001b[0m\u001b[0m\n",
            "\u001b[0;32m/content/BHDVCS_tf.py\u001b[0m in \u001b[0;36mSetKinematics\u001b[0;34m(self, _QQ, _x, _t, _k)\u001b[0m\n\u001b[1;32m     36\u001b[0m         \u001b[0mself\u001b[0m\u001b[0;34m.\u001b[0m\u001b[0mk\u001b[0m \u001b[0;34m=\u001b[0m \u001b[0m_k\u001b[0m   \u001b[0;31m#Electron Beam Energy\u001b[0m\u001b[0;34m\u001b[0m\u001b[0;34m\u001b[0m\u001b[0m\n\u001b[1;32m     37\u001b[0m \u001b[0;34m\u001b[0m\u001b[0m\n\u001b[0;32m---> 38\u001b[0;31m         \u001b[0mself\u001b[0m\u001b[0;34m.\u001b[0m\u001b[0mee\u001b[0m \u001b[0;34m=\u001b[0m \u001b[0;36m4.\u001b[0m \u001b[0;34m*\u001b[0m \u001b[0mself\u001b[0m\u001b[0;34m.\u001b[0m\u001b[0mM2\u001b[0m \u001b[0;34m*\u001b[0m \u001b[0mself\u001b[0m\u001b[0;34m.\u001b[0m\u001b[0mx\u001b[0m \u001b[0;34m*\u001b[0m \u001b[0mself\u001b[0m\u001b[0;34m.\u001b[0m\u001b[0mx\u001b[0m \u001b[0;34m/\u001b[0m \u001b[0mself\u001b[0m\u001b[0;34m.\u001b[0m\u001b[0mQQ\u001b[0m \u001b[0;31m# epsilon squared\u001b[0m\u001b[0;34m\u001b[0m\u001b[0;34m\u001b[0m\u001b[0m\n\u001b[0m\u001b[1;32m     39\u001b[0m         \u001b[0mself\u001b[0m\u001b[0;34m.\u001b[0m\u001b[0my\u001b[0m \u001b[0;34m=\u001b[0m \u001b[0mtf\u001b[0m\u001b[0;34m.\u001b[0m\u001b[0msqrt\u001b[0m\u001b[0;34m(\u001b[0m\u001b[0mself\u001b[0m\u001b[0;34m.\u001b[0m\u001b[0mQQ\u001b[0m\u001b[0;34m)\u001b[0m \u001b[0;34m/\u001b[0m \u001b[0;34m(\u001b[0m \u001b[0mtf\u001b[0m\u001b[0;34m.\u001b[0m\u001b[0msqrt\u001b[0m\u001b[0;34m(\u001b[0m\u001b[0mself\u001b[0m\u001b[0;34m.\u001b[0m\u001b[0mee\u001b[0m\u001b[0;34m)\u001b[0m \u001b[0;34m*\u001b[0m \u001b[0mself\u001b[0m\u001b[0;34m.\u001b[0m\u001b[0mk\u001b[0m \u001b[0;34m)\u001b[0m  \u001b[0;31m# lepton energy fraction\u001b[0m\u001b[0;34m\u001b[0m\u001b[0;34m\u001b[0m\u001b[0m\n\u001b[1;32m     40\u001b[0m         \u001b[0mself\u001b[0m\u001b[0;34m.\u001b[0m\u001b[0mxi\u001b[0m \u001b[0;34m=\u001b[0m \u001b[0mself\u001b[0m\u001b[0;34m.\u001b[0m\u001b[0mx\u001b[0m \u001b[0;34m*\u001b[0m \u001b[0;34m(\u001b[0m \u001b[0;36m1.\u001b[0m \u001b[0;34m+\u001b[0m \u001b[0mself\u001b[0m\u001b[0;34m.\u001b[0m\u001b[0mt\u001b[0m \u001b[0;34m/\u001b[0m \u001b[0;36m2.\u001b[0m \u001b[0;34m/\u001b[0m \u001b[0mself\u001b[0m\u001b[0;34m.\u001b[0m\u001b[0mQQ\u001b[0m \u001b[0;34m)\u001b[0m \u001b[0;34m/\u001b[0m \u001b[0;34m(\u001b[0m \u001b[0;36m2.\u001b[0m \u001b[0;34m-\u001b[0m \u001b[0mself\u001b[0m\u001b[0;34m.\u001b[0m\u001b[0mx\u001b[0m \u001b[0;34m+\u001b[0m \u001b[0mself\u001b[0m\u001b[0;34m.\u001b[0m\u001b[0mx\u001b[0m \u001b[0;34m*\u001b[0m \u001b[0mself\u001b[0m\u001b[0;34m.\u001b[0m\u001b[0mt\u001b[0m \u001b[0;34m/\u001b[0m \u001b[0mself\u001b[0m\u001b[0;34m.\u001b[0m\u001b[0mQQ\u001b[0m \u001b[0;34m)\u001b[0m\u001b[0;34m;\u001b[0m \u001b[0;31m# Generalized Bjorken variable\u001b[0m\u001b[0;34m\u001b[0m\u001b[0;34m\u001b[0m\u001b[0m\n",
            "\u001b[0;31mTypeError\u001b[0m: can't multiply sequence by non-int of type 'float'"
          ]
        },
        {
          "output_type": "display_data",
          "data": {
            "image/png": "[encoded data removed]",
            "text/plain": [
              "<Figure size 432x288 with 1 Axes>"
            ]
          },
          "metadata": {
            "needs_background": "light"
          }
        }
      ]
    },
    {
      "cell_type": "code",
      "source": [
        "by_set"
      ],
      "metadata": {
        "colab": {
          "base_uri": "https://localhost:8080/"
        },
        "id": "3ua0KHlHHyPx",
        "outputId": "7e8f4618-d5c1-49bc-fb1d-91e1d12cad40"
      },
      "execution_count": 5,
      "outputs": [
        {
          "output_type": "execute_result",
          "data": {
            "text/plain": [
              "[array([nan, nan, nan, nan], dtype=float32),\n",
              " array([nan, nan, nan, nan], dtype=float32),\n",
              " array([nan, nan, nan, nan], dtype=float32),\n",
              " array([nan, nan, nan, nan], dtype=float32),\n",
              " array([nan, nan, nan, nan], dtype=float32)]"
            ]
          },
          "metadata": {},
          "execution_count": 5
        }
      ]
    }
  ]
}