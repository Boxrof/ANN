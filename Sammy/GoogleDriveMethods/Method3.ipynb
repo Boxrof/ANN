{
 "cells": [
  {
   "cell_type": "markdown",
   "metadata": {},
   "source": [
    "# Prof. Keller's Method Fit"
   ]
  },
  {
   "cell_type": "markdown",
   "metadata": {},
   "source": [
    "- Produce replicas by varying F within errF from data (set 0)\n",
    "- Perform fits to all replicas and obtain a distribution of CFFs\n",
    "- Determine the mean and sigma of CFFs\n",
    "- Using the mean, sigma of CFFs and varying kinematics, produce F values using the function(Note: the range of kinematics shouldn't exceed the values of next data set)\n",
    "- Build a new ANN model with the data generated in (4) -- Inputs: Kinematics & F / Outputs: CFFs\n",
    "- Produce samples of F varying within errF from the initial data and combine with initial kinematics\n",
    "- Feed the samples (from 6) to the ANN model built in (5) -- Output: a distribution of CFFs\n"
   ]
  },
  {
   "cell_type": "code",
   "execution_count": 3,
   "metadata": {},
   "outputs": [],
   "source": [
    "%load_ext autoreload\n",
    "%autoreload 2"
   ]
  },
  {
   "cell_type": "code",
   "execution_count": 15,
   "metadata": {},
   "outputs": [],
   "source": [
    "import tensorflow as tf\n",
    "import pandas as pd\n",
    "import numpy as np\n",
    "import matplotlib.pyplot as plt\n",
    "from tqdm.notebook import tqdm\n",
    "from sklearn.preprocessing import MinMaxScaler\n",
    "\n",
    "from BHDVCStf import BHDVCS #modified bhdvcs file\n",
    "import utilities as uts"
   ]
  },
  {
   "cell_type": "markdown",
   "metadata": {},
   "source": [
    "## Setup"
   ]
  },
  {
   "cell_type": "code",
   "execution_count": 5,
   "metadata": {},
   "outputs": [],
   "source": [
    "numSets = 15\n",
    "numReplicas = 500\n",
    "\n",
    "df = pd.read_csv(\"dvcs_xs_newsets_genCFFs.csv\")\n",
    "data = uts.DvcsData(df)"
   ]
  },
  {
   "cell_type": "code",
   "execution_count": 20,
   "metadata": {},
   "outputs": [],
   "source": [
    "localFits = np.fromfile('replicas500.txt')\n",
    "localFits = replicas.reshape(numSets, numReplicas, 3)"
   ]
  },
  {
   "cell_type": "markdown",
   "metadata": {},
   "source": [
    "## Generate Pseudo-Data"
   ]
  },
  {
   "cell_type": "code",
   "execution_count": 59,
   "metadata": {},
   "outputs": [
    {
     "data": {
      "text/html": [
       "<div>\n",
       "<style scoped>\n",
       "    .dataframe tbody tr th:only-of-type {\n",
       "        vertical-align: middle;\n",
       "    }\n",
       "\n",
       "    .dataframe tbody tr th {\n",
       "        vertical-align: top;\n",
       "    }\n",
       "\n",
       "    .dataframe thead th {\n",
       "        text-align: right;\n",
       "    }\n",
       "</style>\n",
       "<table border=\"1\" class=\"dataframe\">\n",
       "  <thead>\n",
       "    <tr style=\"text-align: right;\">\n",
       "      <th></th>\n",
       "      <th>#Set</th>\n",
       "      <th>index</th>\n",
       "      <th>k</th>\n",
       "      <th>QQ</th>\n",
       "      <th>x_b</th>\n",
       "      <th>t</th>\n",
       "      <th>phi_x</th>\n",
       "      <th>F</th>\n",
       "      <th>errF</th>\n",
       "      <th>F1</th>\n",
       "      <th>F2</th>\n",
       "      <th>dvcs</th>\n",
       "      <th>ReH</th>\n",
       "      <th>ReE</th>\n",
       "      <th>ReHtilde</th>\n",
       "    </tr>\n",
       "  </thead>\n",
       "  <tbody>\n",
       "    <tr>\n",
       "      <th>0</th>\n",
       "      <td>0</td>\n",
       "      <td>0</td>\n",
       "      <td>3.75</td>\n",
       "      <td>1.74013</td>\n",
       "      <td>0.435095</td>\n",
       "      <td>-0.380868</td>\n",
       "      <td>0</td>\n",
       "      <td>0.058205</td>\n",
       "      <td>0.002910</td>\n",
       "      <td>0.498060</td>\n",
       "      <td>0.68579</td>\n",
       "      <td>0.012288</td>\n",
       "      <td>13.0554</td>\n",
       "      <td>-53.0554</td>\n",
       "      <td>7.25302</td>\n",
       "    </tr>\n",
       "    <tr>\n",
       "      <th>1</th>\n",
       "      <td>0</td>\n",
       "      <td>1</td>\n",
       "      <td>3.75</td>\n",
       "      <td>1.74013</td>\n",
       "      <td>0.435095</td>\n",
       "      <td>-0.380868</td>\n",
       "      <td>10</td>\n",
       "      <td>0.055596</td>\n",
       "      <td>0.002780</td>\n",
       "      <td>0.498060</td>\n",
       "      <td>0.68579</td>\n",
       "      <td>0.012288</td>\n",
       "      <td>13.0554</td>\n",
       "      <td>-53.0554</td>\n",
       "      <td>7.25302</td>\n",
       "    </tr>\n",
       "    <tr>\n",
       "      <th>2</th>\n",
       "      <td>0</td>\n",
       "      <td>2</td>\n",
       "      <td>3.75</td>\n",
       "      <td>1.74013</td>\n",
       "      <td>0.435095</td>\n",
       "      <td>-0.380868</td>\n",
       "      <td>20</td>\n",
       "      <td>0.066353</td>\n",
       "      <td>0.003318</td>\n",
       "      <td>0.498060</td>\n",
       "      <td>0.68579</td>\n",
       "      <td>0.012288</td>\n",
       "      <td>13.0554</td>\n",
       "      <td>-53.0554</td>\n",
       "      <td>7.25302</td>\n",
       "    </tr>\n",
       "    <tr>\n",
       "      <th>3</th>\n",
       "      <td>0</td>\n",
       "      <td>3</td>\n",
       "      <td>3.75</td>\n",
       "      <td>1.74013</td>\n",
       "      <td>0.435095</td>\n",
       "      <td>-0.380868</td>\n",
       "      <td>30</td>\n",
       "      <td>0.068655</td>\n",
       "      <td>0.003433</td>\n",
       "      <td>0.498060</td>\n",
       "      <td>0.68579</td>\n",
       "      <td>0.012288</td>\n",
       "      <td>13.0554</td>\n",
       "      <td>-53.0554</td>\n",
       "      <td>7.25302</td>\n",
       "    </tr>\n",
       "    <tr>\n",
       "      <th>4</th>\n",
       "      <td>0</td>\n",
       "      <td>4</td>\n",
       "      <td>3.75</td>\n",
       "      <td>1.74013</td>\n",
       "      <td>0.435095</td>\n",
       "      <td>-0.380868</td>\n",
       "      <td>40</td>\n",
       "      <td>0.072765</td>\n",
       "      <td>0.003638</td>\n",
       "      <td>0.498060</td>\n",
       "      <td>0.68579</td>\n",
       "      <td>0.012288</td>\n",
       "      <td>13.0554</td>\n",
       "      <td>-53.0554</td>\n",
       "      <td>7.25302</td>\n",
       "    </tr>\n",
       "    <tr>\n",
       "      <th>...</th>\n",
       "      <td>...</td>\n",
       "      <td>...</td>\n",
       "      <td>...</td>\n",
       "      <td>...</td>\n",
       "      <td>...</td>\n",
       "      <td>...</td>\n",
       "      <td>...</td>\n",
       "      <td>...</td>\n",
       "      <td>...</td>\n",
       "      <td>...</td>\n",
       "      <td>...</td>\n",
       "      <td>...</td>\n",
       "      <td>...</td>\n",
       "      <td>...</td>\n",
       "      <td>...</td>\n",
       "    </tr>\n",
       "    <tr>\n",
       "      <th>535</th>\n",
       "      <td>14</td>\n",
       "      <td>31</td>\n",
       "      <td>7.75</td>\n",
       "      <td>2.63258</td>\n",
       "      <td>0.345012</td>\n",
       "      <td>-0.361188</td>\n",
       "      <td>310</td>\n",
       "      <td>0.023981</td>\n",
       "      <td>0.001199</td>\n",
       "      <td>0.512913</td>\n",
       "      <td>0.71481</td>\n",
       "      <td>0.012288</td>\n",
       "      <td>11.7411</td>\n",
       "      <td>-51.7411</td>\n",
       "      <td>6.52283</td>\n",
       "    </tr>\n",
       "    <tr>\n",
       "      <th>536</th>\n",
       "      <td>14</td>\n",
       "      <td>32</td>\n",
       "      <td>7.75</td>\n",
       "      <td>2.63258</td>\n",
       "      <td>0.345012</td>\n",
       "      <td>-0.361188</td>\n",
       "      <td>320</td>\n",
       "      <td>0.025345</td>\n",
       "      <td>0.001267</td>\n",
       "      <td>0.512913</td>\n",
       "      <td>0.71481</td>\n",
       "      <td>0.012288</td>\n",
       "      <td>11.7411</td>\n",
       "      <td>-51.7411</td>\n",
       "      <td>6.52283</td>\n",
       "    </tr>\n",
       "    <tr>\n",
       "      <th>537</th>\n",
       "      <td>14</td>\n",
       "      <td>33</td>\n",
       "      <td>7.75</td>\n",
       "      <td>2.63258</td>\n",
       "      <td>0.345012</td>\n",
       "      <td>-0.361188</td>\n",
       "      <td>330</td>\n",
       "      <td>0.024191</td>\n",
       "      <td>0.001210</td>\n",
       "      <td>0.512913</td>\n",
       "      <td>0.71481</td>\n",
       "      <td>0.012288</td>\n",
       "      <td>11.7411</td>\n",
       "      <td>-51.7411</td>\n",
       "      <td>6.52283</td>\n",
       "    </tr>\n",
       "    <tr>\n",
       "      <th>538</th>\n",
       "      <td>14</td>\n",
       "      <td>34</td>\n",
       "      <td>7.75</td>\n",
       "      <td>2.63258</td>\n",
       "      <td>0.345012</td>\n",
       "      <td>-0.361188</td>\n",
       "      <td>340</td>\n",
       "      <td>0.020530</td>\n",
       "      <td>0.001027</td>\n",
       "      <td>0.512913</td>\n",
       "      <td>0.71481</td>\n",
       "      <td>0.012288</td>\n",
       "      <td>11.7411</td>\n",
       "      <td>-51.7411</td>\n",
       "      <td>6.52283</td>\n",
       "    </tr>\n",
       "    <tr>\n",
       "      <th>539</th>\n",
       "      <td>14</td>\n",
       "      <td>35</td>\n",
       "      <td>7.75</td>\n",
       "      <td>2.63258</td>\n",
       "      <td>0.345012</td>\n",
       "      <td>-0.361188</td>\n",
       "      <td>350</td>\n",
       "      <td>0.020891</td>\n",
       "      <td>0.001045</td>\n",
       "      <td>0.512913</td>\n",
       "      <td>0.71481</td>\n",
       "      <td>0.012288</td>\n",
       "      <td>11.7411</td>\n",
       "      <td>-51.7411</td>\n",
       "      <td>6.52283</td>\n",
       "    </tr>\n",
       "  </tbody>\n",
       "</table>\n",
       "<p>540 rows × 15 columns</p>\n",
       "</div>"
      ],
      "text/plain": [
       "     #Set  index     k       QQ       x_b         t  phi_x         F  \\\n",
       "0       0      0  3.75  1.74013  0.435095 -0.380868      0  0.058205   \n",
       "1       0      1  3.75  1.74013  0.435095 -0.380868     10  0.055596   \n",
       "2       0      2  3.75  1.74013  0.435095 -0.380868     20  0.066353   \n",
       "3       0      3  3.75  1.74013  0.435095 -0.380868     30  0.068655   \n",
       "4       0      4  3.75  1.74013  0.435095 -0.380868     40  0.072765   \n",
       "..    ...    ...   ...      ...       ...       ...    ...       ...   \n",
       "535    14     31  7.75  2.63258  0.345012 -0.361188    310  0.023981   \n",
       "536    14     32  7.75  2.63258  0.345012 -0.361188    320  0.025345   \n",
       "537    14     33  7.75  2.63258  0.345012 -0.361188    330  0.024191   \n",
       "538    14     34  7.75  2.63258  0.345012 -0.361188    340  0.020530   \n",
       "539    14     35  7.75  2.63258  0.345012 -0.361188    350  0.020891   \n",
       "\n",
       "         errF        F1       F2      dvcs      ReH      ReE  ReHtilde  \n",
       "0    0.002910  0.498060  0.68579  0.012288  13.0554 -53.0554   7.25302  \n",
       "1    0.002780  0.498060  0.68579  0.012288  13.0554 -53.0554   7.25302  \n",
       "2    0.003318  0.498060  0.68579  0.012288  13.0554 -53.0554   7.25302  \n",
       "3    0.003433  0.498060  0.68579  0.012288  13.0554 -53.0554   7.25302  \n",
       "4    0.003638  0.498060  0.68579  0.012288  13.0554 -53.0554   7.25302  \n",
       "..        ...       ...      ...       ...      ...      ...       ...  \n",
       "535  0.001199  0.512913  0.71481  0.012288  11.7411 -51.7411   6.52283  \n",
       "536  0.001267  0.512913  0.71481  0.012288  11.7411 -51.7411   6.52283  \n",
       "537  0.001210  0.512913  0.71481  0.012288  11.7411 -51.7411   6.52283  \n",
       "538  0.001027  0.512913  0.71481  0.012288  11.7411 -51.7411   6.52283  \n",
       "539  0.001045  0.512913  0.71481  0.012288  11.7411 -51.7411   6.52283  \n",
       "\n",
       "[540 rows x 15 columns]"
      ]
     },
     "execution_count": 59,
     "metadata": {},
     "output_type": "execute_result"
    }
   ],
   "source": [
    "df"
   ]
  },
  {
   "cell_type": "code",
   "execution_count": 90,
   "metadata": {},
   "outputs": [],
   "source": [
    "class step3sim(object):\n",
    "    def __init__(self, X, replicas, whichSet, numSamples=10000):\n",
    "        # sample range of 10,000, with replicas repeated and appended to fill\n",
    "        \n",
    "        self.X = X\n",
    "        self.cffs = replicas[whichSet, :, :] # 2d numpy array of shape (replicas, cffs)\n",
    "        self.whichSet = whichSet        \n",
    "        self.numSamples = numSamples\n",
    "        \n",
    "        self.kins = X.loc[whichSet*36, ['k', 'QQ', 'x_b', 't']] #pandas array of kins for set\n",
    "        self.dvcs = X.loc[whichSet*36, 'dvcs']\n",
    "            \n",
    "    \n",
    "    def _getKinRange(self, whichKin):\n",
    "        '''\n",
    "        :param whichKin: which kinematic to compute range for\n",
    "        \n",
    "        :returns: [low end of range, high end of range]\n",
    "        '''\n",
    "        krange = np.unique(self.X[whichKin].sort_values())\n",
    "        idx = np.where(krange == self.kins[whichKin])[0][0]\n",
    "        \n",
    "        if idx == 0:  # if kin is lowest, then use for low end (kin - (high - kin) = 2*kin - high)\n",
    "            return [self.kins[whichKin]*2 - krange[idx + 1], krange[idx + 1]]\n",
    "        elif idx == (len(krange) - 1):   # if kin is highest, then use for high end (kin + (kin - low) = 2*kin - low)\n",
    "            return [krange[idx - 1], 2*self.kins[whichKin] - krange[idx - 1]]\n",
    "        else:\n",
    "            return [krange[idx - 1], krange[idx + 1]]\n",
    "\n",
    "\n",
    "    \n",
    "    def addFs(self, sd):\n",
    "        '''\n",
    "        :param sd: dataframe with all necessary variables from which F can be computed\n",
    "        \n",
    "        :returns: same dataframe but with F column added\n",
    "        '''\n",
    "        bhdvcs = BHDVCS()\n",
    "        sd['F'] = bhdvcs.TotalUUXS(np.array(sd[['phi_x', 'k', 'QQ', 'x_b', 't', 'F1', 'F2', 'dvcs']]),\n",
    "                                  np.array(sd['ReH']), np.array(sd['ReE']), np.array(sd['ReHtilde']))\n",
    "        return sd    \n",
    "\n",
    "    \n",
    "    def getSimData(self):\n",
    "        to_ret = {key: [] for key in self.X.columns} # compose dataframe with each necessary variable\n",
    "        \n",
    "        for kin in ['k', 'QQ', 'x_b', 't']: # uniformly sample from kin range for each kinematic\n",
    "            lohi = self._getKinRange(kin)\n",
    "            to_ret[kin] = np.random.uniform(lohi[0], lohi[1], self.numSamples)\n",
    "        \n",
    "        to_ret['F1'] = uts.f1_f2.ffF1(to_ret['t'])\n",
    "        to_ret['F2'] = uts.f1_f2.ffF1(to_ret['t'])\n",
    "                                \n",
    "\n",
    "        for i, cff in enumerate(['ReH', 'ReE', 'ReHtilde']): # normally sample cffs using local sets to parameterize\n",
    "            #can also be uniform \n",
    "            to_ret[cff] = np.random.normal(self.cffs[:, i].mean(), self.cffs[:, i].std(), size=self.numSamples)\n",
    "\n",
    "        \n",
    "        to_ret['dvcs'] = np.repeat(self.dvcs, self.numSamples)\n",
    "        \n",
    "        phis = np.repeat(np.linspace(0, 350, 36), self.numSamples//36 + 1)\n",
    "        to_ret['phi_x'] = phis[:self.numSamples]\n",
    "        \n",
    "        sd = pd.DataFrame(to_ret)\n",
    "        sd = self.addFs(sd)\n",
    "        return sd\n",
    "    "
   ]
  },
  {
   "cell_type": "code",
   "execution_count": 91,
   "metadata": {},
   "outputs": [],
   "source": [
    "t = step3sim(data.X, localFits, 0, 537)\n",
    "test = t.getSimData()"
   ]
  },
  {
   "cell_type": "code",
   "execution_count": 93,
   "metadata": {},
   "outputs": [
    {
     "data": {
      "text/plain": [
       "0.19366852886405958"
      ]
     },
     "execution_count": 93,
     "metadata": {},
     "output_type": "execute_result"
    }
   ],
   "source": [
    "(test['F'] < 0).mean()"
   ]
  },
  {
   "cell_type": "code",
   "execution_count": 69,
   "metadata": {},
   "outputs": [
    {
     "data": {
      "text/plain": [
       "array([3.75, 4.75, 5.75, 6.75, 7.75])"
      ]
     },
     "execution_count": 69,
     "metadata": {},
     "output_type": "execute_result"
    }
   ],
   "source": [
    "np.unique(data.X['k'])"
   ]
  },
  {
   "cell_type": "code",
   "execution_count": 67,
   "metadata": {},
   "outputs": [
    {
     "data": {
      "text/plain": [
       "[2.75, 4.75]"
      ]
     },
     "execution_count": 67,
     "metadata": {},
     "output_type": "execute_result"
    }
   ],
   "source": [
    "test"
   ]
  },
  {
   "cell_type": "code",
   "execution_count": 94,
   "metadata": {},
   "outputs": [],
   "source": [
    "def fit_pred_kinSet(whichSet, data, localFits, numReplicas):\n",
    "    \n",
    "    s3 = step3sim(data.X, localFits, whichSet)\n",
    "    locData = s3.getSimData()\n",
    "    \n",
    "    locData = locData.dropna() # some F values are NA\n",
    "    \n",
    "    rescaler = MinMaxScaler()\n",
    "    rescaler = rescaler.fit(locData[['k', 'QQ', 'x_b', 't', 'F']])\n",
    "    X = rescaler.transform(locData[['k', 'QQ', 'x_b', 't', 'F']])\n",
    "    y = locData[['ReH', 'ReE', 'ReHtilde']]\n",
    "    \n",
    "    \n",
    "    model = tf.keras.models.Sequential([\n",
    "    tf.keras.layers.Dense(20, input_shape=(5,), activation=\"elu\", kernel_initializer=\"he_normal\"),\n",
    "    tf.keras.layers.Dense(20, activation=\"elu\", kernel_initializer=\"he_normal\"),\n",
    "    tf.keras.layers.Dropout(rate=0.5),\n",
    "    tf.keras.layers.Dense(3)\n",
    "    ])\n",
    "    \n",
    "    model.compile(\n",
    "    optimizer = tf.keras.optimizers.Nadam(.01),\n",
    "    loss = tf.keras.losses.MeanSquaredError()\n",
    "    )\n",
    "    \n",
    "    model.fit(X, y, epochs=100, verbose=0)\n",
    "        \n",
    "\n",
    "    #to_pred = np.tile(np.array(data.Kinematics.loc[whichSet*36 + 18, :]), (100, 1)) \n",
    "\n",
    "    to_pred = pd.concat([data.Kinematics.loc[[whichSet*36 + 18], :] for _ in range(numReplicas)]) #phi=180\n",
    "    to_pred['F'] = [data.getSet(whichSet).sampleY()[18] for _ in range(numReplicas)] #phi=180\n",
    "    \n",
    "    to_pred = rescaler.transform(to_pred)\n",
    "    \n",
    "    #yhat = np.stack([model(to_pred, training=True) for sample in range(100)]).reshape()\n",
    "    \n",
    "    return model.predict(to_pred)"
   ]
  },
  {
   "cell_type": "code",
   "execution_count": 95,
   "metadata": {},
   "outputs": [],
   "source": [
    "def produceResults(data, localFits, numSets, numReplicas):\n",
    "    '''\n",
    "    data: a tensorflow neural network model\n",
    "    X: [standardized kins, xnocff]\n",
    "    orig_weights: the original weights from when the model was created (used to reset model after it has been trained)\n",
    "    numSets: the number of kinematic sets\n",
    "    numReplicas: the number of replicas\n",
    "    \n",
    "    returns: np array of cff predictions of shape (numSets, numReplicas, numCFFs)\n",
    "    '''\n",
    "    by_set = []\n",
    "    for i in tqdm(range(numSets)):\n",
    "        by_set.append(fit_pred_kinSet(i, data, localFits, numReplicas).tolist())\n",
    "\n",
    "    return np.array(by_set)"
   ]
  },
  {
   "cell_type": "code",
   "execution_count": 96,
   "metadata": {},
   "outputs": [
    {
     "data": {
      "application/vnd.jupyter.widget-view+json": {
       "model_id": "0d8d92f95eb246029e5fc8fc66848d38",
       "version_major": 2,
       "version_minor": 0
      },
      "text/plain": [
       "HBox(children=(FloatProgress(value=0.0, max=15.0), HTML(value='')))"
      ]
     },
     "metadata": {},
     "output_type": "display_data"
    },
    {
     "name": "stdout",
     "output_type": "stream",
     "text": [
      "\n"
     ]
    }
   ],
   "source": [
    "results = produceResults(data, localFits, numSets, numReplicas)"
   ]
  },
  {
   "cell_type": "markdown",
   "metadata": {},
   "source": [
    "# ReH"
   ]
  },
  {
   "cell_type": "code",
   "execution_count": 101,
   "metadata": {},
   "outputs": [],
   "source": [
    "y_yhat, err = uts.y_yhat_errCFFs(data, results, 0)"
   ]
  },
  {
   "cell_type": "code",
   "execution_count": 102,
   "metadata": {},
   "outputs": [
    {
     "name": "stdout",
     "output_type": "stream",
     "text": [
      "Mean percent error:  10.093974967524725\n",
      "RMSE:  0.9950933731879564\n",
      "RMSE w yhat=mean:  2.5254628436780107\n",
      "R-squared:  0.84474496208628\n"
     ]
    },
    {
     "data": {
      "image/png": "[encoded data removed]",
      "text/plain": [
       "<Figure size 432x288 with 1 Axes>"
      ]
     },
     "metadata": {
      "needs_background": "light"
     },
     "output_type": "display_data"
    }
   ],
   "source": [
    "uts.evaluate(y_yhat)"
   ]
  },
  {
   "cell_type": "code",
   "execution_count": 103,
   "metadata": {
    "scrolled": false
   },
   "outputs": [
    {
     "data": {
      "image/png": "[encoded data removed]",
      "text/plain": [
       "<Figure size 432x288 with 1 Axes>"
      ]
     },
     "metadata": {
      "needs_background": "light"
     },
     "output_type": "display_data"
    }
   ],
   "source": [
    "uts.plotError(y_yhat, err, \"ReH\")"
   ]
  },
  {
   "cell_type": "markdown",
   "metadata": {},
   "source": [
    "# ReE"
   ]
  },
  {
   "cell_type": "code",
   "execution_count": 104,
   "metadata": {
    "scrolled": true
   },
   "outputs": [
    {
     "name": "stdout",
     "output_type": "stream",
     "text": [
      "Mean percent error:  9.810335247780294\n",
      "RMSE:  5.127705676291191\n",
      "RMSE w yhat=mean:  2.525480507907797\n",
      "R-squared:  -3.1224760074685625\n"
     ]
    },
    {
     "data": {
      "image/png": "[encoded data removed]",
      "text/plain": [
       "<Figure size 432x288 with 1 Axes>"
      ]
     },
     "metadata": {
      "needs_background": "light"
     },
     "output_type": "display_data"
    }
   ],
   "source": [
    "y_yhat, err = uts.y_yhat_errCFFs(data, results, 1)\n",
    "uts.evaluate(y_yhat)"
   ]
  },
  {
   "cell_type": "code",
   "execution_count": 105,
   "metadata": {},
   "outputs": [
    {
     "data": {
      "image/png": "[encoded data removed]",
      "text/plain": [
       "<Figure size 432x288 with 1 Axes>"
      ]
     },
     "metadata": {
      "needs_background": "light"
     },
     "output_type": "display_data"
    }
   ],
   "source": [
    "uts.plotError(y_yhat, err, \"ReE\")"
   ]
  },
  {
   "cell_type": "code",
   "execution_count": 111,
   "metadata": {},
   "outputs": [
    {
     "data": {
      "text/plain": [
       "array([-0.380868, -0.373495, -0.361188, -0.291599, -0.283318, -0.27869 ])"
      ]
     },
     "execution_count": 111,
     "metadata": {},
     "output_type": "execute_result"
    }
   ],
   "source": [
    "np.unique(data.X['t'])"
   ]
  },
  {
   "cell_type": "markdown",
   "metadata": {},
   "source": [
    "# ReHtilde"
   ]
  },
  {
   "cell_type": "code",
   "execution_count": 106,
   "metadata": {
    "scrolled": true
   },
   "outputs": [
    {
     "name": "stdout",
     "output_type": "stream",
     "text": [
      "Mean percent error:  7.8495327738820215\n",
      "RMSE:  0.4109572456244328\n",
      "RMSE w yhat=mean:  1.4030345621243816\n",
      "R-squared:  0.914206073422545\n"
     ]
    },
    {
     "data": {
      "image/png": "[encoded data removed]",
      "text/plain": [
       "<Figure size 432x288 with 1 Axes>"
      ]
     },
     "metadata": {
      "needs_background": "light"
     },
     "output_type": "display_data"
    }
   ],
   "source": [
    "y_yhat, err = uts.y_yhat_errCFFs(data, results, 2)\n",
    "uts.evaluate(y_yhat)"
   ]
  },
  {
   "cell_type": "code",
   "execution_count": 107,
   "metadata": {
    "scrolled": true
   },
   "outputs": [
    {
     "data": {
      "image/png": "[encoded data removed]",
      "text/plain": [
       "<Figure size 432x288 with 1 Axes>"
      ]
     },
     "metadata": {
      "needs_background": "light"
     },
     "output_type": "display_data"
    }
   ],
   "source": [
    "uts.plotError(y_yhat, err, \"ReHtilde\")"
   ]
  },
  {
   "cell_type": "markdown",
   "metadata": {},
   "source": [
    "# Propagated Fs at 180"
   ]
  },
  {
   "cell_type": "markdown",
   "metadata": {},
   "source": [
    "Use the compton form factors as inputs to TotalUUXS to estimate the distribution of F, then compare it with the baseline."
   ]
  },
  {
   "cell_type": "code",
   "execution_count": 108,
   "metadata": {
    "scrolled": true
   },
   "outputs": [
    {
     "name": "stdout",
     "output_type": "stream",
     "text": [
      "Mean percent error:  5.838882614414955\n",
      "RMSE:  0.002121416218278457\n",
      "RMSE w yhat=mean:  0.015855649879790133\n",
      "R-squared:  0.9820987369274686\n"
     ]
    },
    {
     "data": {
      "image/png": "[encoded data removed]",
      "text/plain": [
       "<Figure size 432x288 with 1 Axes>"
      ]
     },
     "metadata": {
      "needs_background": "light"
     },
     "output_type": "display_data"
    }
   ],
   "source": [
    "y_yhat, err = uts.y_yhat_errFs(results, data)\n",
    "uts.evaluate(y_yhat)"
   ]
  },
  {
   "cell_type": "code",
   "execution_count": 109,
   "metadata": {},
   "outputs": [
    {
     "data": {
      "image/png": "[encoded data removed]",
      "text/plain": [
       "<Figure size 432x288 with 1 Axes>"
      ]
     },
     "metadata": {
      "needs_background": "light"
     },
     "output_type": "display_data"
    }
   ],
   "source": [
    "uts.plotError(y_yhat, err, \"F\")"
   ]
  }
 ],
 "metadata": {
  "kernelspec": {
   "display_name": "Py38Root",
   "language": "python",
   "name": "python3"
  },
  "language_info": {
   "codemirror_mode": {
    "name": "ipython",
    "version": 3
   },
   "file_extension": ".py",
   "mimetype": "text/x-python",
   "name": "python",
   "nbconvert_exporter": "python",
   "pygments_lexer": "ipython3",
   "version": "3.8.3"
  }
 },
 "nbformat": 4,
 "nbformat_minor": 2
}
