{
  "nbformat": 4,
  "nbformat_minor": 0,
  "metadata": {
    "colab": {
      "name": "LocalFitCustomLossGoogleColab.ipynb",
      "provenance": []
    },
    "kernelspec": {
      "display_name": "Py38Root",
      "language": "python",
      "name": "python3"
    },
    "language_info": {
      "codemirror_mode": {
        "name": "ipython",
        "version": 3
      },
      "file_extension": ".py",
      "mimetype": "text/x-python",
      "name": "python",
      "nbconvert_exporter": "python",
      "pygments_lexer": "ipython3",
      "version": "3.8.3"
    },
    "widgets": {
      "application/vnd.jupyter.widget-state+json": {
        "016e75078a0a421683612032bc688827": {
          "model_module": "@jupyter-widgets/controls",
          "model_name": "HBoxModel",
          "model_module_version": "1.5.0",
          "state": {
            "_view_name": "HBoxView",
            "_dom_classes": [],
            "_model_name": "HBoxModel",
            "_view_module": "@jupyter-widgets/controls",
            "_model_module_version": "1.5.0",
            "_view_count": null,
            "_view_module_version": "1.5.0",
            "box_style": "",
            "layout": "IPY_MODEL_f751695217294687a94d379d1f34b80e",
            "_model_module": "@jupyter-widgets/controls",
            "children": [
              "IPY_MODEL_4bf6e6b99fb944c2ab8b2bc4fab04508",
              "IPY_MODEL_6596293f0fb14e5e8129443dc2edeec9",
              "IPY_MODEL_020ffce76bee4e51b4c2ae05d789bf9a"
            ]
          }
        },
        "f751695217294687a94d379d1f34b80e": {
          "model_module": "@jupyter-widgets/base",
          "model_name": "LayoutModel",
          "model_module_version": "1.2.0",
          "state": {
            "_view_name": "LayoutView",
            "grid_template_rows": null,
            "right": null,
            "justify_content": null,
            "_view_module": "@jupyter-widgets/base",
            "overflow": null,
            "_model_module_version": "1.2.0",
            "_view_count": null,
            "flex_flow": null,
            "width": null,
            "min_width": null,
            "border": null,
            "align_items": null,
            "bottom": null,
            "_model_module": "@jupyter-widgets/base",
            "top": null,
            "grid_column": null,
            "overflow_y": null,
            "overflow_x": null,
            "grid_auto_flow": null,
            "grid_area": null,
            "grid_template_columns": null,
            "flex": null,
            "_model_name": "LayoutModel",
            "justify_items": null,
            "grid_row": null,
            "max_height": null,
            "align_content": null,
            "visibility": null,
            "align_self": null,
            "height": null,
            "min_height": null,
            "padding": null,
            "grid_auto_rows": null,
            "grid_gap": null,
            "max_width": null,
            "order": null,
            "_view_module_version": "1.2.0",
            "grid_template_areas": null,
            "object_position": null,
            "object_fit": null,
            "grid_auto_columns": null,
            "margin": null,
            "display": null,
            "left": null
          }
        },
        "4bf6e6b99fb944c2ab8b2bc4fab04508": {
          "model_module": "@jupyter-widgets/controls",
          "model_name": "HTMLModel",
          "model_module_version": "1.5.0",
          "state": {
            "_view_name": "HTMLView",
            "style": "IPY_MODEL_a4657a8827be46f78d093026e862277e",
            "_dom_classes": [],
            "description": "",
            "_model_name": "HTMLModel",
            "placeholder": "​",
            "_view_module": "@jupyter-widgets/controls",
            "_model_module_version": "1.5.0",
            "value": "  0%",
            "_view_count": null,
            "_view_module_version": "1.5.0",
            "description_tooltip": null,
            "_model_module": "@jupyter-widgets/controls",
            "layout": "IPY_MODEL_e177d993f515485ab1785a78e5676c1f"
          }
        },
        "6596293f0fb14e5e8129443dc2edeec9": {
          "model_module": "@jupyter-widgets/controls",
          "model_name": "FloatProgressModel",
          "model_module_version": "1.5.0",
          "state": {
            "_view_name": "ProgressView",
            "style": "IPY_MODEL_e4bd8f9825d34beaae4960f5061c0b34",
            "_dom_classes": [],
            "description": "",
            "_model_name": "FloatProgressModel",
            "bar_style": "",
            "max": 15,
            "_view_module": "@jupyter-widgets/controls",
            "_model_module_version": "1.5.0",
            "value": 0,
            "_view_count": null,
            "_view_module_version": "1.5.0",
            "orientation": "horizontal",
            "min": 0,
            "description_tooltip": null,
            "_model_module": "@jupyter-widgets/controls",
            "layout": "IPY_MODEL_227832fd61b0455c98871e68f6f71fc9"
          }
        },
        "020ffce76bee4e51b4c2ae05d789bf9a": {
          "model_module": "@jupyter-widgets/controls",
          "model_name": "HTMLModel",
          "model_module_version": "1.5.0",
          "state": {
            "_view_name": "HTMLView",
            "style": "IPY_MODEL_fa76dd4769ae4fc18903ca0649e841cf",
            "_dom_classes": [],
            "description": "",
            "_model_name": "HTMLModel",
            "placeholder": "​",
            "_view_module": "@jupyter-widgets/controls",
            "_model_module_version": "1.5.0",
            "value": " 0/15 [00:00&lt;?, ?it/s]",
            "_view_count": null,
            "_view_module_version": "1.5.0",
            "description_tooltip": null,
            "_model_module": "@jupyter-widgets/controls",
            "layout": "IPY_MODEL_9753320cad8c428f9df9594f7a38e111"
          }
        },
        "a4657a8827be46f78d093026e862277e": {
          "model_module": "@jupyter-widgets/controls",
          "model_name": "DescriptionStyleModel",
          "model_module_version": "1.5.0",
          "state": {
            "_view_name": "StyleView",
            "_model_name": "DescriptionStyleModel",
            "description_width": "",
            "_view_module": "@jupyter-widgets/base",
            "_model_module_version": "1.5.0",
            "_view_count": null,
            "_view_module_version": "1.2.0",
            "_model_module": "@jupyter-widgets/controls"
          }
        },
        "e177d993f515485ab1785a78e5676c1f": {
          "model_module": "@jupyter-widgets/base",
          "model_name": "LayoutModel",
          "model_module_version": "1.2.0",
          "state": {
            "_view_name": "LayoutView",
            "grid_template_rows": null,
            "right": null,
            "justify_content": null,
            "_view_module": "@jupyter-widgets/base",
            "overflow": null,
            "_model_module_version": "1.2.0",
            "_view_count": null,
            "flex_flow": null,
            "width": null,
            "min_width": null,
            "border": null,
            "align_items": null,
            "bottom": null,
            "_model_module": "@jupyter-widgets/base",
            "top": null,
            "grid_column": null,
            "overflow_y": null,
            "overflow_x": null,
            "grid_auto_flow": null,
            "grid_area": null,
            "grid_template_columns": null,
            "flex": null,
            "_model_name": "LayoutModel",
            "justify_items": null,
            "grid_row": null,
            "max_height": null,
            "align_content": null,
            "visibility": null,
            "align_self": null,
            "height": null,
            "min_height": null,
            "padding": null,
            "grid_auto_rows": null,
            "grid_gap": null,
            "max_width": null,
            "order": null,
            "_view_module_version": "1.2.0",
            "grid_template_areas": null,
            "object_position": null,
            "object_fit": null,
            "grid_auto_columns": null,
            "margin": null,
            "display": null,
            "left": null
          }
        },
        "e4bd8f9825d34beaae4960f5061c0b34": {
          "model_module": "@jupyter-widgets/controls",
          "model_name": "ProgressStyleModel",
          "model_module_version": "1.5.0",
          "state": {
            "_view_name": "StyleView",
            "_model_name": "ProgressStyleModel",
            "description_width": "",
            "_view_module": "@jupyter-widgets/base",
            "_model_module_version": "1.5.0",
            "_view_count": null,
            "_view_module_version": "1.2.0",
            "bar_color": null,
            "_model_module": "@jupyter-widgets/controls"
          }
        },
        "227832fd61b0455c98871e68f6f71fc9": {
          "model_module": "@jupyter-widgets/base",
          "model_name": "LayoutModel",
          "model_module_version": "1.2.0",
          "state": {
            "_view_name": "LayoutView",
            "grid_template_rows": null,
            "right": null,
            "justify_content": null,
            "_view_module": "@jupyter-widgets/base",
            "overflow": null,
            "_model_module_version": "1.2.0",
            "_view_count": null,
            "flex_flow": null,
            "width": null,
            "min_width": null,
            "border": null,
            "align_items": null,
            "bottom": null,
            "_model_module": "@jupyter-widgets/base",
            "top": null,
            "grid_column": null,
            "overflow_y": null,
            "overflow_x": null,
            "grid_auto_flow": null,
            "grid_area": null,
            "grid_template_columns": null,
            "flex": null,
            "_model_name": "LayoutModel",
            "justify_items": null,
            "grid_row": null,
            "max_height": null,
            "align_content": null,
            "visibility": null,
            "align_self": null,
            "height": null,
            "min_height": null,
            "padding": null,
            "grid_auto_rows": null,
            "grid_gap": null,
            "max_width": null,
            "order": null,
            "_view_module_version": "1.2.0",
            "grid_template_areas": null,
            "object_position": null,
            "object_fit": null,
            "grid_auto_columns": null,
            "margin": null,
            "display": null,
            "left": null
          }
        },
        "fa76dd4769ae4fc18903ca0649e841cf": {
          "model_module": "@jupyter-widgets/controls",
          "model_name": "DescriptionStyleModel",
          "model_module_version": "1.5.0",
          "state": {
            "_view_name": "StyleView",
            "_model_name": "DescriptionStyleModel",
            "description_width": "",
            "_view_module": "@jupyter-widgets/base",
            "_model_module_version": "1.5.0",
            "_view_count": null,
            "_view_module_version": "1.2.0",
            "_model_module": "@jupyter-widgets/controls"
          }
        },
        "9753320cad8c428f9df9594f7a38e111": {
          "model_module": "@jupyter-widgets/base",
          "model_name": "LayoutModel",
          "model_module_version": "1.2.0",
          "state": {
            "_view_name": "LayoutView",
            "grid_template_rows": null,
            "right": null,
            "justify_content": null,
            "_view_module": "@jupyter-widgets/base",
            "overflow": null,
            "_model_module_version": "1.2.0",
            "_view_count": null,
            "flex_flow": null,
            "width": null,
            "min_width": null,
            "border": null,
            "align_items": null,
            "bottom": null,
            "_model_module": "@jupyter-widgets/base",
            "top": null,
            "grid_column": null,
            "overflow_y": null,
            "overflow_x": null,
            "grid_auto_flow": null,
            "grid_area": null,
            "grid_template_columns": null,
            "flex": null,
            "_model_name": "LayoutModel",
            "justify_items": null,
            "grid_row": null,
            "max_height": null,
            "align_content": null,
            "visibility": null,
            "align_self": null,
            "height": null,
            "min_height": null,
            "padding": null,
            "grid_auto_rows": null,
            "grid_gap": null,
            "max_width": null,
            "order": null,
            "_view_module_version": "1.2.0",
            "grid_template_areas": null,
            "object_position": null,
            "object_fit": null,
            "grid_auto_columns": null,
            "margin": null,
            "display": null,
            "left": null
          }
        }
      }
    }
  },
  "cells": [
    {
      "cell_type": "markdown",
      "metadata": {
        "id": "-dwSPhuGDUzI"
      },
      "source": [
        "# ANN Local Fit"
      ]
    },
    {
      "cell_type": "markdown",
      "metadata": {
        "id": "8ZQwU4NVDUzN"
      },
      "source": [
        "Overview:\n",
        "\n",
        "1. Start with a specific set of kinematic variables.  \n",
        "2. Initialize a ANN with 4 Kins as input and 3 CFFs as output\n",
        "3. Pick random starting points for each parameter in ANN\n",
        "4. Input data to ANN (using current params) to produce Fs\n",
        "5. Compare resulting Fs to sampled Fs and compute mean squared error\n",
        "6. Update ANN params in a direction that reduces that mean squared error\n",
        "7. Repeat steps 3-5 until loss changes only very slightly"
      ]
    },
    {
      "cell_type": "markdown",
      "metadata": {
        "id": "gE2_Xu9DDUzR"
      },
      "source": [
        "The autoreloader enables you to make edits in imported files and those edits will become immediately available."
      ]
    },
    {
      "cell_type": "code",
      "metadata": {
        "colab": {
          "base_uri": "https://localhost:8080/"
        },
        "id": "Q1vnjiu1LAxc",
        "outputId": "772d8b7a-c352-4006-8df3-2a0b14a9fa98"
      },
      "source": [
        "from google.colab import drive\n",
        "drive.mount(\"/content/drive\", force_remount = True)"
      ],
      "execution_count": 2,
      "outputs": [
        {
          "output_type": "stream",
          "name": "stdout",
          "text": [
            "Mounted at /content/drive\n"
          ]
        }
      ]
    },
    {
      "cell_type": "code",
      "metadata": {
        "colab": {
          "base_uri": "https://localhost:8080/"
        },
        "id": "I9MlJ_8oLFjx",
        "outputId": "b3207af1-4102-4038-bd46-a2732081f694"
      },
      "source": [
        "#Check to make sure if you set up your directories in your drive correctly. If this doesn't print anything, something went wrong. \n",
        "import sys\n",
        "import os\n",
        "import keras.backend as K\n",
        "os.chdir('/content/drive/MyDrive')\n",
        "!ls /content/drive/MyDrive/PhysicsANNExtraction"
      ],
      "execution_count": 32,
      "outputs": [
        {
          "output_type": "stream",
          "name": "stdout",
          "text": [
            "BHDVCStf.py\t\t     Method1.ipynb  Method5.ipynb    utilities.py\n",
            "cffs.png\t\t     Method2.ipynb  networks\n",
            "dvcs_xs_newsets_genCFFs.csv  Method3.ipynb  __pycache__\n",
            "Lorentz_Vector.py\t     Method4.ipynb  replicas500.txt\n"
          ]
        }
      ]
    },
    {
      "cell_type": "code",
      "metadata": {
        "colab": {
          "base_uri": "https://localhost:8080/"
        },
        "id": "CHWkaWKVLJeK",
        "outputId": "8d5c6123-42c7-40d1-d7b6-94c748c754f2"
      },
      "source": [
        "cd /content/drive/MyDrive/PhysicsANNExtraction/"
      ],
      "execution_count": 33,
      "outputs": [
        {
          "output_type": "stream",
          "name": "stdout",
          "text": [
            "/content/drive/MyDrive/PhysicsANNExtraction\n"
          ]
        }
      ]
    },
    {
      "cell_type": "code",
      "metadata": {
        "id": "Z8JeWjlzDUzS",
        "colab": {
          "base_uri": "https://localhost:8080/"
        },
        "outputId": "256d41ad-ca3b-4972-befa-38417bec092e"
      },
      "source": [
        "%load_ext autoreload\n",
        "%autoreload 2"
      ],
      "execution_count": 34,
      "outputs": [
        {
          "output_type": "stream",
          "name": "stdout",
          "text": [
            "The autoreload extension is already loaded. To reload it, use:\n",
            "  %reload_ext autoreload\n"
          ]
        }
      ]
    },
    {
      "cell_type": "code",
      "metadata": {
        "id": "QunKptR_DUzX"
      },
      "source": [
        "import pandas as pd\n",
        "import numpy as np\n",
        "from tqdm.notebook import tqdm\n",
        "import tensorflow as tf\n",
        "\n",
        "from BHDVCStf import BHDVCS #modified bhdvcs file\n",
        "import utilities as uts #general utilities that are useful for all methods"
      ],
      "execution_count": 35,
      "outputs": []
    },
    {
      "cell_type": "markdown",
      "metadata": {
        "id": "nCyIYc_TDUzZ"
      },
      "source": [
        "## General global variable definitions"
      ]
    },
    {
      "cell_type": "code",
      "metadata": {
        "colab": {
          "base_uri": "https://localhost:8080/"
        },
        "id": "9kzk7ch9DUza",
        "outputId": "71590e7b-7e0a-4db4-a9dd-9d8828b4e460"
      },
      "source": [
        "bhdvcs = BHDVCS()\n",
        "df = pd.read_csv(\"dvcs_xs_newsets_genCFFs.csv\")\n",
        "print(df.shape)\n",
        "data = uts.DvcsData(df)\n",
        "numSets = 15\n",
        "numReplicas = 30"
      ],
      "execution_count": 36,
      "outputs": [
        {
          "output_type": "stream",
          "name": "stdout",
          "text": [
            "(540, 15)\n"
          ]
        }
      ]
    },
    {
      "cell_type": "markdown",
      "metadata": {
        "id": "yEhFlO88DUzb"
      },
      "source": [
        "## Define and compile model"
      ]
    },
    {
      "cell_type": "markdown",
      "metadata": {
        "id": "NlrfZ775DUzc"
      },
      "source": [
        "This makes use of the tensorflow [functional api](https://www.tensorflow.org/guide/keras/functional)"
      ]
    },
    {
      "cell_type": "code",
      "metadata": {
        "id": "45bMKlr7DUzd"
      },
      "source": [
        "kinematics = tf.keras.Input(shape=(4))\n",
        "\n",
        "#Adjust the activation function here\n",
        "x = tf.keras.layers.Dense(20, activation=\"tanh\")(kinematics)\n",
        "outputs = tf.keras.layers.Dense(3)(x) #three output nodes for ReH, ReE, ReHtilde\n",
        "noncffInputs = tf.keras.Input(shape=(8))\n",
        "totalUUXSInputs = tf.keras.layers.concatenate([noncffInputs, outputs])\n",
        "F = uts.TotalUUXSlayer()(totalUUXSInputs) # incorporate cross-sectional function\n",
        "globalModel = tf.keras.Model(inputs=[kinematics, noncffInputs], outputs=F, name=\"GlobalModel\")"
      ],
      "execution_count": 37,
      "outputs": []
    },
    {
      "cell_type": "code",
      "metadata": {
        "id": "2brW-ztDZgt9"
      },
      "source": [
        ""
      ],
      "execution_count": null,
      "outputs": []
    },
    {
      "cell_type": "code",
      "metadata": {
        "colab": {
          "base_uri": "https://localhost:8080/",
          "height": 533
        },
        "id": "eTpS4IUHDUzf",
        "outputId": "43fff33a-87f0-4c46-b25c-407fe216f0aa"
      },
      "source": [
        "tf.keras.utils.plot_model(globalModel, \"cffs.png\", show_shapes=True)"
      ],
      "execution_count": 38,
      "outputs": [
        {
          "output_type": "execute_result",
          "data": {
            "image/png": "[encoded data removed]",
            "text/plain": [
              "<IPython.core.display.Image object>"
            ]
          },
          "metadata": {},
          "execution_count": 38
        }
      ]
    },
    {
      "cell_type": "code",
      "metadata": {
        "id": "t4-w1XDcDUzh"
      },
      "source": [
        "#Define custom loss function to use here...\n",
        "def custom_loss(y_true, y_pred):\n",
        "  loss = K.square(y_true - y_pred)\n",
        "  loss = K.sum(loss)\n",
        "  return loss\n",
        "\n",
        "\n",
        "globalModel.compile(\n",
        "    #Parameters: Optimizer, Learning_rate, (loss function), epochs,\n",
        "    #Adjust the learning rate here\n",
        "    #optimizer = tf.keras.optimizers.SGD(learning_rate=0.1)\n",
        "    optimizer = tf.keras.optimizers.Adam(.0001),\n",
        "    #loss = tf.keras.losses.MeanSquaredError(),\n",
        "    loss = custom_loss\n",
        ")"
      ],
      "execution_count": 55,
      "outputs": []
    },
    {
      "cell_type": "code",
      "metadata": {
        "id": "NrxO0d8XDUzi"
      },
      "source": [
        "Wsave = globalModel.get_weights()"
      ],
      "execution_count": 44,
      "outputs": []
    },
    {
      "cell_type": "markdown",
      "metadata": {
        "id": "KNwlIyHgDUzj"
      },
      "source": [
        "## Produce CFFdists"
      ]
    },
    {
      "cell_type": "code",
      "metadata": {
        "id": "0gEnTO_HDUzk"
      },
      "source": [
        "def produceCFFs(numReplicas, data, Wsave):\n",
        "    '''\n",
        "    :param numSamples: number of replicas to produce\n",
        "    :param data: whole DvcsData\n",
        "    :param Wsave: saved weights\n",
        "    \n",
        "    :returns: numpy array of shape (numSets, numReplicas, 3)\n",
        "    '''\n",
        "\n",
        "    by_sample = []\n",
        "\n",
        "    for i in tqdm(range(max(data.df['#Set'])+1)):\n",
        "\n",
        "        globalModel.set_weights(Wsave) # reset weights to original value\n",
        "\n",
        "        setI = data.getSet(i) #DvcsData object containing specific set\n",
        "\n",
        "        by_set = []\n",
        "\n",
        "        for sample in range(numReplicas):\n",
        "            \n",
        "            #this callback enables us to roll the network back to its minimum loss during training\n",
        "            chkpt_path = 'networks/best-' + str(sample) + '.hdf5'\n",
        "            model_checkpoint_callback = tf.keras.callbacks.ModelCheckpoint(\n",
        "                filepath=chkpt_path,\n",
        "                save_weights_only=True,\n",
        "                monitor='loss',\n",
        "                mode='min',\n",
        "                save_best_only=True)\n",
        "\n",
        "\n",
        "            globalModel.fit([setI.Kinematics, setI.XnoCFF], setI.sampleY(), # the sample Y will generate Fs\n",
        "                        epochs=2500, verbose=0,\n",
        "                        callbacks=[model_checkpoint_callback])\n",
        "\n",
        "            globalModel.load_weights(chkpt_path) # load back minimum loss epoch\n",
        "\n",
        "            cffs = uts.cffs_from_globalModel(globalModel, setI.Kinematics) # get cffs from middle model\n",
        "\n",
        "            by_set.append(cffs)\n",
        "\n",
        "        by_sample.append(by_set)\n",
        "        \n",
        "    return np.array(by_sample)"
      ],
      "execution_count": 56,
      "outputs": []
    },
    {
      "cell_type": "markdown",
      "metadata": {
        "id": "C-B73_BnDUzm"
      },
      "source": [
        "This took about 2 hours to run"
      ]
    },
    {
      "cell_type": "code",
      "metadata": {
        "colab": {
          "base_uri": "https://localhost:8080/",
          "height": 49,
          "referenced_widgets": [
            "016e75078a0a421683612032bc688827",
            "f751695217294687a94d379d1f34b80e",
            "4bf6e6b99fb944c2ab8b2bc4fab04508",
            "6596293f0fb14e5e8129443dc2edeec9",
            "020ffce76bee4e51b4c2ae05d789bf9a",
            "a4657a8827be46f78d093026e862277e",
            "e177d993f515485ab1785a78e5676c1f",
            "e4bd8f9825d34beaae4960f5061c0b34",
            "227832fd61b0455c98871e68f6f71fc9",
            "fa76dd4769ae4fc18903ca0649e841cf",
            "9753320cad8c428f9df9594f7a38e111"
          ]
        },
        "id": "F9grtr-uDUzn",
        "scrolled": true,
        "outputId": "18688611-79b1-45bf-e9d7-d74d2b2b4af5"
      },
      "source": [
        "results = produceCFFs(30, data, Wsave)"
      ],
      "execution_count": null,
      "outputs": [
        {
          "output_type": "display_data",
          "data": {
            "application/vnd.jupyter.widget-view+json": {
              "model_id": "016e75078a0a421683612032bc688827",
              "version_minor": 0,
              "version_major": 2
            },
            "text/plain": [
              "  0%|          | 0/15 [00:00<?, ?it/s]"
            ]
          },
          "metadata": {}
        }
      ]
    },
    {
      "cell_type": "markdown",
      "metadata": {
        "id": "HuKkEnK-DUzo"
      },
      "source": [
        "# ReH"
      ]
    },
    {
      "cell_type": "code",
      "metadata": {
        "id": "R32qXMtTDUzp"
      },
      "source": [
        "y_yhat, err = uts.y_yhat_errCFFs(data, results, 0)"
      ],
      "execution_count": null,
      "outputs": []
    },
    {
      "cell_type": "code",
      "metadata": {
        "id": "j7psPJHmDUzq",
        "colab": {
          "base_uri": "https://localhost:8080/"
        },
        "outputId": "ff7ad6e3-9870-437b-c4b3-efc52d612617"
      },
      "source": [
        "uts.evaluate(y_yhat)"
      ],
      "execution_count": null,
      "outputs": [
        {
          "output_type": "stream",
          "text": [
            "Mean percent error:  880.3286730485878\n",
            "RMSE:  4.7744629707640796\n",
            "RMSE w yhat=mean:  2.5254628436780107\n",
            "R-squared:  -2.574103233103171\n"
          ],
          "name": "stdout"
        },
        {
          "output_type": "display_data",
          "data": {
            "image/png": "[encoded data removed]",
            "text/plain": [
              "<Figure size 432x288 with 1 Axes>"
            ]
          },
          "metadata": {
            "tags": [],
            "needs_background": "light"
          }
        }
      ]
    },
    {
      "cell_type": "code",
      "metadata": {
        "id": "92b9eN-sDUzr",
        "colab": {
          "base_uri": "https://localhost:8080/"
        },
        "outputId": "bdcd34fc-9226-41dc-c3ab-17093c376cc3"
      },
      "source": [
        "uts.plotError(y_yhat, err, \"ReH\")"
      ],
      "execution_count": null,
      "outputs": [
        {
          "output_type": "display_data",
          "data": {
            "image/png": "[encoded data removed]",
            "text/plain": [
              "<Figure size 432x288 with 1 Axes>"
            ]
          },
          "metadata": {
            "tags": [],
            "needs_background": "light"
          }
        }
      ]
    },
    {
      "cell_type": "markdown",
      "metadata": {
        "id": "6nIVu7wuDUzt"
      },
      "source": [
        "# ReE"
      ]
    },
    {
      "cell_type": "code",
      "metadata": {
        "id": "uMR7WbKaDUzu"
      },
      "source": [
        "y_yhat, err = uts.y_yhat_errCFFs(data, results, 1)"
      ],
      "execution_count": null,
      "outputs": []
    },
    {
      "cell_type": "code",
      "metadata": {
        "id": "p4hO6hMHDUzv",
        "colab": {
          "base_uri": "https://localhost:8080/"
        },
        "outputId": "3025211f-54a8-4e71-d9e4-4a6c8e00d8cf"
      },
      "source": [
        "uts.evaluate(y_yhat)"
      ],
      "execution_count": null,
      "outputs": [
        {
          "output_type": "stream",
          "text": [
            "Mean percent error:  164.76485695029533\n",
            "RMSE:  26.422161861907448\n",
            "RMSE w yhat=mean:  2.525480507907797\n",
            "R-squared:  -108.45828911488752\n"
          ],
          "name": "stdout"
        },
        {
          "output_type": "display_data",
          "data": {
            "image/png": "[encoded data removed]",
            "text/plain": [
              "<Figure size 432x288 with 1 Axes>"
            ]
          },
          "metadata": {
            "tags": [],
            "needs_background": "light"
          }
        }
      ]
    },
    {
      "cell_type": "code",
      "metadata": {
        "id": "lLLU0z-jDUzw",
        "colab": {
          "base_uri": "https://localhost:8080/"
        },
        "outputId": "470d4e3b-69e0-4ba3-fff0-c96f2b14cbff"
      },
      "source": [
        "uts.plotError(y_yhat, err, \"ReE\")"
      ],
      "execution_count": null,
      "outputs": [
        {
          "output_type": "display_data",
          "data": {
            "image/png": "[encoded data removed]",
            "text/plain": [
              "<Figure size 432x288 with 1 Axes>"
            ]
          },
          "metadata": {
            "tags": [],
            "needs_background": "light"
          }
        }
      ]
    },
    {
      "cell_type": "markdown",
      "metadata": {
        "id": "ffM8cZv4DUzx"
      },
      "source": [
        "# ReHtilde"
      ]
    },
    {
      "cell_type": "code",
      "metadata": {
        "id": "x_5Yk4WRDUzy",
        "scrolled": true,
        "colab": {
          "base_uri": "https://localhost:8080/"
        },
        "outputId": "0573b22f-ee3b-4f09-ffd7-1135b38429a3"
      },
      "source": [
        "y_yhat, err = uts.y_yhat_errCFFs(data, results, 2)\n",
        "uts.evaluate(y_yhat)"
      ],
      "execution_count": null,
      "outputs": [
        {
          "output_type": "stream",
          "text": [
            "Mean percent error:  80.53379080232187\n",
            "RMSE:  2.16217607694087\n",
            "RMSE w yhat=mean:  1.4030345621243816\n",
            "R-squared:  -1.3749002691478847\n"
          ],
          "name": "stdout"
        },
        {
          "output_type": "display_data",
          "data": {
            "image/png": "[encoded data removed]",
            "text/plain": [
              "<Figure size 432x288 with 1 Axes>"
            ]
          },
          "metadata": {
            "tags": [],
            "needs_background": "light"
          }
        }
      ]
    },
    {
      "cell_type": "code",
      "metadata": {
        "id": "6T0ccWXpDUzz",
        "scrolled": true,
        "colab": {
          "base_uri": "https://localhost:8080/"
        },
        "outputId": "910cc38a-95a4-4137-8053-3030cc711983"
      },
      "source": [
        "uts.plotError(y_yhat, err, \"ReHtilde\")"
      ],
      "execution_count": null,
      "outputs": [
        {
          "output_type": "display_data",
          "data": {
            "image/png": "[encoded data removed]",
            "text/plain": [
              "<Figure size 432x288 with 1 Axes>"
            ]
          },
          "metadata": {
            "tags": [],
            "needs_background": "light"
          }
        }
      ]
    },
    {
      "cell_type": "markdown",
      "metadata": {
        "id": "OfhnXHxrDUz0"
      },
      "source": [
        "# Propagated Fs at 180"
      ]
    },
    {
      "cell_type": "code",
      "metadata": {
        "id": "t7x-xLX0DUz0",
        "scrolled": true,
        "colab": {
          "base_uri": "https://localhost:8080/"
        },
        "outputId": "1b9ba083-67ec-4308-bc3a-81a97fda679a"
      },
      "source": [
        "y_yhat, err = uts.y_yhat_errFs(results, data)\n",
        "uts.evaluate(y_yhat)"
      ],
      "execution_count": null,
      "outputs": [
        {
          "output_type": "stream",
          "text": [
            "Mean percent error:  7.910838994066499\n",
            "RMSE:  0.0027350948061290927\n",
            "RMSE w yhat=mean:  0.015855649879790133\n",
            "R-squared:  0.9702438544015877\n"
          ],
          "name": "stdout"
        },
        {
          "output_type": "display_data",
          "data": {
            "image/png": "[encoded data removed]",
            "text/plain": [
              "<Figure size 432x288 with 1 Axes>"
            ]
          },
          "metadata": {
            "tags": [],
            "needs_background": "light"
          }
        }
      ]
    },
    {
      "cell_type": "code",
      "metadata": {
        "id": "NKssxHsYDUz2",
        "colab": {
          "base_uri": "https://localhost:8080/"
        },
        "outputId": "41962e29-aa43-457b-eae9-e262f10ee6dc"
      },
      "source": [
        "uts.plotError(y_yhat, err, \"F\")"
      ],
      "execution_count": null,
      "outputs": [
        {
          "output_type": "display_data",
          "data": {
            "image/png": "[encoded data removed]",
            "text/plain": [
              "<Figure size 432x288 with 1 Axes>"
            ]
          },
          "metadata": {
            "tags": [],
            "needs_background": "light"
          }
        }
      ]
    }
  ]
}