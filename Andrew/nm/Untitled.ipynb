{
 "cells": [
  {
   "cell_type": "code",
   "execution_count": 7,
   "id": "90a259e0-79f1-4130-96c5-64b13d9be71b",
   "metadata": {},
   "outputs": [],
   "source": [
    "from os import listdir\n",
    "from os.path import isfile, join\n",
    "import pandas as pd"
   ]
  },
  {
   "cell_type": "code",
   "execution_count": 10,
   "id": "d98849e0-5d38-4895-9365-11cc825cc70f",
   "metadata": {},
   "outputs": [],
   "source": [
    "def concat(setno, epoch):\n",
    "    path = \"Results\"+str(setno)+\"_\"+str(epoch)+\"/\"\n",
    "    onlyfiles = [f for f in listdir(path) if isfile(join(path, f))]\n",
    "    df = pd.DataFrame()\n",
    "    for file in onlyfiles:\n",
    "        cff = pd.read_csv(path+file)\n",
    "        df = df.append(cff)\n",
    "    return df"
   ]
  },
  {
   "cell_type": "code",
   "execution_count": 13,
   "id": "2a5fb6b0-16a9-434f-afb5-8fd375750781",
   "metadata": {},
   "outputs": [],
   "source": [
    "Results0_100 = concat(0,100)"
   ]
  },
  {
   "cell_type": "code",
   "execution_count": 20,
   "id": "0a2b09d0-ba9b-4b7d-bae1-5e5247b1550e",
   "metadata": {},
   "outputs": [
    {
     "name": "stdout",
     "output_type": "stream",
     "text": [
      "-0.31079159621708297\n",
      "3.8924805864078373\n"
     ]
    }
   ],
   "source": [
    "print(Results0_100[\"ReE\"].mean())\n",
    "print(Results0_100[\"ReE\"].std())"
   ]
  },
  {
   "cell_type": "code",
   "execution_count": 30,
   "id": "5671f91d-5b64-4b89-b323-a90d288360f7",
   "metadata": {},
   "outputs": [
    {
     "data": {
      "text/html": [
       "<div>\n",
       "<style scoped>\n",
       "    .dataframe tbody tr th:only-of-type {\n",
       "        vertical-align: middle;\n",
       "    }\n",
       "\n",
       "    .dataframe tbody tr th {\n",
       "        vertical-align: top;\n",
       "    }\n",
       "\n",
       "    .dataframe thead th {\n",
       "        text-align: right;\n",
       "    }\n",
       "</style>\n",
       "<table border=\"1\" class=\"dataframe\">\n",
       "  <thead>\n",
       "    <tr style=\"text-align: right;\">\n",
       "      <th></th>\n",
       "      <th>Unnamed: 0</th>\n",
       "      <th>ReH</th>\n",
       "      <th>ReE</th>\n",
       "      <th>ReHT</th>\n",
       "      <th>index</th>\n",
       "      <th>replica</th>\n",
       "    </tr>\n",
       "  </thead>\n",
       "  <tbody>\n",
       "    <tr>\n",
       "      <th>0</th>\n",
       "      <td>0</td>\n",
       "      <td>2.238641</td>\n",
       "      <td>-7.280724</td>\n",
       "      <td>0.297246</td>\n",
       "      <td>0</td>\n",
       "      <td>0</td>\n",
       "    </tr>\n",
       "    <tr>\n",
       "      <th>1</th>\n",
       "      <td>1</td>\n",
       "      <td>2.238640</td>\n",
       "      <td>-7.280724</td>\n",
       "      <td>0.297245</td>\n",
       "      <td>1</td>\n",
       "      <td>0</td>\n",
       "    </tr>\n",
       "    <tr>\n",
       "      <th>2</th>\n",
       "      <td>2</td>\n",
       "      <td>2.238632</td>\n",
       "      <td>-7.280725</td>\n",
       "      <td>0.297237</td>\n",
       "      <td>2</td>\n",
       "      <td>0</td>\n",
       "    </tr>\n",
       "    <tr>\n",
       "      <th>3</th>\n",
       "      <td>3</td>\n",
       "      <td>2.238640</td>\n",
       "      <td>-7.280724</td>\n",
       "      <td>0.297244</td>\n",
       "      <td>3</td>\n",
       "      <td>0</td>\n",
       "    </tr>\n",
       "    <tr>\n",
       "      <th>0</th>\n",
       "      <td>0</td>\n",
       "      <td>2.422279</td>\n",
       "      <td>0.377393</td>\n",
       "      <td>-0.567229</td>\n",
       "      <td>0</td>\n",
       "      <td>1</td>\n",
       "    </tr>\n",
       "    <tr>\n",
       "      <th>1</th>\n",
       "      <td>1</td>\n",
       "      <td>2.422289</td>\n",
       "      <td>0.377391</td>\n",
       "      <td>-0.567217</td>\n",
       "      <td>1</td>\n",
       "      <td>1</td>\n",
       "    </tr>\n",
       "    <tr>\n",
       "      <th>2</th>\n",
       "      <td>2</td>\n",
       "      <td>2.422290</td>\n",
       "      <td>0.377391</td>\n",
       "      <td>-0.567215</td>\n",
       "      <td>2</td>\n",
       "      <td>1</td>\n",
       "    </tr>\n",
       "    <tr>\n",
       "      <th>3</th>\n",
       "      <td>3</td>\n",
       "      <td>2.422289</td>\n",
       "      <td>0.377391</td>\n",
       "      <td>-0.567216</td>\n",
       "      <td>3</td>\n",
       "      <td>1</td>\n",
       "    </tr>\n",
       "    <tr>\n",
       "      <th>0</th>\n",
       "      <td>0</td>\n",
       "      <td>0.906087</td>\n",
       "      <td>-2.873427</td>\n",
       "      <td>4.278525</td>\n",
       "      <td>0</td>\n",
       "      <td>10</td>\n",
       "    </tr>\n",
       "    <tr>\n",
       "      <th>1</th>\n",
       "      <td>1</td>\n",
       "      <td>0.906087</td>\n",
       "      <td>-2.873427</td>\n",
       "      <td>4.278524</td>\n",
       "      <td>1</td>\n",
       "      <td>10</td>\n",
       "    </tr>\n",
       "  </tbody>\n",
       "</table>\n",
       "</div>"
      ],
      "text/plain": [
       "   Unnamed: 0       ReH       ReE      ReHT  index  replica\n",
       "0           0  2.238641 -7.280724  0.297246      0        0\n",
       "1           1  2.238640 -7.280724  0.297245      1        0\n",
       "2           2  2.238632 -7.280725  0.297237      2        0\n",
       "3           3  2.238640 -7.280724  0.297244      3        0\n",
       "0           0  2.422279  0.377393 -0.567229      0        1\n",
       "1           1  2.422289  0.377391 -0.567217      1        1\n",
       "2           2  2.422290  0.377391 -0.567215      2        1\n",
       "3           3  2.422289  0.377391 -0.567216      3        1\n",
       "0           0  0.906087 -2.873427  4.278525      0       10\n",
       "1           1  0.906087 -2.873427  4.278524      1       10"
      ]
     },
     "execution_count": 30,
     "metadata": {},
     "output_type": "execute_result"
    }
   ],
   "source": [
    "Results0_100.head(10)"
   ]
  },
  {
   "cell_type": "code",
   "execution_count": 32,
   "id": "8b3ade1c-88e7-4f8e-8fb2-54d48c77a202",
   "metadata": {},
   "outputs": [
    {
     "data": {
      "text/plain": [
       "Index(['Unnamed: 0', 'ReH', 'ReE', 'ReHT', 'index', 'replica'], dtype='object')"
      ]
     },
     "execution_count": 32,
     "metadata": {},
     "output_type": "execute_result"
    }
   ],
   "source": [
    "Results0_100.iloc[[7]]"
   ]
  },
  {
   "cell_type": "code",
   "execution_count": 34,
   "id": "927e3534-39d1-4778-8e96-e83f1b81271c",
   "metadata": {},
   "outputs": [
    {
     "name": "stdout",
     "output_type": "stream",
     "text": [
      "0\n",
      "10\n"
     ]
    }
   ],
   "source": [
    "test1 = 0\n",
    "print(test1)\n",
    "def testfunc():\n",
    "    global test1\n",
    "    test1 = 10\n",
    "testfunc()\n",
    "print(test1)"
   ]
  },
  {
   "cell_type": "code",
   "execution_count": null,
   "id": "ab96de6b-306a-4dbf-b277-51b936dd8a03",
   "metadata": {},
   "outputs": [],
   "source": []
  }
 ],
 "metadata": {
  "kernelspec": {
   "display_name": "Python 3",
   "language": "python",
   "name": "python3"
  },
  "language_info": {
   "codemirror_mode": {
    "name": "ipython",
    "version": 3
   },
   "file_extension": ".py",
   "mimetype": "text/x-python",
   "name": "python",
   "nbconvert_exporter": "python",
   "pygments_lexer": "ipython3",
   "version": "3.9.2"
  }
 },
 "nbformat": 4,
 "nbformat_minor": 5
}
