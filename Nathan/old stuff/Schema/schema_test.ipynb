{
  "nbformat": 4,
  "nbformat_minor": 0,
  "metadata": {
    "colab": {
      "name": "schema_test.ipynb",
      "provenance": [],
      "collapsed_sections": []
    },
    "kernelspec": {
      "name": "python3",
      "display_name": "Python 3"
    },
    "language_info": {
      "name": "python"
    }
  },
  "cells": [
    {
      "cell_type": "code",
      "metadata": {
        "id": "YToawxDVwyf1"
      },
      "source": [
        "from GlobalFittingSchema import GlobalFittingSchema\n",
        "import matplotlib.pyplot as plt"
      ],
      "execution_count": 1,
      "outputs": []
    },
    {
      "cell_type": "code",
      "metadata": {
        "id": "vQpdb0T9b6lX"
      },
      "source": [
        ""
      ],
      "execution_count": 1,
      "outputs": []
    },
    {
      "cell_type": "code",
      "metadata": {
        "id": "-0Ga1yA6H_mu"
      },
      "source": [
        "g1 = GlobalFittingSchema()\n",
        "g1.importFromFile('example_data.json')"
      ],
      "execution_count": 2,
      "outputs": []
    },
    {
      "cell_type": "code",
      "metadata": {
        "id": "qS7nZnBnFPcP",
        "outputId": "207b7f2f-c769-4388-8574-fd8aaa911db2",
        "colab": {
          "base_uri": "https://localhost:8080/"
        }
      },
      "source": [
        "g1.getArchitectures()"
      ],
      "execution_count": 3,
      "outputs": [
        {
          "output_type": "execute_result",
          "data": {
            "text/plain": [
              "['2Layers70Nodes', '3Layers45Nodes', '4Layers12Nodes']"
            ]
          },
          "metadata": {
            "tags": []
          },
          "execution_count": 3
        }
      ]
    },
    {
      "cell_type": "code",
      "metadata": {
        "id": "ti7rkSa2GIF_",
        "outputId": "f3d6e7e3-7e94-4277-8058-9d7989f0e017",
        "colab": {
          "base_uri": "https://localhost:8080/"
        }
      },
      "source": [
        "g1.getRuns('2Layers70Nodes')"
      ],
      "execution_count": 4,
      "outputs": [
        {
          "output_type": "execute_result",
          "data": {
            "text/plain": [
              "['Run1-Nathan', 'Run2-Nathan', 'Run3-Nathan']"
            ]
          },
          "metadata": {
            "tags": []
          },
          "execution_count": 4
        }
      ]
    },
    {
      "cell_type": "code",
      "metadata": {
        "id": "q3c4wrZZTQyI",
        "outputId": "2183cb69-09b3-4e45-c401-3092125bf9dd",
        "colab": {
          "base_uri": "https://localhost:8080/"
        }
      },
      "source": [
        "g1.getHyperparameters('2Layers70Nodes', 'Run1-Nathan')"
      ],
      "execution_count": 5,
      "outputs": [
        {
          "output_type": "execute_result",
          "data": {
            "text/plain": [
              "['optimizer', 'learning-rate']"
            ]
          },
          "metadata": {
            "tags": []
          },
          "execution_count": 5
        }
      ]
    },
    {
      "cell_type": "code",
      "metadata": {
        "id": "WgqRmRXbTXec",
        "outputId": "05349d12-8f40-4ab2-c2a0-cf76dad32ef5",
        "colab": {
          "base_uri": "https://localhost:8080/",
          "height": 35
        }
      },
      "source": [
        "g1.getHyperparameter('2Layers70Nodes', 'Run1-Nathan', 'optimizer')"
      ],
      "execution_count": 6,
      "outputs": [
        {
          "output_type": "execute_result",
          "data": {
            "application/vnd.google.colaboratory.intrinsic+json": {
              "type": "string"
            },
            "text/plain": [
              "'Adam'"
            ]
          },
          "metadata": {
            "tags": []
          },
          "execution_count": 6
        }
      ]
    },
    {
      "cell_type": "code",
      "metadata": {
        "id": "QY7jMmEnWtuV",
        "outputId": "f74a22c2-2e7c-40d6-d6b1-bd1f3eefdd33",
        "colab": {
          "base_uri": "https://localhost:8080/"
        }
      },
      "source": [
        "g1.getStatistics('2Layers70Nodes', 'Run1-Nathan', 'ReH')"
      ],
      "execution_count": 7,
      "outputs": [
        {
          "output_type": "execute_result",
          "data": {
            "text/plain": [
              "['MPE', 'RMSE', 'R2']"
            ]
          },
          "metadata": {
            "tags": []
          },
          "execution_count": 7
        }
      ]
    },
    {
      "cell_type": "code",
      "metadata": {
        "id": "xVioMVAyW1um",
        "outputId": "5b62efcf-58ac-498a-af23-38f878586308",
        "colab": {
          "base_uri": "https://localhost:8080/"
        }
      },
      "source": [
        "g1.getStatistic('2Layers70Nodes', 'Run1-Nathan', 'ReH', 'MPE')"
      ],
      "execution_count": 8,
      "outputs": [
        {
          "output_type": "execute_result",
          "data": {
            "text/plain": [
              "7.58937165480689"
            ]
          },
          "metadata": {
            "tags": []
          },
          "execution_count": 8
        }
      ]
    },
    {
      "cell_type": "code",
      "metadata": {
        "id": "bOJa9wLwATtr"
      },
      "source": [
        ""
      ],
      "execution_count": 8,
      "outputs": []
    },
    {
      "cell_type": "code",
      "metadata": {
        "id": "4SgpH1rzLM__"
      },
      "source": [
        "g2 = GlobalFittingSchema()"
      ],
      "execution_count": 9,
      "outputs": []
    },
    {
      "cell_type": "code",
      "metadata": {
        "id": "1pUURb-uNBzX"
      },
      "source": [
        "g2.addArchitecture('test')"
      ],
      "execution_count": 10,
      "outputs": []
    },
    {
      "cell_type": "code",
      "metadata": {
        "id": "xcbdnNFPNiD8",
        "outputId": "171e29c0-d28e-4b13-81d6-0af36f8dc0f4",
        "colab": {
          "base_uri": "https://localhost:8080/"
        }
      },
      "source": [
        "g2.getArchitectures()"
      ],
      "execution_count": 11,
      "outputs": [
        {
          "output_type": "execute_result",
          "data": {
            "text/plain": [
              "['test']"
            ]
          },
          "metadata": {
            "tags": []
          },
          "execution_count": 11
        }
      ]
    },
    {
      "cell_type": "code",
      "metadata": {
        "id": "Pi3ZAlSUBX6d",
        "outputId": "b1f5ce98-bbbf-4e75-a4ac-eaf0a725f096",
        "colab": {
          "base_uri": "https://localhost:8080/"
        }
      },
      "source": [
        "g2.data"
      ],
      "execution_count": 12,
      "outputs": [
        {
          "output_type": "execute_result",
          "data": {
            "text/plain": [
              "{'test': {}}"
            ]
          },
          "metadata": {
            "tags": []
          },
          "execution_count": 12
        }
      ]
    },
    {
      "cell_type": "code",
      "metadata": {
        "id": "srdXwLd3XGvk"
      },
      "source": [
        "g2.addRun('test', 'Run1-test-Nathan')"
      ],
      "execution_count": 13,
      "outputs": []
    },
    {
      "cell_type": "code",
      "metadata": {
        "id": "uhzJIuIgXMjB",
        "outputId": "03208fd9-cdbc-4998-8e93-e930536303e0",
        "colab": {
          "base_uri": "https://localhost:8080/"
        }
      },
      "source": [
        "g2.data"
      ],
      "execution_count": 14,
      "outputs": [
        {
          "output_type": "execute_result",
          "data": {
            "text/plain": [
              "{'test': {'Run1-test-Nathan': [{}, [{}, {}, {}]]}}"
            ]
          },
          "metadata": {
            "tags": []
          },
          "execution_count": 14
        }
      ]
    },
    {
      "cell_type": "code",
      "metadata": {
        "id": "iiDuQwBEXPuc"
      },
      "source": [
        "g2.setHyperparameter('test', 'Run1-test-Nathan', 'optimizer', 'SGD')\n",
        "g2.setHyperparameter('test', 'Run1-test-Nathan', 'learning-rate', 0.3)"
      ],
      "execution_count": 15,
      "outputs": []
    },
    {
      "cell_type": "code",
      "metadata": {
        "id": "oZ-CEJtBXVvE",
        "outputId": "0d1f97f2-92d6-4472-f0a4-cfb310261041",
        "colab": {
          "base_uri": "https://localhost:8080/"
        }
      },
      "source": [
        "g2.getHyperparameters('test', 'Run1-test-Nathan')"
      ],
      "execution_count": 16,
      "outputs": [
        {
          "output_type": "execute_result",
          "data": {
            "text/plain": [
              "['optimizer', 'learning-rate']"
            ]
          },
          "metadata": {
            "tags": []
          },
          "execution_count": 16
        }
      ]
    },
    {
      "cell_type": "code",
      "metadata": {
        "id": "3dQexzdMXZJA",
        "outputId": "61013636-41cd-44a3-f2c4-077194715cfa",
        "colab": {
          "base_uri": "https://localhost:8080/",
          "height": 35
        }
      },
      "source": [
        "g2.getHyperparameter('test', 'Run1-test-Nathan', 'optimizer')"
      ],
      "execution_count": 17,
      "outputs": [
        {
          "output_type": "execute_result",
          "data": {
            "application/vnd.google.colaboratory.intrinsic+json": {
              "type": "string"
            },
            "text/plain": [
              "'SGD'"
            ]
          },
          "metadata": {
            "tags": []
          },
          "execution_count": 17
        }
      ]
    },
    {
      "cell_type": "code",
      "metadata": {
        "id": "qpTjlfBYPaAG",
        "outputId": "04d2183c-a901-4ead-d81c-8d61846c70fa",
        "colab": {
          "base_uri": "https://localhost:8080/"
        }
      },
      "source": [
        "g2.data"
      ],
      "execution_count": 18,
      "outputs": [
        {
          "output_type": "execute_result",
          "data": {
            "text/plain": [
              "{'test': {'Run1-test-Nathan': [{'learning-rate': 0.3, 'optimizer': 'SGD'},\n",
              "   [{}, {}, {}]]}}"
            ]
          },
          "metadata": {
            "tags": []
          },
          "execution_count": 18
        }
      ]
    },
    {
      "cell_type": "code",
      "metadata": {
        "id": "lonxftqeTdjd"
      },
      "source": [
        "g2.setStatistic('test', 'Run1-test-Nathan', 'ReH', 'MPE', 5)\n",
        "g2.setStatistic('test', 'Run1-test-Nathan', 'ReH', 'RMSE', 9.4)\n",
        "g2.setStatistic('test', 'Run1-test-Nathan', 'ReE', 'RMSE', 0.3455)\n",
        "g2.setStatistic('test', 'Run1-test-Nathan', 'ReHtilde', 'R2', 0.814)"
      ],
      "execution_count": 19,
      "outputs": []
    },
    {
      "cell_type": "code",
      "metadata": {
        "id": "u2ucQHF6Tmzw",
        "outputId": "cd55cc0e-5718-4bc7-df2a-c0a2941006b8",
        "colab": {
          "base_uri": "https://localhost:8080/"
        }
      },
      "source": [
        "g2.data"
      ],
      "execution_count": 20,
      "outputs": [
        {
          "output_type": "execute_result",
          "data": {
            "text/plain": [
              "{'test': {'Run1-test-Nathan': [{'learning-rate': 0.3, 'optimizer': 'SGD'},\n",
              "   [{'MPE': 5, 'RMSE': 9.4}, {'RMSE': 0.3455}, {'R2': 0.814}]]}}"
            ]
          },
          "metadata": {
            "tags": []
          },
          "execution_count": 20
        }
      ]
    },
    {
      "cell_type": "code",
      "metadata": {
        "id": "isvjAwyVWUWZ"
      },
      "source": [
        "g2.writeToFile('output.json')"
      ],
      "execution_count": 21,
      "outputs": []
    }
  ]
}